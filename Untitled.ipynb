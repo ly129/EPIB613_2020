{
 "cells": [
  {
   "cell_type": "code",
   "execution_count": 2,
   "metadata": {},
   "outputs": [
    {
     "data": {
      "text/html": [
       "<table>\n",
       "<caption>A data.frame: 10 × 5</caption>\n",
       "<thead>\n",
       "\t<tr><th scope=col>students</th><th scope=col>course</th><th scope=col>scores</th><th scope=col>curve</th><th scope=col>pass</th></tr>\n",
       "\t<tr><th scope=col>&lt;fct&gt;</th><th scope=col>&lt;fct&gt;</th><th scope=col>&lt;dbl&gt;</th><th scope=col>&lt;dbl&gt;</th><th scope=col>&lt;lgl&gt;</th></tr>\n",
       "</thead>\n",
       "<tbody>\n",
       "\t<tr><td>Lucy </td><td>epib607</td><td>80</td><td> 88.0</td><td> TRUE</td></tr>\n",
       "\t<tr><td>John </td><td>epib607</td><td>99</td><td>108.9</td><td> TRUE</td></tr>\n",
       "\t<tr><td>Mark </td><td>epib607</td><td>55</td><td> 60.5</td><td>FALSE</td></tr>\n",
       "\t<tr><td>Candy</td><td>epib607</td><td>70</td><td> 77.0</td><td> TRUE</td></tr>\n",
       "\t<tr><td>Chris</td><td>epib607</td><td>84</td><td> 92.4</td><td> TRUE</td></tr>\n",
       "\t<tr><td>Lucy </td><td>epib613</td><td>85</td><td> 93.5</td><td> TRUE</td></tr>\n",
       "\t<tr><td>John </td><td>epib613</td><td>90</td><td> 99.0</td><td> TRUE</td></tr>\n",
       "\t<tr><td>Mark </td><td>epib613</td><td>62</td><td> 68.2</td><td> TRUE</td></tr>\n",
       "\t<tr><td>Candy</td><td>epib613</td><td>40</td><td> 44.0</td><td>FALSE</td></tr>\n",
       "\t<tr><td>Chris</td><td>epib613</td><td>88</td><td> 96.8</td><td> TRUE</td></tr>\n",
       "</tbody>\n",
       "</table>\n"
      ],
      "text/latex": [
       "A data.frame: 10 × 5\n",
       "\\begin{tabular}{r|lllll}\n",
       " students & course & scores & curve & pass\\\\\n",
       " <fct> & <fct> & <dbl> & <dbl> & <lgl>\\\\\n",
       "\\hline\n",
       "\t Lucy  & epib607 & 80 &  88.0 &  TRUE\\\\\n",
       "\t John  & epib607 & 99 & 108.9 &  TRUE\\\\\n",
       "\t Mark  & epib607 & 55 &  60.5 & FALSE\\\\\n",
       "\t Candy & epib607 & 70 &  77.0 &  TRUE\\\\\n",
       "\t Chris & epib607 & 84 &  92.4 &  TRUE\\\\\n",
       "\t Lucy  & epib613 & 85 &  93.5 &  TRUE\\\\\n",
       "\t John  & epib613 & 90 &  99.0 &  TRUE\\\\\n",
       "\t Mark  & epib613 & 62 &  68.2 &  TRUE\\\\\n",
       "\t Candy & epib613 & 40 &  44.0 & FALSE\\\\\n",
       "\t Chris & epib613 & 88 &  96.8 &  TRUE\\\\\n",
       "\\end{tabular}\n"
      ],
      "text/markdown": [
       "\n",
       "A data.frame: 10 × 5\n",
       "\n",
       "| students &lt;fct&gt; | course &lt;fct&gt; | scores &lt;dbl&gt; | curve &lt;dbl&gt; | pass &lt;lgl&gt; |\n",
       "|---|---|---|---|---|\n",
       "| Lucy  | epib607 | 80 |  88.0 |  TRUE |\n",
       "| John  | epib607 | 99 | 108.9 |  TRUE |\n",
       "| Mark  | epib607 | 55 |  60.5 | FALSE |\n",
       "| Candy | epib607 | 70 |  77.0 |  TRUE |\n",
       "| Chris | epib607 | 84 |  92.4 |  TRUE |\n",
       "| Lucy  | epib613 | 85 |  93.5 |  TRUE |\n",
       "| John  | epib613 | 90 |  99.0 |  TRUE |\n",
       "| Mark  | epib613 | 62 |  68.2 |  TRUE |\n",
       "| Candy | epib613 | 40 |  44.0 | FALSE |\n",
       "| Chris | epib613 | 88 |  96.8 |  TRUE |\n",
       "\n"
      ],
      "text/plain": [
       "   students course  scores curve pass \n",
       "1  Lucy     epib607 80      88.0  TRUE\n",
       "2  John     epib607 99     108.9  TRUE\n",
       "3  Mark     epib607 55      60.5 FALSE\n",
       "4  Candy    epib607 70      77.0  TRUE\n",
       "5  Chris    epib607 84      92.4  TRUE\n",
       "6  Lucy     epib613 85      93.5  TRUE\n",
       "7  John     epib613 90      99.0  TRUE\n",
       "8  Mark     epib613 62      68.2  TRUE\n",
       "9  Candy    epib613 40      44.0 FALSE\n",
       "10 Chris    epib613 88      96.8  TRUE"
      ]
     },
     "metadata": {},
     "output_type": "display_data"
    }
   ],
   "source": [
    "students <- rep(c(\"Lucy\", \"John\", \"Mark\", \"Candy\", \"Chris\"), times = 2)\n",
    "scores <-  c(80, 99, 55, 70, 84, 85, 90, 62, 40, 88)\n",
    "course <- rep(c(\"epib607\", \"epib613\"), each = 5)\n",
    "curve <- scores*1.1\n",
    "pass <- curve >= 65 \n",
    "df <- data.frame(students, course, scores, curve, pass); df\n",
    "write.csv(df, \"/Users/YLIAN/Desktop/Teaching/EPIB613/2020/EPIB613_2020/scores.csv\")"
   ]
  }
 ],
 "metadata": {
  "kernelspec": {
   "display_name": "R",
   "language": "R",
   "name": "ir"
  },
  "language_info": {
   "codemirror_mode": "r",
   "file_extension": ".r",
   "mimetype": "text/x-r-source",
   "name": "R",
   "pygments_lexer": "r",
   "version": "3.6.3"
  }
 },
 "nbformat": 4,
 "nbformat_minor": 4
}
