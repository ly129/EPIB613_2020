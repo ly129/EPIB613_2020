{
 "cells": [
  {
   "cell_type": "markdown",
   "metadata": {},
   "source": [
    "# <center>EPIB 613 INTRODUCTION TO STATISTICAL SOFTWARE</center>\n",
    "\n",
    "<center> McGill EBOH </center>\n",
    "\n",
    "<center> Fall 2020 </center>\n",
    "\n",
    "<center> Yi Lian </center>\n",
    "\n",
    "# Table of Contents<a id='toc'></a>\n",
    "\n",
    "- [Lecture 1](#l1)\n",
    "    1. Course walkthrouth\n",
    "    2. R and Rstudio\n",
    "    3. R markdown\n",
    "- [Lecture 2](#l2)\n",
    "    1. Basic computations in R\n",
    "    2. How to create an object\n",
    "    3. Data types\n",
    "    4. Data strctures\n",
    "    5. How to generate data\n",
    "    6. Operators\n",
    "- [Lecture 3](#l3)\n",
    "    1. Indexing\n",
    "    2. Import data\n",
    "    3. Exoprt data\n",
    "    4. Save and load workspace image"
   ]
  },
  {
   "cell_type": "markdown",
   "metadata": {},
   "source": [
    "# <a id='l1'></a> [Lecture 1](#toc)\n",
    "## 1.1 Course walkthrough\n",
    "### Logistics\n",
    "- Location:\n",
    "    - https://mcgill.zoom.us/j/98942683588?pwd=WnVBS0JkVmRCT0hCQlBJUjZBeXVmUT09\n",
    "\n",
    "    - Meeting ID: 989 4268 3588\n",
    "\n",
    "    - Passcode: 6132020\n",
    "    \n",
    "- Time: Fridays, 11:35-12:55\n",
    "- Credits: 1\n",
    "- Assignments: 3\n",
    "- Contact: yi.lian@mail.mcgill.ca\n",
    "- Office hours: by appointment\n",
    "\n",
    "### Objectives\n",
    "- R programming\n",
    "- Hands-on data management and analysis\n",
    "- Preparation for other courses\n",
    "\n",
    "### Evaluations\n",
    "- Pass/fail\n",
    "    - Attend*\n",
    "    - Participate*\n",
    "    - Do your assignments\n",
    "        - Submit via myCourses\n",
    "        - __Must be in PDF format__\n",
    "        - Code can be similar but written responses must be your own\n",
    "        - Late assignments will be penalized by 10% per day\n",
    "        \n",
    "### Zoom lectures\n",
    "- Please mute your microphone\n",
    "- Please raise hand for questions and comments\n",
    "- Lectures will be recorded and posted on myCourses\n",
    "- A second device and/or a second screen is recommended\n",
    "    - One for viewing the lecture and the other for running your code\n",
    "    \n",
    "### A few notes\n",
    "- Be patient\n",
    "    - with yourself, with R, with me\n",
    "- Don't panic\n",
    "    - I am always available\n",
    "    - The [unofficial course TA](https://www.google.ca/) is always available\n",
    "- Reproducibility\n",
    "    - Annotate\n",
    "    - Markdown"
   ]
  },
  {
   "cell_type": "markdown",
   "metadata": {},
   "source": [
    "## 1.2 R and Rstudio\n",
    "- R Console\n",
    "    - It can do everything\n",
    "    - Not very handy\n",
    "    - Like most programming languages, people use an integrated development environment (IDE)\n",
    "- Rstudio\n",
    "    - The go-to IDE for R\n",
    "    - A lot can be done through mouse-clicking\n",
    "    - Cheatsheet https://github.com/rstudio/cheatsheets/raw/master/rstudio-ide.pdf"
   ]
  },
  {
   "cell_type": "markdown",
   "metadata": {},
   "source": [
    "## 1.3 R Markdown\n",
    "- A sample answer for your assignment\n",
    "- Cheatsheet https://github.com/rstudio/cheatsheets/raw/master/rmarkdown-2.0.pdf"
   ]
  },
  {
   "cell_type": "markdown",
   "metadata": {},
   "source": [
    "# <a id='l2'></a> [Lecture 2](#toc)\n",
    "## 2.1 Basic computations in R"
   ]
  },
  {
   "cell_type": "code",
   "execution_count": 1,
   "metadata": {},
   "outputs": [],
   "source": [
    "########## Lecture 2 ##########"
   ]
  },
  {
   "cell_type": "code",
   "execution_count": 2,
   "metadata": {
    "scrolled": false
   },
   "outputs": [
    {
     "data": {
      "text/html": [
       "7"
      ],
      "text/latex": [
       "7"
      ],
      "text/markdown": [
       "7"
      ],
      "text/plain": [
       "[1] 7"
      ]
     },
     "metadata": {},
     "output_type": "display_data"
    },
    {
     "data": {
      "text/html": [
       "-3"
      ],
      "text/latex": [
       "-3"
      ],
      "text/markdown": [
       "-3"
      ],
      "text/plain": [
       "[1] -3"
      ]
     },
     "metadata": {},
     "output_type": "display_data"
    },
    {
     "data": {
      "text/html": [
       "10"
      ],
      "text/latex": [
       "10"
      ],
      "text/markdown": [
       "10"
      ],
      "text/plain": [
       "[1] 10"
      ]
     },
     "metadata": {},
     "output_type": "display_data"
    },
    {
     "data": {
      "text/html": [
       "0.4"
      ],
      "text/latex": [
       "0.4"
      ],
      "text/markdown": [
       "0.4"
      ],
      "text/plain": [
       "[1] 0.4"
      ]
     },
     "metadata": {},
     "output_type": "display_data"
    }
   ],
   "source": [
    "2+5\n",
    "2-5\n",
    "2*5\n",
    "2/5"
   ]
  },
  {
   "cell_type": "code",
   "execution_count": 3,
   "metadata": {},
   "outputs": [
    {
     "data": {
      "text/html": [
       "2000"
      ],
      "text/latex": [
       "2000"
      ],
      "text/markdown": [
       "2000"
      ],
      "text/plain": [
       "[1] 2000"
      ]
     },
     "metadata": {},
     "output_type": "display_data"
    }
   ],
   "source": [
    "2e3"
   ]
  },
  {
   "cell_type": "code",
   "execution_count": 4,
   "metadata": {
    "scrolled": true
   },
   "outputs": [
    {
     "data": {
      "text/html": [
       "8"
      ],
      "text/latex": [
       "8"
      ],
      "text/markdown": [
       "8"
      ],
      "text/plain": [
       "[1] 8"
      ]
     },
     "metadata": {},
     "output_type": "display_data"
    },
    {
     "data": {
      "text/html": [
       "2"
      ],
      "text/latex": [
       "2"
      ],
      "text/markdown": [
       "2"
      ],
      "text/plain": [
       "[1] 2"
      ]
     },
     "metadata": {},
     "output_type": "display_data"
    }
   ],
   "source": [
    "2^3; 8^(1/3)"
   ]
  },
  {
   "cell_type": "code",
   "execution_count": 5,
   "metadata": {},
   "outputs": [
    {
     "data": {
      "text/html": [
       "2"
      ],
      "text/latex": [
       "2"
      ],
      "text/markdown": [
       "2"
      ],
      "text/plain": [
       "[1] 2"
      ]
     },
     "metadata": {},
     "output_type": "display_data"
    }
   ],
   "source": [
    "sqrt(4)"
   ]
  },
  {
   "cell_type": "code",
   "execution_count": 6,
   "metadata": {
    "scrolled": true
   },
   "outputs": [
    {
     "data": {
      "text/html": [
       "1.38629436111989"
      ],
      "text/latex": [
       "1.38629436111989"
      ],
      "text/markdown": [
       "1.38629436111989"
      ],
      "text/plain": [
       "[1] 1.386294"
      ]
     },
     "metadata": {},
     "output_type": "display_data"
    }
   ],
   "source": [
    "log(4)    # Natural log"
   ]
  },
  {
   "cell_type": "code",
   "execution_count": 7,
   "metadata": {},
   "outputs": [
    {
     "data": {
      "text/html": [
       "7.38905609893065"
      ],
      "text/latex": [
       "7.38905609893065"
      ],
      "text/markdown": [
       "7.38905609893065"
      ],
      "text/plain": [
       "[1] 7.389056"
      ]
     },
     "metadata": {},
     "output_type": "display_data"
    }
   ],
   "source": [
    "exp(2)"
   ]
  },
  {
   "cell_type": "markdown",
   "metadata": {},
   "source": [
    "## 2.2 Create an R object\n",
    "- Re-use the values by simply calling the the object\n",
    "    - Reproducibility!\n",
    "    - Avoid potential loss of precision\n",
    "    - Avoid repeating expensive computation\n",
    "- Can use variable names that make sense to yourself and to others\n",
    "    - so that the others or the future you can better understand what you did"
   ]
  },
  {
   "cell_type": "code",
   "execution_count": 8,
   "metadata": {
    "scrolled": true
   },
   "outputs": [
    {
     "data": {
      "text/html": [
       "5"
      ],
      "text/latex": [
       "5"
      ],
      "text/markdown": [
       "5"
      ],
      "text/plain": [
       "[1] 5"
      ]
     },
     "metadata": {},
     "output_type": "display_data"
    }
   ],
   "source": [
    "# Usually\n",
    "x <- 5\n",
    "x"
   ]
  },
  {
   "cell_type": "code",
   "execution_count": 9,
   "metadata": {},
   "outputs": [
    {
     "data": {
      "text/html": [
       "6"
      ],
      "text/latex": [
       "6"
      ],
      "text/markdown": [
       "6"
      ],
      "text/plain": [
       "[1] 6"
      ]
     },
     "metadata": {},
     "output_type": "display_data"
    },
    {
     "data": {
      "text/html": [
       "6"
      ],
      "text/latex": [
       "6"
      ],
      "text/markdown": [
       "6"
      ],
      "text/plain": [
       "[1] 6"
      ]
     },
     "metadata": {},
     "output_type": "display_data"
    }
   ],
   "source": [
    "y <- z <- 6\n",
    "y\n",
    "z"
   ]
  },
  {
   "cell_type": "code",
   "execution_count": 10,
   "metadata": {
    "scrolled": true
   },
   "outputs": [
    {
     "data": {
      "text/html": [
       "'Yi'"
      ],
      "text/latex": [
       "'Yi'"
      ],
      "text/markdown": [
       "'Yi'"
      ],
      "text/plain": [
       "[1] \"Yi\""
      ]
     },
     "metadata": {},
     "output_type": "display_data"
    },
    {
     "data": {
      "text/html": [
       "'EPIB 613'"
      ],
      "text/latex": [
       "'EPIB 613'"
      ],
      "text/markdown": [
       "'EPIB 613'"
      ],
      "text/plain": [
       "[1] \"EPIB 613\""
      ]
     },
     "metadata": {},
     "output_type": "display_data"
    },
    {
     "data": {
      "text/html": [
       "'Fall 2020'"
      ],
      "text/latex": [
       "'Fall 2020'"
      ],
      "text/markdown": [
       "'Fall 2020'"
      ],
      "text/plain": [
       "[1] \"Fall 2020\""
      ]
     },
     "metadata": {},
     "output_type": "display_data"
    }
   ],
   "source": [
    "# <- , = and -> are equivalent when we assign values\n",
    "instructor <- \"Yi\"\n",
    "course = \"EPIB 613\"\n",
    "\"Fall 2020\" -> semester\n",
    "\n",
    "instructor; course; semester"
   ]
  },
  {
   "cell_type": "markdown",
   "metadata": {},
   "source": [
    "### Calculations with stored R objects"
   ]
  },
  {
   "cell_type": "code",
   "execution_count": 11,
   "metadata": {},
   "outputs": [
    {
     "data": {
      "text/html": [
       "11"
      ],
      "text/latex": [
       "11"
      ],
      "text/markdown": [
       "11"
      ],
      "text/plain": [
       "[1] 11"
      ]
     },
     "metadata": {},
     "output_type": "display_data"
    }
   ],
   "source": [
    "x + y"
   ]
  },
  {
   "cell_type": "code",
   "execution_count": 12,
   "metadata": {},
   "outputs": [
    {
     "name": "stdout",
     "output_type": "stream",
     "text": [
      "[1] 0.3333333\n"
     ]
    }
   ],
   "source": [
    "one.over.three <- 1/3\n",
    "print(one.over.three)"
   ]
  },
  {
   "cell_type": "code",
   "execution_count": 13,
   "metadata": {},
   "outputs": [
    {
     "data": {
      "text/html": [
       "1"
      ],
      "text/latex": [
       "1"
      ],
      "text/markdown": [
       "1"
      ],
      "text/plain": [
       "[1] 1"
      ]
     },
     "metadata": {},
     "output_type": "display_data"
    }
   ],
   "source": [
    "one.over.three * 3"
   ]
  },
  {
   "cell_type": "code",
   "execution_count": 14,
   "metadata": {},
   "outputs": [
    {
     "data": {
      "text/html": [
       "0.9999999"
      ],
      "text/latex": [
       "0.9999999"
      ],
      "text/markdown": [
       "0.9999999"
      ],
      "text/plain": [
       "[1] 0.9999999"
      ]
     },
     "metadata": {},
     "output_type": "display_data"
    }
   ],
   "source": [
    "# If we copy-paste the result instead of saving it in an object\n",
    "0.3333333 * 3\n",
    "# loss of precision"
   ]
  },
  {
   "cell_type": "markdown",
   "metadata": {},
   "source": [
    "### R is case sensitive."
   ]
  },
  {
   "cell_type": "code",
   "execution_count": 15,
   "metadata": {
    "scrolled": false
   },
   "outputs": [
    {
     "data": {
      "text/html": [
       "'EPIB 601'"
      ],
      "text/latex": [
       "'EPIB 601'"
      ],
      "text/markdown": [
       "'EPIB 601'"
      ],
      "text/plain": [
       "[1] \"EPIB 601\""
      ]
     },
     "metadata": {},
     "output_type": "display_data"
    }
   ],
   "source": [
    "course <- \"EPIB 613\"\n",
    "Course <- \"EPIB 601\"\n",
    "Course"
   ]
  },
  {
   "cell_type": "markdown",
   "metadata": {},
   "source": [
    "### The old value will be replaced by the new one."
   ]
  },
  {
   "cell_type": "code",
   "execution_count": 16,
   "metadata": {},
   "outputs": [
    {
     "data": {
      "text/html": [
       "5"
      ],
      "text/latex": [
       "5"
      ],
      "text/markdown": [
       "5"
      ],
      "text/plain": [
       "[1] 5"
      ]
     },
     "metadata": {},
     "output_type": "display_data"
    }
   ],
   "source": [
    "x"
   ]
  },
  {
   "cell_type": "code",
   "execution_count": 17,
   "metadata": {
    "scrolled": true
   },
   "outputs": [
    {
     "data": {
      "text/html": [
       "6"
      ],
      "text/latex": [
       "6"
      ],
      "text/markdown": [
       "6"
      ],
      "text/plain": [
       "[1] 6"
      ]
     },
     "metadata": {},
     "output_type": "display_data"
    }
   ],
   "source": [
    "x <- y\n",
    "x"
   ]
  },
  {
   "cell_type": "markdown",
   "metadata": {},
   "source": [
    "###### Rule for creating an object:\n",
    "- Variables can be alphabetic or alphanumeric, but not numeric (you are not allowed to create numeric variables).\n",
    "- There are no restrictions to the length of the variable name.\n",
    "- Avoid using the single letter names c, g, t, C, D, F, I and T as they are default names that are used by R. For instance, T and F are abbreviations for TRUE and FALSE in logical operations. We should avoid using names that are already used by the system."
   ]
  },
  {
   "cell_type": "markdown",
   "metadata": {},
   "source": [
    "## 2.3 Data types"
   ]
  },
  {
   "cell_type": "code",
   "execution_count": 18,
   "metadata": {
    "scrolled": true
   },
   "outputs": [
    {
     "data": {
      "text/html": [
       "'numeric'"
      ],
      "text/latex": [
       "'numeric'"
      ],
      "text/markdown": [
       "'numeric'"
      ],
      "text/plain": [
       "[1] \"numeric\""
      ]
     },
     "metadata": {},
     "output_type": "display_data"
    }
   ],
   "source": [
    "number <- c(1, 2, 3)\n",
    "class(number)"
   ]
  },
  {
   "cell_type": "code",
   "execution_count": 19,
   "metadata": {},
   "outputs": [
    {
     "data": {
      "text/html": [
       "'integer'"
      ],
      "text/latex": [
       "'integer'"
      ],
      "text/markdown": [
       "'integer'"
      ],
      "text/plain": [
       "[1] \"integer\""
      ]
     },
     "metadata": {},
     "output_type": "display_data"
    }
   ],
   "source": [
    "# As in most programming languages, there are integers and floating-point numbers in R\n",
    "class(5L)"
   ]
  },
  {
   "cell_type": "code",
   "execution_count": 20,
   "metadata": {},
   "outputs": [
    {
     "data": {
      "text/html": [
       "TRUE"
      ],
      "text/latex": [
       "TRUE"
      ],
      "text/markdown": [
       "TRUE"
      ],
      "text/plain": [
       "[1] TRUE"
      ]
     },
     "metadata": {},
     "output_type": "display_data"
    },
    {
     "data": {
      "text/html": [
       "FALSE"
      ],
      "text/latex": [
       "FALSE"
      ],
      "text/markdown": [
       "FALSE"
      ],
      "text/plain": [
       "[1] FALSE"
      ]
     },
     "metadata": {},
     "output_type": "display_data"
    }
   ],
   "source": [
    "# Double precision floating-point numbers in R\n",
    "# is.double() checks whether an object is a double precision floating-point number\n",
    "is.double(5); is.double(5L)"
   ]
  },
  {
   "cell_type": "code",
   "execution_count": 21,
   "metadata": {},
   "outputs": [
    {
     "name": "stdout",
     "output_type": "stream",
     "text": [
      "[1] 0.3333333\n",
      "[1] 0.3333333333333333148296\n"
     ]
    }
   ],
   "source": [
    "# How precise is double precision?\n",
    "print(1/3)\n",
    "options(digits = 22) # show more decimal points\n",
    "print(1/3)\n",
    "options(digits = 7) # reset to default"
   ]
  },
  {
   "cell_type": "code",
   "execution_count": 22,
   "metadata": {},
   "outputs": [
    {
     "data": {
      "text/html": [
       "<ol class=list-inline>\n",
       "\t<li>'a'</li>\n",
       "\t<li>'b'</li>\n",
       "\t<li>'c'</li>\n",
       "</ol>\n"
      ],
      "text/latex": [
       "\\begin{enumerate*}\n",
       "\\item 'a'\n",
       "\\item 'b'\n",
       "\\item 'c'\n",
       "\\end{enumerate*}\n"
      ],
      "text/markdown": [
       "1. 'a'\n",
       "2. 'b'\n",
       "3. 'c'\n",
       "\n",
       "\n"
      ],
      "text/plain": [
       "[1] \"a\" \"b\" \"c\""
      ]
     },
     "metadata": {},
     "output_type": "display_data"
    },
    {
     "data": {
      "text/html": [
       "'character'"
      ],
      "text/latex": [
       "'character'"
      ],
      "text/markdown": [
       "'character'"
      ],
      "text/plain": [
       "[1] \"character\""
      ]
     },
     "metadata": {},
     "output_type": "display_data"
    }
   ],
   "source": [
    "letter <- letters[1:3]; letter\n",
    "class(letter)"
   ]
  },
  {
   "cell_type": "code",
   "execution_count": 23,
   "metadata": {
    "scrolled": true
   },
   "outputs": [
    {
     "data": {
      "text/html": [
       "'logical'"
      ],
      "text/latex": [
       "'logical'"
      ],
      "text/markdown": [
       "'logical'"
      ],
      "text/plain": [
       "[1] \"logical\""
      ]
     },
     "metadata": {},
     "output_type": "display_data"
    }
   ],
   "source": [
    "logical <- c(TRUE, FALSE)\n",
    "class(logical)"
   ]
  },
  {
   "cell_type": "code",
   "execution_count": 24,
   "metadata": {},
   "outputs": [
    {
     "name": "stdout",
     "output_type": "stream",
     "text": [
      "[1] a b c\n",
      "Levels: a b c\n"
     ]
    },
    {
     "data": {
      "text/html": [
       "'factor'"
      ],
      "text/latex": [
       "'factor'"
      ],
      "text/markdown": [
       "'factor'"
      ],
      "text/plain": [
       "[1] \"factor\""
      ]
     },
     "metadata": {},
     "output_type": "display_data"
    }
   ],
   "source": [
    "factor <- as.factor(letters[1:3]); print(factor)\n",
    "class(factor)"
   ]
  },
  {
   "cell_type": "code",
   "execution_count": 25,
   "metadata": {},
   "outputs": [
    {
     "data": {
      "text/html": [
       "<ol class=list-inline>\n",
       "\t<li>1</li>\n",
       "\t<li>3</li>\n",
       "\t<li>4</li>\n",
       "\t<li>23423</li>\n",
       "\t<li>epib</li>\n",
       "\t<li>fall2020</li>\n",
       "\t<li>TRUE</li>\n",
       "\t<li>FALSE</li>\n",
       "</ol>\n",
       "\n",
       "<details>\n",
       "\t<summary style=display:list-item;cursor:pointer>\n",
       "\t\t<strong>Levels</strong>:\n",
       "\t</summary>\n",
       "\t<ol class=list-inline>\n",
       "\t\t<li>'1'</li>\n",
       "\t\t<li>'23423'</li>\n",
       "\t\t<li>'3'</li>\n",
       "\t\t<li>'4'</li>\n",
       "\t\t<li>'epib'</li>\n",
       "\t\t<li>'fall2020'</li>\n",
       "\t\t<li>'FALSE'</li>\n",
       "\t\t<li>'TRUE'</li>\n",
       "\t</ol>\n",
       "</details>"
      ],
      "text/latex": [
       "\\begin{enumerate*}\n",
       "\\item 1\n",
       "\\item 3\n",
       "\\item 4\n",
       "\\item 23423\n",
       "\\item epib\n",
       "\\item fall2020\n",
       "\\item TRUE\n",
       "\\item FALSE\n",
       "\\end{enumerate*}\n",
       "\n",
       "\\emph{Levels}: \\begin{enumerate*}\n",
       "\\item '1'\n",
       "\\item '23423'\n",
       "\\item '3'\n",
       "\\item '4'\n",
       "\\item 'epib'\n",
       "\\item 'fall2020'\n",
       "\\item 'FALSE'\n",
       "\\item 'TRUE'\n",
       "\\end{enumerate*}\n"
      ],
      "text/markdown": [
       "1. 1\n",
       "2. 3\n",
       "3. 4\n",
       "4. 23423\n",
       "5. epib\n",
       "6. fall2020\n",
       "7. TRUE\n",
       "8. FALSE\n",
       "\n",
       "\n",
       "\n",
       "**Levels**: 1. '1'\n",
       "2. '23423'\n",
       "3. '3'\n",
       "4. '4'\n",
       "5. 'epib'\n",
       "6. 'fall2020'\n",
       "7. 'FALSE'\n",
       "8. 'TRUE'\n",
       "\n",
       "\n"
      ],
      "text/plain": [
       "[1] 1        3        4        23423    epib     fall2020 TRUE     FALSE   \n",
       "Levels: 1 23423 3 4 epib fall2020 FALSE TRUE"
      ]
     },
     "metadata": {},
     "output_type": "display_data"
    }
   ],
   "source": [
    "mixed.factor <- factor(c(1,3,4,23423, \"epib\", \"fall2020\", T, F))\n",
    "mixed.factor"
   ]
  },
  {
   "cell_type": "markdown",
   "metadata": {},
   "source": [
    "## 2.4 Data structures\n",
    "### 2.4.1* Scalar\n",
    "Not considered as a stand-alone data structure because it is basically a vector of length 1."
   ]
  },
  {
   "cell_type": "code",
   "execution_count": 26,
   "metadata": {},
   "outputs": [
    {
     "data": {
      "text/html": [
       "5"
      ],
      "text/latex": [
       "5"
      ],
      "text/markdown": [
       "5"
      ],
      "text/plain": [
       "[1] 5"
      ]
     },
     "metadata": {},
     "output_type": "display_data"
    }
   ],
   "source": [
    "x <- 5; x"
   ]
  },
  {
   "cell_type": "markdown",
   "metadata": {},
   "source": [
    "### 2.4.2 Vector\n",
    "In R, we work with vectors."
   ]
  },
  {
   "cell_type": "code",
   "execution_count": 27,
   "metadata": {},
   "outputs": [
    {
     "data": {
      "text/html": [
       "<ol class=list-inline>\n",
       "\t<li>31</li>\n",
       "\t<li>28</li>\n",
       "\t<li>31</li>\n",
       "\t<li>30</li>\n",
       "\t<li>31</li>\n",
       "\t<li>30</li>\n",
       "\t<li>31</li>\n",
       "\t<li>31</li>\n",
       "\t<li>30</li>\n",
       "\t<li>31</li>\n",
       "\t<li>30</li>\n",
       "\t<li>31</li>\n",
       "</ol>\n"
      ],
      "text/latex": [
       "\\begin{enumerate*}\n",
       "\\item 31\n",
       "\\item 28\n",
       "\\item 31\n",
       "\\item 30\n",
       "\\item 31\n",
       "\\item 30\n",
       "\\item 31\n",
       "\\item 31\n",
       "\\item 30\n",
       "\\item 31\n",
       "\\item 30\n",
       "\\item 31\n",
       "\\end{enumerate*}\n"
      ],
      "text/markdown": [
       "1. 31\n",
       "2. 28\n",
       "3. 31\n",
       "4. 30\n",
       "5. 31\n",
       "6. 30\n",
       "7. 31\n",
       "8. 31\n",
       "9. 30\n",
       "10. 31\n",
       "11. 30\n",
       "12. 31\n",
       "\n",
       "\n"
      ],
      "text/plain": [
       " [1] 31 28 31 30 31 30 31 31 30 31 30 31"
      ]
     },
     "metadata": {},
     "output_type": "display_data"
    }
   ],
   "source": [
    "days.per.month <- c(31,28,31,30,31,30,31,31,30,31,30,31)\n",
    "days.per.month"
   ]
  },
  {
   "cell_type": "code",
   "execution_count": 28,
   "metadata": {},
   "outputs": [
    {
     "name": "stdout",
     "output_type": "stream",
     "text": [
      "jan feb mar apr may jun jul aug sep oct nov dec \n",
      " 31  28  31  30  31  30  31  31  30  31  30  31 \n"
     ]
    }
   ],
   "source": [
    "# We can add names to the vector for each entry\n",
    "names(days.per.month) <- c('jan', 'feb', 'mar', 'apr', \n",
    "                           'may', 'jun', 'jul', 'aug',\n",
    "                           'sep', 'oct', 'nov', 'dec')\n",
    "print(days.per.month)"
   ]
  },
  {
   "cell_type": "code",
   "execution_count": 29,
   "metadata": {
    "scrolled": true
   },
   "outputs": [
    {
     "data": {
      "text/html": [
       "365"
      ],
      "text/latex": [
       "365"
      ],
      "text/markdown": [
       "365"
      ],
      "text/plain": [
       "[1] 365"
      ]
     },
     "metadata": {},
     "output_type": "display_data"
    }
   ],
   "source": [
    "# But the names will not affect calculations.\n",
    "sum(days.per.month)"
   ]
  },
  {
   "cell_type": "markdown",
   "metadata": {},
   "source": [
    "### 2.4.3 Matrix"
   ]
  },
  {
   "cell_type": "code",
   "execution_count": 30,
   "metadata": {},
   "outputs": [
    {
     "name": "stdout",
     "output_type": "stream",
     "text": [
      "     [,1] [,2] [,3]\n",
      "[1,]    3    4    5\n",
      "[2,]    6    7    8\n",
      "[3,]    9   10   11\n",
      "[4,]   12   13   14\n"
     ]
    }
   ],
   "source": [
    "mymatrix1 <- matrix(c(3:14), nrow = 4, byrow = TRUE)\n",
    "print(mymatrix1)"
   ]
  },
  {
   "cell_type": "code",
   "execution_count": 31,
   "metadata": {
    "scrolled": true
   },
   "outputs": [
    {
     "name": "stdout",
     "output_type": "stream",
     "text": [
      "     [,1] [,2] [,3]\n",
      "[1,]    3    7   11\n",
      "[2,]    4    8   12\n",
      "[3,]    5    9   13\n",
      "[4,]    6   10   14\n"
     ]
    }
   ],
   "source": [
    "mymatrix2 <- matrix(c(3:14), nrow = 4, byrow = FALSE)\n",
    "print(mymatrix2)"
   ]
  },
  {
   "cell_type": "code",
   "execution_count": 32,
   "metadata": {
    "scrolled": true
   },
   "outputs": [
    {
     "name": "stdout",
     "output_type": "stream",
     "text": [
      "     col1 col2 col3\n",
      "row1    3    4    5\n",
      "row2    6    7    8\n",
      "row3    9   10   11\n",
      "row4   12   13   14\n"
     ]
    }
   ],
   "source": [
    "rownames <- c(\"row1\", \"row2\", \"row3\", \"row4\")\n",
    "colnames <- c(\"col1\", \"col2\", \"col3\")\n",
    "rownames(mymatrix1) <- rownames\n",
    "colnames(mymatrix1) <- colnames\n",
    "print(mymatrix1)"
   ]
  },
  {
   "cell_type": "markdown",
   "metadata": {},
   "source": [
    "### 2.4.4 Array\n",
    "\n",
    "Scalars, vectors and matrices are basically all arrays of different dimensions\n",
    "- Scalar: 1 x 1 array\n",
    "- Vector of length k: 1 x k array\n",
    "- Matrix of dimension m x n: m x n array\n",
    "\n",
    "R treats these lower-dimensional ($\\leq2$) arrays differently but they are essentially not very different. Python treats them in the same way.\n",
    "\n",
    "Now let's look at a 3-dimensional array."
   ]
  },
  {
   "cell_type": "code",
   "execution_count": 33,
   "metadata": {
    "scrolled": false
   },
   "outputs": [
    {
     "name": "stdout",
     "output_type": "stream",
     "text": [
      ", , 1\n",
      "\n",
      "     [,1] [,2] [,3]\n",
      "[1,]    1    5    9\n",
      "[2,]    2    6   10\n",
      "[3,]    3    7   11\n",
      "[4,]    4    8   12\n",
      "\n",
      ", , 2\n",
      "\n",
      "     [,1] [,2] [,3]\n",
      "[1,]   13   17   21\n",
      "[2,]   14   18   22\n",
      "[3,]   15   19   23\n",
      "[4,]   16   20   24\n",
      "\n"
     ]
    }
   ],
   "source": [
    "myarray <- array(1:24, dim = c(4,3,2))\n",
    "print(myarray)"
   ]
  },
  {
   "cell_type": "markdown",
   "metadata": {},
   "source": [
    "##### A demonstration of high dimensional arrays - why is it useful?\n",
    "Fake data:\n",
    "- Drug: 1 = Exposed, 0 = Unexposed\n",
    "- Cured: 1 = Yes, 0 = No\n",
    "- BMI category: 1, 2, 3\n",
    "- Age category: 1, 2, 3, 4"
   ]
  },
  {
   "cell_type": "code",
   "execution_count": 34,
   "metadata": {
    "scrolled": false
   },
   "outputs": [
    {
     "data": {
      "text/html": [
       "<table>\n",
       "<caption>A data.frame: 10 × 5</caption>\n",
       "<thead>\n",
       "\t<tr><th scope=col>drug</th><th scope=col>cured</th><th scope=col>bmi.cat</th><th scope=col>age.cat</th><th scope=col>sex</th></tr>\n",
       "\t<tr><th scope=col>&lt;dbl&gt;</th><th scope=col>&lt;dbl&gt;</th><th scope=col>&lt;int&gt;</th><th scope=col>&lt;int&gt;</th><th scope=col>&lt;chr&gt;</th></tr>\n",
       "</thead>\n",
       "<tbody>\n",
       "\t<tr><td>0</td><td>1</td><td>1</td><td>4</td><td>female</td></tr>\n",
       "\t<tr><td>0</td><td>1</td><td>1</td><td>1</td><td>male  </td></tr>\n",
       "\t<tr><td>1</td><td>1</td><td>3</td><td>2</td><td>male  </td></tr>\n",
       "\t<tr><td>0</td><td>1</td><td>2</td><td>1</td><td>male  </td></tr>\n",
       "\t<tr><td>0</td><td>1</td><td>2</td><td>3</td><td>male  </td></tr>\n",
       "\t<tr><td>0</td><td>0</td><td>3</td><td>3</td><td>female</td></tr>\n",
       "\t<tr><td>1</td><td>0</td><td>3</td><td>1</td><td>female</td></tr>\n",
       "\t<tr><td>1</td><td>1</td><td>2</td><td>2</td><td>female</td></tr>\n",
       "\t<tr><td>0</td><td>0</td><td>2</td><td>3</td><td>female</td></tr>\n",
       "\t<tr><td>0</td><td>1</td><td>2</td><td>1</td><td>male  </td></tr>\n",
       "</tbody>\n",
       "</table>\n"
      ],
      "text/latex": [
       "A data.frame: 10 × 5\n",
       "\\begin{tabular}{r|lllll}\n",
       " drug & cured & bmi.cat & age.cat & sex\\\\\n",
       " <dbl> & <dbl> & <int> & <int> & <chr>\\\\\n",
       "\\hline\n",
       "\t 0 & 1 & 1 & 4 & female\\\\\n",
       "\t 0 & 1 & 1 & 1 & male  \\\\\n",
       "\t 1 & 1 & 3 & 2 & male  \\\\\n",
       "\t 0 & 1 & 2 & 1 & male  \\\\\n",
       "\t 0 & 1 & 2 & 3 & male  \\\\\n",
       "\t 0 & 0 & 3 & 3 & female\\\\\n",
       "\t 1 & 0 & 3 & 1 & female\\\\\n",
       "\t 1 & 1 & 2 & 2 & female\\\\\n",
       "\t 0 & 0 & 2 & 3 & female\\\\\n",
       "\t 0 & 1 & 2 & 1 & male  \\\\\n",
       "\\end{tabular}\n"
      ],
      "text/markdown": [
       "\n",
       "A data.frame: 10 × 5\n",
       "\n",
       "| drug &lt;dbl&gt; | cured &lt;dbl&gt; | bmi.cat &lt;int&gt; | age.cat &lt;int&gt; | sex &lt;chr&gt; |\n",
       "|---|---|---|---|---|\n",
       "| 0 | 1 | 1 | 4 | female |\n",
       "| 0 | 1 | 1 | 1 | male   |\n",
       "| 1 | 1 | 3 | 2 | male   |\n",
       "| 0 | 1 | 2 | 1 | male   |\n",
       "| 0 | 1 | 2 | 3 | male   |\n",
       "| 0 | 0 | 3 | 3 | female |\n",
       "| 1 | 0 | 3 | 1 | female |\n",
       "| 1 | 1 | 2 | 2 | female |\n",
       "| 0 | 0 | 2 | 3 | female |\n",
       "| 0 | 1 | 2 | 1 | male   |\n",
       "\n"
      ],
      "text/plain": [
       "   drug cured bmi.cat age.cat sex   \n",
       "1  0    1     1       4       female\n",
       "2  0    1     1       1       male  \n",
       "3  1    1     3       2       male  \n",
       "4  0    1     2       1       male  \n",
       "5  0    1     2       3       male  \n",
       "6  0    0     3       3       female\n",
       "7  1    0     3       1       female\n",
       "8  1    1     2       2       female\n",
       "9  0    0     2       3       female\n",
       "10 0    1     2       1       male  "
      ]
     },
     "metadata": {},
     "output_type": "display_data"
    }
   ],
   "source": [
    "# Don't worry about the data generating process.\n",
    "set.seed(6132020) # Make random numbers generated from sample() reproducible.\n",
    "\n",
    "# A fake observation study\n",
    "# Randomly assign ~60% of patients to take drug\n",
    "drug <- sample(c(0,1), size = 100, replace = TRUE, prob = c(0.6, 0.4))\n",
    "\n",
    "# Randomly assign ~20% of patients to be cured with or without taking the drug.\n",
    "cured <- sample(c(0,1), size = 100, replace = TRUE, prob = c(0.2, 0.8))\n",
    "\n",
    "# Some factors that may affect the efficacy of the drug\n",
    "bmi.cat <- sample(1:3, size = 100, replace = TRUE) # Randomly assign BMI categories\n",
    "age.cat <- sample(1:4, size = 100, replace = TRUE) # Randomly assign age categories\n",
    "\n",
    "sex <- as.character(sample(c(\"female\", \"male\"), size = 100, replace = TRUE))\n",
    "\n",
    "data <- data.frame(drug, cured, bmi.cat, age.cat, sex) # Make our data frame\n",
    "data$sex <- as.character(data$sex)\n",
    "head(data, 10)\n",
    "\n",
    "# The table below shows the first 10 rows of the fake dataset.\n",
    "# This is a typical dataset you will see in Epidemiology.\n",
    "# Each row is a patient, with their own information.\n",
    "# Goal is to assess the drug effectiveness."
   ]
  },
  {
   "cell_type": "code",
   "execution_count": 35,
   "metadata": {},
   "outputs": [
    {
     "data": {
      "text/plain": [
       "    cured\n",
       "drug  1  0\n",
       "   1 26  9\n",
       "   0 52 13"
      ]
     },
     "metadata": {},
     "output_type": "display_data"
    }
   ],
   "source": [
    "# By tabulating the data, we can assess the association (EPIB 601 material).\n",
    "# If we only tabulate drug and outcome (cured or not), we get a 2x2 table\n",
    "    ## which is a matrix or a 2-dimensional array.\n",
    "# 1st dimension: drug, 2nd dimension: cured\n",
    "\n",
    "data$drug <- factor(data$drug, levels = c(1,0))\n",
    "data$cured <- factor(data$cured, levels = c(1,0))\n",
    "\n",
    "table(data[c(\"drug\", \"cured\")])"
   ]
  },
  {
   "cell_type": "code",
   "execution_count": 36,
   "metadata": {},
   "outputs": [
    {
     "data": {
      "text/plain": [
       ", , bmi.cat = 1\n",
       "\n",
       "    cured\n",
       "drug  1  0\n",
       "   1  5  3\n",
       "   0 17  3\n",
       "\n",
       ", , bmi.cat = 2\n",
       "\n",
       "    cured\n",
       "drug  1  0\n",
       "   1 12  4\n",
       "   0 21  7\n",
       "\n",
       ", , bmi.cat = 3\n",
       "\n",
       "    cured\n",
       "drug  1  0\n",
       "   1  9  2\n",
       "   0 14  3\n"
      ]
     },
     "metadata": {},
     "output_type": "display_data"
    }
   ],
   "source": [
    "# This may not be enough, we want to see how people with different BMI may differ.\n",
    "    ## Confounder, also 601 material\n",
    "# We now need a 2x2x3 table, which is a 3-dimensional array.\n",
    "# 1st dimension: drug, 2nd dimension: cured, 3rd dimension: bmi.cat\n",
    "\n",
    "table(data[c(\"drug\", \"cured\", \"bmi.cat\")])"
   ]
  },
  {
   "cell_type": "code",
   "execution_count": 37,
   "metadata": {},
   "outputs": [],
   "source": [
    "# Further include age to see how age category comes into the association\n",
    "# We now need a 2x2x3x4 table, which is a 4-dimensional array.\n",
    "# 1st dimension: drug, 2nd dimension: cured, 3rd dimension: bmi.cat, 4th dimension: age.cat\n",
    "\n",
    "# table(data)"
   ]
  },
  {
   "cell_type": "markdown",
   "metadata": {},
   "source": [
    "### 2.4.5 Data frames\n",
    "Data frame is the most commonly used data structure in R. Its columns can have different types. All elements of any column must have the same type, i.e. all numeric or all factor, or all character."
   ]
  },
  {
   "cell_type": "code",
   "execution_count": 38,
   "metadata": {
    "scrolled": true
   },
   "outputs": [
    {
     "name": "stdout",
     "output_type": "stream",
     "text": [
      "  names score  pass\n",
      "1  Lucy    67  TRUE\n",
      "2  John    56 FALSE\n",
      "3  Mark    87  TRUE\n",
      "4 Candy    91  TRUE\n"
     ]
    }
   ],
   "source": [
    "names <- c(\"Lucy\", \"John\", \"Mark\", \"Candy\")\n",
    "score <- c(67, 56, 87, 91)\n",
    "pass <- c(T, F, T, T)\n",
    "df <- data.frame(names, score, pass); print(df)"
   ]
  },
  {
   "cell_type": "code",
   "execution_count": 39,
   "metadata": {
    "scrolled": true
   },
   "outputs": [
    {
     "name": "stdout",
     "output_type": "stream",
     "text": [
      "'data.frame':\t4 obs. of  3 variables:\n",
      " $ names: Factor w/ 4 levels \"Candy\",\"John\",..: 3 2 4 1\n",
      " $ score: num  67 56 87 91\n",
      " $ pass : logi  TRUE FALSE TRUE TRUE\n"
     ]
    }
   ],
   "source": [
    "str(df) # checking the structure of an object"
   ]
  },
  {
   "cell_type": "markdown",
   "metadata": {},
   "source": [
    "### 2.4.6 List\n",
    "In above data structures, data types and dimensions have to match. But not in lists."
   ]
  },
  {
   "cell_type": "code",
   "execution_count": 40,
   "metadata": {},
   "outputs": [
    {
     "name": "stdout",
     "output_type": "stream",
     "text": [
      "[[1]]\n",
      "[1] \"Red\"\n",
      "\n",
      "[[2]]\n",
      "[1] a b\n",
      "Levels: a b\n",
      "\n",
      "[[3]]\n",
      "     [,1] [,2]\n",
      "[1,]   21   22\n",
      "[2,]   32    1\n",
      "[3,]   11    1\n",
      "\n",
      "[[4]]\n",
      "[1] TRUE\n",
      "\n"
     ]
    }
   ],
   "source": [
    "mylist <- list(\"Red\", factor(c(\"a\",\"b\")), matrix(c(21,32,11, 22,1,1), nrow = 3), TRUE)\n",
    "print(mylist)"
   ]
  },
  {
   "cell_type": "code",
   "execution_count": 41,
   "metadata": {
    "scrolled": true
   },
   "outputs": [
    {
     "name": "stdout",
     "output_type": "stream",
     "text": [
      "List of 4\n",
      " $ : chr \"Red\"\n",
      " $ : Factor w/ 2 levels \"a\",\"b\": 1 2\n",
      " $ : num [1:3, 1:2] 21 32 11 22 1 1\n",
      " $ : logi TRUE\n"
     ]
    }
   ],
   "source": [
    "str(mylist)"
   ]
  },
  {
   "cell_type": "markdown",
   "metadata": {},
   "source": [
    "### 2.4.7* Factors\n",
    "In many online tutorials, factor is considered as a data structure - among vectors, matrices, etc.\n",
    "\n",
    "In my opinion, factor is a data type.\n",
    "\n",
    "Doesn't really matter."
   ]
  },
  {
   "cell_type": "code",
   "execution_count": 42,
   "metadata": {},
   "outputs": [
    {
     "name": "stdout",
     "output_type": "stream",
     "text": [
      "[1] \"a\" \"b\" \"c\"\n"
     ]
    }
   ],
   "source": [
    "ch.letter <- letters[1:3]\n",
    "print(ch.letter)"
   ]
  },
  {
   "cell_type": "code",
   "execution_count": 43,
   "metadata": {
    "scrolled": true
   },
   "outputs": [
    {
     "data": {
      "text/html": [
       "'character'"
      ],
      "text/latex": [
       "'character'"
      ],
      "text/markdown": [
       "'character'"
      ],
      "text/plain": [
       "[1] \"character\""
      ]
     },
     "metadata": {},
     "output_type": "display_data"
    }
   ],
   "source": [
    "class(ch.letter)"
   ]
  },
  {
   "cell_type": "code",
   "execution_count": 44,
   "metadata": {},
   "outputs": [
    {
     "name": "stdout",
     "output_type": "stream",
     "text": [
      "[1] a b c\n",
      "Levels: a b c\n"
     ]
    }
   ],
   "source": [
    "fac.letter <- as.factor(letters[1:3])\n",
    "print(fac.letter)\n",
    "# Note the additional 'Levels: a b c' in the output"
   ]
  },
  {
   "cell_type": "code",
   "execution_count": 45,
   "metadata": {},
   "outputs": [
    {
     "data": {
      "text/html": [
       "'factor'"
      ],
      "text/latex": [
       "'factor'"
      ],
      "text/markdown": [
       "'factor'"
      ],
      "text/plain": [
       "[1] \"factor\""
      ]
     },
     "metadata": {},
     "output_type": "display_data"
    }
   ],
   "source": [
    "class(fac.letter)\n",
    "# Should factor be considered as a data structure or a data type?"
   ]
  },
  {
   "cell_type": "code",
   "execution_count": 46,
   "metadata": {},
   "outputs": [
    {
     "data": {
      "text/html": [
       "<ol class=list-inline>\n",
       "\t<li>1</li>\n",
       "\t<li>2</li>\n",
       "\t<li>3</li>\n",
       "\t<li>4</li>\n",
       "\t<li>5</li>\n",
       "\t<li>6</li>\n",
       "\t<li>7</li>\n",
       "\t<li>8</li>\n",
       "\t<li>9</li>\n",
       "\t<li>10</li>\n",
       "</ol>\n",
       "\n",
       "<details>\n",
       "\t<summary style=display:list-item;cursor:pointer>\n",
       "\t\t<strong>Levels</strong>:\n",
       "\t</summary>\n",
       "\t<ol class=list-inline>\n",
       "\t\t<li>'1'</li>\n",
       "\t\t<li>'2'</li>\n",
       "\t\t<li>'3'</li>\n",
       "\t\t<li>'4'</li>\n",
       "\t\t<li>'5'</li>\n",
       "\t\t<li>'6'</li>\n",
       "\t\t<li>'7'</li>\n",
       "\t\t<li>'8'</li>\n",
       "\t\t<li>'9'</li>\n",
       "\t\t<li>'10'</li>\n",
       "\t</ol>\n",
       "</details>"
      ],
      "text/latex": [
       "\\begin{enumerate*}\n",
       "\\item 1\n",
       "\\item 2\n",
       "\\item 3\n",
       "\\item 4\n",
       "\\item 5\n",
       "\\item 6\n",
       "\\item 7\n",
       "\\item 8\n",
       "\\item 9\n",
       "\\item 10\n",
       "\\end{enumerate*}\n",
       "\n",
       "\\emph{Levels}: \\begin{enumerate*}\n",
       "\\item '1'\n",
       "\\item '2'\n",
       "\\item '3'\n",
       "\\item '4'\n",
       "\\item '5'\n",
       "\\item '6'\n",
       "\\item '7'\n",
       "\\item '8'\n",
       "\\item '9'\n",
       "\\item '10'\n",
       "\\end{enumerate*}\n"
      ],
      "text/markdown": [
       "1. 1\n",
       "2. 2\n",
       "3. 3\n",
       "4. 4\n",
       "5. 5\n",
       "6. 6\n",
       "7. 7\n",
       "8. 8\n",
       "9. 9\n",
       "10. 10\n",
       "\n",
       "\n",
       "\n",
       "**Levels**: 1. '1'\n",
       "2. '2'\n",
       "3. '3'\n",
       "4. '4'\n",
       "5. '5'\n",
       "6. '6'\n",
       "7. '7'\n",
       "8. '8'\n",
       "9. '9'\n",
       "10. '10'\n",
       "\n",
       "\n"
      ],
      "text/plain": [
       " [1] 1  2  3  4  5  6  7  8  9  10\n",
       "Levels: 1 2 3 4 5 6 7 8 9 10"
      ]
     },
     "metadata": {},
     "output_type": "display_data"
    }
   ],
   "source": [
    "factor(1:10)"
   ]
  },
  {
   "cell_type": "markdown",
   "metadata": {},
   "source": [
    "## 2.5 How to generate data\n",
    "##### Usually we start with vectors, by using the ombinations of the following\n",
    "- c( )\n",
    "- seq( )\n",
    "- rep( )\n",
    "- sequence( )\n",
    "\n",
    "##### Then we can these vectors into higher dimensional data structures we just learned."
   ]
  },
  {
   "cell_type": "code",
   "execution_count": 47,
   "metadata": {
    "scrolled": true
   },
   "outputs": [
    {
     "data": {
      "text/html": [
       "<ol class=list-inline>\n",
       "\t<li>-1</li>\n",
       "\t<li>5.44</li>\n",
       "\t<li>100</li>\n",
       "\t<li>34123</li>\n",
       "</ol>\n"
      ],
      "text/latex": [
       "\\begin{enumerate*}\n",
       "\\item -1\n",
       "\\item 5.44\n",
       "\\item 100\n",
       "\\item 34123\n",
       "\\end{enumerate*}\n"
      ],
      "text/markdown": [
       "1. -1\n",
       "2. 5.44\n",
       "3. 100\n",
       "4. 34123\n",
       "\n",
       "\n"
      ],
      "text/plain": [
       "[1]    -1.00     5.44   100.00 34123.00"
      ]
     },
     "metadata": {},
     "output_type": "display_data"
    }
   ],
   "source": [
    "c(-1, 5.44, 100, 34123)"
   ]
  },
  {
   "cell_type": "code",
   "execution_count": 48,
   "metadata": {},
   "outputs": [
    {
     "data": {
      "text/html": [
       "<ol class=list-inline>\n",
       "\t<li>'-1'</li>\n",
       "\t<li>'epib'</li>\n",
       "</ol>\n"
      ],
      "text/latex": [
       "\\begin{enumerate*}\n",
       "\\item '-1'\n",
       "\\item 'epib'\n",
       "\\end{enumerate*}\n"
      ],
      "text/markdown": [
       "1. '-1'\n",
       "2. 'epib'\n",
       "\n",
       "\n"
      ],
      "text/plain": [
       "[1] \"-1\"   \"epib\""
      ]
     },
     "metadata": {},
     "output_type": "display_data"
    }
   ],
   "source": [
    "c(-1, \"epib\")   # a character '-1'"
   ]
  },
  {
   "cell_type": "code",
   "execution_count": 49,
   "metadata": {
    "scrolled": true
   },
   "outputs": [
    {
     "data": {
      "text/html": [
       "<ol class=list-inline>\n",
       "\t<li>-1</li>\n",
       "\t<li>0</li>\n",
       "\t<li>1</li>\n",
       "\t<li>2</li>\n",
       "\t<li>3</li>\n",
       "\t<li>4</li>\n",
       "\t<li>5</li>\n",
       "\t<li>6</li>\n",
       "\t<li>7</li>\n",
       "\t<li>8</li>\n",
       "\t<li>9</li>\n",
       "\t<li>10</li>\n",
       "</ol>\n"
      ],
      "text/latex": [
       "\\begin{enumerate*}\n",
       "\\item -1\n",
       "\\item 0\n",
       "\\item 1\n",
       "\\item 2\n",
       "\\item 3\n",
       "\\item 4\n",
       "\\item 5\n",
       "\\item 6\n",
       "\\item 7\n",
       "\\item 8\n",
       "\\item 9\n",
       "\\item 10\n",
       "\\end{enumerate*}\n"
      ],
      "text/markdown": [
       "1. -1\n",
       "2. 0\n",
       "3. 1\n",
       "4. 2\n",
       "5. 3\n",
       "6. 4\n",
       "7. 5\n",
       "8. 6\n",
       "9. 7\n",
       "10. 8\n",
       "11. 9\n",
       "12. 10\n",
       "\n",
       "\n"
      ],
      "text/plain": [
       " [1] -1  0  1  2  3  4  5  6  7  8  9 10"
      ]
     },
     "metadata": {},
     "output_type": "display_data"
    }
   ],
   "source": [
    "-1:10 # Integers, by increments of 1."
   ]
  },
  {
   "cell_type": "code",
   "execution_count": 50,
   "metadata": {},
   "outputs": [
    {
     "data": {
      "text/html": [
       "<ol class=list-inline>\n",
       "\t<li>-0.1</li>\n",
       "\t<li>0</li>\n",
       "\t<li>0.1</li>\n",
       "\t<li>0.2</li>\n",
       "\t<li>0.3</li>\n",
       "\t<li>0.4</li>\n",
       "\t<li>0.5</li>\n",
       "\t<li>0.6</li>\n",
       "\t<li>0.7</li>\n",
       "\t<li>0.8</li>\n",
       "\t<li>0.9</li>\n",
       "\t<li>1</li>\n",
       "</ol>\n"
      ],
      "text/latex": [
       "\\begin{enumerate*}\n",
       "\\item -0.1\n",
       "\\item 0\n",
       "\\item 0.1\n",
       "\\item 0.2\n",
       "\\item 0.3\n",
       "\\item 0.4\n",
       "\\item 0.5\n",
       "\\item 0.6\n",
       "\\item 0.7\n",
       "\\item 0.8\n",
       "\\item 0.9\n",
       "\\item 1\n",
       "\\end{enumerate*}\n"
      ],
      "text/markdown": [
       "1. -0.1\n",
       "2. 0\n",
       "3. 0.1\n",
       "4. 0.2\n",
       "5. 0.3\n",
       "6. 0.4\n",
       "7. 0.5\n",
       "8. 0.6\n",
       "9. 0.7\n",
       "10. 0.8\n",
       "11. 0.9\n",
       "12. 1\n",
       "\n",
       "\n"
      ],
      "text/plain": [
       " [1] -0.1  0.0  0.1  0.2  0.3  0.4  0.5  0.6  0.7  0.8  0.9  1.0"
      ]
     },
     "metadata": {},
     "output_type": "display_data"
    }
   ],
   "source": [
    "(-1:10) * 0.1"
   ]
  },
  {
   "cell_type": "code",
   "execution_count": 51,
   "metadata": {
    "scrolled": false
   },
   "outputs": [
    {
     "data": {
      "text/html": [
       "<ol class=list-inline>\n",
       "\t<li>0.33</li>\n",
       "\t<li>3.33</li>\n",
       "\t<li>6.33</li>\n",
       "\t<li>9.33</li>\n",
       "</ol>\n"
      ],
      "text/latex": [
       "\\begin{enumerate*}\n",
       "\\item 0.33\n",
       "\\item 3.33\n",
       "\\item 6.33\n",
       "\\item 9.33\n",
       "\\end{enumerate*}\n"
      ],
      "text/markdown": [
       "1. 0.33\n",
       "2. 3.33\n",
       "3. 6.33\n",
       "4. 9.33\n",
       "\n",
       "\n"
      ],
      "text/plain": [
       "[1] 0.33 3.33 6.33 9.33"
      ]
     },
     "metadata": {},
     "output_type": "display_data"
    }
   ],
   "source": [
    "seq(from = 0.33, to = 9.33, by = 3)"
   ]
  },
  {
   "cell_type": "code",
   "execution_count": 52,
   "metadata": {
    "scrolled": true
   },
   "outputs": [
    {
     "data": {
      "text/html": [
       "<ol class=list-inline>\n",
       "\t<li>0</li>\n",
       "\t<li>0.25</li>\n",
       "\t<li>0.5</li>\n",
       "\t<li>0.75</li>\n",
       "\t<li>1</li>\n",
       "</ol>\n"
      ],
      "text/latex": [
       "\\begin{enumerate*}\n",
       "\\item 0\n",
       "\\item 0.25\n",
       "\\item 0.5\n",
       "\\item 0.75\n",
       "\\item 1\n",
       "\\end{enumerate*}\n"
      ],
      "text/markdown": [
       "1. 0\n",
       "2. 0.25\n",
       "3. 0.5\n",
       "4. 0.75\n",
       "5. 1\n",
       "\n",
       "\n"
      ],
      "text/plain": [
       "[1] 0.00 0.25 0.50 0.75 1.00"
      ]
     },
     "metadata": {},
     "output_type": "display_data"
    }
   ],
   "source": [
    "seq(from = 0, to = 1, length = 5)"
   ]
  },
  {
   "cell_type": "code",
   "execution_count": 53,
   "metadata": {},
   "outputs": [
    {
     "data": {
      "text/html": [
       "<ol class=list-inline>\n",
       "\t<li>1.2</li>\n",
       "\t<li>1.2</li>\n",
       "\t<li>1.2</li>\n",
       "\t<li>1.2</li>\n",
       "\t<li>1.2</li>\n",
       "</ol>\n"
      ],
      "text/latex": [
       "\\begin{enumerate*}\n",
       "\\item 1.2\n",
       "\\item 1.2\n",
       "\\item 1.2\n",
       "\\item 1.2\n",
       "\\item 1.2\n",
       "\\end{enumerate*}\n"
      ],
      "text/markdown": [
       "1. 1.2\n",
       "2. 1.2\n",
       "3. 1.2\n",
       "4. 1.2\n",
       "5. 1.2\n",
       "\n",
       "\n"
      ],
      "text/plain": [
       "[1] 1.2 1.2 1.2 1.2 1.2"
      ]
     },
     "metadata": {},
     "output_type": "display_data"
    }
   ],
   "source": [
    "rep(1.2, times = 5)"
   ]
  },
  {
   "cell_type": "code",
   "execution_count": 54,
   "metadata": {},
   "outputs": [
    {
     "data": {
      "text/html": [
       "<ol class=list-inline>\n",
       "\t<li>'six'</li>\n",
       "\t<li>'one'</li>\n",
       "\t<li>'three'</li>\n",
       "\t<li>'six'</li>\n",
       "\t<li>'one'</li>\n",
       "\t<li>'three'</li>\n",
       "</ol>\n"
      ],
      "text/latex": [
       "\\begin{enumerate*}\n",
       "\\item 'six'\n",
       "\\item 'one'\n",
       "\\item 'three'\n",
       "\\item 'six'\n",
       "\\item 'one'\n",
       "\\item 'three'\n",
       "\\end{enumerate*}\n"
      ],
      "text/markdown": [
       "1. 'six'\n",
       "2. 'one'\n",
       "3. 'three'\n",
       "4. 'six'\n",
       "5. 'one'\n",
       "6. 'three'\n",
       "\n",
       "\n"
      ],
      "text/plain": [
       "[1] \"six\"   \"one\"   \"three\" \"six\"   \"one\"   \"three\""
      ]
     },
     "metadata": {},
     "output_type": "display_data"
    }
   ],
   "source": [
    "rep(c(\"six\", \"one\", \"three\"), times = 2)"
   ]
  },
  {
   "cell_type": "code",
   "execution_count": 55,
   "metadata": {},
   "outputs": [
    {
     "data": {
      "text/html": [
       "<ol class=list-inline>\n",
       "\t<li>'six'</li>\n",
       "\t<li>'six'</li>\n",
       "\t<li>'one'</li>\n",
       "\t<li>'one'</li>\n",
       "\t<li>'three'</li>\n",
       "\t<li>'three'</li>\n",
       "</ol>\n"
      ],
      "text/latex": [
       "\\begin{enumerate*}\n",
       "\\item 'six'\n",
       "\\item 'six'\n",
       "\\item 'one'\n",
       "\\item 'one'\n",
       "\\item 'three'\n",
       "\\item 'three'\n",
       "\\end{enumerate*}\n"
      ],
      "text/markdown": [
       "1. 'six'\n",
       "2. 'six'\n",
       "3. 'one'\n",
       "4. 'one'\n",
       "5. 'three'\n",
       "6. 'three'\n",
       "\n",
       "\n"
      ],
      "text/plain": [
       "[1] \"six\"   \"six\"   \"one\"   \"one\"   \"three\" \"three\""
      ]
     },
     "metadata": {},
     "output_type": "display_data"
    }
   ],
   "source": [
    "rep(c(\"six\", \"one\", \"three\"), each = 2)"
   ]
  },
  {
   "cell_type": "code",
   "execution_count": 56,
   "metadata": {},
   "outputs": [
    {
     "data": {
      "text/html": [
       "<ol class=list-inline>\n",
       "\t<li>1</li>\n",
       "\t<li>2</li>\n",
       "\t<li>3</li>\n",
       "\t<li>4</li>\n",
       "\t<li>5</li>\n",
       "</ol>\n"
      ],
      "text/latex": [
       "\\begin{enumerate*}\n",
       "\\item 1\n",
       "\\item 2\n",
       "\\item 3\n",
       "\\item 4\n",
       "\\item 5\n",
       "\\end{enumerate*}\n"
      ],
      "text/markdown": [
       "1. 1\n",
       "2. 2\n",
       "3. 3\n",
       "4. 4\n",
       "5. 5\n",
       "\n",
       "\n"
      ],
      "text/plain": [
       "[1] 1 2 3 4 5"
      ]
     },
     "metadata": {},
     "output_type": "display_data"
    }
   ],
   "source": [
    "sequence(5)"
   ]
  },
  {
   "cell_type": "code",
   "execution_count": 57,
   "metadata": {},
   "outputs": [
    {
     "data": {
      "text/html": [
       "<ol class=list-inline>\n",
       "\t<li>1</li>\n",
       "\t<li>2</li>\n",
       "\t<li>3</li>\n",
       "\t<li>4</li>\n",
       "\t<li>5</li>\n",
       "\t<li>6</li>\n",
       "\t<li>1</li>\n",
       "\t<li>1</li>\n",
       "\t<li>2</li>\n",
       "\t<li>3</li>\n",
       "</ol>\n"
      ],
      "text/latex": [
       "\\begin{enumerate*}\n",
       "\\item 1\n",
       "\\item 2\n",
       "\\item 3\n",
       "\\item 4\n",
       "\\item 5\n",
       "\\item 6\n",
       "\\item 1\n",
       "\\item 1\n",
       "\\item 2\n",
       "\\item 3\n",
       "\\end{enumerate*}\n"
      ],
      "text/markdown": [
       "1. 1\n",
       "2. 2\n",
       "3. 3\n",
       "4. 4\n",
       "5. 5\n",
       "6. 6\n",
       "7. 1\n",
       "8. 1\n",
       "9. 2\n",
       "10. 3\n",
       "\n",
       "\n"
      ],
      "text/plain": [
       " [1] 1 2 3 4 5 6 1 1 2 3"
      ]
     },
     "metadata": {},
     "output_type": "display_data"
    }
   ],
   "source": [
    "sequence(c(6, 1, 3))"
   ]
  },
  {
   "cell_type": "code",
   "execution_count": 58,
   "metadata": {},
   "outputs": [
    {
     "data": {
      "text/html": [
       "<ol class=list-inline>\n",
       "\t<li>-4</li>\n",
       "\t<li>-3</li>\n",
       "\t<li>-2</li>\n",
       "\t<li>0</li>\n",
       "\t<li>0.5</li>\n",
       "\t<li>1</li>\n",
       "\t<li>0</li>\n",
       "\t<li>0.5</li>\n",
       "\t<li>1</li>\n",
       "\t<li>1</li>\n",
       "\t<li>1</li>\n",
       "\t<li>2</li>\n",
       "\t<li>2</li>\n",
       "\t<li>3</li>\n",
       "\t<li>3</li>\n",
       "</ol>\n"
      ],
      "text/latex": [
       "\\begin{enumerate*}\n",
       "\\item -4\n",
       "\\item -3\n",
       "\\item -2\n",
       "\\item 0\n",
       "\\item 0.5\n",
       "\\item 1\n",
       "\\item 0\n",
       "\\item 0.5\n",
       "\\item 1\n",
       "\\item 1\n",
       "\\item 1\n",
       "\\item 2\n",
       "\\item 2\n",
       "\\item 3\n",
       "\\item 3\n",
       "\\end{enumerate*}\n"
      ],
      "text/markdown": [
       "1. -4\n",
       "2. -3\n",
       "3. -2\n",
       "4. 0\n",
       "5. 0.5\n",
       "6. 1\n",
       "7. 0\n",
       "8. 0.5\n",
       "9. 1\n",
       "10. 1\n",
       "11. 1\n",
       "12. 2\n",
       "13. 2\n",
       "14. 3\n",
       "15. 3\n",
       "\n",
       "\n"
      ],
      "text/plain": [
       " [1] -4.0 -3.0 -2.0  0.0  0.5  1.0  0.0  0.5  1.0  1.0  1.0  2.0  2.0  3.0  3.0"
      ]
     },
     "metadata": {},
     "output_type": "display_data"
    }
   ],
   "source": [
    "# Can you make a numeric vector (-4, -3, -2, 0, 0.5, 1, 0, 0.5, 1, 1, 1, 2, 2, 3, 3)?\n",
    "\n",
    "c(-4:-2, rep(seq(from = 0, to = 1, by = .5), times = 2), rep(c(1,2,3), each = 2))"
   ]
  },
  {
   "cell_type": "code",
   "execution_count": 59,
   "metadata": {},
   "outputs": [
    {
     "data": {
      "text/html": [
       "<ol class=list-inline>\n",
       "\t<li>0</li>\n",
       "\t<li>0.5</li>\n",
       "\t<li>1</li>\n",
       "</ol>\n"
      ],
      "text/latex": [
       "\\begin{enumerate*}\n",
       "\\item 0\n",
       "\\item 0.5\n",
       "\\item 1\n",
       "\\end{enumerate*}\n"
      ],
      "text/markdown": [
       "1. 0\n",
       "2. 0.5\n",
       "3. 1\n",
       "\n",
       "\n"
      ],
      "text/plain": [
       "[1] 0.0 0.5 1.0"
      ]
     },
     "metadata": {},
     "output_type": "display_data"
    }
   ],
   "source": [
    "(0:2) * 0.5"
   ]
  },
  {
   "cell_type": "markdown",
   "metadata": {},
   "source": [
    "## 2.6 Operators\n",
    "### 2.6.1 Arithmetic operators\n",
    "###### Vector operations"
   ]
  },
  {
   "cell_type": "code",
   "execution_count": 60,
   "metadata": {},
   "outputs": [
    {
     "data": {
      "text/html": [
       "<ol class=list-inline>\n",
       "\t<li>1</li>\n",
       "\t<li>8</li>\n",
       "\t<li>8</li>\n",
       "</ol>\n"
      ],
      "text/latex": [
       "\\begin{enumerate*}\n",
       "\\item 1\n",
       "\\item 8\n",
       "\\item 8\n",
       "\\end{enumerate*}\n"
      ],
      "text/markdown": [
       "1. 1\n",
       "2. 8\n",
       "3. 8\n",
       "\n",
       "\n"
      ],
      "text/plain": [
       "[1] 1 8 8"
      ]
     },
     "metadata": {},
     "output_type": "display_data"
    },
    {
     "data": {
      "text/html": [
       "<ol class=list-inline>\n",
       "\t<li>2</li>\n",
       "\t<li>8</li>\n",
       "\t<li>4</li>\n",
       "</ol>\n"
      ],
      "text/latex": [
       "\\begin{enumerate*}\n",
       "\\item 2\n",
       "\\item 8\n",
       "\\item 4\n",
       "\\end{enumerate*}\n"
      ],
      "text/markdown": [
       "1. 2\n",
       "2. 8\n",
       "3. 4\n",
       "\n",
       "\n"
      ],
      "text/plain": [
       "[1] 2 8 4"
      ]
     },
     "metadata": {},
     "output_type": "display_data"
    }
   ],
   "source": [
    "a <- c(1, 8, 8)\n",
    "b <- c(2, 8, 4)\n",
    "a; b"
   ]
  },
  {
   "cell_type": "code",
   "execution_count": 61,
   "metadata": {},
   "outputs": [
    {
     "data": {
      "text/html": [
       "<ol class=list-inline>\n",
       "\t<li>2</li>\n",
       "\t<li>9</li>\n",
       "\t<li>9</li>\n",
       "</ol>\n"
      ],
      "text/latex": [
       "\\begin{enumerate*}\n",
       "\\item 2\n",
       "\\item 9\n",
       "\\item 9\n",
       "\\end{enumerate*}\n"
      ],
      "text/markdown": [
       "1. 2\n",
       "2. 9\n",
       "3. 9\n",
       "\n",
       "\n"
      ],
      "text/plain": [
       "[1] 2 9 9"
      ]
     },
     "metadata": {},
     "output_type": "display_data"
    }
   ],
   "source": [
    "a+1 # here 1 is considered as a vector (1, 1, 1)"
   ]
  },
  {
   "cell_type": "code",
   "execution_count": 62,
   "metadata": {},
   "outputs": [
    {
     "data": {
      "text/html": [
       "<ol class=list-inline>\n",
       "\t<li>3</li>\n",
       "\t<li>16</li>\n",
       "\t<li>12</li>\n",
       "</ol>\n"
      ],
      "text/latex": [
       "\\begin{enumerate*}\n",
       "\\item 3\n",
       "\\item 16\n",
       "\\item 12\n",
       "\\end{enumerate*}\n"
      ],
      "text/markdown": [
       "1. 3\n",
       "2. 16\n",
       "3. 12\n",
       "\n",
       "\n"
      ],
      "text/plain": [
       "[1]  3 16 12"
      ]
     },
     "metadata": {},
     "output_type": "display_data"
    }
   ],
   "source": [
    "a+b"
   ]
  },
  {
   "cell_type": "code",
   "execution_count": 63,
   "metadata": {},
   "outputs": [
    {
     "data": {
      "text/html": [
       "<ol class=list-inline>\n",
       "\t<li>2</li>\n",
       "\t<li>64</li>\n",
       "\t<li>32</li>\n",
       "</ol>\n"
      ],
      "text/latex": [
       "\\begin{enumerate*}\n",
       "\\item 2\n",
       "\\item 64\n",
       "\\item 32\n",
       "\\end{enumerate*}\n"
      ],
      "text/markdown": [
       "1. 2\n",
       "2. 64\n",
       "3. 32\n",
       "\n",
       "\n"
      ],
      "text/plain": [
       "[1]  2 64 32"
      ]
     },
     "metadata": {},
     "output_type": "display_data"
    }
   ],
   "source": [
    "a*b"
   ]
  },
  {
   "cell_type": "code",
   "execution_count": 64,
   "metadata": {},
   "outputs": [
    {
     "data": {
      "text/html": [
       "<ol class=list-inline>\n",
       "\t<li>1</li>\n",
       "\t<li>64</li>\n",
       "\t<li>64</li>\n",
       "</ol>\n"
      ],
      "text/latex": [
       "\\begin{enumerate*}\n",
       "\\item 1\n",
       "\\item 64\n",
       "\\item 64\n",
       "\\end{enumerate*}\n"
      ],
      "text/markdown": [
       "1. 1\n",
       "2. 64\n",
       "3. 64\n",
       "\n",
       "\n"
      ],
      "text/plain": [
       "[1]  1 64 64"
      ]
     },
     "metadata": {},
     "output_type": "display_data"
    }
   ],
   "source": [
    "a^2"
   ]
  },
  {
   "cell_type": "markdown",
   "metadata": {},
   "source": [
    "##### Element-wise operations"
   ]
  },
  {
   "cell_type": "markdown",
   "metadata": {},
   "source": [
    "###### Matrix operations\n",
    "Also element-wise"
   ]
  },
  {
   "cell_type": "code",
   "execution_count": 65,
   "metadata": {},
   "outputs": [
    {
     "name": "stdout",
     "output_type": "stream",
     "text": [
      "     [,1] [,2]\n",
      "[1,]    1    2\n",
      "[2,]    3    4\n",
      "     [,1] [,2]\n",
      "[1,]    5    7\n",
      "[2,]    6    8\n"
     ]
    }
   ],
   "source": [
    "c <- matrix(c(1,2,3,4), nrow = 2, byrow = T)\n",
    "d <- matrix(c(5,6,7,8), nrow = 2, byrow = F)\n",
    "print(c); print(d)"
   ]
  },
  {
   "cell_type": "code",
   "execution_count": 66,
   "metadata": {},
   "outputs": [
    {
     "data": {
      "text/html": [
       "<table>\n",
       "<caption>A matrix: 2 × 2 of type dbl</caption>\n",
       "<tbody>\n",
       "\t<tr><td>2</td><td>3</td></tr>\n",
       "\t<tr><td>4</td><td>5</td></tr>\n",
       "</tbody>\n",
       "</table>\n"
      ],
      "text/latex": [
       "A matrix: 2 × 2 of type dbl\n",
       "\\begin{tabular}{ll}\n",
       "\t 2 & 3\\\\\n",
       "\t 4 & 5\\\\\n",
       "\\end{tabular}\n"
      ],
      "text/markdown": [
       "\n",
       "A matrix: 2 × 2 of type dbl\n",
       "\n",
       "| 2 | 3 |\n",
       "| 4 | 5 |\n",
       "\n"
      ],
      "text/plain": [
       "     [,1] [,2]\n",
       "[1,] 2    3   \n",
       "[2,] 4    5   "
      ]
     },
     "metadata": {},
     "output_type": "display_data"
    }
   ],
   "source": [
    "c+1"
   ]
  },
  {
   "cell_type": "code",
   "execution_count": 67,
   "metadata": {},
   "outputs": [
    {
     "data": {
      "text/html": [
       "<table>\n",
       "<caption>A matrix: 2 × 2 of type dbl</caption>\n",
       "<tbody>\n",
       "\t<tr><td>6</td><td> 9</td></tr>\n",
       "\t<tr><td>9</td><td>12</td></tr>\n",
       "</tbody>\n",
       "</table>\n"
      ],
      "text/latex": [
       "A matrix: 2 × 2 of type dbl\n",
       "\\begin{tabular}{ll}\n",
       "\t 6 &  9\\\\\n",
       "\t 9 & 12\\\\\n",
       "\\end{tabular}\n"
      ],
      "text/markdown": [
       "\n",
       "A matrix: 2 × 2 of type dbl\n",
       "\n",
       "| 6 |  9 |\n",
       "| 9 | 12 |\n",
       "\n"
      ],
      "text/plain": [
       "     [,1] [,2]\n",
       "[1,] 6     9  \n",
       "[2,] 9    12  "
      ]
     },
     "metadata": {},
     "output_type": "display_data"
    }
   ],
   "source": [
    "c+d"
   ]
  },
  {
   "cell_type": "code",
   "execution_count": 68,
   "metadata": {},
   "outputs": [
    {
     "data": {
      "text/html": [
       "<table>\n",
       "<caption>A matrix: 2 × 2 of type dbl</caption>\n",
       "<tbody>\n",
       "\t<tr><td> 5</td><td>14</td></tr>\n",
       "\t<tr><td>18</td><td>32</td></tr>\n",
       "</tbody>\n",
       "</table>\n"
      ],
      "text/latex": [
       "A matrix: 2 × 2 of type dbl\n",
       "\\begin{tabular}{ll}\n",
       "\t  5 & 14\\\\\n",
       "\t 18 & 32\\\\\n",
       "\\end{tabular}\n"
      ],
      "text/markdown": [
       "\n",
       "A matrix: 2 × 2 of type dbl\n",
       "\n",
       "|  5 | 14 |\n",
       "| 18 | 32 |\n",
       "\n"
      ],
      "text/plain": [
       "     [,1] [,2]\n",
       "[1,]  5   14  \n",
       "[2,] 18   32  "
      ]
     },
     "metadata": {},
     "output_type": "display_data"
    }
   ],
   "source": [
    "c*d"
   ]
  },
  {
   "cell_type": "code",
   "execution_count": 69,
   "metadata": {},
   "outputs": [
    {
     "data": {
      "text/html": [
       "<table>\n",
       "<caption>A matrix: 2 × 2 of type dbl</caption>\n",
       "<tbody>\n",
       "\t<tr><td>1</td><td> 4</td></tr>\n",
       "\t<tr><td>9</td><td>16</td></tr>\n",
       "</tbody>\n",
       "</table>\n"
      ],
      "text/latex": [
       "A matrix: 2 × 2 of type dbl\n",
       "\\begin{tabular}{ll}\n",
       "\t 1 &  4\\\\\n",
       "\t 9 & 16\\\\\n",
       "\\end{tabular}\n"
      ],
      "text/markdown": [
       "\n",
       "A matrix: 2 × 2 of type dbl\n",
       "\n",
       "| 1 |  4 |\n",
       "| 9 | 16 |\n",
       "\n"
      ],
      "text/plain": [
       "     [,1] [,2]\n",
       "[1,] 1     4  \n",
       "[2,] 9    16  "
      ]
     },
     "metadata": {},
     "output_type": "display_data"
    }
   ],
   "source": [
    "c^2"
   ]
  },
  {
   "cell_type": "markdown",
   "metadata": {},
   "source": [
    "##### Exercise\n",
    "Try taking the sum of a matrix and a vector, what does R do?"
   ]
  },
  {
   "cell_type": "code",
   "execution_count": 70,
   "metadata": {},
   "outputs": [
    {
     "data": {
      "text/html": [
       "<ol class=list-inline>\n",
       "\t<li>1</li>\n",
       "\t<li>8</li>\n",
       "\t<li>8</li>\n",
       "</ol>\n"
      ],
      "text/latex": [
       "\\begin{enumerate*}\n",
       "\\item 1\n",
       "\\item 8\n",
       "\\item 8\n",
       "\\end{enumerate*}\n"
      ],
      "text/markdown": [
       "1. 1\n",
       "2. 8\n",
       "3. 8\n",
       "\n",
       "\n"
      ],
      "text/plain": [
       "[1] 1 8 8"
      ]
     },
     "metadata": {},
     "output_type": "display_data"
    },
    {
     "data": {
      "text/html": [
       "17"
      ],
      "text/latex": [
       "17"
      ],
      "text/markdown": [
       "17"
      ],
      "text/plain": [
       "[1] 17"
      ]
     },
     "metadata": {},
     "output_type": "display_data"
    }
   ],
   "source": [
    "a\n",
    "sum(a)"
   ]
  },
  {
   "cell_type": "code",
   "execution_count": 71,
   "metadata": {},
   "outputs": [
    {
     "data": {
      "text/html": [
       "<table>\n",
       "<caption>A matrix: 2 × 2 of type dbl</caption>\n",
       "<tbody>\n",
       "\t<tr><td>1</td><td>2</td></tr>\n",
       "\t<tr><td>3</td><td>4</td></tr>\n",
       "</tbody>\n",
       "</table>\n"
      ],
      "text/latex": [
       "A matrix: 2 × 2 of type dbl\n",
       "\\begin{tabular}{ll}\n",
       "\t 1 & 2\\\\\n",
       "\t 3 & 4\\\\\n",
       "\\end{tabular}\n"
      ],
      "text/markdown": [
       "\n",
       "A matrix: 2 × 2 of type dbl\n",
       "\n",
       "| 1 | 2 |\n",
       "| 3 | 4 |\n",
       "\n"
      ],
      "text/plain": [
       "     [,1] [,2]\n",
       "[1,] 1    2   \n",
       "[2,] 3    4   "
      ]
     },
     "metadata": {},
     "output_type": "display_data"
    },
    {
     "data": {
      "text/html": [
       "<ol class=list-inline>\n",
       "\t<li>3</li>\n",
       "\t<li>7</li>\n",
       "</ol>\n"
      ],
      "text/latex": [
       "\\begin{enumerate*}\n",
       "\\item 3\n",
       "\\item 7\n",
       "\\end{enumerate*}\n"
      ],
      "text/markdown": [
       "1. 3\n",
       "2. 7\n",
       "\n",
       "\n"
      ],
      "text/plain": [
       "[1] 3 7"
      ]
     },
     "metadata": {},
     "output_type": "display_data"
    }
   ],
   "source": [
    "c; rowSums(c)"
   ]
  },
  {
   "cell_type": "markdown",
   "metadata": {},
   "source": [
    "##### (Optional) If you know linear algebra - cross product, dot product, etc."
   ]
  },
  {
   "cell_type": "code",
   "execution_count": 72,
   "metadata": {},
   "outputs": [
    {
     "data": {
      "text/html": [
       "<table>\n",
       "<caption>A matrix: 1 × 1 of type dbl</caption>\n",
       "<tbody>\n",
       "\t<tr><td>98</td></tr>\n",
       "</tbody>\n",
       "</table>\n"
      ],
      "text/latex": [
       "A matrix: 1 × 1 of type dbl\n",
       "\\begin{tabular}{l}\n",
       "\t 98\\\\\n",
       "\\end{tabular}\n"
      ],
      "text/markdown": [
       "\n",
       "A matrix: 1 × 1 of type dbl\n",
       "\n",
       "| 98 |\n",
       "\n"
      ],
      "text/plain": [
       "     [,1]\n",
       "[1,] 98  "
      ]
     },
     "metadata": {},
     "output_type": "display_data"
    }
   ],
   "source": [
    "a %*% b"
   ]
  },
  {
   "cell_type": "code",
   "execution_count": 73,
   "metadata": {},
   "outputs": [
    {
     "data": {
      "text/html": [
       "<table>\n",
       "<caption>A matrix: 3 × 3 of type dbl</caption>\n",
       "<tbody>\n",
       "\t<tr><td> 2</td><td> 8</td><td> 4</td></tr>\n",
       "\t<tr><td>16</td><td>64</td><td>32</td></tr>\n",
       "\t<tr><td>16</td><td>64</td><td>32</td></tr>\n",
       "</tbody>\n",
       "</table>\n"
      ],
      "text/latex": [
       "A matrix: 3 × 3 of type dbl\n",
       "\\begin{tabular}{lll}\n",
       "\t  2 &  8 &  4\\\\\n",
       "\t 16 & 64 & 32\\\\\n",
       "\t 16 & 64 & 32\\\\\n",
       "\\end{tabular}\n"
      ],
      "text/markdown": [
       "\n",
       "A matrix: 3 × 3 of type dbl\n",
       "\n",
       "|  2 |  8 |  4 |\n",
       "| 16 | 64 | 32 |\n",
       "| 16 | 64 | 32 |\n",
       "\n"
      ],
      "text/plain": [
       "     [,1] [,2] [,3]\n",
       "[1,]  2    8    4  \n",
       "[2,] 16   64   32  \n",
       "[3,] 16   64   32  "
      ]
     },
     "metadata": {},
     "output_type": "display_data"
    }
   ],
   "source": [
    "a %o% b"
   ]
  },
  {
   "cell_type": "code",
   "execution_count": 74,
   "metadata": {
    "scrolled": true
   },
   "outputs": [
    {
     "data": {
      "text/html": [
       "<table>\n",
       "<caption>A matrix: 2 × 2 of type dbl</caption>\n",
       "<tbody>\n",
       "\t<tr><td>17</td><td>23</td></tr>\n",
       "\t<tr><td>39</td><td>53</td></tr>\n",
       "</tbody>\n",
       "</table>\n"
      ],
      "text/latex": [
       "A matrix: 2 × 2 of type dbl\n",
       "\\begin{tabular}{ll}\n",
       "\t 17 & 23\\\\\n",
       "\t 39 & 53\\\\\n",
       "\\end{tabular}\n"
      ],
      "text/markdown": [
       "\n",
       "A matrix: 2 × 2 of type dbl\n",
       "\n",
       "| 17 | 23 |\n",
       "| 39 | 53 |\n",
       "\n"
      ],
      "text/plain": [
       "     [,1] [,2]\n",
       "[1,] 17   23  \n",
       "[2,] 39   53  "
      ]
     },
     "metadata": {},
     "output_type": "display_data"
    }
   ],
   "source": [
    "c %*% d"
   ]
  },
  {
   "cell_type": "markdown",
   "metadata": {},
   "source": [
    "### 2.6.2 Logical operators\n",
    "Operators that return TRUE or FALSE"
   ]
  },
  {
   "cell_type": "code",
   "execution_count": 75,
   "metadata": {},
   "outputs": [
    {
     "name": "stdout",
     "output_type": "stream",
     "text": [
      "[1] 1 8 8\n",
      "[1] 2 8 4\n"
     ]
    }
   ],
   "source": [
    "# Recall vector a and b from above.\n",
    "print(a); print(b)"
   ]
  },
  {
   "cell_type": "code",
   "execution_count": 76,
   "metadata": {},
   "outputs": [
    {
     "data": {
      "text/html": [
       "<ol class=list-inline>\n",
       "\t<li>FALSE</li>\n",
       "\t<li>TRUE</li>\n",
       "\t<li>FALSE</li>\n",
       "</ol>\n"
      ],
      "text/latex": [
       "\\begin{enumerate*}\n",
       "\\item FALSE\n",
       "\\item TRUE\n",
       "\\item FALSE\n",
       "\\end{enumerate*}\n"
      ],
      "text/markdown": [
       "1. FALSE\n",
       "2. TRUE\n",
       "3. FALSE\n",
       "\n",
       "\n"
      ],
      "text/plain": [
       "[1] FALSE  TRUE FALSE"
      ]
     },
     "metadata": {},
     "output_type": "display_data"
    }
   ],
   "source": [
    "a == b # Equal or not?"
   ]
  },
  {
   "cell_type": "code",
   "execution_count": 77,
   "metadata": {},
   "outputs": [
    {
     "data": {
      "text/html": [
       "<ol class=list-inline>\n",
       "\t<li>TRUE</li>\n",
       "\t<li>FALSE</li>\n",
       "\t<li>TRUE</li>\n",
       "</ol>\n"
      ],
      "text/latex": [
       "\\begin{enumerate*}\n",
       "\\item TRUE\n",
       "\\item FALSE\n",
       "\\item TRUE\n",
       "\\end{enumerate*}\n"
      ],
      "text/markdown": [
       "1. TRUE\n",
       "2. FALSE\n",
       "3. TRUE\n",
       "\n",
       "\n"
      ],
      "text/plain": [
       "[1]  TRUE FALSE  TRUE"
      ]
     },
     "metadata": {},
     "output_type": "display_data"
    }
   ],
   "source": [
    "a != b # Not equal?"
   ]
  },
  {
   "cell_type": "code",
   "execution_count": 78,
   "metadata": {},
   "outputs": [
    {
     "data": {
      "text/html": [
       "<ol class=list-inline>\n",
       "\t<li>FALSE</li>\n",
       "\t<li>FALSE</li>\n",
       "\t<li>TRUE</li>\n",
       "</ol>\n"
      ],
      "text/latex": [
       "\\begin{enumerate*}\n",
       "\\item FALSE\n",
       "\\item FALSE\n",
       "\\item TRUE\n",
       "\\end{enumerate*}\n"
      ],
      "text/markdown": [
       "1. FALSE\n",
       "2. FALSE\n",
       "3. TRUE\n",
       "\n",
       "\n"
      ],
      "text/plain": [
       "[1] FALSE FALSE  TRUE"
      ]
     },
     "metadata": {},
     "output_type": "display_data"
    }
   ],
   "source": [
    "a > b"
   ]
  },
  {
   "cell_type": "code",
   "execution_count": 79,
   "metadata": {},
   "outputs": [
    {
     "data": {
      "text/html": [
       "<ol class=list-inline>\n",
       "\t<li>TRUE</li>\n",
       "\t<li>TRUE</li>\n",
       "\t<li>FALSE</li>\n",
       "</ol>\n"
      ],
      "text/latex": [
       "\\begin{enumerate*}\n",
       "\\item TRUE\n",
       "\\item TRUE\n",
       "\\item FALSE\n",
       "\\end{enumerate*}\n"
      ],
      "text/markdown": [
       "1. TRUE\n",
       "2. TRUE\n",
       "3. FALSE\n",
       "\n",
       "\n"
      ],
      "text/plain": [
       "[1]  TRUE  TRUE FALSE"
      ]
     },
     "metadata": {},
     "output_type": "display_data"
    }
   ],
   "source": [
    "a <= b"
   ]
  },
  {
   "cell_type": "code",
   "execution_count": 80,
   "metadata": {},
   "outputs": [
    {
     "data": {
      "text/html": [
       "<ol class=list-inline>\n",
       "\t<li>1</li>\n",
       "\t<li>8</li>\n",
       "\t<li>8</li>\n",
       "</ol>\n"
      ],
      "text/latex": [
       "\\begin{enumerate*}\n",
       "\\item 1\n",
       "\\item 8\n",
       "\\item 8\n",
       "\\end{enumerate*}\n"
      ],
      "text/markdown": [
       "1. 1\n",
       "2. 8\n",
       "3. 8\n",
       "\n",
       "\n"
      ],
      "text/plain": [
       "[1] 1 8 8"
      ]
     },
     "metadata": {},
     "output_type": "display_data"
    },
    {
     "data": {
      "text/html": [
       "<ol class=list-inline>\n",
       "\t<li>2</li>\n",
       "\t<li>8</li>\n",
       "\t<li>4</li>\n",
       "</ol>\n"
      ],
      "text/latex": [
       "\\begin{enumerate*}\n",
       "\\item 2\n",
       "\\item 8\n",
       "\\item 4\n",
       "\\end{enumerate*}\n"
      ],
      "text/markdown": [
       "1. 2\n",
       "2. 8\n",
       "3. 4\n",
       "\n",
       "\n"
      ],
      "text/plain": [
       "[1] 2 8 4"
      ]
     },
     "metadata": {},
     "output_type": "display_data"
    },
    {
     "data": {
      "text/html": [
       "<ol class=list-inline>\n",
       "\t<li>FALSE</li>\n",
       "\t<li>TRUE</li>\n",
       "\t<li>FALSE</li>\n",
       "</ol>\n"
      ],
      "text/latex": [
       "\\begin{enumerate*}\n",
       "\\item FALSE\n",
       "\\item TRUE\n",
       "\\item FALSE\n",
       "\\end{enumerate*}\n"
      ],
      "text/markdown": [
       "1. FALSE\n",
       "2. TRUE\n",
       "3. FALSE\n",
       "\n",
       "\n"
      ],
      "text/plain": [
       "[1] FALSE  TRUE FALSE"
      ]
     },
     "metadata": {},
     "output_type": "display_data"
    }
   ],
   "source": [
    "# And\n",
    "a; b\n",
    "a>5 & b>5"
   ]
  },
  {
   "cell_type": "code",
   "execution_count": 81,
   "metadata": {},
   "outputs": [
    {
     "data": {
      "text/html": [
       "<ol class=list-inline>\n",
       "\t<li>FALSE</li>\n",
       "\t<li>TRUE</li>\n",
       "\t<li>TRUE</li>\n",
       "</ol>\n"
      ],
      "text/latex": [
       "\\begin{enumerate*}\n",
       "\\item FALSE\n",
       "\\item TRUE\n",
       "\\item TRUE\n",
       "\\end{enumerate*}\n"
      ],
      "text/markdown": [
       "1. FALSE\n",
       "2. TRUE\n",
       "3. TRUE\n",
       "\n",
       "\n"
      ],
      "text/plain": [
       "[1] FALSE  TRUE  TRUE"
      ]
     },
     "metadata": {},
     "output_type": "display_data"
    }
   ],
   "source": [
    "# Or\n",
    "a>=5 | b>=5"
   ]
  },
  {
   "cell_type": "code",
   "execution_count": 82,
   "metadata": {},
   "outputs": [
    {
     "data": {
      "text/html": [
       "TRUE"
      ],
      "text/latex": [
       "TRUE"
      ],
      "text/markdown": [
       "TRUE"
      ],
      "text/plain": [
       "[1] TRUE"
      ]
     },
     "metadata": {},
     "output_type": "display_data"
    }
   ],
   "source": [
    "\"ABC\" == \"ABC\""
   ]
  },
  {
   "cell_type": "code",
   "execution_count": 83,
   "metadata": {},
   "outputs": [
    {
     "data": {
      "text/html": [
       "FALSE"
      ],
      "text/latex": [
       "FALSE"
      ],
      "text/markdown": [
       "FALSE"
      ],
      "text/plain": [
       "[1] FALSE"
      ]
     },
     "metadata": {},
     "output_type": "display_data"
    }
   ],
   "source": [
    "\"ABC\" == \"abc\""
   ]
  },
  {
   "cell_type": "code",
   "execution_count": 84,
   "metadata": {},
   "outputs": [
    {
     "data": {
      "text/html": [
       "2"
      ],
      "text/latex": [
       "2"
      ],
      "text/markdown": [
       "2"
      ],
      "text/plain": [
       "[1] 2"
      ]
     },
     "metadata": {},
     "output_type": "display_data"
    }
   ],
   "source": [
    "TRUE + TRUE + FALSE # True = 1, False = 0."
   ]
  },
  {
   "cell_type": "code",
   "execution_count": 85,
   "metadata": {},
   "outputs": [
    {
     "data": {
      "text/html": [
       "<ol class=list-inline>\n",
       "\t<li>113.128431125335</li>\n",
       "\t<li>1.88878387785174</li>\n",
       "\t<li>115.509303855322</li>\n",
       "\t<li>-42.5137360589867</li>\n",
       "\t<li>104.502854669901</li>\n",
       "\t<li>2.87281750017042</li>\n",
       "\t<li>8.23899167567711</li>\n",
       "\t<li>182.472455837504</li>\n",
       "\t<li>-94.4902033457774</li>\n",
       "\t<li>28.5085010557969</li>\n",
       "</ol>\n"
      ],
      "text/latex": [
       "\\begin{enumerate*}\n",
       "\\item 113.128431125335\n",
       "\\item 1.88878387785174\n",
       "\\item 115.509303855322\n",
       "\\item -42.5137360589867\n",
       "\\item 104.502854669901\n",
       "\\item 2.87281750017042\n",
       "\\item 8.23899167567711\n",
       "\\item 182.472455837504\n",
       "\\item -94.4902033457774\n",
       "\\item 28.5085010557969\n",
       "\\end{enumerate*}\n"
      ],
      "text/markdown": [
       "1. 113.128431125335\n",
       "2. 1.88878387785174\n",
       "3. 115.509303855322\n",
       "4. -42.5137360589867\n",
       "5. 104.502854669901\n",
       "6. 2.87281750017042\n",
       "7. 8.23899167567711\n",
       "8. 182.472455837504\n",
       "9. -94.4902033457774\n",
       "10. 28.5085010557969\n",
       "\n",
       "\n"
      ],
      "text/plain": [
       " [1] 113.128431   1.888784 115.509304 -42.513736 104.502855   2.872818\n",
       " [7]   8.238992 182.472456 -94.490203  28.508501"
      ]
     },
     "metadata": {},
     "output_type": "display_data"
    },
    {
     "data": {
      "text/html": [
       "<ol class=list-inline>\n",
       "\t<li>TRUE</li>\n",
       "\t<li>FALSE</li>\n",
       "\t<li>TRUE</li>\n",
       "\t<li>FALSE</li>\n",
       "\t<li>TRUE</li>\n",
       "\t<li>FALSE</li>\n",
       "\t<li>FALSE</li>\n",
       "\t<li>TRUE</li>\n",
       "\t<li>FALSE</li>\n",
       "\t<li>TRUE</li>\n",
       "</ol>\n"
      ],
      "text/latex": [
       "\\begin{enumerate*}\n",
       "\\item TRUE\n",
       "\\item FALSE\n",
       "\\item TRUE\n",
       "\\item FALSE\n",
       "\\item TRUE\n",
       "\\item FALSE\n",
       "\\item FALSE\n",
       "\\item TRUE\n",
       "\\item FALSE\n",
       "\\item TRUE\n",
       "\\end{enumerate*}\n"
      ],
      "text/markdown": [
       "1. TRUE\n",
       "2. FALSE\n",
       "3. TRUE\n",
       "4. FALSE\n",
       "5. TRUE\n",
       "6. FALSE\n",
       "7. FALSE\n",
       "8. TRUE\n",
       "9. FALSE\n",
       "10. TRUE\n",
       "\n",
       "\n"
      ],
      "text/plain": [
       " [1]  TRUE FALSE  TRUE FALSE  TRUE FALSE FALSE  TRUE FALSE  TRUE"
      ]
     },
     "metadata": {},
     "output_type": "display_data"
    },
    {
     "data": {
      "text/html": [
       "5"
      ],
      "text/latex": [
       "5"
      ],
      "text/markdown": [
       "5"
      ],
      "text/plain": [
       "[1] 5"
      ]
     },
     "metadata": {},
     "output_type": "display_data"
    }
   ],
   "source": [
    "random.numbers <- rnorm(10)* 100;\n",
    "random.numbers\n",
    "\n",
    "random.numbers > 10\n",
    "# How many?\n",
    "sum(random.numbers>10)"
   ]
  },
  {
   "cell_type": "markdown",
   "metadata": {},
   "source": [
    "##### Exercise\n",
    "1. There are 5 students - a, b, c, d, e\n",
    "2. Their EPIB 607 scores are 80, 99, 55, 70, 84\n",
    "3. Their EPIB 613 scores are 85, 90, 62, 40, 88\n",
    "4. Scores are curved up by 10%\n",
    "5. Passing grade is 65%\n",
    "7. Assemble all of these information into a data frame, with columns indicating the course, score before curving, score after curving, pass/fail status. Each student will have two rows (one for each course)."
   ]
  },
  {
   "cell_type": "code",
   "execution_count": 86,
   "metadata": {},
   "outputs": [
    {
     "data": {
      "text/html": [
       "<table>\n",
       "<caption>A data.frame: 5 × 7</caption>\n",
       "<thead>\n",
       "\t<tr><th scope=col>students</th><th scope=col>scores.607</th><th scope=col>scores.613</th><th scope=col>Curved.607</th><th scope=col>Curved.613</th><th scope=col>Pass.607</th><th scope=col>Pass.613</th></tr>\n",
       "\t<tr><th scope=col>&lt;fct&gt;</th><th scope=col>&lt;dbl&gt;</th><th scope=col>&lt;dbl&gt;</th><th scope=col>&lt;dbl&gt;</th><th scope=col>&lt;dbl&gt;</th><th scope=col>&lt;lgl&gt;</th><th scope=col>&lt;lgl&gt;</th></tr>\n",
       "</thead>\n",
       "<tbody>\n",
       "\t<tr><td>a</td><td>80</td><td>85</td><td> 88.0</td><td>93.5</td><td> TRUE</td><td> TRUE</td></tr>\n",
       "\t<tr><td>b</td><td>99</td><td>90</td><td>108.9</td><td>99.0</td><td> TRUE</td><td> TRUE</td></tr>\n",
       "\t<tr><td>c</td><td>55</td><td>62</td><td> 60.5</td><td>68.2</td><td>FALSE</td><td> TRUE</td></tr>\n",
       "\t<tr><td>d</td><td>70</td><td>40</td><td> 77.0</td><td>44.0</td><td> TRUE</td><td>FALSE</td></tr>\n",
       "\t<tr><td>e</td><td>84</td><td>88</td><td> 92.4</td><td>96.8</td><td> TRUE</td><td> TRUE</td></tr>\n",
       "</tbody>\n",
       "</table>\n"
      ],
      "text/latex": [
       "A data.frame: 5 × 7\n",
       "\\begin{tabular}{r|lllllll}\n",
       " students & scores.607 & scores.613 & Curved.607 & Curved.613 & Pass.607 & Pass.613\\\\\n",
       " <fct> & <dbl> & <dbl> & <dbl> & <dbl> & <lgl> & <lgl>\\\\\n",
       "\\hline\n",
       "\t a & 80 & 85 &  88.0 & 93.5 &  TRUE &  TRUE\\\\\n",
       "\t b & 99 & 90 & 108.9 & 99.0 &  TRUE &  TRUE\\\\\n",
       "\t c & 55 & 62 &  60.5 & 68.2 & FALSE &  TRUE\\\\\n",
       "\t d & 70 & 40 &  77.0 & 44.0 &  TRUE & FALSE\\\\\n",
       "\t e & 84 & 88 &  92.4 & 96.8 &  TRUE &  TRUE\\\\\n",
       "\\end{tabular}\n"
      ],
      "text/markdown": [
       "\n",
       "A data.frame: 5 × 7\n",
       "\n",
       "| students &lt;fct&gt; | scores.607 &lt;dbl&gt; | scores.613 &lt;dbl&gt; | Curved.607 &lt;dbl&gt; | Curved.613 &lt;dbl&gt; | Pass.607 &lt;lgl&gt; | Pass.613 &lt;lgl&gt; |\n",
       "|---|---|---|---|---|---|---|\n",
       "| a | 80 | 85 |  88.0 | 93.5 |  TRUE |  TRUE |\n",
       "| b | 99 | 90 | 108.9 | 99.0 |  TRUE |  TRUE |\n",
       "| c | 55 | 62 |  60.5 | 68.2 | FALSE |  TRUE |\n",
       "| d | 70 | 40 |  77.0 | 44.0 |  TRUE | FALSE |\n",
       "| e | 84 | 88 |  92.4 | 96.8 |  TRUE |  TRUE |\n",
       "\n"
      ],
      "text/plain": [
       "  students scores.607 scores.613 Curved.607 Curved.613 Pass.607 Pass.613\n",
       "1 a        80         85          88.0      93.5        TRUE     TRUE   \n",
       "2 b        99         90         108.9      99.0        TRUE     TRUE   \n",
       "3 c        55         62          60.5      68.2       FALSE     TRUE   \n",
       "4 d        70         40          77.0      44.0        TRUE    FALSE   \n",
       "5 e        84         88          92.4      96.8        TRUE     TRUE   "
      ]
     },
     "metadata": {},
     "output_type": "display_data"
    }
   ],
   "source": [
    "students<- c('a','b','c','d','e')\n",
    "scores.607 <- c(80, 99, 55, 70, 84)\n",
    "scores.613 <-c(85, 90, 62, 40, 88)\n",
    "Curved.607 <-scores.607 *1.1\n",
    "Curved.613<-scores.613*1.1\n",
    "Pass.607<-c(T,T,F,T,T)\n",
    "Pass.613<-c(T,T,T,F,T)\n",
    "Df<-data.frame(students, scores.607, scores.613, Curved.607, Curved.613, Pass.607, Pass.613)\n",
    "Df"
   ]
  },
  {
   "cell_type": "code",
   "execution_count": 87,
   "metadata": {},
   "outputs": [
    {
     "data": {
      "text/html": [
       "<table>\n",
       "<caption>A data.frame: 10 × 5</caption>\n",
       "<thead>\n",
       "\t<tr><th scope=col>students</th><th scope=col>course</th><th scope=col>scores</th><th scope=col>curve</th><th scope=col>pass</th></tr>\n",
       "\t<tr><th scope=col>&lt;fct&gt;</th><th scope=col>&lt;fct&gt;</th><th scope=col>&lt;dbl&gt;</th><th scope=col>&lt;dbl&gt;</th><th scope=col>&lt;lgl&gt;</th></tr>\n",
       "</thead>\n",
       "<tbody>\n",
       "\t<tr><td>a</td><td>epib607</td><td>80</td><td> 88.0</td><td> TRUE</td></tr>\n",
       "\t<tr><td>b</td><td>epib607</td><td>99</td><td>108.9</td><td> TRUE</td></tr>\n",
       "\t<tr><td>c</td><td>epib607</td><td>55</td><td> 60.5</td><td>FALSE</td></tr>\n",
       "\t<tr><td>d</td><td>epib607</td><td>70</td><td> 77.0</td><td> TRUE</td></tr>\n",
       "\t<tr><td>e</td><td>epib607</td><td>84</td><td> 92.4</td><td> TRUE</td></tr>\n",
       "\t<tr><td>a</td><td>epib613</td><td>85</td><td> 93.5</td><td> TRUE</td></tr>\n",
       "\t<tr><td>b</td><td>epib613</td><td>90</td><td> 99.0</td><td> TRUE</td></tr>\n",
       "\t<tr><td>c</td><td>epib613</td><td>62</td><td> 68.2</td><td> TRUE</td></tr>\n",
       "\t<tr><td>d</td><td>epib613</td><td>40</td><td> 44.0</td><td>FALSE</td></tr>\n",
       "\t<tr><td>e</td><td>epib613</td><td>88</td><td> 96.8</td><td> TRUE</td></tr>\n",
       "</tbody>\n",
       "</table>\n"
      ],
      "text/latex": [
       "A data.frame: 10 × 5\n",
       "\\begin{tabular}{r|lllll}\n",
       " students & course & scores & curve & pass\\\\\n",
       " <fct> & <fct> & <dbl> & <dbl> & <lgl>\\\\\n",
       "\\hline\n",
       "\t a & epib607 & 80 &  88.0 &  TRUE\\\\\n",
       "\t b & epib607 & 99 & 108.9 &  TRUE\\\\\n",
       "\t c & epib607 & 55 &  60.5 & FALSE\\\\\n",
       "\t d & epib607 & 70 &  77.0 &  TRUE\\\\\n",
       "\t e & epib607 & 84 &  92.4 &  TRUE\\\\\n",
       "\t a & epib613 & 85 &  93.5 &  TRUE\\\\\n",
       "\t b & epib613 & 90 &  99.0 &  TRUE\\\\\n",
       "\t c & epib613 & 62 &  68.2 &  TRUE\\\\\n",
       "\t d & epib613 & 40 &  44.0 & FALSE\\\\\n",
       "\t e & epib613 & 88 &  96.8 &  TRUE\\\\\n",
       "\\end{tabular}\n"
      ],
      "text/markdown": [
       "\n",
       "A data.frame: 10 × 5\n",
       "\n",
       "| students &lt;fct&gt; | course &lt;fct&gt; | scores &lt;dbl&gt; | curve &lt;dbl&gt; | pass &lt;lgl&gt; |\n",
       "|---|---|---|---|---|\n",
       "| a | epib607 | 80 |  88.0 |  TRUE |\n",
       "| b | epib607 | 99 | 108.9 |  TRUE |\n",
       "| c | epib607 | 55 |  60.5 | FALSE |\n",
       "| d | epib607 | 70 |  77.0 |  TRUE |\n",
       "| e | epib607 | 84 |  92.4 |  TRUE |\n",
       "| a | epib613 | 85 |  93.5 |  TRUE |\n",
       "| b | epib613 | 90 |  99.0 |  TRUE |\n",
       "| c | epib613 | 62 |  68.2 |  TRUE |\n",
       "| d | epib613 | 40 |  44.0 | FALSE |\n",
       "| e | epib613 | 88 |  96.8 |  TRUE |\n",
       "\n"
      ],
      "text/plain": [
       "   students course  scores curve pass \n",
       "1  a        epib607 80      88.0  TRUE\n",
       "2  b        epib607 99     108.9  TRUE\n",
       "3  c        epib607 55      60.5 FALSE\n",
       "4  d        epib607 70      77.0  TRUE\n",
       "5  e        epib607 84      92.4  TRUE\n",
       "6  a        epib613 85      93.5  TRUE\n",
       "7  b        epib613 90      99.0  TRUE\n",
       "8  c        epib613 62      68.2  TRUE\n",
       "9  d        epib613 40      44.0 FALSE\n",
       "10 e        epib613 88      96.8  TRUE"
      ]
     },
     "metadata": {},
     "output_type": "display_data"
    }
   ],
   "source": [
    "students <- c(rep(letters[1:5], times = 2))\n",
    "scores <-  c(80, 99, 55, 70, 84, 85, 90, 62, 40, 88)\n",
    "course <- rep(c(\"epib607\", \"epib613\"), each = 5)\n",
    "curve <- scores*1.1\n",
    "pass <- curve >= 65 \n",
    "df <- data.frame(students, course, scores, curve, pass); df"
   ]
  },
  {
   "cell_type": "markdown",
   "metadata": {},
   "source": [
    "# <a id='l3'></a> [Lecture 3](#toc)\n"
   ]
  },
  {
   "cell_type": "markdown",
   "metadata": {},
   "source": [
    "## 3.1 Indexing\n",
    "\n",
    "The very basics for data management and manipulation\n",
    "- Subsetting\n",
    "- Sampling\n",
    "- Sorting\n",
    "- Merging\n",
    "- Substitution\n",
    "- ...\n",
    "\n",
    "<b style=\"color:red;\">Key Operators are \"[ ]\" and \"$\"</b>\n",
    "\n",
    "<b style=\"color:red;\">Can use integer, logical, character, factor, ...</b>\n",
    "\n",
    "###### Recall object classes:\n",
    "- Vector\n",
    "- Matrix\n",
    "- Array\n",
    "- Data frame\n",
    "- List\n",
    "- (Factor)\n",
    "\n",
    "### 3.1.1 Index a vector\n",
    "##### Use integers"
   ]
  },
  {
   "cell_type": "code",
   "execution_count": 88,
   "metadata": {
    "scrolled": false
   },
   "outputs": [
    {
     "data": {
      "text/html": [
       "<ol class=list-inline>\n",
       "\t<li>6</li>\n",
       "\t<li>13</li>\n",
       "\t<li>20</li>\n",
       "\t<li>2</li>\n",
       "\t<li>0</li>\n",
       "</ol>\n"
      ],
      "text/latex": [
       "\\begin{enumerate*}\n",
       "\\item 6\n",
       "\\item 13\n",
       "\\item 20\n",
       "\\item 2\n",
       "\\item 0\n",
       "\\end{enumerate*}\n"
      ],
      "text/markdown": [
       "1. 6\n",
       "2. 13\n",
       "3. 20\n",
       "4. 2\n",
       "5. 0\n",
       "\n",
       "\n"
      ],
      "text/plain": [
       "[1]  6 13 20  2  0"
      ]
     },
     "metadata": {},
     "output_type": "display_data"
    }
   ],
   "source": [
    "########## Lecture 3 ##########\n",
    "vector <- c(6, 13, 20, 2, 0)\n",
    "vector"
   ]
  },
  {
   "cell_type": "code",
   "execution_count": 89,
   "metadata": {},
   "outputs": [
    {
     "data": {
      "text/html": [
       "13"
      ],
      "text/latex": [
       "13"
      ],
      "text/markdown": [
       "13"
      ],
      "text/plain": [
       "[1] 13"
      ]
     },
     "metadata": {},
     "output_type": "display_data"
    }
   ],
   "source": [
    "# Pick the 2nd\n",
    "vector[2]"
   ]
  },
  {
   "cell_type": "code",
   "execution_count": 90,
   "metadata": {
    "scrolled": true
   },
   "outputs": [
    {
     "data": {
      "text/html": [
       "<ol class=list-inline>\n",
       "\t<li>13</li>\n",
       "\t<li>20</li>\n",
       "\t<li>2</li>\n",
       "</ol>\n"
      ],
      "text/latex": [
       "\\begin{enumerate*}\n",
       "\\item 13\n",
       "\\item 20\n",
       "\\item 2\n",
       "\\end{enumerate*}\n"
      ],
      "text/markdown": [
       "1. 13\n",
       "2. 20\n",
       "3. 2\n",
       "\n",
       "\n"
      ],
      "text/plain": [
       "[1] 13 20  2"
      ]
     },
     "metadata": {},
     "output_type": "display_data"
    }
   ],
   "source": [
    "# Pick 2nd - 4th\n",
    "vector[2:4]"
   ]
  },
  {
   "cell_type": "code",
   "execution_count": 91,
   "metadata": {
    "scrolled": true
   },
   "outputs": [
    {
     "data": {
      "text/html": [
       "<ol class=list-inline>\n",
       "\t<li>6</li>\n",
       "\t<li>20</li>\n",
       "\t<li>0</li>\n",
       "</ol>\n"
      ],
      "text/latex": [
       "\\begin{enumerate*}\n",
       "\\item 6\n",
       "\\item 20\n",
       "\\item 0\n",
       "\\end{enumerate*}\n"
      ],
      "text/markdown": [
       "1. 6\n",
       "2. 20\n",
       "3. 0\n",
       "\n",
       "\n"
      ],
      "text/plain": [
       "[1]  6 20  0"
      ]
     },
     "metadata": {},
     "output_type": "display_data"
    }
   ],
   "source": [
    "# Pick no. 1, 3, 5\n",
    "vector[c(1, 3, 5)]"
   ]
  },
  {
   "cell_type": "code",
   "execution_count": 92,
   "metadata": {},
   "outputs": [
    {
     "data": {
      "text/html": [
       "<ol class=list-inline>\n",
       "\t<li>6</li>\n",
       "\t<li>20</li>\n",
       "\t<li>0</li>\n",
       "</ol>\n"
      ],
      "text/latex": [
       "\\begin{enumerate*}\n",
       "\\item 6\n",
       "\\item 20\n",
       "\\item 0\n",
       "\\end{enumerate*}\n"
      ],
      "text/markdown": [
       "1. 6\n",
       "2. 20\n",
       "3. 0\n",
       "\n",
       "\n"
      ],
      "text/plain": [
       "[1]  6 20  0"
      ]
     },
     "metadata": {},
     "output_type": "display_data"
    }
   ],
   "source": [
    "# Code like a pro\n",
    "# This good practice makes it clearer for revisits and/or edits\n",
    "# Reproducibility!\n",
    "\n",
    "# Pick no. 1, 3, 5\n",
    "index.integer <- c(1, 3, 5)\n",
    "vector[index.integer]"
   ]
  },
  {
   "cell_type": "code",
   "execution_count": 93,
   "metadata": {},
   "outputs": [
    {
     "data": {
      "text/html": [
       "<ol class=list-inline>\n",
       "\t<li>0</li>\n",
       "\t<li>2</li>\n",
       "\t<li>20</li>\n",
       "\t<li>13</li>\n",
       "\t<li>6</li>\n",
       "</ol>\n"
      ],
      "text/latex": [
       "\\begin{enumerate*}\n",
       "\\item 0\n",
       "\\item 2\n",
       "\\item 20\n",
       "\\item 13\n",
       "\\item 6\n",
       "\\end{enumerate*}\n"
      ],
      "text/markdown": [
       "1. 0\n",
       "2. 2\n",
       "3. 20\n",
       "4. 13\n",
       "5. 6\n",
       "\n",
       "\n"
      ],
      "text/plain": [
       "[1]  0  2 20 13  6"
      ]
     },
     "metadata": {},
     "output_type": "display_data"
    }
   ],
   "source": [
    "# Re-order\n",
    "vector[c(5,4,3,2,1)]"
   ]
  },
  {
   "cell_type": "code",
   "execution_count": 94,
   "metadata": {},
   "outputs": [
    {
     "data": {
      "text/html": [
       "<ol class=list-inline>\n",
       "\t<li>6</li>\n",
       "\t<li>13</li>\n",
       "\t<li>20</li>\n",
       "\t<li>2</li>\n",
       "\t<li>0</li>\n",
       "</ol>\n"
      ],
      "text/latex": [
       "\\begin{enumerate*}\n",
       "\\item 6\n",
       "\\item 13\n",
       "\\item 20\n",
       "\\item 2\n",
       "\\item 0\n",
       "\\end{enumerate*}\n"
      ],
      "text/markdown": [
       "1. 6\n",
       "2. 13\n",
       "3. 20\n",
       "4. 2\n",
       "5. 0\n",
       "\n",
       "\n"
      ],
      "text/plain": [
       "[1]  6 13 20  2  0"
      ]
     },
     "metadata": {},
     "output_type": "display_data"
    }
   ],
   "source": [
    "vector"
   ]
  },
  {
   "cell_type": "code",
   "execution_count": 95,
   "metadata": {},
   "outputs": [
    {
     "data": {
      "text/html": [
       "<ol class=list-inline>\n",
       "\t<li>5</li>\n",
       "\t<li>4</li>\n",
       "\t<li>1</li>\n",
       "\t<li>2</li>\n",
       "\t<li>3</li>\n",
       "</ol>\n"
      ],
      "text/latex": [
       "\\begin{enumerate*}\n",
       "\\item 5\n",
       "\\item 4\n",
       "\\item 1\n",
       "\\item 2\n",
       "\\item 3\n",
       "\\end{enumerate*}\n"
      ],
      "text/markdown": [
       "1. 5\n",
       "2. 4\n",
       "3. 1\n",
       "4. 2\n",
       "5. 3\n",
       "\n",
       "\n"
      ],
      "text/plain": [
       "[1] 5 4 1 2 3"
      ]
     },
     "metadata": {},
     "output_type": "display_data"
    }
   ],
   "source": [
    "order.index <- order(vector, decreasing = F)\n",
    "order.index"
   ]
  },
  {
   "cell_type": "code",
   "execution_count": 96,
   "metadata": {},
   "outputs": [
    {
     "data": {
      "text/html": [
       "<ol class=list-inline>\n",
       "\t<li>0</li>\n",
       "\t<li>2</li>\n",
       "\t<li>6</li>\n",
       "\t<li>13</li>\n",
       "\t<li>20</li>\n",
       "</ol>\n"
      ],
      "text/latex": [
       "\\begin{enumerate*}\n",
       "\\item 0\n",
       "\\item 2\n",
       "\\item 6\n",
       "\\item 13\n",
       "\\item 20\n",
       "\\end{enumerate*}\n"
      ],
      "text/markdown": [
       "1. 0\n",
       "2. 2\n",
       "3. 6\n",
       "4. 13\n",
       "5. 20\n",
       "\n",
       "\n"
      ],
      "text/plain": [
       "[1]  0  2  6 13 20"
      ]
     },
     "metadata": {},
     "output_type": "display_data"
    }
   ],
   "source": [
    "vector[order.index]"
   ]
  },
  {
   "cell_type": "code",
   "execution_count": 97,
   "metadata": {
    "scrolled": true
   },
   "outputs": [
    {
     "data": {
      "text/html": [
       "<ol class=list-inline>\n",
       "\t<li>6</li>\n",
       "\t<li>20</li>\n",
       "\t<li>0</li>\n",
       "</ol>\n"
      ],
      "text/latex": [
       "\\begin{enumerate*}\n",
       "\\item 6\n",
       "\\item 20\n",
       "\\item 0\n",
       "\\end{enumerate*}\n"
      ],
      "text/markdown": [
       "1. 6\n",
       "2. 20\n",
       "3. 0\n",
       "\n",
       "\n"
      ],
      "text/plain": [
       "[1]  6 20  0"
      ]
     },
     "metadata": {},
     "output_type": "display_data"
    }
   ],
   "source": [
    "# delete the 2nd and 4th - equivalent to keeping the rest\n",
    "vector[-c(2,4)]"
   ]
  },
  {
   "cell_type": "code",
   "execution_count": 98,
   "metadata": {},
   "outputs": [
    {
     "data": {
      "text/html": [
       "<ol class=list-inline>\n",
       "\t<li>6</li>\n",
       "\t<li>13</li>\n",
       "\t<li>20</li>\n",
       "\t<li>2</li>\n",
       "\t<li>1</li>\n",
       "</ol>\n"
      ],
      "text/latex": [
       "\\begin{enumerate*}\n",
       "\\item 6\n",
       "\\item 13\n",
       "\\item 20\n",
       "\\item 2\n",
       "\\item 1\n",
       "\\end{enumerate*}\n"
      ],
      "text/markdown": [
       "1. 6\n",
       "2. 13\n",
       "3. 20\n",
       "4. 2\n",
       "5. 1\n",
       "\n",
       "\n"
      ],
      "text/plain": [
       "[1]  6 13 20  2  1"
      ]
     },
     "metadata": {},
     "output_type": "display_data"
    }
   ],
   "source": [
    "# change the value of the 5th\n",
    "vector.new <- vector\n",
    "vector.new[5] <- 1\n",
    "vector.new"
   ]
  },
  {
   "cell_type": "markdown",
   "metadata": {},
   "source": [
    "##### Use logicals\n",
    "Generally used together with logical operators"
   ]
  },
  {
   "cell_type": "code",
   "execution_count": 99,
   "metadata": {
    "scrolled": true
   },
   "outputs": [
    {
     "data": {
      "text/html": [
       "<ol class=list-inline>\n",
       "\t<li>6</li>\n",
       "\t<li>20</li>\n",
       "\t<li>0</li>\n",
       "</ol>\n"
      ],
      "text/latex": [
       "\\begin{enumerate*}\n",
       "\\item 6\n",
       "\\item 20\n",
       "\\item 0\n",
       "\\end{enumerate*}\n"
      ],
      "text/markdown": [
       "1. 6\n",
       "2. 20\n",
       "3. 0\n",
       "\n",
       "\n"
      ],
      "text/plain": [
       "[1]  6 20  0"
      ]
     },
     "metadata": {},
     "output_type": "display_data"
    }
   ],
   "source": [
    "# Note that the logical index has to have the same dimension as the object\n",
    "index.logical <- c(T, F, T, F, T)\n",
    "vector[index.logical]"
   ]
  },
  {
   "cell_type": "code",
   "execution_count": 100,
   "metadata": {
    "scrolled": true
   },
   "outputs": [
    {
     "data": {
      "text/html": [
       "<ol class=list-inline>\n",
       "\t<li>6</li>\n",
       "\t<li>13</li>\n",
       "\t<li>20</li>\n",
       "</ol>\n"
      ],
      "text/latex": [
       "\\begin{enumerate*}\n",
       "\\item 6\n",
       "\\item 13\n",
       "\\item 20\n",
       "\\end{enumerate*}\n"
      ],
      "text/markdown": [
       "1. 6\n",
       "2. 13\n",
       "3. 20\n",
       "\n",
       "\n"
      ],
      "text/plain": [
       "[1]  6 13 20"
      ]
     },
     "metadata": {},
     "output_type": "display_data"
    }
   ],
   "source": [
    "# Usually we don't manually type T's and F's\n",
    "vector[vector>4]"
   ]
  },
  {
   "cell_type": "code",
   "execution_count": 101,
   "metadata": {},
   "outputs": [
    {
     "data": {
      "text/html": [
       "<ol class=list-inline>\n",
       "\t<li>TRUE</li>\n",
       "\t<li>TRUE</li>\n",
       "\t<li>TRUE</li>\n",
       "\t<li>FALSE</li>\n",
       "\t<li>FALSE</li>\n",
       "</ol>\n"
      ],
      "text/latex": [
       "\\begin{enumerate*}\n",
       "\\item TRUE\n",
       "\\item TRUE\n",
       "\\item TRUE\n",
       "\\item FALSE\n",
       "\\item FALSE\n",
       "\\end{enumerate*}\n"
      ],
      "text/markdown": [
       "1. TRUE\n",
       "2. TRUE\n",
       "3. TRUE\n",
       "4. FALSE\n",
       "5. FALSE\n",
       "\n",
       "\n"
      ],
      "text/plain": [
       "[1]  TRUE  TRUE  TRUE FALSE FALSE"
      ]
     },
     "metadata": {},
     "output_type": "display_data"
    }
   ],
   "source": [
    "# How does it work?\n",
    "vector>4"
   ]
  },
  {
   "cell_type": "markdown",
   "metadata": {},
   "source": [
    "###### Use characters"
   ]
  },
  {
   "cell_type": "code",
   "execution_count": 102,
   "metadata": {},
   "outputs": [
    {
     "data": {
      "text/html": [
       "<dl class=dl-horizontal>\n",
       "\t<dt>course level</dt>\n",
       "\t\t<dd>6</dd>\n",
       "\t<dt>course code</dt>\n",
       "\t\t<dd>13</dd>\n",
       "\t<dt>century</dt>\n",
       "\t\t<dd>20</dd>\n",
       "\t<dt>decade</dt>\n",
       "\t\t<dd>2</dd>\n",
       "\t<dt>year</dt>\n",
       "\t\t<dd>0</dd>\n",
       "</dl>\n"
      ],
      "text/latex": [
       "\\begin{description*}\n",
       "\\item[course level] 6\n",
       "\\item[course code] 13\n",
       "\\item[century] 20\n",
       "\\item[decade] 2\n",
       "\\item[year] 0\n",
       "\\end{description*}\n"
      ],
      "text/markdown": [
       "course level\n",
       ":   6course code\n",
       ":   13century\n",
       ":   20decade\n",
       ":   2year\n",
       ":   0\n",
       "\n"
      ],
      "text/plain": [
       "course level  course code      century       decade         year \n",
       "           6           13           20            2            0 "
      ]
     },
     "metadata": {},
     "output_type": "display_data"
    }
   ],
   "source": [
    "# Recall that we could give names to vector entries\n",
    "names(vector) <- c(\"course level\", \"course code\", \"century\", \"decade\", \"year\"); vector"
   ]
  },
  {
   "cell_type": "code",
   "execution_count": 103,
   "metadata": {},
   "outputs": [
    {
     "data": {
      "text/html": [
       "<strong>century:</strong> 20"
      ],
      "text/latex": [
       "\\textbf{century:} 20"
      ],
      "text/markdown": [
       "**century:** 20"
      ],
      "text/plain": [
       "century \n",
       "     20 "
      ]
     },
     "metadata": {},
     "output_type": "display_data"
    }
   ],
   "source": [
    "vector[\"century\"]"
   ]
  },
  {
   "cell_type": "code",
   "execution_count": 104,
   "metadata": {},
   "outputs": [
    {
     "data": {
      "text/html": [
       "<dl class=dl-horizontal>\n",
       "\t<dt>course level</dt>\n",
       "\t\t<dd>6</dd>\n",
       "\t<dt>course code</dt>\n",
       "\t\t<dd>13</dd>\n",
       "</dl>\n"
      ],
      "text/latex": [
       "\\begin{description*}\n",
       "\\item[course level] 6\n",
       "\\item[course code] 13\n",
       "\\end{description*}\n"
      ],
      "text/markdown": [
       "course level\n",
       ":   6course code\n",
       ":   13\n",
       "\n"
      ],
      "text/plain": [
       "course level  course code \n",
       "           6           13 "
      ]
     },
     "metadata": {},
     "output_type": "display_data"
    }
   ],
   "source": [
    "index.character <- c(\"course level\", \"course code\")\n",
    "vector[index.character]"
   ]
  },
  {
   "cell_type": "code",
   "execution_count": 105,
   "metadata": {},
   "outputs": [
    {
     "data": {
      "text/html": [
       "<dl class=dl-horizontal>\n",
       "\t<dt>century</dt>\n",
       "\t\t<dd>20</dd>\n",
       "\t<dt>century</dt>\n",
       "\t\t<dd>20</dd>\n",
       "\t<dt>century</dt>\n",
       "\t\t<dd>20</dd>\n",
       "</dl>\n"
      ],
      "text/latex": [
       "\\begin{description*}\n",
       "\\item[century] 20\n",
       "\\item[century] 20\n",
       "\\item[century] 20\n",
       "\\end{description*}\n"
      ],
      "text/markdown": [
       "century\n",
       ":   20century\n",
       ":   20century\n",
       ":   20\n",
       "\n"
      ],
      "text/plain": [
       "century century century \n",
       "     20      20      20 "
      ]
     },
     "metadata": {},
     "output_type": "display_data"
    }
   ],
   "source": [
    "vector[rep(\"century\", 3)]"
   ]
  },
  {
   "cell_type": "markdown",
   "metadata": {},
   "source": [
    "### 3.1.2 Index a matrix\n",
    "\n",
    "##### Now we have more than 1 dimensions. Use \",\" to separate dimensions.\n",
    "- 1st dimension: row\n",
    "- 2nd dimension: column\n",
    "- 3rd ..."
   ]
  },
  {
   "cell_type": "code",
   "execution_count": 106,
   "metadata": {
    "scrolled": true
   },
   "outputs": [
    {
     "name": "stdout",
     "output_type": "stream",
     "text": [
      "     [,1] [,2] [,3]\n",
      "[1,]    3    4    5\n",
      "[2,]    6    7    8\n",
      "[3,]    9   10   11\n",
      "[4,]   12   13   14\n"
     ]
    }
   ],
   "source": [
    "matrix <- matrix(c(3:14), nrow = 4, byrow = TRUE)\n",
    "print(matrix)\n",
    "# Note that the indices are given."
   ]
  },
  {
   "cell_type": "code",
   "execution_count": 107,
   "metadata": {
    "scrolled": true
   },
   "outputs": [
    {
     "data": {
      "text/html": [
       "8"
      ],
      "text/latex": [
       "8"
      ],
      "text/markdown": [
       "8"
      ],
      "text/plain": [
       "[1] 8"
      ]
     },
     "metadata": {},
     "output_type": "display_data"
    }
   ],
   "source": [
    "# The entry on the 2nd row 3rd column\n",
    "matrix[2, 3]"
   ]
  },
  {
   "cell_type": "code",
   "execution_count": 108,
   "metadata": {},
   "outputs": [
    {
     "data": {
      "text/html": [
       "<ol class=list-inline>\n",
       "\t<li>6</li>\n",
       "\t<li>7</li>\n",
       "\t<li>8</li>\n",
       "</ol>\n"
      ],
      "text/latex": [
       "\\begin{enumerate*}\n",
       "\\item 6\n",
       "\\item 7\n",
       "\\item 8\n",
       "\\end{enumerate*}\n"
      ],
      "text/markdown": [
       "1. 6\n",
       "2. 7\n",
       "3. 8\n",
       "\n",
       "\n"
      ],
      "text/plain": [
       "[1] 6 7 8"
      ]
     },
     "metadata": {},
     "output_type": "display_data"
    }
   ],
   "source": [
    "# The 2nd row\n",
    "matrix[2, ]"
   ]
  },
  {
   "cell_type": "code",
   "execution_count": 109,
   "metadata": {
    "scrolled": true
   },
   "outputs": [
    {
     "data": {
      "text/html": [
       "<table>\n",
       "<caption>A matrix: 4 × 2 of type int</caption>\n",
       "<tbody>\n",
       "\t<tr><td> 3</td><td> 5</td></tr>\n",
       "\t<tr><td> 6</td><td> 8</td></tr>\n",
       "\t<tr><td> 9</td><td>11</td></tr>\n",
       "\t<tr><td>12</td><td>14</td></tr>\n",
       "</tbody>\n",
       "</table>\n"
      ],
      "text/latex": [
       "A matrix: 4 × 2 of type int\n",
       "\\begin{tabular}{ll}\n",
       "\t  3 &  5\\\\\n",
       "\t  6 &  8\\\\\n",
       "\t  9 & 11\\\\\n",
       "\t 12 & 14\\\\\n",
       "\\end{tabular}\n"
      ],
      "text/markdown": [
       "\n",
       "A matrix: 4 × 2 of type int\n",
       "\n",
       "|  3 |  5 |\n",
       "|  6 |  8 |\n",
       "|  9 | 11 |\n",
       "| 12 | 14 |\n",
       "\n"
      ],
      "text/plain": [
       "     [,1] [,2]\n",
       "[1,]  3    5  \n",
       "[2,]  6    8  \n",
       "[3,]  9   11  \n",
       "[4,] 12   14  "
      ]
     },
     "metadata": {},
     "output_type": "display_data"
    }
   ],
   "source": [
    "# The 1st and 3rd column\n",
    "matrix[ , c(1, 3)]"
   ]
  },
  {
   "cell_type": "code",
   "execution_count": 110,
   "metadata": {},
   "outputs": [
    {
     "data": {
      "text/html": [
       "<table>\n",
       "<caption>A matrix: 4 × 2 of type int</caption>\n",
       "<tbody>\n",
       "\t<tr><td> 5</td><td> 3</td></tr>\n",
       "\t<tr><td> 8</td><td> 6</td></tr>\n",
       "\t<tr><td>11</td><td> 9</td></tr>\n",
       "\t<tr><td>14</td><td>12</td></tr>\n",
       "</tbody>\n",
       "</table>\n"
      ],
      "text/latex": [
       "A matrix: 4 × 2 of type int\n",
       "\\begin{tabular}{ll}\n",
       "\t  5 &  3\\\\\n",
       "\t  8 &  6\\\\\n",
       "\t 11 &  9\\\\\n",
       "\t 14 & 12\\\\\n",
       "\\end{tabular}\n"
      ],
      "text/markdown": [
       "\n",
       "A matrix: 4 × 2 of type int\n",
       "\n",
       "|  5 |  3 |\n",
       "|  8 |  6 |\n",
       "| 11 |  9 |\n",
       "| 14 | 12 |\n",
       "\n"
      ],
      "text/plain": [
       "     [,1] [,2]\n",
       "[1,]  5    3  \n",
       "[2,]  8    6  \n",
       "[3,] 11    9  \n",
       "[4,] 14   12  "
      ]
     },
     "metadata": {},
     "output_type": "display_data"
    }
   ],
   "source": [
    "# Change the order of columns. \n",
    "matrix[ , c(3, 1)]"
   ]
  },
  {
   "cell_type": "markdown",
   "metadata": {},
   "source": [
    "##### Exercise"
   ]
  },
  {
   "cell_type": "code",
   "execution_count": 111,
   "metadata": {},
   "outputs": [
    {
     "data": {
      "text/html": [
       "<table>\n",
       "<caption>A matrix: 2 × 2 of type int</caption>\n",
       "<tbody>\n",
       "\t<tr><td> 6</td><td> 7</td></tr>\n",
       "\t<tr><td>12</td><td>13</td></tr>\n",
       "</tbody>\n",
       "</table>\n"
      ],
      "text/latex": [
       "A matrix: 2 × 2 of type int\n",
       "\\begin{tabular}{ll}\n",
       "\t  6 &  7\\\\\n",
       "\t 12 & 13\\\\\n",
       "\\end{tabular}\n"
      ],
      "text/markdown": [
       "\n",
       "A matrix: 2 × 2 of type int\n",
       "\n",
       "|  6 |  7 |\n",
       "| 12 | 13 |\n",
       "\n"
      ],
      "text/plain": [
       "     [,1] [,2]\n",
       "[1,]  6    7  \n",
       "[2,] 12   13  "
      ]
     },
     "metadata": {},
     "output_type": "display_data"
    }
   ],
   "source": [
    "# Column 1 and 2, row 2 and 4\n",
    "matrix[c(2,4), c(1,2)]"
   ]
  },
  {
   "cell_type": "code",
   "execution_count": 112,
   "metadata": {},
   "outputs": [
    {
     "data": {
      "text/html": [
       "<table>\n",
       "<caption>A matrix: 3 × 3 of type int</caption>\n",
       "<tbody>\n",
       "\t<tr><td> 3</td><td> 4</td><td> 5</td></tr>\n",
       "\t<tr><td> 6</td><td> 7</td><td> 8</td></tr>\n",
       "\t<tr><td>12</td><td>13</td><td>14</td></tr>\n",
       "</tbody>\n",
       "</table>\n"
      ],
      "text/latex": [
       "A matrix: 3 × 3 of type int\n",
       "\\begin{tabular}{lll}\n",
       "\t  3 &  4 &  5\\\\\n",
       "\t  6 &  7 &  8\\\\\n",
       "\t 12 & 13 & 14\\\\\n",
       "\\end{tabular}\n"
      ],
      "text/markdown": [
       "\n",
       "A matrix: 3 × 3 of type int\n",
       "\n",
       "|  3 |  4 |  5 |\n",
       "|  6 |  7 |  8 |\n",
       "| 12 | 13 | 14 |\n",
       "\n"
      ],
      "text/plain": [
       "     [,1] [,2] [,3]\n",
       "[1,]  3    4    5  \n",
       "[2,]  6    7    8  \n",
       "[3,] 12   13   14  "
      ]
     },
     "metadata": {},
     "output_type": "display_data"
    }
   ],
   "source": [
    "# Delete the 3rd row\n",
    "matrix[-3, ]"
   ]
  },
  {
   "cell_type": "markdown",
   "metadata": {},
   "source": [
    "Do you feel like using the logical indices for matrices?"
   ]
  },
  {
   "cell_type": "markdown",
   "metadata": {},
   "source": [
    "###### Use the names"
   ]
  },
  {
   "cell_type": "code",
   "execution_count": 113,
   "metadata": {},
   "outputs": [
    {
     "data": {
      "text/plain": [
       "NULL"
      ]
     },
     "metadata": {},
     "output_type": "display_data"
    },
    {
     "data": {
      "text/plain": [
       "NULL"
      ]
     },
     "metadata": {},
     "output_type": "display_data"
    }
   ],
   "source": [
    "rownames(matrix)\n",
    "colnames(matrix)"
   ]
  },
  {
   "cell_type": "code",
   "execution_count": 114,
   "metadata": {},
   "outputs": [
    {
     "data": {
      "text/html": [
       "<table>\n",
       "<caption>A matrix: 4 × 3 of type int</caption>\n",
       "<thead>\n",
       "\t<tr><th></th><th scope=col>col1</th><th scope=col>col2</th><th scope=col>col3</th></tr>\n",
       "</thead>\n",
       "<tbody>\n",
       "\t<tr><th scope=row>row1</th><td> 3</td><td> 4</td><td> 5</td></tr>\n",
       "\t<tr><th scope=row>row2</th><td> 6</td><td> 7</td><td> 8</td></tr>\n",
       "\t<tr><th scope=row>row3</th><td> 9</td><td>10</td><td>11</td></tr>\n",
       "\t<tr><th scope=row>row4</th><td>12</td><td>13</td><td>14</td></tr>\n",
       "</tbody>\n",
       "</table>\n"
      ],
      "text/latex": [
       "A matrix: 4 × 3 of type int\n",
       "\\begin{tabular}{r|lll}\n",
       "  & col1 & col2 & col3\\\\\n",
       "\\hline\n",
       "\trow1 &  3 &  4 &  5\\\\\n",
       "\trow2 &  6 &  7 &  8\\\\\n",
       "\trow3 &  9 & 10 & 11\\\\\n",
       "\trow4 & 12 & 13 & 14\\\\\n",
       "\\end{tabular}\n"
      ],
      "text/markdown": [
       "\n",
       "A matrix: 4 × 3 of type int\n",
       "\n",
       "| <!--/--> | col1 | col2 | col3 |\n",
       "|---|---|---|---|\n",
       "| row1 |  3 |  4 |  5 |\n",
       "| row2 |  6 |  7 |  8 |\n",
       "| row3 |  9 | 10 | 11 |\n",
       "| row4 | 12 | 13 | 14 |\n",
       "\n"
      ],
      "text/plain": [
       "     col1 col2 col3\n",
       "row1  3    4    5  \n",
       "row2  6    7    8  \n",
       "row3  9   10   11  \n",
       "row4 12   13   14  "
      ]
     },
     "metadata": {},
     "output_type": "display_data"
    }
   ],
   "source": [
    "# Recall that we could give names to columns and rows\n",
    "\n",
    "row.names <- c(\"row1\", \"row2\", \"row3\", \"row4\")\n",
    "col.names <- c(\"col1\", \"col2\", \"col3\")\n",
    "rownames(matrix) <- row.names\n",
    "colnames(matrix) <- col.names\n",
    "matrix"
   ]
  },
  {
   "cell_type": "code",
   "execution_count": 115,
   "metadata": {},
   "outputs": [
    {
     "data": {
      "text/html": [
       "<ol class=list-inline>\n",
       "\t<li>'row1'</li>\n",
       "\t<li>'row2'</li>\n",
       "\t<li>'row3'</li>\n",
       "\t<li>'row4'</li>\n",
       "</ol>\n"
      ],
      "text/latex": [
       "\\begin{enumerate*}\n",
       "\\item 'row1'\n",
       "\\item 'row2'\n",
       "\\item 'row3'\n",
       "\\item 'row4'\n",
       "\\end{enumerate*}\n"
      ],
      "text/markdown": [
       "1. 'row1'\n",
       "2. 'row2'\n",
       "3. 'row3'\n",
       "4. 'row4'\n",
       "\n",
       "\n"
      ],
      "text/plain": [
       "[1] \"row1\" \"row2\" \"row3\" \"row4\""
      ]
     },
     "metadata": {},
     "output_type": "display_data"
    },
    {
     "data": {
      "text/html": [
       "<ol class=list-inline>\n",
       "\t<li>'col1'</li>\n",
       "\t<li>'col2'</li>\n",
       "\t<li>'col3'</li>\n",
       "</ol>\n"
      ],
      "text/latex": [
       "\\begin{enumerate*}\n",
       "\\item 'col1'\n",
       "\\item 'col2'\n",
       "\\item 'col3'\n",
       "\\end{enumerate*}\n"
      ],
      "text/markdown": [
       "1. 'col1'\n",
       "2. 'col2'\n",
       "3. 'col3'\n",
       "\n",
       "\n"
      ],
      "text/plain": [
       "[1] \"col1\" \"col2\" \"col3\""
      ]
     },
     "metadata": {},
     "output_type": "display_data"
    }
   ],
   "source": [
    "rownames(matrix)\n",
    "colnames(matrix)"
   ]
  },
  {
   "cell_type": "code",
   "execution_count": 116,
   "metadata": {},
   "outputs": [
    {
     "data": {
      "text/html": [
       "<table>\n",
       "<caption>A matrix: 4 × 3 of type int</caption>\n",
       "<thead>\n",
       "\t<tr><th></th><th scope=col>col1</th><th scope=col>col2</th><th scope=col>col3</th></tr>\n",
       "</thead>\n",
       "<tbody>\n",
       "\t<tr><th scope=row>row1</th><td>1</td><td>5</td><td> 9</td></tr>\n",
       "\t<tr><th scope=row>row2</th><td>2</td><td>6</td><td>10</td></tr>\n",
       "\t<tr><th scope=row>row3</th><td>3</td><td>7</td><td>11</td></tr>\n",
       "\t<tr><th scope=row>row4</th><td>4</td><td>8</td><td>12</td></tr>\n",
       "</tbody>\n",
       "</table>\n"
      ],
      "text/latex": [
       "A matrix: 4 × 3 of type int\n",
       "\\begin{tabular}{r|lll}\n",
       "  & col1 & col2 & col3\\\\\n",
       "\\hline\n",
       "\trow1 & 1 & 5 &  9\\\\\n",
       "\trow2 & 2 & 6 & 10\\\\\n",
       "\trow3 & 3 & 7 & 11\\\\\n",
       "\trow4 & 4 & 8 & 12\\\\\n",
       "\\end{tabular}\n"
      ],
      "text/markdown": [
       "\n",
       "A matrix: 4 × 3 of type int\n",
       "\n",
       "| <!--/--> | col1 | col2 | col3 |\n",
       "|---|---|---|---|\n",
       "| row1 | 1 | 5 |  9 |\n",
       "| row2 | 2 | 6 | 10 |\n",
       "| row3 | 3 | 7 | 11 |\n",
       "| row4 | 4 | 8 | 12 |\n",
       "\n"
      ],
      "text/plain": [
       "     col1 col2 col3\n",
       "row1 1    5     9  \n",
       "row2 2    6    10  \n",
       "row3 3    7    11  \n",
       "row4 4    8    12  "
      ]
     },
     "metadata": {},
     "output_type": "display_data"
    }
   ],
   "source": [
    "matrix(1:12, nrow = 4, dimnames = list(row.names, col.names))"
   ]
  },
  {
   "cell_type": "code",
   "execution_count": 117,
   "metadata": {},
   "outputs": [
    {
     "data": {
      "text/html": [
       "<dl class=dl-horizontal>\n",
       "\t<dt>col1</dt>\n",
       "\t\t<dd>3</dd>\n",
       "\t<dt>col2</dt>\n",
       "\t\t<dd>4</dd>\n",
       "\t<dt>col3</dt>\n",
       "\t\t<dd>5</dd>\n",
       "</dl>\n"
      ],
      "text/latex": [
       "\\begin{description*}\n",
       "\\item[col1] 3\n",
       "\\item[col2] 4\n",
       "\\item[col3] 5\n",
       "\\end{description*}\n"
      ],
      "text/markdown": [
       "col1\n",
       ":   3col2\n",
       ":   4col3\n",
       ":   5\n",
       "\n"
      ],
      "text/plain": [
       "col1 col2 col3 \n",
       "   3    4    5 "
      ]
     },
     "metadata": {},
     "output_type": "display_data"
    }
   ],
   "source": [
    "matrix[\"row1\", ]\n",
    "# The output is a named vector as a result of dimension reduction"
   ]
  },
  {
   "cell_type": "code",
   "execution_count": 118,
   "metadata": {},
   "outputs": [
    {
     "data": {
      "text/html": [
       "8"
      ],
      "text/latex": [
       "8"
      ],
      "text/markdown": [
       "8"
      ],
      "text/plain": [
       "[1] 8"
      ]
     },
     "metadata": {},
     "output_type": "display_data"
    }
   ],
   "source": [
    "matrix[\"row2\", \"col3\"]"
   ]
  },
  {
   "cell_type": "markdown",
   "metadata": {},
   "source": [
    "### 3.1.3 Index an array"
   ]
  },
  {
   "cell_type": "code",
   "execution_count": 119,
   "metadata": {},
   "outputs": [
    {
     "name": "stdout",
     "output_type": "stream",
     "text": [
      ", , 1\n",
      "\n",
      "     [,1] [,2] [,3]\n",
      "[1,]    3    5    7\n",
      "[2,]    4    6    8\n",
      "\n",
      ", , 2\n",
      "\n",
      "     [,1] [,2] [,3]\n",
      "[1,]    9   11   13\n",
      "[2,]   10   12   14\n",
      "\n"
     ]
    }
   ],
   "source": [
    "array <- array(3:14, dim = c(2, 3, 2))\n",
    "print(array)"
   ]
  },
  {
   "cell_type": "code",
   "execution_count": 120,
   "metadata": {},
   "outputs": [
    {
     "data": {
      "text/html": [
       "<table>\n",
       "<caption>A matrix: 2 × 3 of type int</caption>\n",
       "<tbody>\n",
       "\t<tr><td>3</td><td>5</td><td>7</td></tr>\n",
       "\t<tr><td>4</td><td>6</td><td>8</td></tr>\n",
       "</tbody>\n",
       "</table>\n"
      ],
      "text/latex": [
       "A matrix: 2 × 3 of type int\n",
       "\\begin{tabular}{lll}\n",
       "\t 3 & 5 & 7\\\\\n",
       "\t 4 & 6 & 8\\\\\n",
       "\\end{tabular}\n"
      ],
      "text/markdown": [
       "\n",
       "A matrix: 2 × 3 of type int\n",
       "\n",
       "| 3 | 5 | 7 |\n",
       "| 4 | 6 | 8 |\n",
       "\n"
      ],
      "text/plain": [
       "     [,1] [,2] [,3]\n",
       "[1,] 3    5    7   \n",
       "[2,] 4    6    8   "
      ]
     },
     "metadata": {},
     "output_type": "display_data"
    }
   ],
   "source": [
    "array[ , , 1]"
   ]
  },
  {
   "cell_type": "code",
   "execution_count": 121,
   "metadata": {},
   "outputs": [
    {
     "data": {
      "text/html": [
       "14"
      ],
      "text/latex": [
       "14"
      ],
      "text/markdown": [
       "14"
      ],
      "text/plain": [
       "[1] 14"
      ]
     },
     "metadata": {},
     "output_type": "display_data"
    }
   ],
   "source": [
    "array[2, 3, 2]"
   ]
  },
  {
   "cell_type": "code",
   "execution_count": 122,
   "metadata": {},
   "outputs": [
    {
     "data": {
      "text/html": [
       "<ol class=list-inline>\n",
       "\t<li>9</li>\n",
       "\t<li>11</li>\n",
       "\t<li>13</li>\n",
       "</ol>\n"
      ],
      "text/latex": [
       "\\begin{enumerate*}\n",
       "\\item 9\n",
       "\\item 11\n",
       "\\item 13\n",
       "\\end{enumerate*}\n"
      ],
      "text/markdown": [
       "1. 9\n",
       "2. 11\n",
       "3. 13\n",
       "\n",
       "\n"
      ],
      "text/plain": [
       "[1]  9 11 13"
      ]
     },
     "metadata": {},
     "output_type": "display_data"
    }
   ],
   "source": [
    "array[1, , 2]"
   ]
  },
  {
   "cell_type": "code",
   "execution_count": 123,
   "metadata": {},
   "outputs": [
    {
     "data": {
      "text/html": [
       "<table>\n",
       "<caption>A matrix: 2 × 2 of type int</caption>\n",
       "<tbody>\n",
       "\t<tr><td>3</td><td> 9</td></tr>\n",
       "\t<tr><td>4</td><td>10</td></tr>\n",
       "</tbody>\n",
       "</table>\n"
      ],
      "text/latex": [
       "A matrix: 2 × 2 of type int\n",
       "\\begin{tabular}{ll}\n",
       "\t 3 &  9\\\\\n",
       "\t 4 & 10\\\\\n",
       "\\end{tabular}\n"
      ],
      "text/markdown": [
       "\n",
       "A matrix: 2 × 2 of type int\n",
       "\n",
       "| 3 |  9 |\n",
       "| 4 | 10 |\n",
       "\n"
      ],
      "text/plain": [
       "     [,1] [,2]\n",
       "[1,] 3     9  \n",
       "[2,] 4    10  "
      ]
     },
     "metadata": {},
     "output_type": "display_data"
    }
   ],
   "source": [
    "array[ , 1 , ]"
   ]
  },
  {
   "cell_type": "markdown",
   "metadata": {},
   "source": [
    "### 3.1.4 Index a data frame"
   ]
  },
  {
   "cell_type": "code",
   "execution_count": 124,
   "metadata": {},
   "outputs": [],
   "source": [
    "df <- data.frame(names = c(\"Lucy\", \"John\", \"Mark\", \"Candy\"),\n",
    "                 score = c(67, 56, 87, 91))"
   ]
  },
  {
   "cell_type": "code",
   "execution_count": 125,
   "metadata": {},
   "outputs": [
    {
     "data": {
      "text/html": [
       "<table>\n",
       "<caption>A data.frame: 4 × 2</caption>\n",
       "<thead>\n",
       "\t<tr><th scope=col>names</th><th scope=col>score</th></tr>\n",
       "\t<tr><th scope=col>&lt;fct&gt;</th><th scope=col>&lt;dbl&gt;</th></tr>\n",
       "</thead>\n",
       "<tbody>\n",
       "\t<tr><td>Lucy </td><td>67</td></tr>\n",
       "\t<tr><td>John </td><td>56</td></tr>\n",
       "\t<tr><td>Mark </td><td>87</td></tr>\n",
       "\t<tr><td>Candy</td><td>91</td></tr>\n",
       "</tbody>\n",
       "</table>\n"
      ],
      "text/latex": [
       "A data.frame: 4 × 2\n",
       "\\begin{tabular}{r|ll}\n",
       " names & score\\\\\n",
       " <fct> & <dbl>\\\\\n",
       "\\hline\n",
       "\t Lucy  & 67\\\\\n",
       "\t John  & 56\\\\\n",
       "\t Mark  & 87\\\\\n",
       "\t Candy & 91\\\\\n",
       "\\end{tabular}\n"
      ],
      "text/markdown": [
       "\n",
       "A data.frame: 4 × 2\n",
       "\n",
       "| names &lt;fct&gt; | score &lt;dbl&gt; |\n",
       "|---|---|\n",
       "| Lucy  | 67 |\n",
       "| John  | 56 |\n",
       "| Mark  | 87 |\n",
       "| Candy | 91 |\n",
       "\n"
      ],
      "text/plain": [
       "  names score\n",
       "1 Lucy  67   \n",
       "2 John  56   \n",
       "3 Mark  87   \n",
       "4 Candy 91   "
      ]
     },
     "metadata": {},
     "output_type": "display_data"
    }
   ],
   "source": [
    "df"
   ]
  },
  {
   "cell_type": "code",
   "execution_count": 126,
   "metadata": {
    "scrolled": false
   },
   "outputs": [
    {
     "data": {
      "text/html": [
       "<table>\n",
       "<caption>A data.frame: 1 × 2</caption>\n",
       "<thead>\n",
       "\t<tr><th></th><th scope=col>names</th><th scope=col>score</th></tr>\n",
       "\t<tr><th></th><th scope=col>&lt;fct&gt;</th><th scope=col>&lt;dbl&gt;</th></tr>\n",
       "</thead>\n",
       "<tbody>\n",
       "\t<tr><th scope=row>2</th><td>John</td><td>56</td></tr>\n",
       "</tbody>\n",
       "</table>\n"
      ],
      "text/latex": [
       "A data.frame: 1 × 2\n",
       "\\begin{tabular}{r|ll}\n",
       "  & names & score\\\\\n",
       "  & <fct> & <dbl>\\\\\n",
       "\\hline\n",
       "\t2 & John & 56\\\\\n",
       "\\end{tabular}\n"
      ],
      "text/markdown": [
       "\n",
       "A data.frame: 1 × 2\n",
       "\n",
       "| <!--/--> | names &lt;fct&gt; | score &lt;dbl&gt; |\n",
       "|---|---|---|\n",
       "| 2 | John | 56 |\n",
       "\n"
      ],
      "text/plain": [
       "  names score\n",
       "2 John  56   "
      ]
     },
     "metadata": {},
     "output_type": "display_data"
    },
    {
     "name": "stdout",
     "output_type": "stream",
     "text": [
      "'data.frame':\t1 obs. of  2 variables:\n",
      " $ names: Factor w/ 4 levels \"Candy\",\"John\",..: 2\n",
      " $ score: num 56\n"
     ]
    }
   ],
   "source": [
    "df[2, ]\n",
    "str(df[2, ])\n",
    "# What is the structure of the result? Why?"
   ]
  },
  {
   "cell_type": "code",
   "execution_count": 127,
   "metadata": {},
   "outputs": [
    {
     "data": {
      "text/html": [
       "<ol class=list-inline>\n",
       "\t<li>Lucy</li>\n",
       "\t<li>John</li>\n",
       "\t<li>Mark</li>\n",
       "\t<li>Candy</li>\n",
       "</ol>\n",
       "\n",
       "<details>\n",
       "\t<summary style=display:list-item;cursor:pointer>\n",
       "\t\t<strong>Levels</strong>:\n",
       "\t</summary>\n",
       "\t<ol class=list-inline>\n",
       "\t\t<li>'Candy'</li>\n",
       "\t\t<li>'John'</li>\n",
       "\t\t<li>'Lucy'</li>\n",
       "\t\t<li>'Mark'</li>\n",
       "\t</ol>\n",
       "</details>"
      ],
      "text/latex": [
       "\\begin{enumerate*}\n",
       "\\item Lucy\n",
       "\\item John\n",
       "\\item Mark\n",
       "\\item Candy\n",
       "\\end{enumerate*}\n",
       "\n",
       "\\emph{Levels}: \\begin{enumerate*}\n",
       "\\item 'Candy'\n",
       "\\item 'John'\n",
       "\\item 'Lucy'\n",
       "\\item 'Mark'\n",
       "\\end{enumerate*}\n"
      ],
      "text/markdown": [
       "1. Lucy\n",
       "2. John\n",
       "3. Mark\n",
       "4. Candy\n",
       "\n",
       "\n",
       "\n",
       "**Levels**: 1. 'Candy'\n",
       "2. 'John'\n",
       "3. 'Lucy'\n",
       "4. 'Mark'\n",
       "\n",
       "\n"
      ],
      "text/plain": [
       "[1] Lucy  John  Mark  Candy\n",
       "Levels: Candy John Lucy Mark"
      ]
     },
     "metadata": {},
     "output_type": "display_data"
    }
   ],
   "source": [
    "df[ , 1]\n",
    "# What is the structure of the result?"
   ]
  },
  {
   "cell_type": "code",
   "execution_count": 128,
   "metadata": {},
   "outputs": [
    {
     "data": {
      "text/html": [
       "<table>\n",
       "<caption>A data.frame: 4 × 1</caption>\n",
       "<thead>\n",
       "\t<tr><th scope=col>names</th></tr>\n",
       "\t<tr><th scope=col>&lt;fct&gt;</th></tr>\n",
       "</thead>\n",
       "<tbody>\n",
       "\t<tr><td>Lucy </td></tr>\n",
       "\t<tr><td>John </td></tr>\n",
       "\t<tr><td>Mark </td></tr>\n",
       "\t<tr><td>Candy</td></tr>\n",
       "</tbody>\n",
       "</table>\n"
      ],
      "text/latex": [
       "A data.frame: 4 × 1\n",
       "\\begin{tabular}{r|l}\n",
       " names\\\\\n",
       " <fct>\\\\\n",
       "\\hline\n",
       "\t Lucy \\\\\n",
       "\t John \\\\\n",
       "\t Mark \\\\\n",
       "\t Candy\\\\\n",
       "\\end{tabular}\n"
      ],
      "text/markdown": [
       "\n",
       "A data.frame: 4 × 1\n",
       "\n",
       "| names &lt;fct&gt; |\n",
       "|---|\n",
       "| Lucy  |\n",
       "| John  |\n",
       "| Mark  |\n",
       "| Candy |\n",
       "\n"
      ],
      "text/plain": [
       "  names\n",
       "1 Lucy \n",
       "2 John \n",
       "3 Mark \n",
       "4 Candy"
      ]
     },
     "metadata": {},
     "output_type": "display_data"
    }
   ],
   "source": [
    "df[, 1, drop = F]\n",
    "# What about now?"
   ]
  },
  {
   "cell_type": "markdown",
   "metadata": {},
   "source": [
    "###### Use the names"
   ]
  },
  {
   "cell_type": "code",
   "execution_count": 129,
   "metadata": {
    "scrolled": true
   },
   "outputs": [
    {
     "data": {
      "text/html": [
       "<ol class=list-inline>\n",
       "\t<li>'names'</li>\n",
       "\t<li>'score'</li>\n",
       "</ol>\n"
      ],
      "text/latex": [
       "\\begin{enumerate*}\n",
       "\\item 'names'\n",
       "\\item 'score'\n",
       "\\end{enumerate*}\n"
      ],
      "text/markdown": [
       "1. 'names'\n",
       "2. 'score'\n",
       "\n",
       "\n"
      ],
      "text/plain": [
       "[1] \"names\" \"score\""
      ]
     },
     "metadata": {},
     "output_type": "display_data"
    }
   ],
   "source": [
    "# There are column (variable) names that are ready to be used in data frames.\n",
    "names(df)"
   ]
  },
  {
   "cell_type": "code",
   "execution_count": 130,
   "metadata": {},
   "outputs": [
    {
     "name": "stdout",
     "output_type": "stream",
     "text": [
      "[1] Lucy  John  Mark  Candy\n",
      "Levels: Candy John Lucy Mark\n"
     ]
    }
   ],
   "source": [
    "print(df[, \"names\"])"
   ]
  },
  {
   "cell_type": "code",
   "execution_count": 131,
   "metadata": {
    "scrolled": true
   },
   "outputs": [
    {
     "data": {
      "text/html": [
       "<ol class=list-inline>\n",
       "\t<li>Lucy</li>\n",
       "\t<li>John</li>\n",
       "\t<li>Mark</li>\n",
       "\t<li>Candy</li>\n",
       "</ol>\n",
       "\n",
       "<details>\n",
       "\t<summary style=display:list-item;cursor:pointer>\n",
       "\t\t<strong>Levels</strong>:\n",
       "\t</summary>\n",
       "\t<ol class=list-inline>\n",
       "\t\t<li>'Candy'</li>\n",
       "\t\t<li>'John'</li>\n",
       "\t\t<li>'Lucy'</li>\n",
       "\t\t<li>'Mark'</li>\n",
       "\t</ol>\n",
       "</details>"
      ],
      "text/latex": [
       "\\begin{enumerate*}\n",
       "\\item Lucy\n",
       "\\item John\n",
       "\\item Mark\n",
       "\\item Candy\n",
       "\\end{enumerate*}\n",
       "\n",
       "\\emph{Levels}: \\begin{enumerate*}\n",
       "\\item 'Candy'\n",
       "\\item 'John'\n",
       "\\item 'Lucy'\n",
       "\\item 'Mark'\n",
       "\\end{enumerate*}\n"
      ],
      "text/markdown": [
       "1. Lucy\n",
       "2. John\n",
       "3. Mark\n",
       "4. Candy\n",
       "\n",
       "\n",
       "\n",
       "**Levels**: 1. 'Candy'\n",
       "2. 'John'\n",
       "3. 'Lucy'\n",
       "4. 'Mark'\n",
       "\n",
       "\n"
      ],
      "text/plain": [
       "[1] Lucy  John  Mark  Candy\n",
       "Levels: Candy John Lucy Mark"
      ]
     },
     "metadata": {},
     "output_type": "display_data"
    }
   ],
   "source": [
    "df$names\n",
    "# data.frame$variable.name gives the variable."
   ]
  },
  {
   "cell_type": "code",
   "execution_count": 132,
   "metadata": {
    "scrolled": true
   },
   "outputs": [
    {
     "name": "stdout",
     "output_type": "stream",
     "text": [
      "'data.frame':\t4 obs. of  2 variables:\n",
      " $ names: Factor w/ 4 levels \"Candy\",\"John\",..: 3 2 4 1\n",
      " $ score: num  67 56 87 91\n"
     ]
    }
   ],
   "source": [
    "# Usually the str() functions will give you an idea on how to access values in R objects\n",
    "str(df)"
   ]
  },
  {
   "cell_type": "code",
   "execution_count": 133,
   "metadata": {},
   "outputs": [
    {
     "data": {
      "text/plain": [
       "   Min. 1st Qu.  Median    Mean 3rd Qu.    Max. \n",
       "  56.00   64.25   77.00   75.25   88.00   91.00 "
      ]
     },
     "metadata": {},
     "output_type": "display_data"
    }
   ],
   "source": [
    "summary(df$score)"
   ]
  },
  {
   "cell_type": "code",
   "execution_count": 134,
   "metadata": {},
   "outputs": [
    {
     "name": "stdout",
     "output_type": "stream",
     "text": [
      " 'summaryDefault' Named num [1:6] 56 64.2 77 75.2 88 ...\n",
      " - attr(*, \"names\")= chr [1:6] \"Min.\" \"1st Qu.\" \"Median\" \"Mean\" ...\n"
     ]
    }
   ],
   "source": [
    "str(summary(df$score))"
   ]
  },
  {
   "cell_type": "code",
   "execution_count": 135,
   "metadata": {},
   "outputs": [
    {
     "data": {
      "text/plain": [
       "Median \n",
       "    77 "
      ]
     },
     "metadata": {},
     "output_type": "display_data"
    }
   ],
   "source": [
    "summary(df$score)[3]"
   ]
  },
  {
   "cell_type": "code",
   "execution_count": 136,
   "metadata": {},
   "outputs": [
    {
     "data": {
      "text/html": [
       "<ol class=list-inline>\n",
       "\t<li>'Min.'</li>\n",
       "\t<li>'1st Qu.'</li>\n",
       "\t<li>'Median'</li>\n",
       "\t<li>'Mean'</li>\n",
       "\t<li>'3rd Qu.'</li>\n",
       "\t<li>'Max.'</li>\n",
       "</ol>\n"
      ],
      "text/latex": [
       "\\begin{enumerate*}\n",
       "\\item 'Min.'\n",
       "\\item '1st Qu.'\n",
       "\\item 'Median'\n",
       "\\item 'Mean'\n",
       "\\item '3rd Qu.'\n",
       "\\item 'Max.'\n",
       "\\end{enumerate*}\n"
      ],
      "text/markdown": [
       "1. 'Min.'\n",
       "2. '1st Qu.'\n",
       "3. 'Median'\n",
       "4. 'Mean'\n",
       "5. '3rd Qu.'\n",
       "6. 'Max.'\n",
       "\n",
       "\n"
      ],
      "text/plain": [
       "[1] \"Min.\"    \"1st Qu.\" \"Median\"  \"Mean\"    \"3rd Qu.\" \"Max.\"   "
      ]
     },
     "metadata": {},
     "output_type": "display_data"
    }
   ],
   "source": [
    "attr(summary(df$score), \"names\")"
   ]
  },
  {
   "cell_type": "code",
   "execution_count": 137,
   "metadata": {},
   "outputs": [
    {
     "data": {
      "text/html": [
       "<table>\n",
       "<caption>A data.frame: 1 × 2</caption>\n",
       "<thead>\n",
       "\t<tr><th></th><th scope=col>names</th><th scope=col>score</th></tr>\n",
       "\t<tr><th></th><th scope=col>&lt;fct&gt;</th><th scope=col>&lt;dbl&gt;</th></tr>\n",
       "</thead>\n",
       "<tbody>\n",
       "\t<tr><th scope=row>2</th><td>John</td><td>56</td></tr>\n",
       "</tbody>\n",
       "</table>\n"
      ],
      "text/latex": [
       "A data.frame: 1 × 2\n",
       "\\begin{tabular}{r|ll}\n",
       "  & names & score\\\\\n",
       "  & <fct> & <dbl>\\\\\n",
       "\\hline\n",
       "\t2 & John & 56\\\\\n",
       "\\end{tabular}\n"
      ],
      "text/markdown": [
       "\n",
       "A data.frame: 1 × 2\n",
       "\n",
       "| <!--/--> | names &lt;fct&gt; | score &lt;dbl&gt; |\n",
       "|---|---|---|\n",
       "| 2 | John | 56 |\n",
       "\n"
      ],
      "text/plain": [
       "  names score\n",
       "2 John  56   "
      ]
     },
     "metadata": {},
     "output_type": "display_data"
    }
   ],
   "source": [
    "# What is John's score?\n",
    "df[df$names == \"John\",]"
   ]
  },
  {
   "cell_type": "code",
   "execution_count": 138,
   "metadata": {},
   "outputs": [
    {
     "data": {
      "text/html": [
       "<ol class=list-inline>\n",
       "\t<li>Lucy</li>\n",
       "\t<li>John</li>\n",
       "\t<li>Mark</li>\n",
       "\t<li>Candy</li>\n",
       "</ol>\n",
       "\n",
       "<details>\n",
       "\t<summary style=display:list-item;cursor:pointer>\n",
       "\t\t<strong>Levels</strong>:\n",
       "\t</summary>\n",
       "\t<ol class=list-inline>\n",
       "\t\t<li>'Candy'</li>\n",
       "\t\t<li>'John'</li>\n",
       "\t\t<li>'Lucy'</li>\n",
       "\t\t<li>'Mark'</li>\n",
       "\t</ol>\n",
       "</details>"
      ],
      "text/latex": [
       "\\begin{enumerate*}\n",
       "\\item Lucy\n",
       "\\item John\n",
       "\\item Mark\n",
       "\\item Candy\n",
       "\\end{enumerate*}\n",
       "\n",
       "\\emph{Levels}: \\begin{enumerate*}\n",
       "\\item 'Candy'\n",
       "\\item 'John'\n",
       "\\item 'Lucy'\n",
       "\\item 'Mark'\n",
       "\\end{enumerate*}\n"
      ],
      "text/markdown": [
       "1. Lucy\n",
       "2. John\n",
       "3. Mark\n",
       "4. Candy\n",
       "\n",
       "\n",
       "\n",
       "**Levels**: 1. 'Candy'\n",
       "2. 'John'\n",
       "3. 'Lucy'\n",
       "4. 'Mark'\n",
       "\n",
       "\n"
      ],
      "text/plain": [
       "[1] Lucy  John  Mark  Candy\n",
       "Levels: Candy John Lucy Mark"
      ]
     },
     "metadata": {},
     "output_type": "display_data"
    },
    {
     "data": {
      "text/html": [
       "<ol class=list-inline>\n",
       "\t<li>FALSE</li>\n",
       "\t<li>TRUE</li>\n",
       "\t<li>FALSE</li>\n",
       "\t<li>FALSE</li>\n",
       "</ol>\n"
      ],
      "text/latex": [
       "\\begin{enumerate*}\n",
       "\\item FALSE\n",
       "\\item TRUE\n",
       "\\item FALSE\n",
       "\\item FALSE\n",
       "\\end{enumerate*}\n"
      ],
      "text/markdown": [
       "1. FALSE\n",
       "2. TRUE\n",
       "3. FALSE\n",
       "4. FALSE\n",
       "\n",
       "\n"
      ],
      "text/plain": [
       "[1] FALSE  TRUE FALSE FALSE"
      ]
     },
     "metadata": {},
     "output_type": "display_data"
    }
   ],
   "source": [
    "# How does this work?\n",
    "df$names\n",
    "df$names == \"John\""
   ]
  },
  {
   "cell_type": "code",
   "execution_count": 139,
   "metadata": {},
   "outputs": [
    {
     "name": "stdout",
     "output_type": "stream",
     "text": [
      "[1] names score\n",
      "<0 rows> (or 0-length row.names)\n"
     ]
    }
   ],
   "source": [
    "# Anyone scored 100?\n",
    "print(df[df$score == 100,])"
   ]
  },
  {
   "cell_type": "code",
   "execution_count": 140,
   "metadata": {},
   "outputs": [
    {
     "data": {
      "text/html": [
       "91"
      ],
      "text/latex": [
       "91"
      ],
      "text/markdown": [
       "91"
      ],
      "text/plain": [
       "[1] 91"
      ]
     },
     "metadata": {},
     "output_type": "display_data"
    }
   ],
   "source": [
    "# Highest score?\n",
    "max(df$score)     # max() for maximum"
   ]
  },
  {
   "cell_type": "code",
   "execution_count": 141,
   "metadata": {},
   "outputs": [
    {
     "data": {
      "text/html": [
       "<table>\n",
       "<caption>A data.frame: 1 × 2</caption>\n",
       "<thead>\n",
       "\t<tr><th></th><th scope=col>names</th><th scope=col>score</th></tr>\n",
       "\t<tr><th></th><th scope=col>&lt;fct&gt;</th><th scope=col>&lt;dbl&gt;</th></tr>\n",
       "</thead>\n",
       "<tbody>\n",
       "\t<tr><th scope=row>4</th><td>Candy</td><td>91</td></tr>\n",
       "</tbody>\n",
       "</table>\n"
      ],
      "text/latex": [
       "A data.frame: 1 × 2\n",
       "\\begin{tabular}{r|ll}\n",
       "  & names & score\\\\\n",
       "  & <fct> & <dbl>\\\\\n",
       "\\hline\n",
       "\t4 & Candy & 91\\\\\n",
       "\\end{tabular}\n"
      ],
      "text/markdown": [
       "\n",
       "A data.frame: 1 × 2\n",
       "\n",
       "| <!--/--> | names &lt;fct&gt; | score &lt;dbl&gt; |\n",
       "|---|---|---|\n",
       "| 4 | Candy | 91 |\n",
       "\n"
      ],
      "text/plain": [
       "  names score\n",
       "4 Candy 91   "
      ]
     },
     "metadata": {},
     "output_type": "display_data"
    }
   ],
   "source": [
    "# Who had the highes score?\n",
    "df[df$score == max(df$score), ]"
   ]
  },
  {
   "cell_type": "code",
   "execution_count": 142,
   "metadata": {
    "scrolled": false
   },
   "outputs": [
    {
     "name": "stdout",
     "output_type": "stream",
     "text": [
      "'data.frame':\t1 obs. of  2 variables:\n",
      " $ names: Factor w/ 4 levels \"Candy\",\"John\",..: 1\n",
      " $ score: num 91\n"
     ]
    }
   ],
   "source": [
    "# Note that this is still a data frame.\n",
    "str(df[df$score == max(df$score), ])"
   ]
  },
  {
   "cell_type": "code",
   "execution_count": 143,
   "metadata": {
    "scrolled": false
   },
   "outputs": [
    {
     "data": {
      "text/html": [
       "Candy\n",
       "<details>\n",
       "\t<summary style=display:list-item;cursor:pointer>\n",
       "\t\t<strong>Levels</strong>:\n",
       "\t</summary>\n",
       "\t<ol class=list-inline>\n",
       "\t\t<li>'Candy'</li>\n",
       "\t\t<li>'John'</li>\n",
       "\t\t<li>'Lucy'</li>\n",
       "\t\t<li>'Mark'</li>\n",
       "\t</ol>\n",
       "</details>"
      ],
      "text/latex": [
       "Candy\n",
       "\\emph{Levels}: \\begin{enumerate*}\n",
       "\\item 'Candy'\n",
       "\\item 'John'\n",
       "\\item 'Lucy'\n",
       "\\item 'Mark'\n",
       "\\end{enumerate*}\n"
      ],
      "text/markdown": [
       "Candy\n",
       "**Levels**: 1. 'Candy'\n",
       "2. 'John'\n",
       "3. 'Lucy'\n",
       "4. 'Mark'\n",
       "\n",
       "\n"
      ],
      "text/plain": [
       "[1] Candy\n",
       "Levels: Candy John Lucy Mark"
      ]
     },
     "metadata": {},
     "output_type": "display_data"
    }
   ],
   "source": [
    "# I only need the name.\n",
    "df[df$score == max(df$score), ]$names"
   ]
  },
  {
   "cell_type": "code",
   "execution_count": 144,
   "metadata": {},
   "outputs": [
    {
     "data": {
      "text/html": [
       "<table>\n",
       "<caption>A data.frame: 4 × 2</caption>\n",
       "<thead>\n",
       "\t<tr><th scope=col>score</th><th scope=col>names</th></tr>\n",
       "\t<tr><th scope=col>&lt;dbl&gt;</th><th scope=col>&lt;fct&gt;</th></tr>\n",
       "</thead>\n",
       "<tbody>\n",
       "\t<tr><td>67</td><td>Lucy </td></tr>\n",
       "\t<tr><td>56</td><td>John </td></tr>\n",
       "\t<tr><td>87</td><td>Mark </td></tr>\n",
       "\t<tr><td>91</td><td>Candy</td></tr>\n",
       "</tbody>\n",
       "</table>\n"
      ],
      "text/latex": [
       "A data.frame: 4 × 2\n",
       "\\begin{tabular}{r|ll}\n",
       " score & names\\\\\n",
       " <dbl> & <fct>\\\\\n",
       "\\hline\n",
       "\t 67 & Lucy \\\\\n",
       "\t 56 & John \\\\\n",
       "\t 87 & Mark \\\\\n",
       "\t 91 & Candy\\\\\n",
       "\\end{tabular}\n"
      ],
      "text/markdown": [
       "\n",
       "A data.frame: 4 × 2\n",
       "\n",
       "| score &lt;dbl&gt; | names &lt;fct&gt; |\n",
       "|---|---|\n",
       "| 67 | Lucy  |\n",
       "| 56 | John  |\n",
       "| 87 | Mark  |\n",
       "| 91 | Candy |\n",
       "\n"
      ],
      "text/plain": [
       "  score names\n",
       "1 67    Lucy \n",
       "2 56    John \n",
       "3 87    Mark \n",
       "4 91    Candy"
      ]
     },
     "metadata": {},
     "output_type": "display_data"
    }
   ],
   "source": [
    "# Change the order of the columns\n",
    "df[ , c(\"score\", \"names\")]\n",
    "# By now you should have realized that,\n",
    "# we change the order of columns by picking the columns\n",
    "# in the order that we want."
   ]
  },
  {
   "cell_type": "markdown",
   "metadata": {},
   "source": [
    "### 3.1.5 Index a list"
   ]
  },
  {
   "cell_type": "code",
   "execution_count": 145,
   "metadata": {},
   "outputs": [
    {
     "name": "stdout",
     "output_type": "stream",
     "text": [
      "[[1]]\n",
      "[1] \"Red\"\n",
      "\n",
      "[[2]]\n",
      "[1] a b\n",
      "Levels: a b\n",
      "\n",
      "[[3]]\n",
      "[1] 21 32 11\n",
      "\n",
      "[[4]]\n",
      "[1] TRUE\n",
      "\n"
     ]
    }
   ],
   "source": [
    "list <- list(\"Red\", factor(c(\"a\",\"b\")), c(21,32,11), TRUE)\n",
    "print(list)"
   ]
  },
  {
   "cell_type": "code",
   "execution_count": 146,
   "metadata": {},
   "outputs": [
    {
     "name": "stdout",
     "output_type": "stream",
     "text": [
      "[[1]]\n",
      "[1] 21 32 11\n",
      "\n"
     ]
    }
   ],
   "source": [
    "# single bracket gives the entire \"sub-list\"\n",
    "# double bracket gives the R object stored in the \"sub-list\"\n",
    "print(list[3])"
   ]
  },
  {
   "cell_type": "code",
   "execution_count": 147,
   "metadata": {},
   "outputs": [
    {
     "data": {
      "text/html": [
       "<ol class=list-inline>\n",
       "\t<li>21</li>\n",
       "\t<li>32</li>\n",
       "\t<li>11</li>\n",
       "</ol>\n"
      ],
      "text/latex": [
       "\\begin{enumerate*}\n",
       "\\item 21\n",
       "\\item 32\n",
       "\\item 11\n",
       "\\end{enumerate*}\n"
      ],
      "text/markdown": [
       "1. 21\n",
       "2. 32\n",
       "3. 11\n",
       "\n",
       "\n"
      ],
      "text/plain": [
       "[1] 21 32 11"
      ]
     },
     "metadata": {},
     "output_type": "display_data"
    }
   ],
   "source": [
    "list[3][[1]]"
   ]
  },
  {
   "cell_type": "code",
   "execution_count": 148,
   "metadata": {},
   "outputs": [
    {
     "data": {
      "text/html": [
       "<ol class=list-inline>\n",
       "\t<li>21</li>\n",
       "\t<li>32</li>\n",
       "\t<li>11</li>\n",
       "</ol>\n"
      ],
      "text/latex": [
       "\\begin{enumerate*}\n",
       "\\item 21\n",
       "\\item 32\n",
       "\\item 11\n",
       "\\end{enumerate*}\n"
      ],
      "text/markdown": [
       "1. 21\n",
       "2. 32\n",
       "3. 11\n",
       "\n",
       "\n"
      ],
      "text/plain": [
       "[1] 21 32 11"
      ]
     },
     "metadata": {},
     "output_type": "display_data"
    }
   ],
   "source": [
    "list[[3]]"
   ]
  },
  {
   "cell_type": "code",
   "execution_count": 149,
   "metadata": {},
   "outputs": [
    {
     "name": "stdout",
     "output_type": "stream",
     "text": [
      "[[1]]\n",
      "[1] 21 32 11\n",
      "\n",
      "List of 1\n",
      " $ : num [1:3] 21 32 11\n"
     ]
    }
   ],
   "source": [
    "str(print(list[3]))"
   ]
  },
  {
   "cell_type": "code",
   "execution_count": 150,
   "metadata": {},
   "outputs": [
    {
     "name": "stdout",
     "output_type": "stream",
     "text": [
      "[1] 21 32 11\n",
      " num [1:3] 21 32 11\n"
     ]
    }
   ],
   "source": [
    "str(print(list[[3]]))"
   ]
  },
  {
   "cell_type": "code",
   "execution_count": 151,
   "metadata": {
    "scrolled": false
   },
   "outputs": [
    {
     "data": {
      "text/html": [
       "32"
      ],
      "text/latex": [
       "32"
      ],
      "text/markdown": [
       "32"
      ],
      "text/plain": [
       "[1] 32"
      ]
     },
     "metadata": {},
     "output_type": "display_data"
    }
   ],
   "source": [
    "list[[3]][2]"
   ]
  },
  {
   "cell_type": "code",
   "execution_count": 152,
   "metadata": {},
   "outputs": [
    {
     "name": "stdout",
     "output_type": "stream",
     "text": [
      "$course\n",
      "[1] \"EPIB 613\"\n",
      "\n",
      "$year\n",
      "[1] 2020\n",
      "\n",
      "$pass.fail\n",
      "[1] TRUE\n",
      "\n"
     ]
    }
   ],
   "source": [
    "named.list <- list(course = \"EPIB 613\",\n",
    "                   year = 2020,\n",
    "                   pass.fail = T)\n",
    "print(named.list)"
   ]
  },
  {
   "cell_type": "code",
   "execution_count": 153,
   "metadata": {},
   "outputs": [
    {
     "name": "stdout",
     "output_type": "stream",
     "text": [
      "List of 3\n",
      " $ course   : chr \"EPIB 613\"\n",
      " $ year     : num 2020\n",
      " $ pass.fail: logi TRUE\n"
     ]
    }
   ],
   "source": [
    "str(named.list)"
   ]
  },
  {
   "cell_type": "code",
   "execution_count": 154,
   "metadata": {},
   "outputs": [
    {
     "data": {
      "text/html": [
       "2020"
      ],
      "text/latex": [
       "2020"
      ],
      "text/markdown": [
       "2020"
      ],
      "text/plain": [
       "[1] 2020"
      ]
     },
     "metadata": {},
     "output_type": "display_data"
    }
   ],
   "source": [
    "named.list$year"
   ]
  },
  {
   "cell_type": "markdown",
   "metadata": {},
   "source": [
    "## 3.2 Import data\n",
    "### 3.2.1 Use datasets that come with base R and R packages\n",
    "Many R packages come with datasets that help explain how the packages and functions work, including those already installed when you download R and those already loaded everytime you open R."
   ]
  },
  {
   "cell_type": "code",
   "execution_count": 155,
   "metadata": {},
   "outputs": [
    {
     "data": {
      "text/html": [
       "<table>\n",
       "<caption>A data.frame: 6 × 11</caption>\n",
       "<thead>\n",
       "\t<tr><th></th><th scope=col>mpg</th><th scope=col>cyl</th><th scope=col>disp</th><th scope=col>hp</th><th scope=col>drat</th><th scope=col>wt</th><th scope=col>qsec</th><th scope=col>vs</th><th scope=col>am</th><th scope=col>gear</th><th scope=col>carb</th></tr>\n",
       "\t<tr><th></th><th scope=col>&lt;dbl&gt;</th><th scope=col>&lt;dbl&gt;</th><th scope=col>&lt;dbl&gt;</th><th scope=col>&lt;dbl&gt;</th><th scope=col>&lt;dbl&gt;</th><th scope=col>&lt;dbl&gt;</th><th scope=col>&lt;dbl&gt;</th><th scope=col>&lt;dbl&gt;</th><th scope=col>&lt;dbl&gt;</th><th scope=col>&lt;dbl&gt;</th><th scope=col>&lt;dbl&gt;</th></tr>\n",
       "</thead>\n",
       "<tbody>\n",
       "\t<tr><th scope=row>Mazda RX4</th><td>21.0</td><td>6</td><td>160</td><td>110</td><td>3.90</td><td>2.620</td><td>16.46</td><td>0</td><td>1</td><td>4</td><td>4</td></tr>\n",
       "\t<tr><th scope=row>Mazda RX4 Wag</th><td>21.0</td><td>6</td><td>160</td><td>110</td><td>3.90</td><td>2.875</td><td>17.02</td><td>0</td><td>1</td><td>4</td><td>4</td></tr>\n",
       "\t<tr><th scope=row>Datsun 710</th><td>22.8</td><td>4</td><td>108</td><td> 93</td><td>3.85</td><td>2.320</td><td>18.61</td><td>1</td><td>1</td><td>4</td><td>1</td></tr>\n",
       "\t<tr><th scope=row>Hornet 4 Drive</th><td>21.4</td><td>6</td><td>258</td><td>110</td><td>3.08</td><td>3.215</td><td>19.44</td><td>1</td><td>0</td><td>3</td><td>1</td></tr>\n",
       "\t<tr><th scope=row>Hornet Sportabout</th><td>18.7</td><td>8</td><td>360</td><td>175</td><td>3.15</td><td>3.440</td><td>17.02</td><td>0</td><td>0</td><td>3</td><td>2</td></tr>\n",
       "\t<tr><th scope=row>Valiant</th><td>18.1</td><td>6</td><td>225</td><td>105</td><td>2.76</td><td>3.460</td><td>20.22</td><td>1</td><td>0</td><td>3</td><td>1</td></tr>\n",
       "</tbody>\n",
       "</table>\n"
      ],
      "text/latex": [
       "A data.frame: 6 × 11\n",
       "\\begin{tabular}{r|lllllllllll}\n",
       "  & mpg & cyl & disp & hp & drat & wt & qsec & vs & am & gear & carb\\\\\n",
       "  & <dbl> & <dbl> & <dbl> & <dbl> & <dbl> & <dbl> & <dbl> & <dbl> & <dbl> & <dbl> & <dbl>\\\\\n",
       "\\hline\n",
       "\tMazda RX4 & 21.0 & 6 & 160 & 110 & 3.90 & 2.620 & 16.46 & 0 & 1 & 4 & 4\\\\\n",
       "\tMazda RX4 Wag & 21.0 & 6 & 160 & 110 & 3.90 & 2.875 & 17.02 & 0 & 1 & 4 & 4\\\\\n",
       "\tDatsun 710 & 22.8 & 4 & 108 &  93 & 3.85 & 2.320 & 18.61 & 1 & 1 & 4 & 1\\\\\n",
       "\tHornet 4 Drive & 21.4 & 6 & 258 & 110 & 3.08 & 3.215 & 19.44 & 1 & 0 & 3 & 1\\\\\n",
       "\tHornet Sportabout & 18.7 & 8 & 360 & 175 & 3.15 & 3.440 & 17.02 & 0 & 0 & 3 & 2\\\\\n",
       "\tValiant & 18.1 & 6 & 225 & 105 & 2.76 & 3.460 & 20.22 & 1 & 0 & 3 & 1\\\\\n",
       "\\end{tabular}\n"
      ],
      "text/markdown": [
       "\n",
       "A data.frame: 6 × 11\n",
       "\n",
       "| <!--/--> | mpg &lt;dbl&gt; | cyl &lt;dbl&gt; | disp &lt;dbl&gt; | hp &lt;dbl&gt; | drat &lt;dbl&gt; | wt &lt;dbl&gt; | qsec &lt;dbl&gt; | vs &lt;dbl&gt; | am &lt;dbl&gt; | gear &lt;dbl&gt; | carb &lt;dbl&gt; |\n",
       "|---|---|---|---|---|---|---|---|---|---|---|---|\n",
       "| Mazda RX4 | 21.0 | 6 | 160 | 110 | 3.90 | 2.620 | 16.46 | 0 | 1 | 4 | 4 |\n",
       "| Mazda RX4 Wag | 21.0 | 6 | 160 | 110 | 3.90 | 2.875 | 17.02 | 0 | 1 | 4 | 4 |\n",
       "| Datsun 710 | 22.8 | 4 | 108 |  93 | 3.85 | 2.320 | 18.61 | 1 | 1 | 4 | 1 |\n",
       "| Hornet 4 Drive | 21.4 | 6 | 258 | 110 | 3.08 | 3.215 | 19.44 | 1 | 0 | 3 | 1 |\n",
       "| Hornet Sportabout | 18.7 | 8 | 360 | 175 | 3.15 | 3.440 | 17.02 | 0 | 0 | 3 | 2 |\n",
       "| Valiant | 18.1 | 6 | 225 | 105 | 2.76 | 3.460 | 20.22 | 1 | 0 | 3 | 1 |\n",
       "\n"
      ],
      "text/plain": [
       "                  mpg  cyl disp hp  drat wt    qsec  vs am gear carb\n",
       "Mazda RX4         21.0 6   160  110 3.90 2.620 16.46 0  1  4    4   \n",
       "Mazda RX4 Wag     21.0 6   160  110 3.90 2.875 17.02 0  1  4    4   \n",
       "Datsun 710        22.8 4   108   93 3.85 2.320 18.61 1  1  4    1   \n",
       "Hornet 4 Drive    21.4 6   258  110 3.08 3.215 19.44 1  0  3    1   \n",
       "Hornet Sportabout 18.7 8   360  175 3.15 3.440 17.02 0  0  3    2   \n",
       "Valiant           18.1 6   225  105 2.76 3.460 20.22 1  0  3    1   "
      ]
     },
     "metadata": {},
     "output_type": "display_data"
    }
   ],
   "source": [
    "head(mtcars) # You can use this dataset directly whenever you want."
   ]
  },
  {
   "cell_type": "code",
   "execution_count": 156,
   "metadata": {},
   "outputs": [],
   "source": [
    "# data() # Shows all datasets in base R."
   ]
  },
  {
   "cell_type": "markdown",
   "metadata": {},
   "source": [
    "Some require loading the package, e.g. \"survival\" package has a demo data \"cancer\"."
   ]
  },
  {
   "cell_type": "code",
   "execution_count": 157,
   "metadata": {
    "scrolled": true
   },
   "outputs": [
    {
     "data": {
      "text/html": [
       "<table>\n",
       "<caption>A data.frame: 6 × 10</caption>\n",
       "<thead>\n",
       "\t<tr><th scope=col>inst</th><th scope=col>time</th><th scope=col>status</th><th scope=col>age</th><th scope=col>sex</th><th scope=col>ph.ecog</th><th scope=col>ph.karno</th><th scope=col>pat.karno</th><th scope=col>meal.cal</th><th scope=col>wt.loss</th></tr>\n",
       "\t<tr><th scope=col>&lt;dbl&gt;</th><th scope=col>&lt;dbl&gt;</th><th scope=col>&lt;dbl&gt;</th><th scope=col>&lt;dbl&gt;</th><th scope=col>&lt;dbl&gt;</th><th scope=col>&lt;dbl&gt;</th><th scope=col>&lt;dbl&gt;</th><th scope=col>&lt;dbl&gt;</th><th scope=col>&lt;dbl&gt;</th><th scope=col>&lt;dbl&gt;</th></tr>\n",
       "</thead>\n",
       "<tbody>\n",
       "\t<tr><td> 3</td><td> 306</td><td>2</td><td>74</td><td>1</td><td>1</td><td> 90</td><td>100</td><td>1175</td><td>NA</td></tr>\n",
       "\t<tr><td> 3</td><td> 455</td><td>2</td><td>68</td><td>1</td><td>0</td><td> 90</td><td> 90</td><td>1225</td><td>15</td></tr>\n",
       "\t<tr><td> 3</td><td>1010</td><td>1</td><td>56</td><td>1</td><td>0</td><td> 90</td><td> 90</td><td>  NA</td><td>15</td></tr>\n",
       "\t<tr><td> 5</td><td> 210</td><td>2</td><td>57</td><td>1</td><td>1</td><td> 90</td><td> 60</td><td>1150</td><td>11</td></tr>\n",
       "\t<tr><td> 1</td><td> 883</td><td>2</td><td>60</td><td>1</td><td>0</td><td>100</td><td> 90</td><td>  NA</td><td> 0</td></tr>\n",
       "\t<tr><td>12</td><td>1022</td><td>1</td><td>74</td><td>1</td><td>1</td><td> 50</td><td> 80</td><td> 513</td><td> 0</td></tr>\n",
       "</tbody>\n",
       "</table>\n"
      ],
      "text/latex": [
       "A data.frame: 6 × 10\n",
       "\\begin{tabular}{r|llllllllll}\n",
       " inst & time & status & age & sex & ph.ecog & ph.karno & pat.karno & meal.cal & wt.loss\\\\\n",
       " <dbl> & <dbl> & <dbl> & <dbl> & <dbl> & <dbl> & <dbl> & <dbl> & <dbl> & <dbl>\\\\\n",
       "\\hline\n",
       "\t  3 &  306 & 2 & 74 & 1 & 1 &  90 & 100 & 1175 & NA\\\\\n",
       "\t  3 &  455 & 2 & 68 & 1 & 0 &  90 &  90 & 1225 & 15\\\\\n",
       "\t  3 & 1010 & 1 & 56 & 1 & 0 &  90 &  90 &   NA & 15\\\\\n",
       "\t  5 &  210 & 2 & 57 & 1 & 1 &  90 &  60 & 1150 & 11\\\\\n",
       "\t  1 &  883 & 2 & 60 & 1 & 0 & 100 &  90 &   NA &  0\\\\\n",
       "\t 12 & 1022 & 1 & 74 & 1 & 1 &  50 &  80 &  513 &  0\\\\\n",
       "\\end{tabular}\n"
      ],
      "text/markdown": [
       "\n",
       "A data.frame: 6 × 10\n",
       "\n",
       "| inst &lt;dbl&gt; | time &lt;dbl&gt; | status &lt;dbl&gt; | age &lt;dbl&gt; | sex &lt;dbl&gt; | ph.ecog &lt;dbl&gt; | ph.karno &lt;dbl&gt; | pat.karno &lt;dbl&gt; | meal.cal &lt;dbl&gt; | wt.loss &lt;dbl&gt; |\n",
       "|---|---|---|---|---|---|---|---|---|---|\n",
       "|  3 |  306 | 2 | 74 | 1 | 1 |  90 | 100 | 1175 | NA |\n",
       "|  3 |  455 | 2 | 68 | 1 | 0 |  90 |  90 | 1225 | 15 |\n",
       "|  3 | 1010 | 1 | 56 | 1 | 0 |  90 |  90 |   NA | 15 |\n",
       "|  5 |  210 | 2 | 57 | 1 | 1 |  90 |  60 | 1150 | 11 |\n",
       "|  1 |  883 | 2 | 60 | 1 | 0 | 100 |  90 |   NA |  0 |\n",
       "| 12 | 1022 | 1 | 74 | 1 | 1 |  50 |  80 |  513 |  0 |\n",
       "\n"
      ],
      "text/plain": [
       "  inst time status age sex ph.ecog ph.karno pat.karno meal.cal wt.loss\n",
       "1  3    306 2      74  1   1        90      100       1175     NA     \n",
       "2  3    455 2      68  1   0        90       90       1225     15     \n",
       "3  3   1010 1      56  1   0        90       90         NA     15     \n",
       "4  5    210 2      57  1   1        90       60       1150     11     \n",
       "5  1    883 2      60  1   0       100       90         NA      0     \n",
       "6 12   1022 1      74  1   1        50       80        513      0     "
      ]
     },
     "metadata": {},
     "output_type": "display_data"
    }
   ],
   "source": [
    "# head(cancer)\n",
    "# Load 'cancer' data before loading the 'survival' package will result in error.\n",
    "library(survival)\n",
    "head(cancer)"
   ]
  },
  {
   "cell_type": "markdown",
   "metadata": {},
   "source": [
    "### 3.2.2 Import from external sources\n",
    "#### 1. Use Rstudio\n",
    "        File -> Import Datasets\n",
    "#### 2. Use code"
   ]
  },
  {
   "cell_type": "markdown",
   "metadata": {},
   "source": [
    "## 3.3 Export data"
   ]
  },
  {
   "cell_type": "code",
   "execution_count": 158,
   "metadata": {},
   "outputs": [
    {
     "data": {
      "text/html": [
       "<table>\n",
       "<caption>A data.frame: 4 × 2</caption>\n",
       "<thead>\n",
       "\t<tr><th scope=col>names</th><th scope=col>score</th></tr>\n",
       "\t<tr><th scope=col>&lt;fct&gt;</th><th scope=col>&lt;dbl&gt;</th></tr>\n",
       "</thead>\n",
       "<tbody>\n",
       "\t<tr><td>Lucy </td><td>67</td></tr>\n",
       "\t<tr><td>John </td><td>56</td></tr>\n",
       "\t<tr><td>Mark </td><td>87</td></tr>\n",
       "\t<tr><td>Candy</td><td>91</td></tr>\n",
       "</tbody>\n",
       "</table>\n"
      ],
      "text/latex": [
       "A data.frame: 4 × 2\n",
       "\\begin{tabular}{r|ll}\n",
       " names & score\\\\\n",
       " <fct> & <dbl>\\\\\n",
       "\\hline\n",
       "\t Lucy  & 67\\\\\n",
       "\t John  & 56\\\\\n",
       "\t Mark  & 87\\\\\n",
       "\t Candy & 91\\\\\n",
       "\\end{tabular}\n"
      ],
      "text/markdown": [
       "\n",
       "A data.frame: 4 × 2\n",
       "\n",
       "| names &lt;fct&gt; | score &lt;dbl&gt; |\n",
       "|---|---|\n",
       "| Lucy  | 67 |\n",
       "| John  | 56 |\n",
       "| Mark  | 87 |\n",
       "| Candy | 91 |\n",
       "\n"
      ],
      "text/plain": [
       "  names score\n",
       "1 Lucy  67   \n",
       "2 John  56   \n",
       "3 Mark  87   \n",
       "4 Candy 91   "
      ]
     },
     "metadata": {},
     "output_type": "display_data"
    }
   ],
   "source": [
    "df\n",
    "write.csv(df, file = \"~/Desktop/df.csv\")"
   ]
  },
  {
   "cell_type": "markdown",
   "metadata": {},
   "source": [
    "## 3.4 Save and load workspace image in R\n",
    "\n",
    "- Two functions: <b>save( )</b> and <b>load( )</b> allows saving and loading R workspace image.\n",
    "\n",
    "    - Saving workspace image will create a .RData file in your working directory.\n",
    "    - Your current work is saved.\n",
    "        - All the R objects in your environment\n",
    "        - Exporting data in the previous section saves individual R objects"
   ]
  },
  {
   "cell_type": "markdown",
   "metadata": {},
   "source": [
    "##### Exercise: modify an existing dataset for later use\n",
    "- Load the fake data from the course github repo\n",
    "    - https://raw.githubusercontent.com/ly129/EPIB613_2020/master/scores.csv\n",
    "- Delete the curved score and pass fail status (columns), and delete the EPIB 607 records (rows)\n",
    "- Change the names to \"a\", \"b\", \"c\", \"d\", \"e\" for privacy\n",
    "- Randomly select 3 out of 5 students and discard the other 2\n",
    "- Reorder the rows so that the scores are sorted in decreasing order\n",
    "- Save the workspace image to a local location\n",
    "- Save the data frame as a .csv file to a local location"
   ]
  },
  {
   "cell_type": "code",
   "execution_count": 159,
   "metadata": {},
   "outputs": [
    {
     "data": {
      "text/html": [
       "<table>\n",
       "<caption>A data.frame: 3 × 3</caption>\n",
       "<thead>\n",
       "\t<tr><th></th><th scope=col>students</th><th scope=col>course</th><th scope=col>scores</th></tr>\n",
       "\t<tr><th></th><th scope=col>&lt;chr&gt;</th><th scope=col>&lt;fct&gt;</th><th scope=col>&lt;int&gt;</th></tr>\n",
       "</thead>\n",
       "<tbody>\n",
       "\t<tr><th scope=row>5</th><td>e</td><td>epib607</td><td>84</td></tr>\n",
       "\t<tr><th scope=row>4</th><td>d</td><td>epib607</td><td>70</td></tr>\n",
       "\t<tr><th scope=row>3</th><td>c</td><td>epib607</td><td>55</td></tr>\n",
       "</tbody>\n",
       "</table>\n"
      ],
      "text/latex": [
       "A data.frame: 3 × 3\n",
       "\\begin{tabular}{r|lll}\n",
       "  & students & course & scores\\\\\n",
       "  & <chr> & <fct> & <int>\\\\\n",
       "\\hline\n",
       "\t5 & e & epib607 & 84\\\\\n",
       "\t4 & d & epib607 & 70\\\\\n",
       "\t3 & c & epib607 & 55\\\\\n",
       "\\end{tabular}\n"
      ],
      "text/markdown": [
       "\n",
       "A data.frame: 3 × 3\n",
       "\n",
       "| <!--/--> | students &lt;chr&gt; | course &lt;fct&gt; | scores &lt;int&gt; |\n",
       "|---|---|---|---|\n",
       "| 5 | e | epib607 | 84 |\n",
       "| 4 | d | epib607 | 70 |\n",
       "| 3 | c | epib607 | 55 |\n",
       "\n"
      ],
      "text/plain": [
       "  students course  scores\n",
       "5 e        epib607 84    \n",
       "4 d        epib607 70    \n",
       "3 c        epib607 55    "
      ]
     },
     "metadata": {},
     "output_type": "display_data"
    }
   ],
   "source": [
    "exercise.l3 <- read.csv(\"https://raw.githubusercontent.com/ly129/EPIB613_2020/master/scores.csv\")\n",
    "\n",
    "exercise.l3 <- exercise.l3[exercise.l3$course == \"epib607\", c(\"students\", \"course\", \"scores\")]\n",
    "\n",
    "exercise.l3$students <- letters[1:5]\n",
    "\n",
    "sample.index <- sample(1:5, size = 3, replace = F)\n",
    "\n",
    "exercise.l3 <- exercise.l3[sample.index, ]\n",
    "\n",
    "exercise.l3 <- exercise.l3[order(exercise.l3$scores, decreasing = T), ]\n",
    "\n",
    "exercise.l3\n",
    "\n",
    "# save.image(\"path/xxxx.RData\")\n",
    "# write.csv(exercise.l3, \"path/xxxx.csv\")"
   ]
  }
 ],
 "metadata": {
  "kernelspec": {
   "display_name": "R",
   "language": "R",
   "name": "ir"
  },
  "language_info": {
   "codemirror_mode": "r",
   "file_extension": ".r",
   "mimetype": "text/x-r-source",
   "name": "R",
   "pygments_lexer": "r",
   "version": "3.6.3"
  }
 },
 "nbformat": 4,
 "nbformat_minor": 4
}
