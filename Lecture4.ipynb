{
 "cells": [
  {
   "cell_type": "markdown",
   "metadata": {},
   "source": [
    "# <center>EPIB 613 INTRODUCTION TO STATISTICAL SOFTWARE</center>\n",
    "\n",
    "<center> McGill EBOH </center>\n",
    "\n",
    "<center> Fall 2020 </center>\n",
    "\n",
    "<center> Yi Lian </center>\n",
    "\n",
    "# Lecture 4\n",
    "1. Subset data\n",
    "2. Merge data\n",
    "\n",
    "## 4.1 Subset data\n",
    "#### Common tasks\n",
    "- Select/delete columns\n",
    "- Select/delete rows with or without conditions\n",
    "- Select columns and rows with or without conditions\n",
    "\n",
    "<b style=\"color:red;\">How many of you tried the exercise in the last lecture?</b>\n",
    "\n",
    "#### Using\n",
    "- $ and [ , ]\n",
    "- subset( )\n",
    "- <tt>dplyr</tt> package and the entire <tt>tidyverse</tt>\n",
    "\n",
    "##### Pick your favorite - one is enough."
   ]
  },
  {
   "cell_type": "code",
   "execution_count": 1,
   "metadata": {},
   "outputs": [
    {
     "data": {
      "text/html": [
       "<table>\n",
       "<caption>A data.frame: 5 × 6</caption>\n",
       "<thead>\n",
       "\t<tr><th scope=col>X</th><th scope=col>students</th><th scope=col>course</th><th scope=col>scores</th><th scope=col>curve</th><th scope=col>pass</th></tr>\n",
       "\t<tr><th scope=col>&lt;int&gt;</th><th scope=col>&lt;fct&gt;</th><th scope=col>&lt;fct&gt;</th><th scope=col>&lt;int&gt;</th><th scope=col>&lt;dbl&gt;</th><th scope=col>&lt;lgl&gt;</th></tr>\n",
       "</thead>\n",
       "<tbody>\n",
       "\t<tr><td>1</td><td>Lucy </td><td>epib607</td><td>80</td><td> 88.0</td><td> TRUE</td></tr>\n",
       "\t<tr><td>2</td><td>John </td><td>epib607</td><td>99</td><td>108.9</td><td> TRUE</td></tr>\n",
       "\t<tr><td>3</td><td>Mark </td><td>epib607</td><td>55</td><td> 60.5</td><td>FALSE</td></tr>\n",
       "\t<tr><td>4</td><td>Candy</td><td>epib607</td><td>70</td><td> 77.0</td><td> TRUE</td></tr>\n",
       "\t<tr><td>5</td><td>Chris</td><td>epib607</td><td>84</td><td> 92.4</td><td> TRUE</td></tr>\n",
       "</tbody>\n",
       "</table>\n"
      ],
      "text/latex": [
       "A data.frame: 5 × 6\n",
       "\\begin{tabular}{r|llllll}\n",
       " X & students & course & scores & curve & pass\\\\\n",
       " <int> & <fct> & <fct> & <int> & <dbl> & <lgl>\\\\\n",
       "\\hline\n",
       "\t 1 & Lucy  & epib607 & 80 &  88.0 &  TRUE\\\\\n",
       "\t 2 & John  & epib607 & 99 & 108.9 &  TRUE\\\\\n",
       "\t 3 & Mark  & epib607 & 55 &  60.5 & FALSE\\\\\n",
       "\t 4 & Candy & epib607 & 70 &  77.0 &  TRUE\\\\\n",
       "\t 5 & Chris & epib607 & 84 &  92.4 &  TRUE\\\\\n",
       "\\end{tabular}\n"
      ],
      "text/markdown": [
       "\n",
       "A data.frame: 5 × 6\n",
       "\n",
       "| X &lt;int&gt; | students &lt;fct&gt; | course &lt;fct&gt; | scores &lt;int&gt; | curve &lt;dbl&gt; | pass &lt;lgl&gt; |\n",
       "|---|---|---|---|---|---|\n",
       "| 1 | Lucy  | epib607 | 80 |  88.0 |  TRUE |\n",
       "| 2 | John  | epib607 | 99 | 108.9 |  TRUE |\n",
       "| 3 | Mark  | epib607 | 55 |  60.5 | FALSE |\n",
       "| 4 | Candy | epib607 | 70 |  77.0 |  TRUE |\n",
       "| 5 | Chris | epib607 | 84 |  92.4 |  TRUE |\n",
       "\n"
      ],
      "text/plain": [
       "  X students course  scores curve pass \n",
       "1 1 Lucy     epib607 80      88.0  TRUE\n",
       "2 2 John     epib607 99     108.9  TRUE\n",
       "3 3 Mark     epib607 55      60.5 FALSE\n",
       "4 4 Candy    epib607 70      77.0  TRUE\n",
       "5 5 Chris    epib607 84      92.4  TRUE"
      ]
     },
     "metadata": {},
     "output_type": "display_data"
    }
   ],
   "source": [
    "########## Lecture 4 ##########\n",
    "df <- read.csv(\"https://raw.githubusercontent.com/ly129/EPIB613_2020/master/scores.csv\")\n",
    "df <- df[1:5, ]\n",
    "df"
   ]
  },
  {
   "cell_type": "markdown",
   "metadata": {},
   "source": [
    "### 4.1.1 $ and [ , ]"
   ]
  },
  {
   "cell_type": "code",
   "execution_count": 2,
   "metadata": {},
   "outputs": [
    {
     "data": {
      "text/html": [
       "<ol class=list-inline>\n",
       "\t<li>'X'</li>\n",
       "\t<li>'students'</li>\n",
       "\t<li>'course'</li>\n",
       "\t<li>'scores'</li>\n",
       "\t<li>'curve'</li>\n",
       "\t<li>'pass'</li>\n",
       "</ol>\n"
      ],
      "text/latex": [
       "\\begin{enumerate*}\n",
       "\\item 'X'\n",
       "\\item 'students'\n",
       "\\item 'course'\n",
       "\\item 'scores'\n",
       "\\item 'curve'\n",
       "\\item 'pass'\n",
       "\\end{enumerate*}\n"
      ],
      "text/markdown": [
       "1. 'X'\n",
       "2. 'students'\n",
       "3. 'course'\n",
       "4. 'scores'\n",
       "5. 'curve'\n",
       "6. 'pass'\n",
       "\n",
       "\n"
      ],
      "text/plain": [
       "[1] \"X\"        \"students\" \"course\"   \"scores\"   \"curve\"    \"pass\"    "
      ]
     },
     "metadata": {},
     "output_type": "display_data"
    }
   ],
   "source": [
    "names(df)"
   ]
  },
  {
   "cell_type": "code",
   "execution_count": 3,
   "metadata": {},
   "outputs": [
    {
     "data": {
      "text/html": [
       "<ol class=list-inline>\n",
       "\t<li>Lucy</li>\n",
       "\t<li>John</li>\n",
       "\t<li>Mark</li>\n",
       "\t<li>Candy</li>\n",
       "\t<li>Chris</li>\n",
       "</ol>\n",
       "\n",
       "<details>\n",
       "\t<summary style=display:list-item;cursor:pointer>\n",
       "\t\t<strong>Levels</strong>:\n",
       "\t</summary>\n",
       "\t<ol class=list-inline>\n",
       "\t\t<li>'Candy'</li>\n",
       "\t\t<li>'Chris'</li>\n",
       "\t\t<li>'John'</li>\n",
       "\t\t<li>'Lucy'</li>\n",
       "\t\t<li>'Mark'</li>\n",
       "\t</ol>\n",
       "</details>"
      ],
      "text/latex": [
       "\\begin{enumerate*}\n",
       "\\item Lucy\n",
       "\\item John\n",
       "\\item Mark\n",
       "\\item Candy\n",
       "\\item Chris\n",
       "\\end{enumerate*}\n",
       "\n",
       "\\emph{Levels}: \\begin{enumerate*}\n",
       "\\item 'Candy'\n",
       "\\item 'Chris'\n",
       "\\item 'John'\n",
       "\\item 'Lucy'\n",
       "\\item 'Mark'\n",
       "\\end{enumerate*}\n"
      ],
      "text/markdown": [
       "1. Lucy\n",
       "2. John\n",
       "3. Mark\n",
       "4. Candy\n",
       "5. Chris\n",
       "\n",
       "\n",
       "\n",
       "**Levels**: 1. 'Candy'\n",
       "2. 'Chris'\n",
       "3. 'John'\n",
       "4. 'Lucy'\n",
       "5. 'Mark'\n",
       "\n",
       "\n"
      ],
      "text/plain": [
       "[1] Lucy  John  Mark  Candy Chris\n",
       "Levels: Candy Chris John Lucy Mark"
      ]
     },
     "metadata": {},
     "output_type": "display_data"
    }
   ],
   "source": [
    "# Recall the indexing system in R\n",
    "df$students   # Select one variable"
   ]
  },
  {
   "cell_type": "code",
   "execution_count": 4,
   "metadata": {},
   "outputs": [
    {
     "data": {
      "text/html": [
       "<table>\n",
       "<caption>A data.frame: 5 × 5</caption>\n",
       "<thead>\n",
       "\t<tr><th scope=col>students</th><th scope=col>course</th><th scope=col>scores</th><th scope=col>curve</th><th scope=col>pass</th></tr>\n",
       "\t<tr><th scope=col>&lt;fct&gt;</th><th scope=col>&lt;fct&gt;</th><th scope=col>&lt;int&gt;</th><th scope=col>&lt;dbl&gt;</th><th scope=col>&lt;lgl&gt;</th></tr>\n",
       "</thead>\n",
       "<tbody>\n",
       "\t<tr><td>Lucy </td><td>epib607</td><td>80</td><td> 88.0</td><td> TRUE</td></tr>\n",
       "\t<tr><td>John </td><td>epib607</td><td>99</td><td>108.9</td><td> TRUE</td></tr>\n",
       "\t<tr><td>Mark </td><td>epib607</td><td>55</td><td> 60.5</td><td>FALSE</td></tr>\n",
       "\t<tr><td>Candy</td><td>epib607</td><td>70</td><td> 77.0</td><td> TRUE</td></tr>\n",
       "\t<tr><td>Chris</td><td>epib607</td><td>84</td><td> 92.4</td><td> TRUE</td></tr>\n",
       "</tbody>\n",
       "</table>\n"
      ],
      "text/latex": [
       "A data.frame: 5 × 5\n",
       "\\begin{tabular}{r|lllll}\n",
       " students & course & scores & curve & pass\\\\\n",
       " <fct> & <fct> & <int> & <dbl> & <lgl>\\\\\n",
       "\\hline\n",
       "\t Lucy  & epib607 & 80 &  88.0 &  TRUE\\\\\n",
       "\t John  & epib607 & 99 & 108.9 &  TRUE\\\\\n",
       "\t Mark  & epib607 & 55 &  60.5 & FALSE\\\\\n",
       "\t Candy & epib607 & 70 &  77.0 &  TRUE\\\\\n",
       "\t Chris & epib607 & 84 &  92.4 &  TRUE\\\\\n",
       "\\end{tabular}\n"
      ],
      "text/markdown": [
       "\n",
       "A data.frame: 5 × 5\n",
       "\n",
       "| students &lt;fct&gt; | course &lt;fct&gt; | scores &lt;int&gt; | curve &lt;dbl&gt; | pass &lt;lgl&gt; |\n",
       "|---|---|---|---|---|\n",
       "| Lucy  | epib607 | 80 |  88.0 |  TRUE |\n",
       "| John  | epib607 | 99 | 108.9 |  TRUE |\n",
       "| Mark  | epib607 | 55 |  60.5 | FALSE |\n",
       "| Candy | epib607 | 70 |  77.0 |  TRUE |\n",
       "| Chris | epib607 | 84 |  92.4 |  TRUE |\n",
       "\n"
      ],
      "text/plain": [
       "  students course  scores curve pass \n",
       "1 Lucy     epib607 80      88.0  TRUE\n",
       "2 John     epib607 99     108.9  TRUE\n",
       "3 Mark     epib607 55      60.5 FALSE\n",
       "4 Candy    epib607 70      77.0  TRUE\n",
       "5 Chris    epib607 84      92.4  TRUE"
      ]
     },
     "metadata": {},
     "output_type": "display_data"
    }
   ],
   "source": [
    "# Delete one variable\n",
    "df$X <- NULL\n",
    "df"
   ]
  },
  {
   "cell_type": "code",
   "execution_count": 5,
   "metadata": {},
   "outputs": [
    {
     "data": {
      "text/html": [
       "<ol class=list-inline>\n",
       "\t<li>epib607</li>\n",
       "\t<li>epib607</li>\n",
       "\t<li>epib607</li>\n",
       "\t<li>epib607</li>\n",
       "\t<li>epib607</li>\n",
       "</ol>\n",
       "\n",
       "<details>\n",
       "\t<summary style=display:list-item;cursor:pointer>\n",
       "\t\t<strong>Levels</strong>:\n",
       "\t</summary>\n",
       "\t<ol class=list-inline>\n",
       "\t\t<li>'epib607'</li>\n",
       "\t\t<li>'epib613'</li>\n",
       "\t</ol>\n",
       "</details>"
      ],
      "text/latex": [
       "\\begin{enumerate*}\n",
       "\\item epib607\n",
       "\\item epib607\n",
       "\\item epib607\n",
       "\\item epib607\n",
       "\\item epib607\n",
       "\\end{enumerate*}\n",
       "\n",
       "\\emph{Levels}: \\begin{enumerate*}\n",
       "\\item 'epib607'\n",
       "\\item 'epib613'\n",
       "\\end{enumerate*}\n"
      ],
      "text/markdown": [
       "1. epib607\n",
       "2. epib607\n",
       "3. epib607\n",
       "4. epib607\n",
       "5. epib607\n",
       "\n",
       "\n",
       "\n",
       "**Levels**: 1. 'epib607'\n",
       "2. 'epib613'\n",
       "\n",
       "\n"
      ],
      "text/plain": [
       "[1] epib607 epib607 epib607 epib607 epib607\n",
       "Levels: epib607 epib613"
      ]
     },
     "metadata": {},
     "output_type": "display_data"
    }
   ],
   "source": [
    "df[, 2]"
   ]
  },
  {
   "cell_type": "code",
   "execution_count": 6,
   "metadata": {
    "scrolled": true
   },
   "outputs": [
    {
     "data": {
      "text/html": [
       "<ol class=list-inline>\n",
       "\t<li>80</li>\n",
       "\t<li>99</li>\n",
       "\t<li>55</li>\n",
       "\t<li>70</li>\n",
       "\t<li>84</li>\n",
       "</ol>\n"
      ],
      "text/latex": [
       "\\begin{enumerate*}\n",
       "\\item 80\n",
       "\\item 99\n",
       "\\item 55\n",
       "\\item 70\n",
       "\\item 84\n",
       "\\end{enumerate*}\n"
      ],
      "text/markdown": [
       "1. 80\n",
       "2. 99\n",
       "3. 55\n",
       "4. 70\n",
       "5. 84\n",
       "\n",
       "\n"
      ],
      "text/plain": [
       "[1] 80 99 55 70 84"
      ]
     },
     "metadata": {},
     "output_type": "display_data"
    }
   ],
   "source": [
    "df[ , \"scores\"]"
   ]
  },
  {
   "cell_type": "code",
   "execution_count": 7,
   "metadata": {},
   "outputs": [
    {
     "name": "stdout",
     "output_type": "stream",
     "text": [
      " int [1:5] 80 99 55 70 84\n"
     ]
    }
   ],
   "source": [
    "str(df[ , \"scores\"])   # 1D vector"
   ]
  },
  {
   "cell_type": "code",
   "execution_count": 8,
   "metadata": {
    "scrolled": false
   },
   "outputs": [
    {
     "data": {
      "text/html": [
       "<table>\n",
       "<caption>A data.frame: 5 × 1</caption>\n",
       "<thead>\n",
       "\t<tr><th scope=col>scores</th></tr>\n",
       "\t<tr><th scope=col>&lt;int&gt;</th></tr>\n",
       "</thead>\n",
       "<tbody>\n",
       "\t<tr><td>80</td></tr>\n",
       "\t<tr><td>99</td></tr>\n",
       "\t<tr><td>55</td></tr>\n",
       "\t<tr><td>70</td></tr>\n",
       "\t<tr><td>84</td></tr>\n",
       "</tbody>\n",
       "</table>\n"
      ],
      "text/latex": [
       "A data.frame: 5 × 1\n",
       "\\begin{tabular}{r|l}\n",
       " scores\\\\\n",
       " <int>\\\\\n",
       "\\hline\n",
       "\t 80\\\\\n",
       "\t 99\\\\\n",
       "\t 55\\\\\n",
       "\t 70\\\\\n",
       "\t 84\\\\\n",
       "\\end{tabular}\n"
      ],
      "text/markdown": [
       "\n",
       "A data.frame: 5 × 1\n",
       "\n",
       "| scores &lt;int&gt; |\n",
       "|---|\n",
       "| 80 |\n",
       "| 99 |\n",
       "| 55 |\n",
       "| 70 |\n",
       "| 84 |\n",
       "\n"
      ],
      "text/plain": [
       "  scores\n",
       "1 80    \n",
       "2 99    \n",
       "3 55    \n",
       "4 70    \n",
       "5 84    "
      ]
     },
     "metadata": {},
     "output_type": "display_data"
    },
    {
     "name": "stdout",
     "output_type": "stream",
     "text": [
      "'data.frame':\t5 obs. of  1 variable:\n",
      " $ scores: int  80 99 55 70 84\n"
     ]
    }
   ],
   "source": [
    "df[ , \"scores\", drop = FALSE]\n",
    "str(df[ , \"scores\", drop = FALSE])   # 4 x 1 data frame"
   ]
  },
  {
   "cell_type": "code",
   "execution_count": 9,
   "metadata": {
    "scrolled": true
   },
   "outputs": [
    {
     "data": {
      "text/html": [
       "<table>\n",
       "<caption>A data.frame: 1 × 5</caption>\n",
       "<thead>\n",
       "\t<tr><th scope=col>students</th><th scope=col>course</th><th scope=col>scores</th><th scope=col>curve</th><th scope=col>pass</th></tr>\n",
       "\t<tr><th scope=col>&lt;fct&gt;</th><th scope=col>&lt;fct&gt;</th><th scope=col>&lt;int&gt;</th><th scope=col>&lt;dbl&gt;</th><th scope=col>&lt;lgl&gt;</th></tr>\n",
       "</thead>\n",
       "<tbody>\n",
       "\t<tr><td>Lucy</td><td>epib607</td><td>80</td><td>88</td><td>TRUE</td></tr>\n",
       "</tbody>\n",
       "</table>\n"
      ],
      "text/latex": [
       "A data.frame: 1 × 5\n",
       "\\begin{tabular}{r|lllll}\n",
       " students & course & scores & curve & pass\\\\\n",
       " <fct> & <fct> & <int> & <dbl> & <lgl>\\\\\n",
       "\\hline\n",
       "\t Lucy & epib607 & 80 & 88 & TRUE\\\\\n",
       "\\end{tabular}\n"
      ],
      "text/markdown": [
       "\n",
       "A data.frame: 1 × 5\n",
       "\n",
       "| students &lt;fct&gt; | course &lt;fct&gt; | scores &lt;int&gt; | curve &lt;dbl&gt; | pass &lt;lgl&gt; |\n",
       "|---|---|---|---|---|\n",
       "| Lucy | epib607 | 80 | 88 | TRUE |\n",
       "\n"
      ],
      "text/plain": [
       "  students course  scores curve pass\n",
       "1 Lucy     epib607 80     88    TRUE"
      ]
     },
     "metadata": {},
     "output_type": "display_data"
    },
    {
     "name": "stdout",
     "output_type": "stream",
     "text": [
      "'data.frame':\t1 obs. of  5 variables:\n",
      " $ students: Factor w/ 5 levels \"Candy\",\"Chris\",..: 4\n",
      " $ course  : Factor w/ 2 levels \"epib607\",\"epib613\": 1\n",
      " $ scores  : int 80\n",
      " $ curve   : num 88\n",
      " $ pass    : logi TRUE\n"
     ]
    }
   ],
   "source": [
    "df[1, ]\n",
    "str(df[1, ])   # 1 x 4 data frame\n",
    "# Can we drop a dimension here? Why?"
   ]
  },
  {
   "cell_type": "code",
   "execution_count": 10,
   "metadata": {},
   "outputs": [
    {
     "data": {
      "text/html": [
       "<dl>\n",
       "\t<dt>$students</dt>\n",
       "\t\t<dd>Lucy\n",
       "<details>\n",
       "\t<summary style=display:list-item;cursor:pointer>\n",
       "\t\t<strong>Levels</strong>:\n",
       "\t</summary>\n",
       "\t<ol class=list-inline>\n",
       "\t\t<li>'Candy'</li>\n",
       "\t\t<li>'Chris'</li>\n",
       "\t\t<li>'John'</li>\n",
       "\t\t<li>'Lucy'</li>\n",
       "\t\t<li>'Mark'</li>\n",
       "\t</ol>\n",
       "</details></dd>\n",
       "\t<dt>$course</dt>\n",
       "\t\t<dd>epib607\n",
       "<details>\n",
       "\t<summary style=display:list-item;cursor:pointer>\n",
       "\t\t<strong>Levels</strong>:\n",
       "\t</summary>\n",
       "\t<ol class=list-inline>\n",
       "\t\t<li>'epib607'</li>\n",
       "\t\t<li>'epib613'</li>\n",
       "\t</ol>\n",
       "</details></dd>\n",
       "\t<dt>$scores</dt>\n",
       "\t\t<dd>80</dd>\n",
       "\t<dt>$curve</dt>\n",
       "\t\t<dd>88</dd>\n",
       "\t<dt>$pass</dt>\n",
       "\t\t<dd>TRUE</dd>\n",
       "</dl>\n"
      ],
      "text/latex": [
       "\\begin{description}\n",
       "\\item[\\$students] Lucy\n",
       "\\emph{Levels}: \\begin{enumerate*}\n",
       "\\item 'Candy'\n",
       "\\item 'Chris'\n",
       "\\item 'John'\n",
       "\\item 'Lucy'\n",
       "\\item 'Mark'\n",
       "\\end{enumerate*}\n",
       "\n",
       "\\item[\\$course] epib607\n",
       "\\emph{Levels}: \\begin{enumerate*}\n",
       "\\item 'epib607'\n",
       "\\item 'epib613'\n",
       "\\end{enumerate*}\n",
       "\n",
       "\\item[\\$scores] 80\n",
       "\\item[\\$curve] 88\n",
       "\\item[\\$pass] TRUE\n",
       "\\end{description}\n"
      ],
      "text/markdown": [
       "$students\n",
       ":   Lucy\n",
       "**Levels**: 1. 'Candy'\n",
       "2. 'Chris'\n",
       "3. 'John'\n",
       "4. 'Lucy'\n",
       "5. 'Mark'\n",
       "\n",
       "\n",
       "\n",
       "$course\n",
       ":   epib607\n",
       "**Levels**: 1. 'epib607'\n",
       "2. 'epib613'\n",
       "\n",
       "\n",
       "\n",
       "$scores\n",
       ":   80\n",
       "$curve\n",
       ":   88\n",
       "$pass\n",
       ":   TRUE\n",
       "\n",
       "\n"
      ],
      "text/plain": [
       "$students\n",
       "[1] Lucy\n",
       "Levels: Candy Chris John Lucy Mark\n",
       "\n",
       "$course\n",
       "[1] epib607\n",
       "Levels: epib607 epib613\n",
       "\n",
       "$scores\n",
       "[1] 80\n",
       "\n",
       "$curve\n",
       "[1] 88\n",
       "\n",
       "$pass\n",
       "[1] TRUE\n"
      ]
     },
     "metadata": {},
     "output_type": "display_data"
    }
   ],
   "source": [
    "df[1, , drop = TRUE]"
   ]
  },
  {
   "cell_type": "code",
   "execution_count": 11,
   "metadata": {
    "scrolled": true
   },
   "outputs": [
    {
     "data": {
      "text/html": [
       "<table>\n",
       "<caption>A data.frame: 5 × 3</caption>\n",
       "<thead>\n",
       "\t<tr><th scope=col>students</th><th scope=col>pass</th><th scope=col>scores</th></tr>\n",
       "\t<tr><th scope=col>&lt;fct&gt;</th><th scope=col>&lt;lgl&gt;</th><th scope=col>&lt;int&gt;</th></tr>\n",
       "</thead>\n",
       "<tbody>\n",
       "\t<tr><td>Lucy </td><td> TRUE</td><td>80</td></tr>\n",
       "\t<tr><td>John </td><td> TRUE</td><td>99</td></tr>\n",
       "\t<tr><td>Mark </td><td>FALSE</td><td>55</td></tr>\n",
       "\t<tr><td>Candy</td><td> TRUE</td><td>70</td></tr>\n",
       "\t<tr><td>Chris</td><td> TRUE</td><td>84</td></tr>\n",
       "</tbody>\n",
       "</table>\n"
      ],
      "text/latex": [
       "A data.frame: 5 × 3\n",
       "\\begin{tabular}{r|lll}\n",
       " students & pass & scores\\\\\n",
       " <fct> & <lgl> & <int>\\\\\n",
       "\\hline\n",
       "\t Lucy  &  TRUE & 80\\\\\n",
       "\t John  &  TRUE & 99\\\\\n",
       "\t Mark  & FALSE & 55\\\\\n",
       "\t Candy &  TRUE & 70\\\\\n",
       "\t Chris &  TRUE & 84\\\\\n",
       "\\end{tabular}\n"
      ],
      "text/markdown": [
       "\n",
       "A data.frame: 5 × 3\n",
       "\n",
       "| students &lt;fct&gt; | pass &lt;lgl&gt; | scores &lt;int&gt; |\n",
       "|---|---|---|\n",
       "| Lucy  |  TRUE | 80 |\n",
       "| John  |  TRUE | 99 |\n",
       "| Mark  | FALSE | 55 |\n",
       "| Candy |  TRUE | 70 |\n",
       "| Chris |  TRUE | 84 |\n",
       "\n"
      ],
      "text/plain": [
       "  students pass  scores\n",
       "1 Lucy      TRUE 80    \n",
       "2 John      TRUE 99    \n",
       "3 Mark     FALSE 55    \n",
       "4 Candy     TRUE 70    \n",
       "5 Chris     TRUE 84    "
      ]
     },
     "metadata": {},
     "output_type": "display_data"
    }
   ],
   "source": [
    "# Delete variable \"names\" + reorder columns\n",
    "df[ , c(\"students\", \"pass\", \"scores\")]"
   ]
  },
  {
   "cell_type": "code",
   "execution_count": 12,
   "metadata": {
    "scrolled": true
   },
   "outputs": [
    {
     "data": {
      "text/html": [
       "<table>\n",
       "<caption>A data.frame: 4 × 5</caption>\n",
       "<thead>\n",
       "\t<tr><th></th><th scope=col>students</th><th scope=col>course</th><th scope=col>scores</th><th scope=col>curve</th><th scope=col>pass</th></tr>\n",
       "\t<tr><th></th><th scope=col>&lt;fct&gt;</th><th scope=col>&lt;fct&gt;</th><th scope=col>&lt;int&gt;</th><th scope=col>&lt;dbl&gt;</th><th scope=col>&lt;lgl&gt;</th></tr>\n",
       "</thead>\n",
       "<tbody>\n",
       "\t<tr><th scope=row>1</th><td>Lucy </td><td>epib607</td><td>80</td><td> 88.0</td><td>TRUE</td></tr>\n",
       "\t<tr><th scope=row>2</th><td>John </td><td>epib607</td><td>99</td><td>108.9</td><td>TRUE</td></tr>\n",
       "\t<tr><th scope=row>4</th><td>Candy</td><td>epib607</td><td>70</td><td> 77.0</td><td>TRUE</td></tr>\n",
       "\t<tr><th scope=row>5</th><td>Chris</td><td>epib607</td><td>84</td><td> 92.4</td><td>TRUE</td></tr>\n",
       "</tbody>\n",
       "</table>\n"
      ],
      "text/latex": [
       "A data.frame: 4 × 5\n",
       "\\begin{tabular}{r|lllll}\n",
       "  & students & course & scores & curve & pass\\\\\n",
       "  & <fct> & <fct> & <int> & <dbl> & <lgl>\\\\\n",
       "\\hline\n",
       "\t1 & Lucy  & epib607 & 80 &  88.0 & TRUE\\\\\n",
       "\t2 & John  & epib607 & 99 & 108.9 & TRUE\\\\\n",
       "\t4 & Candy & epib607 & 70 &  77.0 & TRUE\\\\\n",
       "\t5 & Chris & epib607 & 84 &  92.4 & TRUE\\\\\n",
       "\\end{tabular}\n"
      ],
      "text/markdown": [
       "\n",
       "A data.frame: 4 × 5\n",
       "\n",
       "| <!--/--> | students &lt;fct&gt; | course &lt;fct&gt; | scores &lt;int&gt; | curve &lt;dbl&gt; | pass &lt;lgl&gt; |\n",
       "|---|---|---|---|---|---|\n",
       "| 1 | Lucy  | epib607 | 80 |  88.0 | TRUE |\n",
       "| 2 | John  | epib607 | 99 | 108.9 | TRUE |\n",
       "| 4 | Candy | epib607 | 70 |  77.0 | TRUE |\n",
       "| 5 | Chris | epib607 | 84 |  92.4 | TRUE |\n",
       "\n"
      ],
      "text/plain": [
       "  students course  scores curve pass\n",
       "1 Lucy     epib607 80      88.0 TRUE\n",
       "2 John     epib607 99     108.9 TRUE\n",
       "4 Candy    epib607 70      77.0 TRUE\n",
       "5 Chris    epib607 84      92.4 TRUE"
      ]
     },
     "metadata": {},
     "output_type": "display_data"
    }
   ],
   "source": [
    "# Select rows that passed\n",
    "df[df$pass == TRUE, ]"
   ]
  },
  {
   "cell_type": "code",
   "execution_count": 13,
   "metadata": {},
   "outputs": [
    {
     "data": {
      "text/html": [
       "<table>\n",
       "<caption>A data.frame: 1 × 5</caption>\n",
       "<thead>\n",
       "\t<tr><th scope=col>students</th><th scope=col>course</th><th scope=col>scores</th><th scope=col>curve</th><th scope=col>pass</th></tr>\n",
       "\t<tr><th scope=col>&lt;fct&gt;</th><th scope=col>&lt;fct&gt;</th><th scope=col>&lt;int&gt;</th><th scope=col>&lt;dbl&gt;</th><th scope=col>&lt;lgl&gt;</th></tr>\n",
       "</thead>\n",
       "<tbody>\n",
       "\t<tr><td>Lucy</td><td>epib607</td><td>80</td><td>88</td><td>TRUE</td></tr>\n",
       "</tbody>\n",
       "</table>\n"
      ],
      "text/latex": [
       "A data.frame: 1 × 5\n",
       "\\begin{tabular}{r|lllll}\n",
       " students & course & scores & curve & pass\\\\\n",
       " <fct> & <fct> & <int> & <dbl> & <lgl>\\\\\n",
       "\\hline\n",
       "\t Lucy & epib607 & 80 & 88 & TRUE\\\\\n",
       "\\end{tabular}\n"
      ],
      "text/markdown": [
       "\n",
       "A data.frame: 1 × 5\n",
       "\n",
       "| students &lt;fct&gt; | course &lt;fct&gt; | scores &lt;int&gt; | curve &lt;dbl&gt; | pass &lt;lgl&gt; |\n",
       "|---|---|---|---|---|\n",
       "| Lucy | epib607 | 80 | 88 | TRUE |\n",
       "\n"
      ],
      "text/plain": [
       "  students course  scores curve pass\n",
       "1 Lucy     epib607 80     88    TRUE"
      ]
     },
     "metadata": {},
     "output_type": "display_data"
    }
   ],
   "source": [
    "df[df$students == \"Lucy\", ]"
   ]
  },
  {
   "cell_type": "code",
   "execution_count": 14,
   "metadata": {
    "scrolled": true
   },
   "outputs": [
    {
     "data": {
      "text/html": [
       "<table>\n",
       "<caption>A data.frame: 5 × 3</caption>\n",
       "<thead>\n",
       "\t<tr><th scope=col>scores</th><th scope=col>curve</th><th scope=col>pass</th></tr>\n",
       "\t<tr><th scope=col>&lt;int&gt;</th><th scope=col>&lt;dbl&gt;</th><th scope=col>&lt;lgl&gt;</th></tr>\n",
       "</thead>\n",
       "<tbody>\n",
       "\t<tr><td>80</td><td> 88.0</td><td> TRUE</td></tr>\n",
       "\t<tr><td>99</td><td>108.9</td><td> TRUE</td></tr>\n",
       "\t<tr><td>55</td><td> 60.5</td><td>FALSE</td></tr>\n",
       "\t<tr><td>70</td><td> 77.0</td><td> TRUE</td></tr>\n",
       "\t<tr><td>84</td><td> 92.4</td><td> TRUE</td></tr>\n",
       "</tbody>\n",
       "</table>\n"
      ],
      "text/latex": [
       "A data.frame: 5 × 3\n",
       "\\begin{tabular}{r|lll}\n",
       " scores & curve & pass\\\\\n",
       " <int> & <dbl> & <lgl>\\\\\n",
       "\\hline\n",
       "\t 80 &  88.0 &  TRUE\\\\\n",
       "\t 99 & 108.9 &  TRUE\\\\\n",
       "\t 55 &  60.5 & FALSE\\\\\n",
       "\t 70 &  77.0 &  TRUE\\\\\n",
       "\t 84 &  92.4 &  TRUE\\\\\n",
       "\\end{tabular}\n"
      ],
      "text/markdown": [
       "\n",
       "A data.frame: 5 × 3\n",
       "\n",
       "| scores &lt;int&gt; | curve &lt;dbl&gt; | pass &lt;lgl&gt; |\n",
       "|---|---|---|\n",
       "| 80 |  88.0 |  TRUE |\n",
       "| 99 | 108.9 |  TRUE |\n",
       "| 55 |  60.5 | FALSE |\n",
       "| 70 |  77.0 |  TRUE |\n",
       "| 84 |  92.4 |  TRUE |\n",
       "\n"
      ],
      "text/plain": [
       "  scores curve pass \n",
       "1 80      88.0  TRUE\n",
       "2 99     108.9  TRUE\n",
       "3 55      60.5 FALSE\n",
       "4 70      77.0  TRUE\n",
       "5 84      92.4  TRUE"
      ]
     },
     "metadata": {},
     "output_type": "display_data"
    }
   ],
   "source": [
    "# Delete variable\n",
    "df[ , -c(1, 2)]   # Delete the 1st and 2nd"
   ]
  },
  {
   "cell_type": "code",
   "execution_count": 15,
   "metadata": {
    "scrolled": true
   },
   "outputs": [
    {
     "data": {
      "text/html": [
       "<table>\n",
       "<caption>A data.frame: 5 × 3</caption>\n",
       "<thead>\n",
       "\t<tr><th scope=col>course</th><th scope=col>scores</th><th scope=col>pass</th></tr>\n",
       "\t<tr><th scope=col>&lt;fct&gt;</th><th scope=col>&lt;int&gt;</th><th scope=col>&lt;lgl&gt;</th></tr>\n",
       "</thead>\n",
       "<tbody>\n",
       "\t<tr><td>epib607</td><td>80</td><td> TRUE</td></tr>\n",
       "\t<tr><td>epib607</td><td>99</td><td> TRUE</td></tr>\n",
       "\t<tr><td>epib607</td><td>55</td><td>FALSE</td></tr>\n",
       "\t<tr><td>epib607</td><td>70</td><td> TRUE</td></tr>\n",
       "\t<tr><td>epib607</td><td>84</td><td> TRUE</td></tr>\n",
       "</tbody>\n",
       "</table>\n"
      ],
      "text/latex": [
       "A data.frame: 5 × 3\n",
       "\\begin{tabular}{r|lll}\n",
       " course & scores & pass\\\\\n",
       " <fct> & <int> & <lgl>\\\\\n",
       "\\hline\n",
       "\t epib607 & 80 &  TRUE\\\\\n",
       "\t epib607 & 99 &  TRUE\\\\\n",
       "\t epib607 & 55 & FALSE\\\\\n",
       "\t epib607 & 70 &  TRUE\\\\\n",
       "\t epib607 & 84 &  TRUE\\\\\n",
       "\\end{tabular}\n"
      ],
      "text/markdown": [
       "\n",
       "A data.frame: 5 × 3\n",
       "\n",
       "| course &lt;fct&gt; | scores &lt;int&gt; | pass &lt;lgl&gt; |\n",
       "|---|---|---|\n",
       "| epib607 | 80 |  TRUE |\n",
       "| epib607 | 99 |  TRUE |\n",
       "| epib607 | 55 | FALSE |\n",
       "| epib607 | 70 |  TRUE |\n",
       "| epib607 | 84 |  TRUE |\n",
       "\n"
      ],
      "text/plain": [
       "  course  scores pass \n",
       "1 epib607 80      TRUE\n",
       "2 epib607 99      TRUE\n",
       "3 epib607 55     FALSE\n",
       "4 epib607 70      TRUE\n",
       "5 epib607 84      TRUE"
      ]
     },
     "metadata": {},
     "output_type": "display_data"
    }
   ],
   "source": [
    "# I believe that this used to work, but not anymore.\n",
    "# df[ , -c(\"names\", \"score\")]\n",
    "\n",
    "# Now\n",
    "drop <- c(\"students\", \"curve\")\n",
    "df[ , !names(df) %in% drop]"
   ]
  },
  {
   "cell_type": "code",
   "execution_count": 16,
   "metadata": {},
   "outputs": [
    {
     "data": {
      "text/html": [
       "<ol class=list-inline>\n",
       "\t<li>'students'</li>\n",
       "\t<li>'course'</li>\n",
       "\t<li>'scores'</li>\n",
       "\t<li>'curve'</li>\n",
       "\t<li>'pass'</li>\n",
       "</ol>\n"
      ],
      "text/latex": [
       "\\begin{enumerate*}\n",
       "\\item 'students'\n",
       "\\item 'course'\n",
       "\\item 'scores'\n",
       "\\item 'curve'\n",
       "\\item 'pass'\n",
       "\\end{enumerate*}\n"
      ],
      "text/markdown": [
       "1. 'students'\n",
       "2. 'course'\n",
       "3. 'scores'\n",
       "4. 'curve'\n",
       "5. 'pass'\n",
       "\n",
       "\n"
      ],
      "text/plain": [
       "[1] \"students\" \"course\"   \"scores\"   \"curve\"    \"pass\"    "
      ]
     },
     "metadata": {},
     "output_type": "display_data"
    },
    {
     "data": {
      "text/html": [
       "<ol class=list-inline>\n",
       "\t<li>FALSE</li>\n",
       "\t<li>TRUE</li>\n",
       "\t<li>TRUE</li>\n",
       "\t<li>FALSE</li>\n",
       "\t<li>TRUE</li>\n",
       "</ol>\n"
      ],
      "text/latex": [
       "\\begin{enumerate*}\n",
       "\\item FALSE\n",
       "\\item TRUE\n",
       "\\item TRUE\n",
       "\\item FALSE\n",
       "\\item TRUE\n",
       "\\end{enumerate*}\n"
      ],
      "text/markdown": [
       "1. FALSE\n",
       "2. TRUE\n",
       "3. TRUE\n",
       "4. FALSE\n",
       "5. TRUE\n",
       "\n",
       "\n"
      ],
      "text/plain": [
       "[1] FALSE  TRUE  TRUE FALSE  TRUE"
      ]
     },
     "metadata": {},
     "output_type": "display_data"
    }
   ],
   "source": [
    "names(df)\n",
    "!names(df) %in% drop"
   ]
  },
  {
   "cell_type": "code",
   "execution_count": 17,
   "metadata": {
    "scrolled": true
   },
   "outputs": [
    {
     "data": {
      "text/html": [
       "<table>\n",
       "<caption>A data.frame: 5 × 3</caption>\n",
       "<thead>\n",
       "\t<tr><th scope=col>course</th><th scope=col>scores</th><th scope=col>pass</th></tr>\n",
       "\t<tr><th scope=col>&lt;fct&gt;</th><th scope=col>&lt;int&gt;</th><th scope=col>&lt;lgl&gt;</th></tr>\n",
       "</thead>\n",
       "<tbody>\n",
       "\t<tr><td>epib607</td><td>80</td><td> TRUE</td></tr>\n",
       "\t<tr><td>epib607</td><td>99</td><td> TRUE</td></tr>\n",
       "\t<tr><td>epib607</td><td>55</td><td>FALSE</td></tr>\n",
       "\t<tr><td>epib607</td><td>70</td><td> TRUE</td></tr>\n",
       "\t<tr><td>epib607</td><td>84</td><td> TRUE</td></tr>\n",
       "</tbody>\n",
       "</table>\n"
      ],
      "text/latex": [
       "A data.frame: 5 × 3\n",
       "\\begin{tabular}{r|lll}\n",
       " course & scores & pass\\\\\n",
       " <fct> & <int> & <lgl>\\\\\n",
       "\\hline\n",
       "\t epib607 & 80 &  TRUE\\\\\n",
       "\t epib607 & 99 &  TRUE\\\\\n",
       "\t epib607 & 55 & FALSE\\\\\n",
       "\t epib607 & 70 &  TRUE\\\\\n",
       "\t epib607 & 84 &  TRUE\\\\\n",
       "\\end{tabular}\n"
      ],
      "text/markdown": [
       "\n",
       "A data.frame: 5 × 3\n",
       "\n",
       "| course &lt;fct&gt; | scores &lt;int&gt; | pass &lt;lgl&gt; |\n",
       "|---|---|---|\n",
       "| epib607 | 80 |  TRUE |\n",
       "| epib607 | 99 |  TRUE |\n",
       "| epib607 | 55 | FALSE |\n",
       "| epib607 | 70 |  TRUE |\n",
       "| epib607 | 84 |  TRUE |\n",
       "\n"
      ],
      "text/plain": [
       "  course  scores pass \n",
       "1 epib607 80      TRUE\n",
       "2 epib607 99      TRUE\n",
       "3 epib607 55     FALSE\n",
       "4 epib607 70      TRUE\n",
       "5 epib607 84      TRUE"
      ]
     },
     "metadata": {},
     "output_type": "display_data"
    }
   ],
   "source": [
    "select = c(\"course\", \"scores\", \"pass\")\n",
    "df[ , names(df) %in% select]"
   ]
  },
  {
   "cell_type": "code",
   "execution_count": 18,
   "metadata": {
    "scrolled": true
   },
   "outputs": [
    {
     "data": {
      "text/html": [
       "TRUE"
      ],
      "text/latex": [
       "TRUE"
      ],
      "text/markdown": [
       "TRUE"
      ],
      "text/plain": [
       "[1] TRUE"
      ]
     },
     "metadata": {},
     "output_type": "display_data"
    },
    {
     "data": {
      "text/html": [
       "FALSE"
      ],
      "text/latex": [
       "FALSE"
      ],
      "text/markdown": [
       "FALSE"
      ],
      "text/plain": [
       "[1] FALSE"
      ]
     },
     "metadata": {},
     "output_type": "display_data"
    },
    {
     "data": {
      "text/html": [
       "<ol class=list-inline>\n",
       "\t<li>TRUE</li>\n",
       "\t<li>FALSE</li>\n",
       "\t<li>TRUE</li>\n",
       "\t<li>FALSE</li>\n",
       "\t<li>TRUE</li>\n",
       "\t<li>FALSE</li>\n",
       "\t<li>FALSE</li>\n",
       "\t<li>FALSE</li>\n",
       "\t<li>FALSE</li>\n",
       "\t<li>FALSE</li>\n",
       "</ol>\n"
      ],
      "text/latex": [
       "\\begin{enumerate*}\n",
       "\\item TRUE\n",
       "\\item FALSE\n",
       "\\item TRUE\n",
       "\\item FALSE\n",
       "\\item TRUE\n",
       "\\item FALSE\n",
       "\\item FALSE\n",
       "\\item FALSE\n",
       "\\item FALSE\n",
       "\\item FALSE\n",
       "\\end{enumerate*}\n"
      ],
      "text/markdown": [
       "1. TRUE\n",
       "2. FALSE\n",
       "3. TRUE\n",
       "4. FALSE\n",
       "5. TRUE\n",
       "6. FALSE\n",
       "7. FALSE\n",
       "8. FALSE\n",
       "9. FALSE\n",
       "10. FALSE\n",
       "\n",
       "\n"
      ],
      "text/plain": [
       " [1]  TRUE FALSE  TRUE FALSE  TRUE FALSE FALSE FALSE FALSE FALSE"
      ]
     },
     "metadata": {},
     "output_type": "display_data"
    }
   ],
   "source": [
    "# How does this work?\n",
    "1 %in% c(1, 3, 5)\n",
    "\"b\" %in% c(\"a\", \"c\", \"e\")\n",
    "1:10 %in% c(1, 3, 5)"
   ]
  },
  {
   "cell_type": "markdown",
   "metadata": {},
   "source": [
    "##### a %in% b checks whether $a\\in b$ for every single entry in a.\n",
    "\n",
    "##### Exercise: show the name and score of those who passed except Lucy."
   ]
  },
  {
   "cell_type": "code",
   "execution_count": null,
   "metadata": {},
   "outputs": [],
   "source": []
  },
  {
   "cell_type": "markdown",
   "metadata": {},
   "source": [
    "### 4.1.2 subset( )\n",
    "    subset(x, subset, select, drop = FALSE, ...)"
   ]
  },
  {
   "cell_type": "code",
   "execution_count": 19,
   "metadata": {},
   "outputs": [
    {
     "data": {
      "text/html": [
       "<table>\n",
       "<caption>A data.frame: 5 × 5</caption>\n",
       "<thead>\n",
       "\t<tr><th scope=col>students</th><th scope=col>course</th><th scope=col>scores</th><th scope=col>curve</th><th scope=col>pass</th></tr>\n",
       "\t<tr><th scope=col>&lt;fct&gt;</th><th scope=col>&lt;fct&gt;</th><th scope=col>&lt;int&gt;</th><th scope=col>&lt;dbl&gt;</th><th scope=col>&lt;lgl&gt;</th></tr>\n",
       "</thead>\n",
       "<tbody>\n",
       "\t<tr><td>Lucy </td><td>epib607</td><td>80</td><td> 88.0</td><td> TRUE</td></tr>\n",
       "\t<tr><td>John </td><td>epib607</td><td>99</td><td>108.9</td><td> TRUE</td></tr>\n",
       "\t<tr><td>Mark </td><td>epib607</td><td>55</td><td> 60.5</td><td>FALSE</td></tr>\n",
       "\t<tr><td>Candy</td><td>epib607</td><td>70</td><td> 77.0</td><td> TRUE</td></tr>\n",
       "\t<tr><td>Chris</td><td>epib607</td><td>84</td><td> 92.4</td><td> TRUE</td></tr>\n",
       "</tbody>\n",
       "</table>\n"
      ],
      "text/latex": [
       "A data.frame: 5 × 5\n",
       "\\begin{tabular}{r|lllll}\n",
       " students & course & scores & curve & pass\\\\\n",
       " <fct> & <fct> & <int> & <dbl> & <lgl>\\\\\n",
       "\\hline\n",
       "\t Lucy  & epib607 & 80 &  88.0 &  TRUE\\\\\n",
       "\t John  & epib607 & 99 & 108.9 &  TRUE\\\\\n",
       "\t Mark  & epib607 & 55 &  60.5 & FALSE\\\\\n",
       "\t Candy & epib607 & 70 &  77.0 &  TRUE\\\\\n",
       "\t Chris & epib607 & 84 &  92.4 &  TRUE\\\\\n",
       "\\end{tabular}\n"
      ],
      "text/markdown": [
       "\n",
       "A data.frame: 5 × 5\n",
       "\n",
       "| students &lt;fct&gt; | course &lt;fct&gt; | scores &lt;int&gt; | curve &lt;dbl&gt; | pass &lt;lgl&gt; |\n",
       "|---|---|---|---|---|\n",
       "| Lucy  | epib607 | 80 |  88.0 |  TRUE |\n",
       "| John  | epib607 | 99 | 108.9 |  TRUE |\n",
       "| Mark  | epib607 | 55 |  60.5 | FALSE |\n",
       "| Candy | epib607 | 70 |  77.0 |  TRUE |\n",
       "| Chris | epib607 | 84 |  92.4 |  TRUE |\n",
       "\n"
      ],
      "text/plain": [
       "  students course  scores curve pass \n",
       "1 Lucy     epib607 80      88.0  TRUE\n",
       "2 John     epib607 99     108.9  TRUE\n",
       "3 Mark     epib607 55      60.5 FALSE\n",
       "4 Candy    epib607 70      77.0  TRUE\n",
       "5 Chris    epib607 84      92.4  TRUE"
      ]
     },
     "metadata": {},
     "output_type": "display_data"
    }
   ],
   "source": [
    "df"
   ]
  },
  {
   "cell_type": "code",
   "execution_count": 20,
   "metadata": {
    "scrolled": true
   },
   "outputs": [
    {
     "data": {
      "text/html": [
       "<table>\n",
       "<caption>A data.frame: 5 × 2</caption>\n",
       "<thead>\n",
       "\t<tr><th scope=col>students</th><th scope=col>pass</th></tr>\n",
       "\t<tr><th scope=col>&lt;fct&gt;</th><th scope=col>&lt;lgl&gt;</th></tr>\n",
       "</thead>\n",
       "<tbody>\n",
       "\t<tr><td>Lucy </td><td> TRUE</td></tr>\n",
       "\t<tr><td>John </td><td> TRUE</td></tr>\n",
       "\t<tr><td>Mark </td><td>FALSE</td></tr>\n",
       "\t<tr><td>Candy</td><td> TRUE</td></tr>\n",
       "\t<tr><td>Chris</td><td> TRUE</td></tr>\n",
       "</tbody>\n",
       "</table>\n"
      ],
      "text/latex": [
       "A data.frame: 5 × 2\n",
       "\\begin{tabular}{r|ll}\n",
       " students & pass\\\\\n",
       " <fct> & <lgl>\\\\\n",
       "\\hline\n",
       "\t Lucy  &  TRUE\\\\\n",
       "\t John  &  TRUE\\\\\n",
       "\t Mark  & FALSE\\\\\n",
       "\t Candy &  TRUE\\\\\n",
       "\t Chris &  TRUE\\\\\n",
       "\\end{tabular}\n"
      ],
      "text/markdown": [
       "\n",
       "A data.frame: 5 × 2\n",
       "\n",
       "| students &lt;fct&gt; | pass &lt;lgl&gt; |\n",
       "|---|---|\n",
       "| Lucy  |  TRUE |\n",
       "| John  |  TRUE |\n",
       "| Mark  | FALSE |\n",
       "| Candy |  TRUE |\n",
       "| Chris |  TRUE |\n",
       "\n"
      ],
      "text/plain": [
       "  students pass \n",
       "1 Lucy      TRUE\n",
       "2 John      TRUE\n",
       "3 Mark     FALSE\n",
       "4 Candy     TRUE\n",
       "5 Chris     TRUE"
      ]
     },
     "metadata": {},
     "output_type": "display_data"
    }
   ],
   "source": [
    "# \"select\" argument selects columns\n",
    "subset(df, select = c(students, pass))"
   ]
  },
  {
   "cell_type": "code",
   "execution_count": 21,
   "metadata": {
    "scrolled": true
   },
   "outputs": [
    {
     "data": {
      "text/html": [
       "<table>\n",
       "<caption>A data.frame: 5 × 3</caption>\n",
       "<thead>\n",
       "\t<tr><th scope=col>students</th><th scope=col>course</th><th scope=col>scores</th></tr>\n",
       "\t<tr><th scope=col>&lt;fct&gt;</th><th scope=col>&lt;fct&gt;</th><th scope=col>&lt;int&gt;</th></tr>\n",
       "</thead>\n",
       "<tbody>\n",
       "\t<tr><td>Lucy </td><td>epib607</td><td>80</td></tr>\n",
       "\t<tr><td>John </td><td>epib607</td><td>99</td></tr>\n",
       "\t<tr><td>Mark </td><td>epib607</td><td>55</td></tr>\n",
       "\t<tr><td>Candy</td><td>epib607</td><td>70</td></tr>\n",
       "\t<tr><td>Chris</td><td>epib607</td><td>84</td></tr>\n",
       "</tbody>\n",
       "</table>\n"
      ],
      "text/latex": [
       "A data.frame: 5 × 3\n",
       "\\begin{tabular}{r|lll}\n",
       " students & course & scores\\\\\n",
       " <fct> & <fct> & <int>\\\\\n",
       "\\hline\n",
       "\t Lucy  & epib607 & 80\\\\\n",
       "\t John  & epib607 & 99\\\\\n",
       "\t Mark  & epib607 & 55\\\\\n",
       "\t Candy & epib607 & 70\\\\\n",
       "\t Chris & epib607 & 84\\\\\n",
       "\\end{tabular}\n"
      ],
      "text/markdown": [
       "\n",
       "A data.frame: 5 × 3\n",
       "\n",
       "| students &lt;fct&gt; | course &lt;fct&gt; | scores &lt;int&gt; |\n",
       "|---|---|---|\n",
       "| Lucy  | epib607 | 80 |\n",
       "| John  | epib607 | 99 |\n",
       "| Mark  | epib607 | 55 |\n",
       "| Candy | epib607 | 70 |\n",
       "| Chris | epib607 | 84 |\n",
       "\n"
      ],
      "text/plain": [
       "  students course  scores\n",
       "1 Lucy     epib607 80    \n",
       "2 John     epib607 99    \n",
       "3 Mark     epib607 55    \n",
       "4 Candy    epib607 70    \n",
       "5 Chris    epib607 84    "
      ]
     },
     "metadata": {},
     "output_type": "display_data"
    }
   ],
   "source": [
    "# Can also delete unwanted columns\n",
    "subset(df, select = -c(curve, pass))"
   ]
  },
  {
   "cell_type": "code",
   "execution_count": 22,
   "metadata": {
    "scrolled": false
   },
   "outputs": [
    {
     "data": {
      "text/html": [
       "<table>\n",
       "<caption>A data.frame: 2 × 5</caption>\n",
       "<thead>\n",
       "\t<tr><th></th><th scope=col>students</th><th scope=col>course</th><th scope=col>scores</th><th scope=col>curve</th><th scope=col>pass</th></tr>\n",
       "\t<tr><th></th><th scope=col>&lt;fct&gt;</th><th scope=col>&lt;fct&gt;</th><th scope=col>&lt;int&gt;</th><th scope=col>&lt;dbl&gt;</th><th scope=col>&lt;lgl&gt;</th></tr>\n",
       "</thead>\n",
       "<tbody>\n",
       "\t<tr><th scope=row>2</th><td>John </td><td>epib607</td><td>99</td><td>108.9</td><td>TRUE</td></tr>\n",
       "\t<tr><th scope=row>5</th><td>Chris</td><td>epib607</td><td>84</td><td> 92.4</td><td>TRUE</td></tr>\n",
       "</tbody>\n",
       "</table>\n"
      ],
      "text/latex": [
       "A data.frame: 2 × 5\n",
       "\\begin{tabular}{r|lllll}\n",
       "  & students & course & scores & curve & pass\\\\\n",
       "  & <fct> & <fct> & <int> & <dbl> & <lgl>\\\\\n",
       "\\hline\n",
       "\t2 & John  & epib607 & 99 & 108.9 & TRUE\\\\\n",
       "\t5 & Chris & epib607 & 84 &  92.4 & TRUE\\\\\n",
       "\\end{tabular}\n"
      ],
      "text/markdown": [
       "\n",
       "A data.frame: 2 × 5\n",
       "\n",
       "| <!--/--> | students &lt;fct&gt; | course &lt;fct&gt; | scores &lt;int&gt; | curve &lt;dbl&gt; | pass &lt;lgl&gt; |\n",
       "|---|---|---|---|---|---|\n",
       "| 2 | John  | epib607 | 99 | 108.9 | TRUE |\n",
       "| 5 | Chris | epib607 | 84 |  92.4 | TRUE |\n",
       "\n"
      ],
      "text/plain": [
       "  students course  scores curve pass\n",
       "2 John     epib607 99     108.9 TRUE\n",
       "5 Chris    epib607 84      92.4 TRUE"
      ]
     },
     "metadata": {},
     "output_type": "display_data"
    }
   ],
   "source": [
    "# \"subset\" argument selects rows\n",
    "# Can apply conditions\n",
    "subset(df, subset = (scores > 80))"
   ]
  },
  {
   "cell_type": "code",
   "execution_count": 23,
   "metadata": {},
   "outputs": [
    {
     "data": {
      "text/html": [
       "<table>\n",
       "<caption>A data.frame: 4 × 1</caption>\n",
       "<thead>\n",
       "\t<tr><th></th><th scope=col>students</th></tr>\n",
       "\t<tr><th></th><th scope=col>&lt;fct&gt;</th></tr>\n",
       "</thead>\n",
       "<tbody>\n",
       "\t<tr><th scope=row>1</th><td>Lucy </td></tr>\n",
       "\t<tr><th scope=row>2</th><td>John </td></tr>\n",
       "\t<tr><th scope=row>4</th><td>Candy</td></tr>\n",
       "\t<tr><th scope=row>5</th><td>Chris</td></tr>\n",
       "</tbody>\n",
       "</table>\n"
      ],
      "text/latex": [
       "A data.frame: 4 × 1\n",
       "\\begin{tabular}{r|l}\n",
       "  & students\\\\\n",
       "  & <fct>\\\\\n",
       "\\hline\n",
       "\t1 & Lucy \\\\\n",
       "\t2 & John \\\\\n",
       "\t4 & Candy\\\\\n",
       "\t5 & Chris\\\\\n",
       "\\end{tabular}\n"
      ],
      "text/markdown": [
       "\n",
       "A data.frame: 4 × 1\n",
       "\n",
       "| <!--/--> | students &lt;fct&gt; |\n",
       "|---|---|\n",
       "| 1 | Lucy  |\n",
       "| 2 | John  |\n",
       "| 4 | Candy |\n",
       "| 5 | Chris |\n",
       "\n"
      ],
      "text/plain": [
       "  students\n",
       "1 Lucy    \n",
       "2 John    \n",
       "4 Candy   \n",
       "5 Chris   "
      ]
     },
     "metadata": {},
     "output_type": "display_data"
    }
   ],
   "source": [
    "# Now use both select and subset arguments to apply conditions\n",
    "# Select the names of those who passed\n",
    "subset(df, select = students, subset = (pass == TRUE))"
   ]
  },
  {
   "cell_type": "markdown",
   "metadata": {},
   "source": [
    "##### Note that all subsets are still data frames.\n",
    "##### Exercise: show the name and score of those who passed except Lucy."
   ]
  },
  {
   "cell_type": "code",
   "execution_count": 24,
   "metadata": {},
   "outputs": [],
   "source": [
    "# Show the name and score of those who passed except Lucy.\n",
    "# Recall logical operators &, | and !\n"
   ]
  },
  {
   "cell_type": "markdown",
   "metadata": {},
   "source": [
    "### 4.1.3 dplyr package\n",
    "\n",
    "    'dplyr is a grammar of data manipulation'\n",
    "https://dplyr.tidyverse.org\n",
    "\n",
    "I do not use this package, or any other packages within the whole <tt>tidyverse</tt>. https://www.tidyverse.org"
   ]
  },
  {
   "cell_type": "code",
   "execution_count": 25,
   "metadata": {
    "scrolled": false
   },
   "outputs": [
    {
     "name": "stderr",
     "output_type": "stream",
     "text": [
      "\n",
      "Attaching package: ‘dplyr’\n",
      "\n",
      "\n",
      "The following objects are masked from ‘package:stats’:\n",
      "\n",
      "    filter, lag\n",
      "\n",
      "\n",
      "The following objects are masked from ‘package:base’:\n",
      "\n",
      "    intersect, setdiff, setequal, union\n",
      "\n",
      "\n"
     ]
    }
   ],
   "source": [
    "library(dplyr)"
   ]
  },
  {
   "cell_type": "markdown",
   "metadata": {},
   "source": [
    "#### The messages\n",
    "- The 'stats' package and the 'base' package are installed when you install R and are loaded when you open R\n",
    "- They have some functions called filter( ), lag( ), intersect( ), etc\n",
    "- The 'dplyr' package has functions of the same name\n",
    "- After you load 'dplyr', when you call these functions, you will use the ones in 'dplyr' instead of the ones in 'stats' and 'base'.\n",
    "\n",
    "##### Exercise: Show the name and score of those who passed except Lucy."
   ]
  },
  {
   "cell_type": "markdown",
   "metadata": {},
   "source": [
    "#### dplyr cheetsheet\n",
    "https://github.com/rstudio/cheatsheets/blob/master/data-transformation.pdf"
   ]
  },
  {
   "cell_type": "markdown",
   "metadata": {},
   "source": [
    "## 4.2 Merge data\n",
    "### 4.2.1 Add cases/observations to a data frame\n",
    "This is basically adding rows."
   ]
  },
  {
   "cell_type": "code",
   "execution_count": 26,
   "metadata": {},
   "outputs": [
    {
     "data": {
      "text/html": [
       "<table>\n",
       "<caption>A data.frame: 5 × 5</caption>\n",
       "<thead>\n",
       "\t<tr><th scope=col>students</th><th scope=col>course</th><th scope=col>scores</th><th scope=col>curve</th><th scope=col>pass</th></tr>\n",
       "\t<tr><th scope=col>&lt;fct&gt;</th><th scope=col>&lt;fct&gt;</th><th scope=col>&lt;int&gt;</th><th scope=col>&lt;dbl&gt;</th><th scope=col>&lt;lgl&gt;</th></tr>\n",
       "</thead>\n",
       "<tbody>\n",
       "\t<tr><td>Lucy </td><td>epib607</td><td>80</td><td> 88.0</td><td> TRUE</td></tr>\n",
       "\t<tr><td>John </td><td>epib607</td><td>99</td><td>108.9</td><td> TRUE</td></tr>\n",
       "\t<tr><td>Mark </td><td>epib607</td><td>55</td><td> 60.5</td><td>FALSE</td></tr>\n",
       "\t<tr><td>Candy</td><td>epib607</td><td>70</td><td> 77.0</td><td> TRUE</td></tr>\n",
       "\t<tr><td>Chris</td><td>epib607</td><td>84</td><td> 92.4</td><td> TRUE</td></tr>\n",
       "</tbody>\n",
       "</table>\n"
      ],
      "text/latex": [
       "A data.frame: 5 × 5\n",
       "\\begin{tabular}{r|lllll}\n",
       " students & course & scores & curve & pass\\\\\n",
       " <fct> & <fct> & <int> & <dbl> & <lgl>\\\\\n",
       "\\hline\n",
       "\t Lucy  & epib607 & 80 &  88.0 &  TRUE\\\\\n",
       "\t John  & epib607 & 99 & 108.9 &  TRUE\\\\\n",
       "\t Mark  & epib607 & 55 &  60.5 & FALSE\\\\\n",
       "\t Candy & epib607 & 70 &  77.0 &  TRUE\\\\\n",
       "\t Chris & epib607 & 84 &  92.4 &  TRUE\\\\\n",
       "\\end{tabular}\n"
      ],
      "text/markdown": [
       "\n",
       "A data.frame: 5 × 5\n",
       "\n",
       "| students &lt;fct&gt; | course &lt;fct&gt; | scores &lt;int&gt; | curve &lt;dbl&gt; | pass &lt;lgl&gt; |\n",
       "|---|---|---|---|---|\n",
       "| Lucy  | epib607 | 80 |  88.0 |  TRUE |\n",
       "| John  | epib607 | 99 | 108.9 |  TRUE |\n",
       "| Mark  | epib607 | 55 |  60.5 | FALSE |\n",
       "| Candy | epib607 | 70 |  77.0 |  TRUE |\n",
       "| Chris | epib607 | 84 |  92.4 |  TRUE |\n",
       "\n"
      ],
      "text/plain": [
       "  students course  scores curve pass \n",
       "1 Lucy     epib607 80      88.0  TRUE\n",
       "2 John     epib607 99     108.9  TRUE\n",
       "3 Mark     epib607 55      60.5 FALSE\n",
       "4 Candy    epib607 70      77.0  TRUE\n",
       "5 Chris    epib607 84      92.4  TRUE"
      ]
     },
     "metadata": {},
     "output_type": "display_data"
    }
   ],
   "source": [
    "df"
   ]
  },
  {
   "cell_type": "code",
   "execution_count": 27,
   "metadata": {
    "scrolled": true
   },
   "outputs": [
    {
     "data": {
      "text/html": [
       "<table>\n",
       "<caption>A data.frame: 2 × 5</caption>\n",
       "<thead>\n",
       "\t<tr><th scope=col>students</th><th scope=col>course</th><th scope=col>scores</th><th scope=col>curve</th><th scope=col>pass</th></tr>\n",
       "\t<tr><th scope=col>&lt;fct&gt;</th><th scope=col>&lt;fct&gt;</th><th scope=col>&lt;dbl&gt;</th><th scope=col>&lt;dbl&gt;</th><th scope=col>&lt;lgl&gt;</th></tr>\n",
       "</thead>\n",
       "<tbody>\n",
       "\t<tr><td>Name</td><td>epib607</td><td>79</td><td>86.9</td><td> TRUE</td></tr>\n",
       "\t<tr><td>Nom </td><td>epib607</td><td>48</td><td>52.8</td><td>FALSE</td></tr>\n",
       "</tbody>\n",
       "</table>\n"
      ],
      "text/latex": [
       "A data.frame: 2 × 5\n",
       "\\begin{tabular}{r|lllll}\n",
       " students & course & scores & curve & pass\\\\\n",
       " <fct> & <fct> & <dbl> & <dbl> & <lgl>\\\\\n",
       "\\hline\n",
       "\t Name & epib607 & 79 & 86.9 &  TRUE\\\\\n",
       "\t Nom  & epib607 & 48 & 52.8 & FALSE\\\\\n",
       "\\end{tabular}\n"
      ],
      "text/markdown": [
       "\n",
       "A data.frame: 2 × 5\n",
       "\n",
       "| students &lt;fct&gt; | course &lt;fct&gt; | scores &lt;dbl&gt; | curve &lt;dbl&gt; | pass &lt;lgl&gt; |\n",
       "|---|---|---|---|---|\n",
       "| Name | epib607 | 79 | 86.9 |  TRUE |\n",
       "| Nom  | epib607 | 48 | 52.8 | FALSE |\n",
       "\n"
      ],
      "text/plain": [
       "  students course  scores curve pass \n",
       "1 Name     epib607 79     86.9   TRUE\n",
       "2 Nom      epib607 48     52.8  FALSE"
      ]
     },
     "metadata": {},
     "output_type": "display_data"
    }
   ],
   "source": [
    "# The column names must match exactly\n",
    "new.students <- data.frame(students = c(\"Name\", \"Nom\"),\n",
    "                           course = 'epib607',\n",
    "                           scores = c(79, 48),\n",
    "                           curve = c(79, 48) * 1.1,\n",
    "                           pass = c(TRUE, FALSE))\n",
    "new.students"
   ]
  },
  {
   "cell_type": "code",
   "execution_count": 28,
   "metadata": {
    "scrolled": true
   },
   "outputs": [
    {
     "data": {
      "text/html": [
       "<table>\n",
       "<caption>A data.frame: 7 × 5</caption>\n",
       "<thead>\n",
       "\t<tr><th scope=col>students</th><th scope=col>course</th><th scope=col>scores</th><th scope=col>curve</th><th scope=col>pass</th></tr>\n",
       "\t<tr><th scope=col>&lt;fct&gt;</th><th scope=col>&lt;fct&gt;</th><th scope=col>&lt;dbl&gt;</th><th scope=col>&lt;dbl&gt;</th><th scope=col>&lt;lgl&gt;</th></tr>\n",
       "</thead>\n",
       "<tbody>\n",
       "\t<tr><td>Lucy </td><td>epib607</td><td>80</td><td> 88.0</td><td> TRUE</td></tr>\n",
       "\t<tr><td>John </td><td>epib607</td><td>99</td><td>108.9</td><td> TRUE</td></tr>\n",
       "\t<tr><td>Mark </td><td>epib607</td><td>55</td><td> 60.5</td><td>FALSE</td></tr>\n",
       "\t<tr><td>Candy</td><td>epib607</td><td>70</td><td> 77.0</td><td> TRUE</td></tr>\n",
       "\t<tr><td>Chris</td><td>epib607</td><td>84</td><td> 92.4</td><td> TRUE</td></tr>\n",
       "\t<tr><td>Name </td><td>epib607</td><td>79</td><td> 86.9</td><td> TRUE</td></tr>\n",
       "\t<tr><td>Nom  </td><td>epib607</td><td>48</td><td> 52.8</td><td>FALSE</td></tr>\n",
       "</tbody>\n",
       "</table>\n"
      ],
      "text/latex": [
       "A data.frame: 7 × 5\n",
       "\\begin{tabular}{r|lllll}\n",
       " students & course & scores & curve & pass\\\\\n",
       " <fct> & <fct> & <dbl> & <dbl> & <lgl>\\\\\n",
       "\\hline\n",
       "\t Lucy  & epib607 & 80 &  88.0 &  TRUE\\\\\n",
       "\t John  & epib607 & 99 & 108.9 &  TRUE\\\\\n",
       "\t Mark  & epib607 & 55 &  60.5 & FALSE\\\\\n",
       "\t Candy & epib607 & 70 &  77.0 &  TRUE\\\\\n",
       "\t Chris & epib607 & 84 &  92.4 &  TRUE\\\\\n",
       "\t Name  & epib607 & 79 &  86.9 &  TRUE\\\\\n",
       "\t Nom   & epib607 & 48 &  52.8 & FALSE\\\\\n",
       "\\end{tabular}\n"
      ],
      "text/markdown": [
       "\n",
       "A data.frame: 7 × 5\n",
       "\n",
       "| students &lt;fct&gt; | course &lt;fct&gt; | scores &lt;dbl&gt; | curve &lt;dbl&gt; | pass &lt;lgl&gt; |\n",
       "|---|---|---|---|---|\n",
       "| Lucy  | epib607 | 80 |  88.0 |  TRUE |\n",
       "| John  | epib607 | 99 | 108.9 |  TRUE |\n",
       "| Mark  | epib607 | 55 |  60.5 | FALSE |\n",
       "| Candy | epib607 | 70 |  77.0 |  TRUE |\n",
       "| Chris | epib607 | 84 |  92.4 |  TRUE |\n",
       "| Name  | epib607 | 79 |  86.9 |  TRUE |\n",
       "| Nom   | epib607 | 48 |  52.8 | FALSE |\n",
       "\n"
      ],
      "text/plain": [
       "  students course  scores curve pass \n",
       "1 Lucy     epib607 80      88.0  TRUE\n",
       "2 John     epib607 99     108.9  TRUE\n",
       "3 Mark     epib607 55      60.5 FALSE\n",
       "4 Candy    epib607 70      77.0  TRUE\n",
       "5 Chris    epib607 84      92.4  TRUE\n",
       "6 Name     epib607 79      86.9  TRUE\n",
       "7 Nom      epib607 48      52.8 FALSE"
      ]
     },
     "metadata": {},
     "output_type": "display_data"
    }
   ],
   "source": [
    "df.new <- rbind(df, new.students); df.new"
   ]
  },
  {
   "cell_type": "markdown",
   "metadata": {},
   "source": [
    "##### Exercise: Replicate with dplyr"
   ]
  },
  {
   "cell_type": "code",
   "execution_count": null,
   "metadata": {},
   "outputs": [],
   "source": []
  },
  {
   "cell_type": "markdown",
   "metadata": {},
   "source": [
    "### 4.2.2 Add variables to a dataset\n",
    "This is adding columns."
   ]
  },
  {
   "cell_type": "code",
   "execution_count": 29,
   "metadata": {},
   "outputs": [
    {
     "data": {
      "text/html": [
       "<table>\n",
       "<caption>A data.frame: 5 × 6</caption>\n",
       "<thead>\n",
       "\t<tr><th scope=col>students</th><th scope=col>course</th><th scope=col>scores</th><th scope=col>curve</th><th scope=col>pass</th><th scope=col>id1</th></tr>\n",
       "\t<tr><th scope=col>&lt;fct&gt;</th><th scope=col>&lt;fct&gt;</th><th scope=col>&lt;int&gt;</th><th scope=col>&lt;dbl&gt;</th><th scope=col>&lt;lgl&gt;</th><th scope=col>&lt;int&gt;</th></tr>\n",
       "</thead>\n",
       "<tbody>\n",
       "\t<tr><td>Lucy </td><td>epib607</td><td>80</td><td> 88.0</td><td> TRUE</td><td>1</td></tr>\n",
       "\t<tr><td>John </td><td>epib607</td><td>99</td><td>108.9</td><td> TRUE</td><td>2</td></tr>\n",
       "\t<tr><td>Mark </td><td>epib607</td><td>55</td><td> 60.5</td><td>FALSE</td><td>3</td></tr>\n",
       "\t<tr><td>Candy</td><td>epib607</td><td>70</td><td> 77.0</td><td> TRUE</td><td>4</td></tr>\n",
       "\t<tr><td>Chris</td><td>epib607</td><td>84</td><td> 92.4</td><td> TRUE</td><td>5</td></tr>\n",
       "</tbody>\n",
       "</table>\n"
      ],
      "text/latex": [
       "A data.frame: 5 × 6\n",
       "\\begin{tabular}{r|llllll}\n",
       " students & course & scores & curve & pass & id1\\\\\n",
       " <fct> & <fct> & <int> & <dbl> & <lgl> & <int>\\\\\n",
       "\\hline\n",
       "\t Lucy  & epib607 & 80 &  88.0 &  TRUE & 1\\\\\n",
       "\t John  & epib607 & 99 & 108.9 &  TRUE & 2\\\\\n",
       "\t Mark  & epib607 & 55 &  60.5 & FALSE & 3\\\\\n",
       "\t Candy & epib607 & 70 &  77.0 &  TRUE & 4\\\\\n",
       "\t Chris & epib607 & 84 &  92.4 &  TRUE & 5\\\\\n",
       "\\end{tabular}\n"
      ],
      "text/markdown": [
       "\n",
       "A data.frame: 5 × 6\n",
       "\n",
       "| students &lt;fct&gt; | course &lt;fct&gt; | scores &lt;int&gt; | curve &lt;dbl&gt; | pass &lt;lgl&gt; | id1 &lt;int&gt; |\n",
       "|---|---|---|---|---|---|\n",
       "| Lucy  | epib607 | 80 |  88.0 |  TRUE | 1 |\n",
       "| John  | epib607 | 99 | 108.9 |  TRUE | 2 |\n",
       "| Mark  | epib607 | 55 |  60.5 | FALSE | 3 |\n",
       "| Candy | epib607 | 70 |  77.0 |  TRUE | 4 |\n",
       "| Chris | epib607 | 84 |  92.4 |  TRUE | 5 |\n",
       "\n"
      ],
      "text/plain": [
       "  students course  scores curve pass  id1\n",
       "1 Lucy     epib607 80      88.0  TRUE 1  \n",
       "2 John     epib607 99     108.9  TRUE 2  \n",
       "3 Mark     epib607 55      60.5 FALSE 3  \n",
       "4 Candy    epib607 70      77.0  TRUE 4  \n",
       "5 Chris    epib607 84      92.4  TRUE 5  "
      ]
     },
     "metadata": {},
     "output_type": "display_data"
    }
   ],
   "source": [
    "# Option 1\n",
    "df.copy <- df\n",
    "df.copy$id1 <- 1:5\n",
    "df.copy"
   ]
  },
  {
   "cell_type": "code",
   "execution_count": 30,
   "metadata": {},
   "outputs": [
    {
     "data": {
      "text/html": [
       "<table>\n",
       "<caption>A data.frame: 5 × 6</caption>\n",
       "<thead>\n",
       "\t<tr><th scope=col>students</th><th scope=col>course</th><th scope=col>scores</th><th scope=col>curve</th><th scope=col>pass</th><th scope=col>id2</th></tr>\n",
       "\t<tr><th scope=col>&lt;fct&gt;</th><th scope=col>&lt;fct&gt;</th><th scope=col>&lt;int&gt;</th><th scope=col>&lt;dbl&gt;</th><th scope=col>&lt;lgl&gt;</th><th scope=col>&lt;int&gt;</th></tr>\n",
       "</thead>\n",
       "<tbody>\n",
       "\t<tr><td>Lucy </td><td>epib607</td><td>80</td><td> 88.0</td><td> TRUE</td><td>1</td></tr>\n",
       "\t<tr><td>John </td><td>epib607</td><td>99</td><td>108.9</td><td> TRUE</td><td>2</td></tr>\n",
       "\t<tr><td>Mark </td><td>epib607</td><td>55</td><td> 60.5</td><td>FALSE</td><td>3</td></tr>\n",
       "\t<tr><td>Candy</td><td>epib607</td><td>70</td><td> 77.0</td><td> TRUE</td><td>4</td></tr>\n",
       "\t<tr><td>Chris</td><td>epib607</td><td>84</td><td> 92.4</td><td> TRUE</td><td>5</td></tr>\n",
       "</tbody>\n",
       "</table>\n"
      ],
      "text/latex": [
       "A data.frame: 5 × 6\n",
       "\\begin{tabular}{r|llllll}\n",
       " students & course & scores & curve & pass & id2\\\\\n",
       " <fct> & <fct> & <int> & <dbl> & <lgl> & <int>\\\\\n",
       "\\hline\n",
       "\t Lucy  & epib607 & 80 &  88.0 &  TRUE & 1\\\\\n",
       "\t John  & epib607 & 99 & 108.9 &  TRUE & 2\\\\\n",
       "\t Mark  & epib607 & 55 &  60.5 & FALSE & 3\\\\\n",
       "\t Candy & epib607 & 70 &  77.0 &  TRUE & 4\\\\\n",
       "\t Chris & epib607 & 84 &  92.4 &  TRUE & 5\\\\\n",
       "\\end{tabular}\n"
      ],
      "text/markdown": [
       "\n",
       "A data.frame: 5 × 6\n",
       "\n",
       "| students &lt;fct&gt; | course &lt;fct&gt; | scores &lt;int&gt; | curve &lt;dbl&gt; | pass &lt;lgl&gt; | id2 &lt;int&gt; |\n",
       "|---|---|---|---|---|---|\n",
       "| Lucy  | epib607 | 80 |  88.0 |  TRUE | 1 |\n",
       "| John  | epib607 | 99 | 108.9 |  TRUE | 2 |\n",
       "| Mark  | epib607 | 55 |  60.5 | FALSE | 3 |\n",
       "| Candy | epib607 | 70 |  77.0 |  TRUE | 4 |\n",
       "| Chris | epib607 | 84 |  92.4 |  TRUE | 5 |\n",
       "\n"
      ],
      "text/plain": [
       "  students course  scores curve pass  id2\n",
       "1 Lucy     epib607 80      88.0  TRUE 1  \n",
       "2 John     epib607 99     108.9  TRUE 2  \n",
       "3 Mark     epib607 55      60.5 FALSE 3  \n",
       "4 Candy    epib607 70      77.0  TRUE 4  \n",
       "5 Chris    epib607 84      92.4  TRUE 5  "
      ]
     },
     "metadata": {},
     "output_type": "display_data"
    }
   ],
   "source": [
    "# Option 2\n",
    "df.copy <- data.frame(df, id2 = 1:5)\n",
    "df.copy"
   ]
  },
  {
   "cell_type": "code",
   "execution_count": 31,
   "metadata": {},
   "outputs": [
    {
     "data": {
      "text/html": [
       "<table>\n",
       "<caption>A data.frame: 5 × 6</caption>\n",
       "<thead>\n",
       "\t<tr><th scope=col>id3</th><th scope=col>students</th><th scope=col>course</th><th scope=col>scores</th><th scope=col>curve</th><th scope=col>pass</th></tr>\n",
       "\t<tr><th scope=col>&lt;int&gt;</th><th scope=col>&lt;fct&gt;</th><th scope=col>&lt;fct&gt;</th><th scope=col>&lt;int&gt;</th><th scope=col>&lt;dbl&gt;</th><th scope=col>&lt;lgl&gt;</th></tr>\n",
       "</thead>\n",
       "<tbody>\n",
       "\t<tr><td>1</td><td>Lucy </td><td>epib607</td><td>80</td><td> 88.0</td><td> TRUE</td></tr>\n",
       "\t<tr><td>2</td><td>John </td><td>epib607</td><td>99</td><td>108.9</td><td> TRUE</td></tr>\n",
       "\t<tr><td>3</td><td>Mark </td><td>epib607</td><td>55</td><td> 60.5</td><td>FALSE</td></tr>\n",
       "\t<tr><td>4</td><td>Candy</td><td>epib607</td><td>70</td><td> 77.0</td><td> TRUE</td></tr>\n",
       "\t<tr><td>5</td><td>Chris</td><td>epib607</td><td>84</td><td> 92.4</td><td> TRUE</td></tr>\n",
       "</tbody>\n",
       "</table>\n"
      ],
      "text/latex": [
       "A data.frame: 5 × 6\n",
       "\\begin{tabular}{r|llllll}\n",
       " id3 & students & course & scores & curve & pass\\\\\n",
       " <int> & <fct> & <fct> & <int> & <dbl> & <lgl>\\\\\n",
       "\\hline\n",
       "\t 1 & Lucy  & epib607 & 80 &  88.0 &  TRUE\\\\\n",
       "\t 2 & John  & epib607 & 99 & 108.9 &  TRUE\\\\\n",
       "\t 3 & Mark  & epib607 & 55 &  60.5 & FALSE\\\\\n",
       "\t 4 & Candy & epib607 & 70 &  77.0 &  TRUE\\\\\n",
       "\t 5 & Chris & epib607 & 84 &  92.4 &  TRUE\\\\\n",
       "\\end{tabular}\n"
      ],
      "text/markdown": [
       "\n",
       "A data.frame: 5 × 6\n",
       "\n",
       "| id3 &lt;int&gt; | students &lt;fct&gt; | course &lt;fct&gt; | scores &lt;int&gt; | curve &lt;dbl&gt; | pass &lt;lgl&gt; |\n",
       "|---|---|---|---|---|---|\n",
       "| 1 | Lucy  | epib607 | 80 |  88.0 |  TRUE |\n",
       "| 2 | John  | epib607 | 99 | 108.9 |  TRUE |\n",
       "| 3 | Mark  | epib607 | 55 |  60.5 | FALSE |\n",
       "| 4 | Candy | epib607 | 70 |  77.0 |  TRUE |\n",
       "| 5 | Chris | epib607 | 84 |  92.4 |  TRUE |\n",
       "\n"
      ],
      "text/plain": [
       "  id3 students course  scores curve pass \n",
       "1 1   Lucy     epib607 80      88.0  TRUE\n",
       "2 2   John     epib607 99     108.9  TRUE\n",
       "3 3   Mark     epib607 55      60.5 FALSE\n",
       "4 4   Candy    epib607 70      77.0  TRUE\n",
       "5 5   Chris    epib607 84      92.4  TRUE"
      ]
     },
     "metadata": {},
     "output_type": "display_data"
    }
   ],
   "source": [
    "# Option 3\n",
    "id3 <- 1:5\n",
    "df <- cbind(id3, df)\n",
    "df"
   ]
  },
  {
   "cell_type": "markdown",
   "metadata": {},
   "source": [
    "##### Easily extend to adding multiple columns.\n",
    "\n",
    "##### Exercise: Replicate with dplyr"
   ]
  },
  {
   "cell_type": "code",
   "execution_count": null,
   "metadata": {},
   "outputs": [],
   "source": []
  },
  {
   "cell_type": "markdown",
   "metadata": {},
   "source": [
    "### 4.2.3 Merge data frames\n",
    "Can be very useful when we link databases. For example,\n",
    "1. Database 1 is the electronic health record.\u0010\n",
    "2. Database 2 is the claims data for prescription drugs.\n",
    "\n",
    "We can merge two databases using the unique patient ID."
   ]
  },
  {
   "cell_type": "code",
   "execution_count": 32,
   "metadata": {},
   "outputs": [
    {
     "data": {
      "text/html": [
       "<table>\n",
       "<caption>A data.frame: 5 × 6</caption>\n",
       "<thead>\n",
       "\t<tr><th scope=col>id</th><th scope=col>students</th><th scope=col>course</th><th scope=col>scores</th><th scope=col>curve</th><th scope=col>pass</th></tr>\n",
       "\t<tr><th scope=col>&lt;int&gt;</th><th scope=col>&lt;fct&gt;</th><th scope=col>&lt;fct&gt;</th><th scope=col>&lt;int&gt;</th><th scope=col>&lt;dbl&gt;</th><th scope=col>&lt;lgl&gt;</th></tr>\n",
       "</thead>\n",
       "<tbody>\n",
       "\t<tr><td>1</td><td>Lucy </td><td>epib607</td><td>80</td><td> 88.0</td><td> TRUE</td></tr>\n",
       "\t<tr><td>2</td><td>John </td><td>epib607</td><td>99</td><td>108.9</td><td> TRUE</td></tr>\n",
       "\t<tr><td>3</td><td>Mark </td><td>epib607</td><td>55</td><td> 60.5</td><td>FALSE</td></tr>\n",
       "\t<tr><td>4</td><td>Candy</td><td>epib607</td><td>70</td><td> 77.0</td><td> TRUE</td></tr>\n",
       "\t<tr><td>5</td><td>Chris</td><td>epib607</td><td>84</td><td> 92.4</td><td> TRUE</td></tr>\n",
       "</tbody>\n",
       "</table>\n"
      ],
      "text/latex": [
       "A data.frame: 5 × 6\n",
       "\\begin{tabular}{r|llllll}\n",
       " id & students & course & scores & curve & pass\\\\\n",
       " <int> & <fct> & <fct> & <int> & <dbl> & <lgl>\\\\\n",
       "\\hline\n",
       "\t 1 & Lucy  & epib607 & 80 &  88.0 &  TRUE\\\\\n",
       "\t 2 & John  & epib607 & 99 & 108.9 &  TRUE\\\\\n",
       "\t 3 & Mark  & epib607 & 55 &  60.5 & FALSE\\\\\n",
       "\t 4 & Candy & epib607 & 70 &  77.0 &  TRUE\\\\\n",
       "\t 5 & Chris & epib607 & 84 &  92.4 &  TRUE\\\\\n",
       "\\end{tabular}\n"
      ],
      "text/markdown": [
       "\n",
       "A data.frame: 5 × 6\n",
       "\n",
       "| id &lt;int&gt; | students &lt;fct&gt; | course &lt;fct&gt; | scores &lt;int&gt; | curve &lt;dbl&gt; | pass &lt;lgl&gt; |\n",
       "|---|---|---|---|---|---|\n",
       "| 1 | Lucy  | epib607 | 80 |  88.0 |  TRUE |\n",
       "| 2 | John  | epib607 | 99 | 108.9 |  TRUE |\n",
       "| 3 | Mark  | epib607 | 55 |  60.5 | FALSE |\n",
       "| 4 | Candy | epib607 | 70 |  77.0 |  TRUE |\n",
       "| 5 | Chris | epib607 | 84 |  92.4 |  TRUE |\n",
       "\n"
      ],
      "text/plain": [
       "  id students course  scores curve pass \n",
       "1 1  Lucy     epib607 80      88.0  TRUE\n",
       "2 2  John     epib607 99     108.9  TRUE\n",
       "3 3  Mark     epib607 55      60.5 FALSE\n",
       "4 4  Candy    epib607 70      77.0  TRUE\n",
       "5 5  Chris    epib607 84      92.4  TRUE"
      ]
     },
     "metadata": {},
     "output_type": "display_data"
    }
   ],
   "source": [
    "# df stores EPIB 607 scores\n",
    "names(df)[1] <- \"id\"\n",
    "df"
   ]
  },
  {
   "cell_type": "code",
   "execution_count": 33,
   "metadata": {},
   "outputs": [
    {
     "data": {
      "text/html": [
       "<table>\n",
       "<caption>A data.frame: 7 × 2</caption>\n",
       "<thead>\n",
       "\t<tr><th scope=col>id</th><th scope=col>major</th></tr>\n",
       "\t<tr><th scope=col>&lt;int&gt;</th><th scope=col>&lt;fct&gt;</th></tr>\n",
       "</thead>\n",
       "<tbody>\n",
       "\t<tr><td>1</td><td>MSc PH     </td></tr>\n",
       "\t<tr><td>2</td><td>PhD Epi    </td></tr>\n",
       "\t<tr><td>3</td><td>MSc Epi    </td></tr>\n",
       "\t<tr><td>4</td><td>MSc PH     </td></tr>\n",
       "\t<tr><td>5</td><td>MSc ExMed  </td></tr>\n",
       "\t<tr><td>6</td><td>PhD Biostat</td></tr>\n",
       "\t<tr><td>7</td><td>MSc Biostat</td></tr>\n",
       "</tbody>\n",
       "</table>\n"
      ],
      "text/latex": [
       "A data.frame: 7 × 2\n",
       "\\begin{tabular}{r|ll}\n",
       " id & major\\\\\n",
       " <int> & <fct>\\\\\n",
       "\\hline\n",
       "\t 1 & MSc PH     \\\\\n",
       "\t 2 & PhD Epi    \\\\\n",
       "\t 3 & MSc Epi    \\\\\n",
       "\t 4 & MSc PH     \\\\\n",
       "\t 5 & MSc ExMed  \\\\\n",
       "\t 6 & PhD Biostat\\\\\n",
       "\t 7 & MSc Biostat\\\\\n",
       "\\end{tabular}\n"
      ],
      "text/markdown": [
       "\n",
       "A data.frame: 7 × 2\n",
       "\n",
       "| id &lt;int&gt; | major &lt;fct&gt; |\n",
       "|---|---|\n",
       "| 1 | MSc PH      |\n",
       "| 2 | PhD Epi     |\n",
       "| 3 | MSc Epi     |\n",
       "| 4 | MSc PH      |\n",
       "| 5 | MSc ExMed   |\n",
       "| 6 | PhD Biostat |\n",
       "| 7 | MSc Biostat |\n",
       "\n"
      ],
      "text/plain": [
       "  id major      \n",
       "1 1  MSc PH     \n",
       "2 2  PhD Epi    \n",
       "3 3  MSc Epi    \n",
       "4 4  MSc PH     \n",
       "5 5  MSc ExMed  \n",
       "6 6  PhD Biostat\n",
       "7 7  MSc Biostat"
      ]
     },
     "metadata": {},
     "output_type": "display_data"
    }
   ],
   "source": [
    "# df.major stores student's ID and program of study of the entire department\n",
    "df.major <- data.frame(id = 1:7,\n",
    "                       major = c(\"MSc PH\", \"PhD Epi\", \"MSc Epi\",\n",
    "                                 \"MSc PH\", \"MSc ExMed\",\n",
    "                                 \"PhD Biostat\", \"MSc Biostat\"))\n",
    "df.major"
   ]
  },
  {
   "cell_type": "code",
   "execution_count": 34,
   "metadata": {},
   "outputs": [
    {
     "data": {
      "text/html": [
       "<table>\n",
       "<caption>A data.frame: 7 × 7</caption>\n",
       "<thead>\n",
       "\t<tr><th scope=col>id</th><th scope=col>students</th><th scope=col>course</th><th scope=col>scores</th><th scope=col>curve</th><th scope=col>pass</th><th scope=col>major</th></tr>\n",
       "\t<tr><th scope=col>&lt;int&gt;</th><th scope=col>&lt;fct&gt;</th><th scope=col>&lt;fct&gt;</th><th scope=col>&lt;int&gt;</th><th scope=col>&lt;dbl&gt;</th><th scope=col>&lt;lgl&gt;</th><th scope=col>&lt;fct&gt;</th></tr>\n",
       "</thead>\n",
       "<tbody>\n",
       "\t<tr><td>1</td><td>Lucy </td><td>epib607</td><td>80</td><td> 88.0</td><td> TRUE</td><td>MSc PH     </td></tr>\n",
       "\t<tr><td>2</td><td>John </td><td>epib607</td><td>99</td><td>108.9</td><td> TRUE</td><td>PhD Epi    </td></tr>\n",
       "\t<tr><td>3</td><td>Mark </td><td>epib607</td><td>55</td><td> 60.5</td><td>FALSE</td><td>MSc Epi    </td></tr>\n",
       "\t<tr><td>4</td><td>Candy</td><td>epib607</td><td>70</td><td> 77.0</td><td> TRUE</td><td>MSc PH     </td></tr>\n",
       "\t<tr><td>5</td><td>Chris</td><td>epib607</td><td>84</td><td> 92.4</td><td> TRUE</td><td>MSc ExMed  </td></tr>\n",
       "\t<tr><td>6</td><td>NA   </td><td>NA     </td><td>NA</td><td>   NA</td><td>   NA</td><td>PhD Biostat</td></tr>\n",
       "\t<tr><td>7</td><td>NA   </td><td>NA     </td><td>NA</td><td>   NA</td><td>   NA</td><td>MSc Biostat</td></tr>\n",
       "</tbody>\n",
       "</table>\n"
      ],
      "text/latex": [
       "A data.frame: 7 × 7\n",
       "\\begin{tabular}{r|lllllll}\n",
       " id & students & course & scores & curve & pass & major\\\\\n",
       " <int> & <fct> & <fct> & <int> & <dbl> & <lgl> & <fct>\\\\\n",
       "\\hline\n",
       "\t 1 & Lucy  & epib607 & 80 &  88.0 &  TRUE & MSc PH     \\\\\n",
       "\t 2 & John  & epib607 & 99 & 108.9 &  TRUE & PhD Epi    \\\\\n",
       "\t 3 & Mark  & epib607 & 55 &  60.5 & FALSE & MSc Epi    \\\\\n",
       "\t 4 & Candy & epib607 & 70 &  77.0 &  TRUE & MSc PH     \\\\\n",
       "\t 5 & Chris & epib607 & 84 &  92.4 &  TRUE & MSc ExMed  \\\\\n",
       "\t 6 & NA    & NA      & NA &    NA &    NA & PhD Biostat\\\\\n",
       "\t 7 & NA    & NA      & NA &    NA &    NA & MSc Biostat\\\\\n",
       "\\end{tabular}\n"
      ],
      "text/markdown": [
       "\n",
       "A data.frame: 7 × 7\n",
       "\n",
       "| id &lt;int&gt; | students &lt;fct&gt; | course &lt;fct&gt; | scores &lt;int&gt; | curve &lt;dbl&gt; | pass &lt;lgl&gt; | major &lt;fct&gt; |\n",
       "|---|---|---|---|---|---|---|\n",
       "| 1 | Lucy  | epib607 | 80 |  88.0 |  TRUE | MSc PH      |\n",
       "| 2 | John  | epib607 | 99 | 108.9 |  TRUE | PhD Epi     |\n",
       "| 3 | Mark  | epib607 | 55 |  60.5 | FALSE | MSc Epi     |\n",
       "| 4 | Candy | epib607 | 70 |  77.0 |  TRUE | MSc PH      |\n",
       "| 5 | Chris | epib607 | 84 |  92.4 |  TRUE | MSc ExMed   |\n",
       "| 6 | NA    | NA      | NA |    NA |    NA | PhD Biostat |\n",
       "| 7 | NA    | NA      | NA |    NA |    NA | MSc Biostat |\n",
       "\n"
      ],
      "text/plain": [
       "  id students course  scores curve pass  major      \n",
       "1 1  Lucy     epib607 80      88.0  TRUE MSc PH     \n",
       "2 2  John     epib607 99     108.9  TRUE PhD Epi    \n",
       "3 3  Mark     epib607 55      60.5 FALSE MSc Epi    \n",
       "4 4  Candy    epib607 70      77.0  TRUE MSc PH     \n",
       "5 5  Chris    epib607 84      92.4  TRUE MSc ExMed  \n",
       "6 6  NA       NA      NA        NA    NA PhD Biostat\n",
       "7 7  NA       NA      NA        NA    NA MSc Biostat"
      ]
     },
     "metadata": {},
     "output_type": "display_data"
    }
   ],
   "source": [
    "merge(df, df.major, by = \"id\", all = TRUE)"
   ]
  },
  {
   "cell_type": "code",
   "execution_count": 35,
   "metadata": {
    "scrolled": true
   },
   "outputs": [
    {
     "data": {
      "text/html": [
       "<table>\n",
       "<caption>A data.frame: 5 × 7</caption>\n",
       "<thead>\n",
       "\t<tr><th scope=col>id</th><th scope=col>students</th><th scope=col>course</th><th scope=col>scores</th><th scope=col>curve</th><th scope=col>pass</th><th scope=col>major</th></tr>\n",
       "\t<tr><th scope=col>&lt;int&gt;</th><th scope=col>&lt;fct&gt;</th><th scope=col>&lt;fct&gt;</th><th scope=col>&lt;int&gt;</th><th scope=col>&lt;dbl&gt;</th><th scope=col>&lt;lgl&gt;</th><th scope=col>&lt;fct&gt;</th></tr>\n",
       "</thead>\n",
       "<tbody>\n",
       "\t<tr><td>1</td><td>Lucy </td><td>epib607</td><td>80</td><td> 88.0</td><td> TRUE</td><td>MSc PH   </td></tr>\n",
       "\t<tr><td>2</td><td>John </td><td>epib607</td><td>99</td><td>108.9</td><td> TRUE</td><td>PhD Epi  </td></tr>\n",
       "\t<tr><td>3</td><td>Mark </td><td>epib607</td><td>55</td><td> 60.5</td><td>FALSE</td><td>MSc Epi  </td></tr>\n",
       "\t<tr><td>4</td><td>Candy</td><td>epib607</td><td>70</td><td> 77.0</td><td> TRUE</td><td>MSc PH   </td></tr>\n",
       "\t<tr><td>5</td><td>Chris</td><td>epib607</td><td>84</td><td> 92.4</td><td> TRUE</td><td>MSc ExMed</td></tr>\n",
       "</tbody>\n",
       "</table>\n"
      ],
      "text/latex": [
       "A data.frame: 5 × 7\n",
       "\\begin{tabular}{r|lllllll}\n",
       " id & students & course & scores & curve & pass & major\\\\\n",
       " <int> & <fct> & <fct> & <int> & <dbl> & <lgl> & <fct>\\\\\n",
       "\\hline\n",
       "\t 1 & Lucy  & epib607 & 80 &  88.0 &  TRUE & MSc PH   \\\\\n",
       "\t 2 & John  & epib607 & 99 & 108.9 &  TRUE & PhD Epi  \\\\\n",
       "\t 3 & Mark  & epib607 & 55 &  60.5 & FALSE & MSc Epi  \\\\\n",
       "\t 4 & Candy & epib607 & 70 &  77.0 &  TRUE & MSc PH   \\\\\n",
       "\t 5 & Chris & epib607 & 84 &  92.4 &  TRUE & MSc ExMed\\\\\n",
       "\\end{tabular}\n"
      ],
      "text/markdown": [
       "\n",
       "A data.frame: 5 × 7\n",
       "\n",
       "| id &lt;int&gt; | students &lt;fct&gt; | course &lt;fct&gt; | scores &lt;int&gt; | curve &lt;dbl&gt; | pass &lt;lgl&gt; | major &lt;fct&gt; |\n",
       "|---|---|---|---|---|---|---|\n",
       "| 1 | Lucy  | epib607 | 80 |  88.0 |  TRUE | MSc PH    |\n",
       "| 2 | John  | epib607 | 99 | 108.9 |  TRUE | PhD Epi   |\n",
       "| 3 | Mark  | epib607 | 55 |  60.5 | FALSE | MSc Epi   |\n",
       "| 4 | Candy | epib607 | 70 |  77.0 |  TRUE | MSc PH    |\n",
       "| 5 | Chris | epib607 | 84 |  92.4 |  TRUE | MSc ExMed |\n",
       "\n"
      ],
      "text/plain": [
       "  id students course  scores curve pass  major    \n",
       "1 1  Lucy     epib607 80      88.0  TRUE MSc PH   \n",
       "2 2  John     epib607 99     108.9  TRUE PhD Epi  \n",
       "3 3  Mark     epib607 55      60.5 FALSE MSc Epi  \n",
       "4 4  Candy    epib607 70      77.0  TRUE MSc PH   \n",
       "5 5  Chris    epib607 84      92.4  TRUE MSc ExMed"
      ]
     },
     "metadata": {},
     "output_type": "display_data"
    }
   ],
   "source": [
    "merge(df, df.major, by = \"id\", all = F)"
   ]
  },
  {
   "cell_type": "markdown",
   "metadata": {},
   "source": [
    "##### Exercise: Replicate with dplyr"
   ]
  },
  {
   "cell_type": "code",
   "execution_count": null,
   "metadata": {},
   "outputs": [],
   "source": []
  }
 ],
 "metadata": {
  "kernelspec": {
   "display_name": "R",
   "language": "R",
   "name": "ir"
  },
  "language_info": {
   "codemirror_mode": "r",
   "file_extension": ".r",
   "mimetype": "text/x-r-source",
   "name": "R",
   "pygments_lexer": "r",
   "version": "3.6.3"
  }
 },
 "nbformat": 4,
 "nbformat_minor": 4
}
