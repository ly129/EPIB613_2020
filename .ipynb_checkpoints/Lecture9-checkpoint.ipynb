{
 "cells": [
  {
   "cell_type": "markdown",
   "metadata": {},
   "source": [
    "# <center>EPIB 613 INTRODUCTION TO STATISTICAL SOFTWARE</center>\n",
    "\n",
    "<center> McGill EBOH </center>\n",
    "\n",
    "<center> Fall 2020 </center>\n",
    "\n",
    "<center> Yi Lian </center>\n",
    "\n",
    "# Lecture 9\n",
    "- More exercise on reshaping data\n",
    "- Preparing for coverage probability (EPIB 607)\n",
    "    - Distributions\n",
    "    - <tt>apply()</tt>\n",
    "- Coverage probability"
   ]
  },
  {
   "cell_type": "markdown",
   "metadata": {},
   "source": [
    "## 1. More exercise on reshaping data\n",
    "#### Change the Illinois case data (after 2020-07-12) from the long format (one row per county per day) to the wide format (one row per county with a column for each day), and back to the long format.\n",
    "- Use <tt>dplyr::pivot_wider()</tt>, <tt>dplyr::pivot_longer()</tt>\n",
    "- Use <tt>my_wider()</tt>, <tt>my_longer()</tt>"
   ]
  },
  {
   "cell_type": "code",
   "execution_count": 1,
   "metadata": {},
   "outputs": [
    {
     "name": "stderr",
     "output_type": "stream",
     "text": [
      "\n",
      "Attaching package: ‘covdata’\n",
      "\n",
      "\n",
      "The following object is masked from ‘package:datasets’:\n",
      "\n",
      "    uspop\n",
      "\n",
      "\n",
      "\n",
      "Attaching package: ‘dplyr’\n",
      "\n",
      "\n",
      "The following objects are masked from ‘package:stats’:\n",
      "\n",
      "    filter, lag\n",
      "\n",
      "\n",
      "The following objects are masked from ‘package:base’:\n",
      "\n",
      "    intersect, setdiff, setequal, union\n",
      "\n",
      "\n",
      "Parsed with column specification:\n",
      "cols(\n",
      "  .default = col_double(),\n",
      "  COUNTYNS = \u001b[31mcol_character()\u001b[39m,\n",
      "  GEOID = \u001b[31mcol_character()\u001b[39m,\n",
      "  NAME = \u001b[31mcol_character()\u001b[39m,\n",
      "  State = \u001b[31mcol_character()\u001b[39m,\n",
      "  created_user = \u001b[31mcol_character()\u001b[39m,\n",
      "  created_date = \u001b[31mcol_character()\u001b[39m,\n",
      "  last_edited_user = \u001b[31mcol_character()\u001b[39m,\n",
      "  last_edited_date = \u001b[31mcol_character()\u001b[39m\n",
      ")\n",
      "\n",
      "See spec(...) for full column specifications.\n",
      "\n"
     ]
    },
    {
     "data": {
      "text/html": [
       "<table>\n",
       "<caption>A grouped_df: 10 × 8</caption>\n",
       "<thead>\n",
       "\t<tr><th scope=col>date</th><th scope=col>county</th><th scope=col>state</th><th scope=col>fips</th><th scope=col>cases</th><th scope=col>deaths</th><th scope=col>population</th><th scope=col>cases.per.10k</th></tr>\n",
       "\t<tr><th scope=col>&lt;date&gt;</th><th scope=col>&lt;chr&gt;</th><th scope=col>&lt;chr&gt;</th><th scope=col>&lt;chr&gt;</th><th scope=col>&lt;dbl&gt;</th><th scope=col>&lt;dbl&gt;</th><th scope=col>&lt;dbl&gt;</th><th scope=col>&lt;dbl&gt;</th></tr>\n",
       "</thead>\n",
       "<tbody>\n",
       "\t<tr><td>2020-07-12</td><td>Adams</td><td>Illinois</td><td>17001</td><td>169</td><td>1</td><td>66427</td><td>25.44146</td></tr>\n",
       "\t<tr><td>2020-07-13</td><td>Adams</td><td>Illinois</td><td>17001</td><td>189</td><td>1</td><td>66427</td><td>28.45229</td></tr>\n",
       "\t<tr><td>2020-07-14</td><td>Adams</td><td>Illinois</td><td>17001</td><td>204</td><td>1</td><td>66427</td><td>30.71040</td></tr>\n",
       "\t<tr><td>2020-07-15</td><td>Adams</td><td>Illinois</td><td>17001</td><td>208</td><td>1</td><td>66427</td><td>31.31257</td></tr>\n",
       "\t<tr><td>2020-07-16</td><td>Adams</td><td>Illinois</td><td>17001</td><td>223</td><td>1</td><td>66427</td><td>33.57069</td></tr>\n",
       "\t<tr><td>2020-07-17</td><td>Adams</td><td>Illinois</td><td>17001</td><td>232</td><td>1</td><td>66427</td><td>34.92556</td></tr>\n",
       "\t<tr><td>2020-07-18</td><td>Adams</td><td>Illinois</td><td>17001</td><td>244</td><td>1</td><td>66427</td><td>36.73205</td></tr>\n",
       "\t<tr><td>2020-07-19</td><td>Adams</td><td>Illinois</td><td>17001</td><td>252</td><td>1</td><td>66427</td><td>37.93638</td></tr>\n",
       "\t<tr><td>2020-07-20</td><td>Adams</td><td>Illinois</td><td>17001</td><td>285</td><td>1</td><td>66427</td><td>42.90424</td></tr>\n",
       "\t<tr><td>2020-07-21</td><td>Adams</td><td>Illinois</td><td>17001</td><td>289</td><td>1</td><td>66427</td><td>43.50641</td></tr>\n",
       "</tbody>\n",
       "</table>\n"
      ],
      "text/latex": [
       "A grouped_df: 10 × 8\n",
       "\\begin{tabular}{r|llllllll}\n",
       " date & county & state & fips & cases & deaths & population & cases.per.10k\\\\\n",
       " <date> & <chr> & <chr> & <chr> & <dbl> & <dbl> & <dbl> & <dbl>\\\\\n",
       "\\hline\n",
       "\t 2020-07-12 & Adams & Illinois & 17001 & 169 & 1 & 66427 & 25.44146\\\\\n",
       "\t 2020-07-13 & Adams & Illinois & 17001 & 189 & 1 & 66427 & 28.45229\\\\\n",
       "\t 2020-07-14 & Adams & Illinois & 17001 & 204 & 1 & 66427 & 30.71040\\\\\n",
       "\t 2020-07-15 & Adams & Illinois & 17001 & 208 & 1 & 66427 & 31.31257\\\\\n",
       "\t 2020-07-16 & Adams & Illinois & 17001 & 223 & 1 & 66427 & 33.57069\\\\\n",
       "\t 2020-07-17 & Adams & Illinois & 17001 & 232 & 1 & 66427 & 34.92556\\\\\n",
       "\t 2020-07-18 & Adams & Illinois & 17001 & 244 & 1 & 66427 & 36.73205\\\\\n",
       "\t 2020-07-19 & Adams & Illinois & 17001 & 252 & 1 & 66427 & 37.93638\\\\\n",
       "\t 2020-07-20 & Adams & Illinois & 17001 & 285 & 1 & 66427 & 42.90424\\\\\n",
       "\t 2020-07-21 & Adams & Illinois & 17001 & 289 & 1 & 66427 & 43.50641\\\\\n",
       "\\end{tabular}\n"
      ],
      "text/markdown": [
       "\n",
       "A grouped_df: 10 × 8\n",
       "\n",
       "| date &lt;date&gt; | county &lt;chr&gt; | state &lt;chr&gt; | fips &lt;chr&gt; | cases &lt;dbl&gt; | deaths &lt;dbl&gt; | population &lt;dbl&gt; | cases.per.10k &lt;dbl&gt; |\n",
       "|---|---|---|---|---|---|---|---|\n",
       "| 2020-07-12 | Adams | Illinois | 17001 | 169 | 1 | 66427 | 25.44146 |\n",
       "| 2020-07-13 | Adams | Illinois | 17001 | 189 | 1 | 66427 | 28.45229 |\n",
       "| 2020-07-14 | Adams | Illinois | 17001 | 204 | 1 | 66427 | 30.71040 |\n",
       "| 2020-07-15 | Adams | Illinois | 17001 | 208 | 1 | 66427 | 31.31257 |\n",
       "| 2020-07-16 | Adams | Illinois | 17001 | 223 | 1 | 66427 | 33.57069 |\n",
       "| 2020-07-17 | Adams | Illinois | 17001 | 232 | 1 | 66427 | 34.92556 |\n",
       "| 2020-07-18 | Adams | Illinois | 17001 | 244 | 1 | 66427 | 36.73205 |\n",
       "| 2020-07-19 | Adams | Illinois | 17001 | 252 | 1 | 66427 | 37.93638 |\n",
       "| 2020-07-20 | Adams | Illinois | 17001 | 285 | 1 | 66427 | 42.90424 |\n",
       "| 2020-07-21 | Adams | Illinois | 17001 | 289 | 1 | 66427 | 43.50641 |\n",
       "\n"
      ],
      "text/plain": [
       "   date       county state    fips  cases deaths population cases.per.10k\n",
       "1  2020-07-12 Adams  Illinois 17001 169   1      66427      25.44146     \n",
       "2  2020-07-13 Adams  Illinois 17001 189   1      66427      28.45229     \n",
       "3  2020-07-14 Adams  Illinois 17001 204   1      66427      30.71040     \n",
       "4  2020-07-15 Adams  Illinois 17001 208   1      66427      31.31257     \n",
       "5  2020-07-16 Adams  Illinois 17001 223   1      66427      33.57069     \n",
       "6  2020-07-17 Adams  Illinois 17001 232   1      66427      34.92556     \n",
       "7  2020-07-18 Adams  Illinois 17001 244   1      66427      36.73205     \n",
       "8  2020-07-19 Adams  Illinois 17001 252   1      66427      37.93638     \n",
       "9  2020-07-20 Adams  Illinois 17001 285   1      66427      42.90424     \n",
       "10 2020-07-21 Adams  Illinois 17001 289   1      66427      43.50641     "
      ]
     },
     "metadata": {},
     "output_type": "display_data"
    }
   ],
   "source": [
    "library(covdata)\n",
    "library(dplyr)\n",
    "library(tidyr)\n",
    "library(ggplot2)\n",
    "library(readr)\n",
    "\n",
    "pop_county <- read_csv(\"https://opendata.arcgis.com/datasets/21843f238cbb46b08615fc53e19e0daf_1.csv\") %>% \n",
    "    dplyr::rename(fips = GEOID, population = B01001_001E, state = State) %>%\n",
    "    dplyr::select(state, fips, population)\n",
    "county_level <- nytcovcounty %>%\n",
    "    dplyr::left_join(pop_county, by = c(\"state\",\"fips\")) %>%\n",
    "    dplyr::mutate(cases.per.10k = cases/population * 1e4) %>%\n",
    "    dplyr::filter(state %in% c(\"Iowa\",\"Illinois\")) %>%\n",
    "    dplyr::group_by(county)\n",
    "# A subset that contains all dates after 2020-07-12 in Illinois\n",
    "illinois <- county_level[county_level$state == \"Illinois\" & county_level$date >= \"2020-07-12\", ]\n",
    "illinois[illinois$county == \"Adams\", ]"
   ]
  },
  {
   "cell_type": "code",
   "execution_count": 2,
   "metadata": {},
   "outputs": [],
   "source": [
    "my_wider <- function(data, pivot, names_from, values_from) {\n",
    "  \n",
    "  # reorder data - to take advantage of the ordering of factors\n",
    "  data <- data[order(data[, pivot]), ]\n",
    "  data <- data[order(data[, names_from]), ]\n",
    "  \n",
    "  # get column names\n",
    "  col.names <- unique(data[, names_from, drop = T])\n",
    "\n",
    "  # get number of columns - one for each course\n",
    "  n.col <- length(col.names)\n",
    "  \n",
    "  # generate pivot variable\n",
    "  pivot.var <- unique(data[, pivot, drop = T])\n",
    "  \n",
    "  # generate number of pivots\n",
    "  n.pivot <- length(pivot.var)\n",
    "  \n",
    "  # generate value matrix\n",
    "  value.mat <- matrix(data[, values_from, drop = T], nrow = n.pivot, ncol = n.col, byrow = F)\n",
    "  \n",
    "  # assemble wide data frame\n",
    "  data_wide <- data.frame(pivot.var, value.mat)\n",
    "  \n",
    "  # rename wide data frame\n",
    "  names(data_wide) <- c(pivot, as.character(col.names))\n",
    "  \n",
    "  return(data_wide)\n",
    "}\n",
    "\n",
    "my_longer <- function(data, pivot, cols, names_to, values_to) {\n",
    "  \n",
    "  # extract the values\n",
    "  values <- data[, cols]\n",
    "  \n",
    "  # change it to a vector, by column\n",
    "  values <- as.vector(as.matrix(values))\n",
    "  \n",
    "  # determine number of cols\n",
    "  n.col <- length(cols)\n",
    "  \n",
    "  # rep the pivot variable\n",
    "  pivot.var <- rep(unlist(data[, pivot]), n.col)\n",
    "  \n",
    "  # determine the number of pivots\n",
    "  n.pivot <- nrow(data)\n",
    "  \n",
    "  # make the names_to variable\n",
    "  names_to.var <- rep(cols, each = n.pivot)\n",
    "  \n",
    "  # assemble long data frame\n",
    "  data.long <- data.frame(pivot.var, names_to.var, values)\n",
    "  \n",
    "  # rename long data frame\n",
    "  names(data.long) <- c(pivot, names_to, values_to)\n",
    "  \n",
    "  return(data.long)\n",
    "  \n",
    "}"
   ]
  },
  {
   "cell_type": "code",
   "execution_count": 48,
   "metadata": {},
   "outputs": [
    {
     "data": {
      "text/html": [
       "<table>\n",
       "<caption>A grouped_df: 6 × 11</caption>\n",
       "<thead>\n",
       "\t<tr><th scope=col>county</th><th scope=col>2020-07-12</th><th scope=col>2020-07-13</th><th scope=col>2020-07-14</th><th scope=col>2020-07-15</th><th scope=col>2020-07-16</th><th scope=col>2020-07-17</th><th scope=col>2020-07-18</th><th scope=col>2020-07-19</th><th scope=col>2020-07-20</th><th scope=col>2020-07-21</th></tr>\n",
       "\t<tr><th scope=col>&lt;chr&gt;</th><th scope=col>&lt;dbl&gt;</th><th scope=col>&lt;dbl&gt;</th><th scope=col>&lt;dbl&gt;</th><th scope=col>&lt;dbl&gt;</th><th scope=col>&lt;dbl&gt;</th><th scope=col>&lt;dbl&gt;</th><th scope=col>&lt;dbl&gt;</th><th scope=col>&lt;dbl&gt;</th><th scope=col>&lt;dbl&gt;</th><th scope=col>&lt;dbl&gt;</th></tr>\n",
       "</thead>\n",
       "<tbody>\n",
       "\t<tr><td>Adams    </td><td>169</td><td>189</td><td>204</td><td>208</td><td>223</td><td>232</td><td>244</td><td>252</td><td>285</td><td>289</td></tr>\n",
       "\t<tr><td>Alexander</td><td> 25</td><td> 25</td><td> 25</td><td> 26</td><td> 27</td><td> 29</td><td> 30</td><td> 32</td><td> 32</td><td> 32</td></tr>\n",
       "\t<tr><td>Bond     </td><td> 22</td><td> 22</td><td> 22</td><td> 21</td><td> 23</td><td> 24</td><td> 24</td><td> 26</td><td> 25</td><td> 28</td></tr>\n",
       "\t<tr><td>Boone    </td><td>637</td><td>639</td><td>640</td><td>641</td><td>645</td><td>646</td><td>647</td><td>649</td><td>656</td><td>659</td></tr>\n",
       "\t<tr><td>Brown    </td><td> 10</td><td> 10</td><td> 10</td><td> 10</td><td> 10</td><td> 10</td><td> 10</td><td> 11</td><td> 11</td><td> 11</td></tr>\n",
       "\t<tr><td>Bureau   </td><td> 37</td><td> 38</td><td> 43</td><td> 44</td><td> 47</td><td> 48</td><td> 50</td><td> 53</td><td> 53</td><td> 57</td></tr>\n",
       "</tbody>\n",
       "</table>\n"
      ],
      "text/latex": [
       "A grouped_df: 6 × 11\n",
       "\\begin{tabular}{r|lllllllllll}\n",
       " county & 2020-07-12 & 2020-07-13 & 2020-07-14 & 2020-07-15 & 2020-07-16 & 2020-07-17 & 2020-07-18 & 2020-07-19 & 2020-07-20 & 2020-07-21\\\\\n",
       " <chr> & <dbl> & <dbl> & <dbl> & <dbl> & <dbl> & <dbl> & <dbl> & <dbl> & <dbl> & <dbl>\\\\\n",
       "\\hline\n",
       "\t Adams     & 169 & 189 & 204 & 208 & 223 & 232 & 244 & 252 & 285 & 289\\\\\n",
       "\t Alexander &  25 &  25 &  25 &  26 &  27 &  29 &  30 &  32 &  32 &  32\\\\\n",
       "\t Bond      &  22 &  22 &  22 &  21 &  23 &  24 &  24 &  26 &  25 &  28\\\\\n",
       "\t Boone     & 637 & 639 & 640 & 641 & 645 & 646 & 647 & 649 & 656 & 659\\\\\n",
       "\t Brown     &  10 &  10 &  10 &  10 &  10 &  10 &  10 &  11 &  11 &  11\\\\\n",
       "\t Bureau    &  37 &  38 &  43 &  44 &  47 &  48 &  50 &  53 &  53 &  57\\\\\n",
       "\\end{tabular}\n"
      ],
      "text/markdown": [
       "\n",
       "A grouped_df: 6 × 11\n",
       "\n",
       "| county &lt;chr&gt; | 2020-07-12 &lt;dbl&gt; | 2020-07-13 &lt;dbl&gt; | 2020-07-14 &lt;dbl&gt; | 2020-07-15 &lt;dbl&gt; | 2020-07-16 &lt;dbl&gt; | 2020-07-17 &lt;dbl&gt; | 2020-07-18 &lt;dbl&gt; | 2020-07-19 &lt;dbl&gt; | 2020-07-20 &lt;dbl&gt; | 2020-07-21 &lt;dbl&gt; |\n",
       "|---|---|---|---|---|---|---|---|---|---|---|\n",
       "| Adams     | 169 | 189 | 204 | 208 | 223 | 232 | 244 | 252 | 285 | 289 |\n",
       "| Alexander |  25 |  25 |  25 |  26 |  27 |  29 |  30 |  32 |  32 |  32 |\n",
       "| Bond      |  22 |  22 |  22 |  21 |  23 |  24 |  24 |  26 |  25 |  28 |\n",
       "| Boone     | 637 | 639 | 640 | 641 | 645 | 646 | 647 | 649 | 656 | 659 |\n",
       "| Brown     |  10 |  10 |  10 |  10 |  10 |  10 |  10 |  11 |  11 |  11 |\n",
       "| Bureau    |  37 |  38 |  43 |  44 |  47 |  48 |  50 |  53 |  53 |  57 |\n",
       "\n"
      ],
      "text/plain": [
       "  county    2020-07-12 2020-07-13 2020-07-14 2020-07-15 2020-07-16 2020-07-17\n",
       "1 Adams     169        189        204        208        223        232       \n",
       "2 Alexander  25         25         25         26         27         29       \n",
       "3 Bond       22         22         22         21         23         24       \n",
       "4 Boone     637        639        640        641        645        646       \n",
       "5 Brown      10         10         10         10         10         10       \n",
       "6 Bureau     37         38         43         44         47         48       \n",
       "  2020-07-18 2020-07-19 2020-07-20 2020-07-21\n",
       "1 244        252        285        289       \n",
       "2  30         32         32         32       \n",
       "3  24         26         25         28       \n",
       "4 647        649        656        659       \n",
       "5  10         11         11         11       \n",
       "6  50         53         53         57       "
      ]
     },
     "metadata": {},
     "output_type": "display_data"
    }
   ],
   "source": [
    "# Pivot_wider()\n",
    "pwide <- pivot_wider(data = illinois, id_cols = county, names_from = date, values_from = cases); head(pwide)"
   ]
  },
  {
   "cell_type": "code",
   "execution_count": 49,
   "metadata": {},
   "outputs": [
    {
     "data": {
      "text/html": [
       "<table>\n",
       "<caption>A grouped_df: 6 × 3</caption>\n",
       "<thead>\n",
       "\t<tr><th scope=col>county</th><th scope=col>Date</th><th scope=col>Cases</th></tr>\n",
       "\t<tr><th scope=col>&lt;chr&gt;</th><th scope=col>&lt;chr&gt;</th><th scope=col>&lt;dbl&gt;</th></tr>\n",
       "</thead>\n",
       "<tbody>\n",
       "\t<tr><td>Adams</td><td>2020-07-12</td><td>169</td></tr>\n",
       "\t<tr><td>Adams</td><td>2020-07-13</td><td>189</td></tr>\n",
       "\t<tr><td>Adams</td><td>2020-07-14</td><td>204</td></tr>\n",
       "\t<tr><td>Adams</td><td>2020-07-15</td><td>208</td></tr>\n",
       "\t<tr><td>Adams</td><td>2020-07-16</td><td>223</td></tr>\n",
       "\t<tr><td>Adams</td><td>2020-07-17</td><td>232</td></tr>\n",
       "</tbody>\n",
       "</table>\n"
      ],
      "text/latex": [
       "A grouped_df: 6 × 3\n",
       "\\begin{tabular}{r|lll}\n",
       " county & Date & Cases\\\\\n",
       " <chr> & <chr> & <dbl>\\\\\n",
       "\\hline\n",
       "\t Adams & 2020-07-12 & 169\\\\\n",
       "\t Adams & 2020-07-13 & 189\\\\\n",
       "\t Adams & 2020-07-14 & 204\\\\\n",
       "\t Adams & 2020-07-15 & 208\\\\\n",
       "\t Adams & 2020-07-16 & 223\\\\\n",
       "\t Adams & 2020-07-17 & 232\\\\\n",
       "\\end{tabular}\n"
      ],
      "text/markdown": [
       "\n",
       "A grouped_df: 6 × 3\n",
       "\n",
       "| county &lt;chr&gt; | Date &lt;chr&gt; | Cases &lt;dbl&gt; |\n",
       "|---|---|---|\n",
       "| Adams | 2020-07-12 | 169 |\n",
       "| Adams | 2020-07-13 | 189 |\n",
       "| Adams | 2020-07-14 | 204 |\n",
       "| Adams | 2020-07-15 | 208 |\n",
       "| Adams | 2020-07-16 | 223 |\n",
       "| Adams | 2020-07-17 | 232 |\n",
       "\n"
      ],
      "text/plain": [
       "  county Date       Cases\n",
       "1 Adams  2020-07-12 169  \n",
       "2 Adams  2020-07-13 189  \n",
       "3 Adams  2020-07-14 204  \n",
       "4 Adams  2020-07-15 208  \n",
       "5 Adams  2020-07-16 223  \n",
       "6 Adams  2020-07-17 232  "
      ]
     },
     "metadata": {},
     "output_type": "display_data"
    }
   ],
   "source": [
    "# Pivot_longer()\n",
    "plong <- pivot_longer(data = pwide, cols = contains('2020'), names_to = \"Date\", values_to = \"Cases\")\n",
    "head(plong)"
   ]
  },
  {
   "cell_type": "code",
   "execution_count": 5,
   "metadata": {},
   "outputs": [
    {
     "data": {
      "text/html": [
       "'Date'"
      ],
      "text/latex": [
       "'Date'"
      ],
      "text/markdown": [
       "'Date'"
      ],
      "text/plain": [
       "[1] \"Date\""
      ]
     },
     "metadata": {},
     "output_type": "display_data"
    },
    {
     "data": {
      "text/html": [
       "18565"
      ],
      "text/latex": [
       "18565"
      ],
      "text/markdown": [
       "18565"
      ],
      "text/plain": [
       "[1] 18565"
      ]
     },
     "metadata": {},
     "output_type": "display_data"
    }
   ],
   "source": [
    "# \n",
    "today <- as.Date(\"2020-10-30\")\n",
    "tomorrow <- as.Date(\"2020-10-31\")\n",
    "class(today)\n",
    "\n",
    "as.numeric(today)"
   ]
  },
  {
   "cell_type": "code",
   "execution_count": 50,
   "metadata": {},
   "outputs": [
    {
     "data": {
      "text/html": [
       "<table>\n",
       "<caption>A data.frame: 6 × 11</caption>\n",
       "<thead>\n",
       "\t<tr><th scope=col>county</th><th scope=col>2020-07-12</th><th scope=col>2020-07-13</th><th scope=col>2020-07-14</th><th scope=col>2020-07-15</th><th scope=col>2020-07-16</th><th scope=col>2020-07-17</th><th scope=col>2020-07-18</th><th scope=col>2020-07-19</th><th scope=col>2020-07-20</th><th scope=col>2020-07-21</th></tr>\n",
       "\t<tr><th scope=col>&lt;fct&gt;</th><th scope=col>&lt;dbl&gt;</th><th scope=col>&lt;dbl&gt;</th><th scope=col>&lt;dbl&gt;</th><th scope=col>&lt;dbl&gt;</th><th scope=col>&lt;dbl&gt;</th><th scope=col>&lt;dbl&gt;</th><th scope=col>&lt;dbl&gt;</th><th scope=col>&lt;dbl&gt;</th><th scope=col>&lt;dbl&gt;</th><th scope=col>&lt;dbl&gt;</th></tr>\n",
       "</thead>\n",
       "<tbody>\n",
       "\t<tr><td>Adams    </td><td>169</td><td>189</td><td>204</td><td>208</td><td>223</td><td>232</td><td>244</td><td>252</td><td>285</td><td>289</td></tr>\n",
       "\t<tr><td>Alexander</td><td> 25</td><td> 25</td><td> 25</td><td> 26</td><td> 27</td><td> 29</td><td> 30</td><td> 32</td><td> 32</td><td> 32</td></tr>\n",
       "\t<tr><td>Bond     </td><td> 22</td><td> 22</td><td> 22</td><td> 21</td><td> 23</td><td> 24</td><td> 24</td><td> 26</td><td> 25</td><td> 28</td></tr>\n",
       "\t<tr><td>Boone    </td><td>637</td><td>639</td><td>640</td><td>641</td><td>645</td><td>646</td><td>647</td><td>649</td><td>656</td><td>659</td></tr>\n",
       "\t<tr><td>Brown    </td><td> 10</td><td> 10</td><td> 10</td><td> 10</td><td> 10</td><td> 10</td><td> 10</td><td> 11</td><td> 11</td><td> 11</td></tr>\n",
       "\t<tr><td>Bureau   </td><td> 37</td><td> 38</td><td> 43</td><td> 44</td><td> 47</td><td> 48</td><td> 50</td><td> 53</td><td> 53</td><td> 57</td></tr>\n",
       "</tbody>\n",
       "</table>\n"
      ],
      "text/latex": [
       "A data.frame: 6 × 11\n",
       "\\begin{tabular}{r|lllllllllll}\n",
       " county & 2020-07-12 & 2020-07-13 & 2020-07-14 & 2020-07-15 & 2020-07-16 & 2020-07-17 & 2020-07-18 & 2020-07-19 & 2020-07-20 & 2020-07-21\\\\\n",
       " <fct> & <dbl> & <dbl> & <dbl> & <dbl> & <dbl> & <dbl> & <dbl> & <dbl> & <dbl> & <dbl>\\\\\n",
       "\\hline\n",
       "\t Adams     & 169 & 189 & 204 & 208 & 223 & 232 & 244 & 252 & 285 & 289\\\\\n",
       "\t Alexander &  25 &  25 &  25 &  26 &  27 &  29 &  30 &  32 &  32 &  32\\\\\n",
       "\t Bond      &  22 &  22 &  22 &  21 &  23 &  24 &  24 &  26 &  25 &  28\\\\\n",
       "\t Boone     & 637 & 639 & 640 & 641 & 645 & 646 & 647 & 649 & 656 & 659\\\\\n",
       "\t Brown     &  10 &  10 &  10 &  10 &  10 &  10 &  10 &  11 &  11 &  11\\\\\n",
       "\t Bureau    &  37 &  38 &  43 &  44 &  47 &  48 &  50 &  53 &  53 &  57\\\\\n",
       "\\end{tabular}\n"
      ],
      "text/markdown": [
       "\n",
       "A data.frame: 6 × 11\n",
       "\n",
       "| county &lt;fct&gt; | 2020-07-12 &lt;dbl&gt; | 2020-07-13 &lt;dbl&gt; | 2020-07-14 &lt;dbl&gt; | 2020-07-15 &lt;dbl&gt; | 2020-07-16 &lt;dbl&gt; | 2020-07-17 &lt;dbl&gt; | 2020-07-18 &lt;dbl&gt; | 2020-07-19 &lt;dbl&gt; | 2020-07-20 &lt;dbl&gt; | 2020-07-21 &lt;dbl&gt; |\n",
       "|---|---|---|---|---|---|---|---|---|---|---|\n",
       "| Adams     | 169 | 189 | 204 | 208 | 223 | 232 | 244 | 252 | 285 | 289 |\n",
       "| Alexander |  25 |  25 |  25 |  26 |  27 |  29 |  30 |  32 |  32 |  32 |\n",
       "| Bond      |  22 |  22 |  22 |  21 |  23 |  24 |  24 |  26 |  25 |  28 |\n",
       "| Boone     | 637 | 639 | 640 | 641 | 645 | 646 | 647 | 649 | 656 | 659 |\n",
       "| Brown     |  10 |  10 |  10 |  10 |  10 |  10 |  10 |  11 |  11 |  11 |\n",
       "| Bureau    |  37 |  38 |  43 |  44 |  47 |  48 |  50 |  53 |  53 |  57 |\n",
       "\n"
      ],
      "text/plain": [
       "  county    2020-07-12 2020-07-13 2020-07-14 2020-07-15 2020-07-16 2020-07-17\n",
       "1 Adams     169        189        204        208        223        232       \n",
       "2 Alexander  25         25         25         26         27         29       \n",
       "3 Bond       22         22         22         21         23         24       \n",
       "4 Boone     637        639        640        641        645        646       \n",
       "5 Brown      10         10         10         10         10         10       \n",
       "6 Bureau     37         38         43         44         47         48       \n",
       "  2020-07-18 2020-07-19 2020-07-20 2020-07-21\n",
       "1 244        252        285        289       \n",
       "2  30         32         32         32       \n",
       "3  24         26         25         28       \n",
       "4 647        649        656        659       \n",
       "5  10         11         11         11       \n",
       "6  50         53         53         57       "
      ]
     },
     "metadata": {},
     "output_type": "display_data"
    }
   ],
   "source": [
    "# my_wider\n",
    "mwide <- my_wider(data = illinois, pivot = \"county\", names_from = \"date\", values_from = \"cases\")\n",
    "head(mwide)"
   ]
  },
  {
   "cell_type": "code",
   "execution_count": 51,
   "metadata": {},
   "outputs": [
    {
     "data": {
      "text/html": [
       "<table>\n",
       "<caption>A data.frame: 6 × 3</caption>\n",
       "<thead>\n",
       "\t<tr><th scope=col>county</th><th scope=col>Date</th><th scope=col>Cases</th></tr>\n",
       "\t<tr><th scope=col>&lt;fct&gt;</th><th scope=col>&lt;int&gt;</th><th scope=col>&lt;dbl&gt;</th></tr>\n",
       "</thead>\n",
       "<tbody>\n",
       "\t<tr><td>Adams    </td><td>2</td><td>169</td></tr>\n",
       "\t<tr><td>Alexander</td><td>2</td><td> 25</td></tr>\n",
       "\t<tr><td>Bond     </td><td>2</td><td> 22</td></tr>\n",
       "\t<tr><td>Boone    </td><td>2</td><td>637</td></tr>\n",
       "\t<tr><td>Brown    </td><td>2</td><td> 10</td></tr>\n",
       "\t<tr><td>Bureau   </td><td>2</td><td> 37</td></tr>\n",
       "</tbody>\n",
       "</table>\n"
      ],
      "text/latex": [
       "A data.frame: 6 × 3\n",
       "\\begin{tabular}{r|lll}\n",
       " county & Date & Cases\\\\\n",
       " <fct> & <int> & <dbl>\\\\\n",
       "\\hline\n",
       "\t Adams     & 2 & 169\\\\\n",
       "\t Alexander & 2 &  25\\\\\n",
       "\t Bond      & 2 &  22\\\\\n",
       "\t Boone     & 2 & 637\\\\\n",
       "\t Brown     & 2 &  10\\\\\n",
       "\t Bureau    & 2 &  37\\\\\n",
       "\\end{tabular}\n"
      ],
      "text/markdown": [
       "\n",
       "A data.frame: 6 × 3\n",
       "\n",
       "| county &lt;fct&gt; | Date &lt;int&gt; | Cases &lt;dbl&gt; |\n",
       "|---|---|---|\n",
       "| Adams     | 2 | 169 |\n",
       "| Alexander | 2 |  25 |\n",
       "| Bond      | 2 |  22 |\n",
       "| Boone     | 2 | 637 |\n",
       "| Brown     | 2 |  10 |\n",
       "| Bureau    | 2 |  37 |\n",
       "\n"
      ],
      "text/plain": [
       "  county    Date Cases\n",
       "1 Adams     2    169  \n",
       "2 Alexander 2     25  \n",
       "3 Bond      2     22  \n",
       "4 Boone     2    637  \n",
       "5 Brown     2     10  \n",
       "6 Bureau    2     37  "
      ]
     },
     "metadata": {},
     "output_type": "display_data"
    }
   ],
   "source": [
    "# my_longer\n",
    "mlong <- my_longer(data = mwide, pivot = \"county\",\n",
    "                   cols = grep(pattern = '2020', x = names(mwide)),\n",
    "                   names_to = \"Date\", values_to = \"Cases\")\n",
    "head(mlong)"
   ]
  },
  {
   "cell_type": "markdown",
   "metadata": {},
   "source": [
    "## 2. Distributions\n",
    "- Probability density function (PDF) for continuous, probability mass function (PMF) for discrete\n",
    "    - d____ (dnorm, dbinom, dpois, etc..)\n",
    "- Quantile\n",
    "    - q____ (qnorm, qbinom, qpois, etc..)\n",
    "- Tail probability\n",
    "    - p____ (pnorm, pbinom, ppois, etc..)\n",
    "- Random number\n",
    "    - r____ (rnorm, rbinom, rpois, etc..)"
   ]
  },
  {
   "cell_type": "markdown",
   "metadata": {},
   "source": [
    "### 2.1 d____( )\n",
    "#### For discrete distributions like the binomial, d____( ) gives the probability mass"
   ]
  },
  {
   "cell_type": "code",
   "execution_count": 8,
   "metadata": {
    "scrolled": false
   },
   "outputs": [
    {
     "data": {
      "image/png": "[encoded data removed]",
      "text/plain": [
       "Plot with title “Binomial (n = 10, p = 1/6)”"
      ]
     },
     "metadata": {
      "image/png": {
       "height": 420,
       "width": 420
      },
      "text/plain": {
       "height": 420,
       "width": 420
      }
     },
     "output_type": "display_data"
    }
   ],
   "source": [
    "# Binomial distribution\n",
    "\n",
    "# Toss a fair dice 10 times and get 6 for X times, X ~ Binomial(10, 1/6)\n",
    "six <- 0:10\n",
    "\n",
    "plot(six, dbinom(six, size = 10, prob = 1/6),\n",
    "     type = 'h',\n",
    "     main = 'Binomial (n = 10, p = 1/6)',\n",
    "     ylab = 'Probability',\n",
    "     xlab = '# six',\n",
    "     lwd = 10)"
   ]
  },
  {
   "cell_type": "code",
   "execution_count": 9,
   "metadata": {},
   "outputs": [
    {
     "data": {
      "text/html": [
       "0.155045359574252"
      ],
      "text/latex": [
       "0.155045359574252"
      ],
      "text/markdown": [
       "0.155045359574252"
      ],
      "text/plain": [
       "[1] 0.1550454"
      ]
     },
     "metadata": {},
     "output_type": "display_data"
    }
   ],
   "source": [
    "dbinom(x = 3, size = 10, prob = 1/6)"
   ]
  },
  {
   "cell_type": "markdown",
   "metadata": {},
   "source": [
    "##### Exercise.\n",
    "1. Calculate $\\mathrm{Pr}(X=3),\\ X\\sim\\mathrm{Binomial(n=10, p=0.2)}$\n",
    "2. Calculate $\\mathrm{Pr}(Y=10),\\ Y\\sim\\mathrm{Poisson(\\lambda = 5, 6, 7)}$"
   ]
  },
  {
   "cell_type": "code",
   "execution_count": 10,
   "metadata": {},
   "outputs": [
    {
     "data": {
      "text/html": [
       "0.201326592"
      ],
      "text/latex": [
       "0.201326592"
      ],
      "text/markdown": [
       "0.201326592"
      ],
      "text/plain": [
       "[1] 0.2013266"
      ]
     },
     "metadata": {},
     "output_type": "display_data"
    }
   ],
   "source": [
    "dbinom(x = 3, size = 10, prob = 0.2)"
   ]
  },
  {
   "cell_type": "code",
   "execution_count": 11,
   "metadata": {},
   "outputs": [
    {
     "data": {
      "text/html": [
       "<ol class=list-inline>\n",
       "\t<li>0.0181327887078219</li>\n",
       "\t<li>0.0413030934123377</li>\n",
       "\t<li>0.0709832686504137</li>\n",
       "</ol>\n"
      ],
      "text/latex": [
       "\\begin{enumerate*}\n",
       "\\item 0.0181327887078219\n",
       "\\item 0.0413030934123377\n",
       "\\item 0.0709832686504137\n",
       "\\end{enumerate*}\n"
      ],
      "text/markdown": [
       "1. 0.0181327887078219\n",
       "2. 0.0413030934123377\n",
       "3. 0.0709832686504137\n",
       "\n",
       "\n"
      ],
      "text/plain": [
       "[1] 0.01813279 0.04130309 0.07098327"
      ]
     },
     "metadata": {},
     "output_type": "display_data"
    }
   ],
   "source": [
    "dpois(x = 10, lambda = 5:7)"
   ]
  },
  {
   "cell_type": "markdown",
   "metadata": {},
   "source": [
    "#### For continuous distributions, d____( ) gives the density"
   ]
  },
  {
   "cell_type": "code",
   "execution_count": 12,
   "metadata": {},
   "outputs": [
    {
     "data": {
      "image/png": "[encoded data removed]",
      "text/plain": [
       "Plot with title “Standard Normal Distribution”"
      ]
     },
     "metadata": {
      "image/png": {
       "height": 420,
       "width": 420
      },
      "text/plain": {
       "height": 420,
       "width": 420
      }
     },
     "output_type": "display_data"
    }
   ],
   "source": [
    "x <- seq(-4, 4, length = 100)\n",
    "hx <- dnorm(x)\n",
    "\n",
    "plot(x, hx, type = \"l\", lwd = 10,\n",
    "     xlab = \"x value\", ylab = \"Density\",\n",
    "     main = \"Standard Normal Distribution\")"
   ]
  },
  {
   "cell_type": "markdown",
   "metadata": {},
   "source": [
    "##### Exercise.\n",
    "1. Calculate $f(X=3),\\ X\\sim\\mathrm{Normal(\\mu=10, \\sigma^2=5)}$"
   ]
  },
  {
   "cell_type": "code",
   "execution_count": 13,
   "metadata": {},
   "outputs": [
    {
     "data": {
      "text/html": [
       "0.00132856284397711"
      ],
      "text/latex": [
       "0.00132856284397711"
      ],
      "text/markdown": [
       "0.00132856284397711"
      ],
      "text/plain": [
       "[1] 0.001328563"
      ]
     },
     "metadata": {},
     "output_type": "display_data"
    }
   ],
   "source": [
    "dnorm(x = 3, mean = 10, sd = sqrt(5))"
   ]
  },
  {
   "cell_type": "markdown",
   "metadata": {},
   "source": [
    "### 2.2 q____( )\n",
    "#### The quantile function"
   ]
  },
  {
   "cell_type": "code",
   "execution_count": 14,
   "metadata": {},
   "outputs": [
    {
     "data": {
      "text/html": [
       "<dl class=dl-horizontal>\n",
       "\t<dt>0%</dt>\n",
       "\t\t<dd>50.0000409781933</dd>\n",
       "\t<dt>25%</dt>\n",
       "\t\t<dd>62.5370138004655</dd>\n",
       "\t<dt>50%</dt>\n",
       "\t\t<dd>75.0159901275765</dd>\n",
       "\t<dt>75%</dt>\n",
       "\t\t<dd>87.5066237378633</dd>\n",
       "\t<dt>100%</dt>\n",
       "\t\t<dd>99.9999984400347</dd>\n",
       "</dl>\n"
      ],
      "text/latex": [
       "\\begin{description*}\n",
       "\\item[0\\textbackslash{}\\%] 50.0000409781933\n",
       "\\item[25\\textbackslash{}\\%] 62.5370138004655\n",
       "\\item[50\\textbackslash{}\\%] 75.0159901275765\n",
       "\\item[75\\textbackslash{}\\%] 87.5066237378633\n",
       "\\item[100\\textbackslash{}\\%] 99.9999984400347\n",
       "\\end{description*}\n"
      ],
      "text/markdown": [
       "0%\n",
       ":   50.000040978193325%\n",
       ":   62.537013800465550%\n",
       ":   75.015990127576575%\n",
       ":   87.5066237378633100%\n",
       ":   99.9999984400347\n",
       "\n"
      ],
      "text/plain": [
       "       0%       25%       50%       75%      100% \n",
       " 50.00004  62.53701  75.01599  87.50662 100.00000 "
      ]
     },
     "metadata": {},
     "output_type": "display_data"
    },
    {
     "data": {
      "image/png": "[encoded data removed]",
      "text/plain": [
       "Plot with title “Histogram of scores”"
      ]
     },
     "metadata": {
      "image/png": {
       "height": 420,
       "width": 420
      },
      "text/plain": {
       "height": 420,
       "width": 420
      }
     },
     "output_type": "display_data"
    }
   ],
   "source": [
    "# what is quantile?\n",
    "set.seed(613)\n",
    "# uniformly sample between 50 and 100\n",
    "scores <- runif(n = 1000000, min = 50, max = 100)\n",
    "hist(scores)\n",
    "\n",
    "# The sample quantile\n",
    "quantile(x = scores)"
   ]
  },
  {
   "cell_type": "markdown",
   "metadata": {},
   "source": [
    "#### As the sample size increases, the sample distribution approaches the underlying true distribution. In this case, uniform(50, 100).\n",
    "\n",
    "#### The q____( ) functions calculates the theoretical quantile of the distributions"
   ]
  },
  {
   "cell_type": "code",
   "execution_count": 15,
   "metadata": {},
   "outputs": [
    {
     "data": {
      "text/html": [
       "62.5"
      ],
      "text/latex": [
       "62.5"
      ],
      "text/markdown": [
       "62.5"
      ],
      "text/plain": [
       "[1] 62.5"
      ]
     },
     "metadata": {},
     "output_type": "display_data"
    }
   ],
   "source": [
    "# uniform distribution\n",
    "qunif(p = 0.25, min = 50, max = 100)"
   ]
  },
  {
   "cell_type": "markdown",
   "metadata": {},
   "source": [
    "##### Exercise.\n",
    "1. Calculate the 95th percentile of $\\mathrm{Normal}(\\mu = 5, \\sigma^2 = 4)$\n",
    "2. Calculate the 2.5th percentile of a standard normal distribution"
   ]
  },
  {
   "cell_type": "code",
   "execution_count": 16,
   "metadata": {},
   "outputs": [
    {
     "data": {
      "text/html": [
       "8.28970725390294"
      ],
      "text/latex": [
       "8.28970725390294"
      ],
      "text/markdown": [
       "8.28970725390294"
      ],
      "text/plain": [
       "[1] 8.289707"
      ]
     },
     "metadata": {},
     "output_type": "display_data"
    }
   ],
   "source": [
    "qnorm(p = .95, mean = 5, sd = 2)"
   ]
  },
  {
   "cell_type": "code",
   "execution_count": 17,
   "metadata": {},
   "outputs": [
    {
     "data": {
      "text/html": [
       "-1.95996398454005"
      ],
      "text/latex": [
       "-1.95996398454005"
      ],
      "text/markdown": [
       "-1.95996398454005"
      ],
      "text/plain": [
       "[1] -1.959964"
      ]
     },
     "metadata": {},
     "output_type": "display_data"
    }
   ],
   "source": [
    "qnorm(p = 0.025)"
   ]
  },
  {
   "cell_type": "markdown",
   "metadata": {},
   "source": [
    "### 2.3 p____( )\n",
    "#### Tail probabilities\n",
    "Cumulative distribution function (CDF) or 1 - CDF"
   ]
  },
  {
   "cell_type": "code",
   "execution_count": 18,
   "metadata": {},
   "outputs": [
    {
     "data": {
      "image/png": "[encoded data removed]",
      "text/plain": [
       "Plot with title “Standard Normal Distribution”"
      ]
     },
     "metadata": {
      "image/png": {
       "height": 420,
       "width": 420
      },
      "text/plain": {
       "height": 420,
       "width": 420
      }
     },
     "output_type": "display_data"
    }
   ],
   "source": [
    "x <- seq(-4, 4, length = 100)\n",
    "hx <- dnorm(x)\n",
    "\n",
    "plot(x, hx, type = \"l\", lwd = 10,\n",
    "     xlab = \"x value\", ylab = \"Density\",\n",
    "     main = \"Standard Normal Distribution\")\n",
    "\n",
    "abline(v = qnorm(p = 0.025,\n",
    "                 mean = 0,\n",
    "                 sd = 1,\n",
    "                 lower.tail = T),\n",
    "       lwd = 5, col = 'red', lty = 2)"
   ]
  },
  {
   "cell_type": "markdown",
   "metadata": {},
   "source": [
    "#### The CDF - the area under the curve to the left of the red line is 0.025."
   ]
  },
  {
   "cell_type": "code",
   "execution_count": 52,
   "metadata": {},
   "outputs": [
    {
     "data": {
      "text/html": [
       "0.0250000000000002"
      ],
      "text/latex": [
       "0.0250000000000002"
      ],
      "text/markdown": [
       "0.0250000000000002"
      ],
      "text/plain": [
       "[1] 0.025"
      ]
     },
     "metadata": {},
     "output_type": "display_data"
    }
   ],
   "source": [
    "pnorm(q = -1.95996398454005, mean = 0, sd = 1, lower.tail = T)"
   ]
  },
  {
   "cell_type": "code",
   "execution_count": 20,
   "metadata": {
    "scrolled": false
   },
   "outputs": [
    {
     "data": {
      "image/png": "[encoded data removed]",
      "text/plain": [
       "Plot with title “Standard Normal Distribution”"
      ]
     },
     "metadata": {
      "image/png": {
       "height": 420,
       "width": 420
      },
      "text/plain": {
       "height": 420,
       "width": 420
      }
     },
     "output_type": "display_data"
    }
   ],
   "source": [
    "plot(x, hx, type = \"l\", lwd = 10,\n",
    "     xlab = \"x value\", ylab = \"Density\",\n",
    "     main = \"Standard Normal Distribution\")\n",
    "\n",
    "abline(v = qnorm(p = 0.025,\n",
    "                 mean = 0,\n",
    "                 sd = 1,\n",
    "                 lower.tail = F),\n",
    "       lwd = 5, col = 'red', lty = 2)"
   ]
  },
  {
   "cell_type": "markdown",
   "metadata": {},
   "source": [
    "#### The CDF - the area under the curve to the right of the red line is 0.025."
   ]
  },
  {
   "cell_type": "code",
   "execution_count": 53,
   "metadata": {},
   "outputs": [
    {
     "data": {
      "text/html": [
       "0.975"
      ],
      "text/latex": [
       "0.975"
      ],
      "text/markdown": [
       "0.975"
      ],
      "text/plain": [
       "[1] 0.975"
      ]
     },
     "metadata": {},
     "output_type": "display_data"
    }
   ],
   "source": [
    "pnorm(q = -1.95996398454005, mean = 0, sd = 1, lower.tail = F)"
   ]
  },
  {
   "cell_type": "markdown",
   "metadata": {},
   "source": [
    "##### Exercise.\n",
    "1. Reproduce the above plot with the argument 'lower.tail = TRUE'"
   ]
  },
  {
   "cell_type": "code",
   "execution_count": null,
   "metadata": {},
   "outputs": [],
   "source": []
  },
  {
   "cell_type": "markdown",
   "metadata": {},
   "source": [
    "### 2.4 r____( )\n",
    "#### Random number generator, according to the distribution"
   ]
  },
  {
   "cell_type": "code",
   "execution_count": 21,
   "metadata": {},
   "outputs": [
    {
     "data": {
      "text/html": [
       "<ol class=list-inline>\n",
       "\t<li>7</li>\n",
       "\t<li>9</li>\n",
       "\t<li>7</li>\n",
       "\t<li>10</li>\n",
       "\t<li>3</li>\n",
       "</ol>\n"
      ],
      "text/latex": [
       "\\begin{enumerate*}\n",
       "\\item 7\n",
       "\\item 9\n",
       "\\item 7\n",
       "\\item 10\n",
       "\\item 3\n",
       "\\end{enumerate*}\n"
      ],
      "text/markdown": [
       "1. 7\n",
       "2. 9\n",
       "3. 7\n",
       "4. 10\n",
       "5. 3\n",
       "\n",
       "\n"
      ],
      "text/plain": [
       "[1]  7  9  7 10  3"
      ]
     },
     "metadata": {},
     "output_type": "display_data"
    }
   ],
   "source": [
    "pois.sample <- rpois(n = 5, lambda = 6)\n",
    "pois.sample"
   ]
  },
  {
   "cell_type": "code",
   "execution_count": 22,
   "metadata": {},
   "outputs": [
    {
     "data": {
      "text/html": [
       "<ol class=list-inline>\n",
       "\t<li>-0.260842892131349</li>\n",
       "\t<li>-0.871547727860063</li>\n",
       "\t<li>1.19363547891603</li>\n",
       "\t<li>4.53110744642776</li>\n",
       "\t<li>0.249686729636388</li>\n",
       "</ol>\n"
      ],
      "text/latex": [
       "\\begin{enumerate*}\n",
       "\\item -0.260842892131349\n",
       "\\item -0.871547727860063\n",
       "\\item 1.19363547891603\n",
       "\\item 4.53110744642776\n",
       "\\item 0.249686729636388\n",
       "\\end{enumerate*}\n"
      ],
      "text/markdown": [
       "1. -0.260842892131349\n",
       "2. -0.871547727860063\n",
       "3. 1.19363547891603\n",
       "4. 4.53110744642776\n",
       "5. 0.249686729636388\n",
       "\n",
       "\n"
      ],
      "text/plain": [
       "[1] -0.2608429 -0.8715477  1.1936355  4.5311074  0.2496867"
      ]
     },
     "metadata": {},
     "output_type": "display_data"
    }
   ],
   "source": [
    "norm.sample <- rnorm(n = 5, mean = 1, sd = 3)\n",
    "norm.sample"
   ]
  },
  {
   "cell_type": "code",
   "execution_count": 23,
   "metadata": {},
   "outputs": [
    {
     "data": {
      "text/html": [
       "<ol class=list-inline>\n",
       "\t<li>7.07917484171515</li>\n",
       "\t<li>-2.78282411561524</li>\n",
       "\t<li>-0.360856314999762</li>\n",
       "\t<li>1.46828151452414</li>\n",
       "</ol>\n"
      ],
      "text/latex": [
       "\\begin{enumerate*}\n",
       "\\item 7.07917484171515\n",
       "\\item -2.78282411561524\n",
       "\\item -0.360856314999762\n",
       "\\item 1.46828151452414\n",
       "\\end{enumerate*}\n"
      ],
      "text/markdown": [
       "1. 7.07917484171515\n",
       "2. -2.78282411561524\n",
       "3. -0.360856314999762\n",
       "4. 1.46828151452414\n",
       "\n",
       "\n"
      ],
      "text/plain": [
       "[1]  7.0791748 -2.7828241 -0.3608563  1.4682815"
      ]
     },
     "metadata": {},
     "output_type": "display_data"
    },
    {
     "data": {
      "text/html": [
       "<ol class=list-inline>\n",
       "\t<li>0.198792495552681</li>\n",
       "\t<li>0.364660199375798</li>\n",
       "\t<li>0.605962707366764</li>\n",
       "</ol>\n"
      ],
      "text/latex": [
       "\\begin{enumerate*}\n",
       "\\item 0.198792495552681\n",
       "\\item 0.364660199375798\n",
       "\\item 0.605962707366764\n",
       "\\end{enumerate*}\n"
      ],
      "text/markdown": [
       "1. 0.198792495552681\n",
       "2. 0.364660199375798\n",
       "3. 0.605962707366764\n",
       "\n",
       "\n"
      ],
      "text/plain": [
       "[1] 0.1987925 0.3646602 0.6059627"
      ]
     },
     "metadata": {},
     "output_type": "display_data"
    },
    {
     "data": {
      "text/html": [
       "<ol class=list-inline>\n",
       "\t<li>0.243824482712056</li>\n",
       "\t<li>0.0905185592369703</li>\n",
       "\t<li>0.899075003186018</li>\n",
       "</ol>\n"
      ],
      "text/latex": [
       "\\begin{enumerate*}\n",
       "\\item 0.243824482712056\n",
       "\\item 0.0905185592369703\n",
       "\\item 0.899075003186018\n",
       "\\end{enumerate*}\n"
      ],
      "text/markdown": [
       "1. 0.243824482712056\n",
       "2. 0.0905185592369703\n",
       "3. 0.899075003186018\n",
       "\n",
       "\n"
      ],
      "text/plain": [
       "[1] 0.24382448 0.09051856 0.89907500"
      ]
     },
     "metadata": {},
     "output_type": "display_data"
    }
   ],
   "source": [
    "# seed - for reproducible random number generation\n",
    "set.seed(613)\n",
    "rnorm(n = 4, mean = 1, sd = 3)\n",
    "rgamma(n = 3, shape = 2, rate = 3)\n",
    "rgamma(n = 3, shape = 2, rate = 3)"
   ]
  },
  {
   "cell_type": "code",
   "execution_count": 24,
   "metadata": {},
   "outputs": [
    {
     "data": {
      "text/html": [
       "<ol class=list-inline>\n",
       "\t<li>7.07917484171515</li>\n",
       "\t<li>-2.78282411561524</li>\n",
       "\t<li>-0.360856314999762</li>\n",
       "</ol>\n"
      ],
      "text/latex": [
       "\\begin{enumerate*}\n",
       "\\item 7.07917484171515\n",
       "\\item -2.78282411561524\n",
       "\\item -0.360856314999762\n",
       "\\end{enumerate*}\n"
      ],
      "text/markdown": [
       "1. 7.07917484171515\n",
       "2. -2.78282411561524\n",
       "3. -0.360856314999762\n",
       "\n",
       "\n"
      ],
      "text/plain": [
       "[1]  7.0791748 -2.7828241 -0.3608563"
      ]
     },
     "metadata": {},
     "output_type": "display_data"
    },
    {
     "data": {
      "text/html": [
       "<ol class=list-inline>\n",
       "\t<li>0.565755483113113</li>\n",
       "\t<li>0.198792495552681</li>\n",
       "</ol>\n"
      ],
      "text/latex": [
       "\\begin{enumerate*}\n",
       "\\item 0.565755483113113\n",
       "\\item 0.198792495552681\n",
       "\\end{enumerate*}\n"
      ],
      "text/markdown": [
       "1. 0.565755483113113\n",
       "2. 0.198792495552681\n",
       "\n",
       "\n"
      ],
      "text/plain": [
       "[1] 0.5657555 0.1987925"
      ]
     },
     "metadata": {},
     "output_type": "display_data"
    },
    {
     "data": {
      "text/html": [
       "<ol class=list-inline>\n",
       "\t<li>0.364660199375798</li>\n",
       "\t<li>0.605962707366764</li>\n",
       "</ol>\n"
      ],
      "text/latex": [
       "\\begin{enumerate*}\n",
       "\\item 0.364660199375798\n",
       "\\item 0.605962707366764\n",
       "\\end{enumerate*}\n"
      ],
      "text/markdown": [
       "1. 0.364660199375798\n",
       "2. 0.605962707366764\n",
       "\n",
       "\n"
      ],
      "text/plain": [
       "[1] 0.3646602 0.6059627"
      ]
     },
     "metadata": {},
     "output_type": "display_data"
    }
   ],
   "source": [
    "set.seed(613)\n",
    "rnorm(n = 3, mean = 1, sd = 3)\n",
    "rgamma(n = 2, shape = 2, rate = 3)\n",
    "rgamma(n = 2, shape = 2, rate = 3)"
   ]
  },
  {
   "cell_type": "markdown",
   "metadata": {},
   "source": [
    "## 3. The <tt>apply()</tt> family\n",
    "- <tt>apply()</tt>\n",
    "- <tt>lapply()</tt>\n",
    "- <tt>tapply()</tt>\n",
    "- <tt>sapply()</tt>\n",
    "- <tt>vapply()</tt>\n",
    "- <tt>mapply()</tt>\n",
    "\n",
    "#### There are similar ones in the package <tt>plyr</tt>\n",
    "- <tt>adply()</tt>\n",
    "- <tt>ddply()</tt>\n",
    "- <tt>ldply()</tt>\n",
    "- ..."
   ]
  },
  {
   "cell_type": "markdown",
   "metadata": {},
   "source": [
    "### 3.1 <tt>apply()</tt>"
   ]
  },
  {
   "cell_type": "code",
   "execution_count": 25,
   "metadata": {},
   "outputs": [
    {
     "data": {
      "text/html": [
       "<table>\n",
       "<caption>A matrix: 2 × 3 of type int</caption>\n",
       "<tbody>\n",
       "\t<tr><td>1</td><td>3</td><td>5</td></tr>\n",
       "\t<tr><td>2</td><td>4</td><td>6</td></tr>\n",
       "</tbody>\n",
       "</table>\n"
      ],
      "text/latex": [
       "A matrix: 2 × 3 of type int\n",
       "\\begin{tabular}{lll}\n",
       "\t 1 & 3 & 5\\\\\n",
       "\t 2 & 4 & 6\\\\\n",
       "\\end{tabular}\n"
      ],
      "text/markdown": [
       "\n",
       "A matrix: 2 × 3 of type int\n",
       "\n",
       "| 1 | 3 | 5 |\n",
       "| 2 | 4 | 6 |\n",
       "\n"
      ],
      "text/plain": [
       "     [,1] [,2] [,3]\n",
       "[1,] 1    3    5   \n",
       "[2,] 2    4    6   "
      ]
     },
     "metadata": {},
     "output_type": "display_data"
    }
   ],
   "source": [
    "mat <- matrix(1:6, nrow = 2); mat"
   ]
  },
  {
   "cell_type": "code",
   "execution_count": 26,
   "metadata": {},
   "outputs": [
    {
     "data": {
      "text/html": [
       "<ol class=list-inline>\n",
       "\t<li>9</li>\n",
       "\t<li>12</li>\n",
       "</ol>\n"
      ],
      "text/latex": [
       "\\begin{enumerate*}\n",
       "\\item 9\n",
       "\\item 12\n",
       "\\end{enumerate*}\n"
      ],
      "text/markdown": [
       "1. 9\n",
       "2. 12\n",
       "\n",
       "\n"
      ],
      "text/plain": [
       "[1]  9 12"
      ]
     },
     "metadata": {},
     "output_type": "display_data"
    }
   ],
   "source": [
    "apply(mat, MARGIN = 1, FUN = sum)"
   ]
  },
  {
   "cell_type": "code",
   "execution_count": 27,
   "metadata": {},
   "outputs": [
    {
     "data": {
      "text/html": [
       "<ol class=list-inline>\n",
       "\t<li>3</li>\n",
       "\t<li>7</li>\n",
       "\t<li>11</li>\n",
       "</ol>\n"
      ],
      "text/latex": [
       "\\begin{enumerate*}\n",
       "\\item 3\n",
       "\\item 7\n",
       "\\item 11\n",
       "\\end{enumerate*}\n"
      ],
      "text/markdown": [
       "1. 3\n",
       "2. 7\n",
       "3. 11\n",
       "\n",
       "\n"
      ],
      "text/plain": [
       "[1]  3  7 11"
      ]
     },
     "metadata": {},
     "output_type": "display_data"
    }
   ],
   "source": [
    "apply(mat, MARGIN = 2, FUN = sum)"
   ]
  },
  {
   "cell_type": "code",
   "execution_count": 28,
   "metadata": {},
   "outputs": [
    {
     "name": "stdout",
     "output_type": "stream",
     "text": [
      ", , 1\n",
      "\n",
      "     [,1] [,2] [,3]\n",
      "[1,]    1    3    5\n",
      "[2,]    2    4    6\n",
      "\n",
      ", , 2\n",
      "\n",
      "     [,1] [,2] [,3]\n",
      "[1,]    7    9   11\n",
      "[2,]    8   10   12\n",
      "\n"
     ]
    }
   ],
   "source": [
    "myarray <- array(1:12, dim = c(2,3,2)); print(myarray)"
   ]
  },
  {
   "cell_type": "code",
   "execution_count": 29,
   "metadata": {},
   "outputs": [
    {
     "data": {
      "text/html": [
       "<ol class=list-inline>\n",
       "\t<li>36</li>\n",
       "\t<li>42</li>\n",
       "</ol>\n"
      ],
      "text/latex": [
       "\\begin{enumerate*}\n",
       "\\item 36\n",
       "\\item 42\n",
       "\\end{enumerate*}\n"
      ],
      "text/markdown": [
       "1. 36\n",
       "2. 42\n",
       "\n",
       "\n"
      ],
      "text/plain": [
       "[1] 36 42"
      ]
     },
     "metadata": {},
     "output_type": "display_data"
    }
   ],
   "source": [
    "apply(myarray, MARGIN = 1, FUN = sum)"
   ]
  },
  {
   "cell_type": "code",
   "execution_count": 30,
   "metadata": {},
   "outputs": [
    {
     "data": {
      "text/html": [
       "<table>\n",
       "<caption>A matrix: 2 × 2 of type int</caption>\n",
       "<tbody>\n",
       "\t<tr><td> 9</td><td>27</td></tr>\n",
       "\t<tr><td>12</td><td>30</td></tr>\n",
       "</tbody>\n",
       "</table>\n"
      ],
      "text/latex": [
       "A matrix: 2 × 2 of type int\n",
       "\\begin{tabular}{ll}\n",
       "\t  9 & 27\\\\\n",
       "\t 12 & 30\\\\\n",
       "\\end{tabular}\n"
      ],
      "text/markdown": [
       "\n",
       "A matrix: 2 × 2 of type int\n",
       "\n",
       "|  9 | 27 |\n",
       "| 12 | 30 |\n",
       "\n"
      ],
      "text/plain": [
       "     [,1] [,2]\n",
       "[1,]  9   27  \n",
       "[2,] 12   30  "
      ]
     },
     "metadata": {},
     "output_type": "display_data"
    }
   ],
   "source": [
    "# What happened?\n",
    "apply(myarray, MARGIN = c(1, 3), FUN = sum)"
   ]
  },
  {
   "cell_type": "markdown",
   "metadata": {},
   "source": [
    "### 3.2 <tt>lapply()</tt>\n",
    "list apply"
   ]
  },
  {
   "cell_type": "code",
   "execution_count": 31,
   "metadata": {},
   "outputs": [
    {
     "data": {
      "text/html": [
       "<ol class=list-inline>\n",
       "\t<li>99</li>\n",
       "\t<li>98</li>\n",
       "\t<li>55</li>\n",
       "\t<li>91</li>\n",
       "\t<li>66</li>\n",
       "\t<li>97</li>\n",
       "\t<li>78</li>\n",
       "\t<li>95</li>\n",
       "\t<li>59</li>\n",
       "\t<li>72</li>\n",
       "\t<li>81</li>\n",
       "\t<li>68</li>\n",
       "\t<li>70</li>\n",
       "\t<li>62</li>\n",
       "\t<li>80</li>\n",
       "\t<li>85</li>\n",
       "\t<li>61</li>\n",
       "\t<li>64</li>\n",
       "\t<li>52</li>\n",
       "\t<li>54</li>\n",
       "</ol>\n"
      ],
      "text/latex": [
       "\\begin{enumerate*}\n",
       "\\item 99\n",
       "\\item 98\n",
       "\\item 55\n",
       "\\item 91\n",
       "\\item 66\n",
       "\\item 97\n",
       "\\item 78\n",
       "\\item 95\n",
       "\\item 59\n",
       "\\item 72\n",
       "\\item 81\n",
       "\\item 68\n",
       "\\item 70\n",
       "\\item 62\n",
       "\\item 80\n",
       "\\item 85\n",
       "\\item 61\n",
       "\\item 64\n",
       "\\item 52\n",
       "\\item 54\n",
       "\\end{enumerate*}\n"
      ],
      "text/markdown": [
       "1. 99\n",
       "2. 98\n",
       "3. 55\n",
       "4. 91\n",
       "5. 66\n",
       "6. 97\n",
       "7. 78\n",
       "8. 95\n",
       "9. 59\n",
       "10. 72\n",
       "11. 81\n",
       "12. 68\n",
       "13. 70\n",
       "14. 62\n",
       "15. 80\n",
       "16. 85\n",
       "17. 61\n",
       "18. 64\n",
       "19. 52\n",
       "20. 54\n",
       "\n",
       "\n"
      ],
      "text/plain": [
       " [1] 99 98 55 91 66 97 78 95 59 72 81 68 70 62 80 85 61 64 52 54"
      ]
     },
     "metadata": {},
     "output_type": "display_data"
    }
   ],
   "source": [
    "set.seed(613)\n",
    "scores <- round(runif(n = 20, min = 50, max = 100)); scores"
   ]
  },
  {
   "cell_type": "code",
   "execution_count": 32,
   "metadata": {},
   "outputs": [
    {
     "data": {
      "text/html": [
       "<ol class=list-inline>\n",
       "\t<li>A</li>\n",
       "\t<li>A</li>\n",
       "\t<li>C+</li>\n",
       "\t<li>A</li>\n",
       "\t<li>B-</li>\n",
       "\t<li>A</li>\n",
       "\t<li>B+</li>\n",
       "\t<li>A</li>\n",
       "\t<li>C+</li>\n",
       "\t<li>B</li>\n",
       "\t<li>A-</li>\n",
       "\t<li>B-</li>\n",
       "\t<li>B-</li>\n",
       "\t<li>C+</li>\n",
       "\t<li>B+</li>\n",
       "\t<li>A-</li>\n",
       "\t<li>C+</li>\n",
       "\t<li>C+</li>\n",
       "\t<li>C+</li>\n",
       "\t<li>C+</li>\n",
       "</ol>\n",
       "\n",
       "<details>\n",
       "\t<summary style=display:list-item;cursor:pointer>\n",
       "\t\t<strong>Levels</strong>:\n",
       "\t</summary>\n",
       "\t<ol class=list-inline>\n",
       "\t\t<li>'C+'</li>\n",
       "\t\t<li>'B-'</li>\n",
       "\t\t<li>'B'</li>\n",
       "\t\t<li>'B+'</li>\n",
       "\t\t<li>'A-'</li>\n",
       "\t\t<li>'A'</li>\n",
       "\t</ol>\n",
       "</details>"
      ],
      "text/latex": [
       "\\begin{enumerate*}\n",
       "\\item A\n",
       "\\item A\n",
       "\\item C+\n",
       "\\item A\n",
       "\\item B-\n",
       "\\item A\n",
       "\\item B+\n",
       "\\item A\n",
       "\\item C+\n",
       "\\item B\n",
       "\\item A-\n",
       "\\item B-\n",
       "\\item B-\n",
       "\\item C+\n",
       "\\item B+\n",
       "\\item A-\n",
       "\\item C+\n",
       "\\item C+\n",
       "\\item C+\n",
       "\\item C+\n",
       "\\end{enumerate*}\n",
       "\n",
       "\\emph{Levels}: \\begin{enumerate*}\n",
       "\\item 'C+'\n",
       "\\item 'B-'\n",
       "\\item 'B'\n",
       "\\item 'B+'\n",
       "\\item 'A-'\n",
       "\\item 'A'\n",
       "\\end{enumerate*}\n"
      ],
      "text/markdown": [
       "1. A\n",
       "2. A\n",
       "3. C+\n",
       "4. A\n",
       "5. B-\n",
       "6. A\n",
       "7. B+\n",
       "8. A\n",
       "9. C+\n",
       "10. B\n",
       "11. A-\n",
       "12. B-\n",
       "13. B-\n",
       "14. C+\n",
       "15. B+\n",
       "16. A-\n",
       "17. C+\n",
       "18. C+\n",
       "19. C+\n",
       "20. C+\n",
       "\n",
       "\n",
       "\n",
       "**Levels**: 1. 'C+'\n",
       "2. 'B-'\n",
       "3. 'B'\n",
       "4. 'B+'\n",
       "5. 'A-'\n",
       "6. 'A'\n",
       "\n",
       "\n"
      ],
      "text/plain": [
       " [1] A  A  C+ A  B- A  B+ A  C+ B  A- B- B- C+ B+ A- C+ C+ C+ C+\n",
       "Levels: C+ B- B B+ A- A"
      ]
     },
     "metadata": {},
     "output_type": "display_data"
    }
   ],
   "source": [
    "groups <- cut(scores,\n",
    "              breaks = c(50, 65, 70, 75, 80, 85, 100),\n",
    "              labels = c(\"C+\", \"B-\", \"B\", \"B+\", \"A-\", \"A\"))\n",
    "groups"
   ]
  },
  {
   "cell_type": "code",
   "execution_count": 33,
   "metadata": {},
   "outputs": [
    {
     "data": {
      "text/html": [
       "<dl>\n",
       "\t<dt>$`C+`</dt>\n",
       "\t\t<dd><ol class=list-inline>\n",
       "\t<li>55</li>\n",
       "\t<li>59</li>\n",
       "\t<li>62</li>\n",
       "\t<li>61</li>\n",
       "\t<li>64</li>\n",
       "\t<li>52</li>\n",
       "\t<li>54</li>\n",
       "</ol>\n",
       "</dd>\n",
       "\t<dt>$`B-`</dt>\n",
       "\t\t<dd><ol class=list-inline>\n",
       "\t<li>66</li>\n",
       "\t<li>68</li>\n",
       "\t<li>70</li>\n",
       "</ol>\n",
       "</dd>\n",
       "\t<dt>$B</dt>\n",
       "\t\t<dd>72</dd>\n",
       "\t<dt>$`B+`</dt>\n",
       "\t\t<dd><ol class=list-inline>\n",
       "\t<li>78</li>\n",
       "\t<li>80</li>\n",
       "</ol>\n",
       "</dd>\n",
       "\t<dt>$`A-`</dt>\n",
       "\t\t<dd><ol class=list-inline>\n",
       "\t<li>81</li>\n",
       "\t<li>85</li>\n",
       "</ol>\n",
       "</dd>\n",
       "\t<dt>$A</dt>\n",
       "\t\t<dd><ol class=list-inline>\n",
       "\t<li>99</li>\n",
       "\t<li>98</li>\n",
       "\t<li>91</li>\n",
       "\t<li>97</li>\n",
       "\t<li>&lt;NA&gt;</li>\n",
       "</ol>\n",
       "</dd>\n",
       "</dl>\n"
      ],
      "text/latex": [
       "\\begin{description}\n",
       "\\item[\\$`C+`] \\begin{enumerate*}\n",
       "\\item 55\n",
       "\\item 59\n",
       "\\item 62\n",
       "\\item 61\n",
       "\\item 64\n",
       "\\item 52\n",
       "\\item 54\n",
       "\\end{enumerate*}\n",
       "\n",
       "\\item[\\$`B-`] \\begin{enumerate*}\n",
       "\\item 66\n",
       "\\item 68\n",
       "\\item 70\n",
       "\\end{enumerate*}\n",
       "\n",
       "\\item[\\$B] 72\n",
       "\\item[\\$`B+`] \\begin{enumerate*}\n",
       "\\item 78\n",
       "\\item 80\n",
       "\\end{enumerate*}\n",
       "\n",
       "\\item[\\$`A-`] \\begin{enumerate*}\n",
       "\\item 81\n",
       "\\item 85\n",
       "\\end{enumerate*}\n",
       "\n",
       "\\item[\\$A] \\begin{enumerate*}\n",
       "\\item 99\n",
       "\\item 98\n",
       "\\item 91\n",
       "\\item 97\n",
       "\\item <NA>\n",
       "\\end{enumerate*}\n",
       "\n",
       "\\end{description}\n"
      ],
      "text/markdown": [
       "$`C+`\n",
       ":   1. 55\n",
       "2. 59\n",
       "3. 62\n",
       "4. 61\n",
       "5. 64\n",
       "6. 52\n",
       "7. 54\n",
       "\n",
       "\n",
       "\n",
       "$`B-`\n",
       ":   1. 66\n",
       "2. 68\n",
       "3. 70\n",
       "\n",
       "\n",
       "\n",
       "$B\n",
       ":   72\n",
       "$`B+`\n",
       ":   1. 78\n",
       "2. 80\n",
       "\n",
       "\n",
       "\n",
       "$`A-`\n",
       ":   1. 81\n",
       "2. 85\n",
       "\n",
       "\n",
       "\n",
       "$A\n",
       ":   1. 99\n",
       "2. 98\n",
       "3. 91\n",
       "4. 97\n",
       "5. &lt;NA&gt;\n",
       "\n",
       "\n",
       "\n",
       "\n",
       "\n"
      ],
      "text/plain": [
       "$`C+`\n",
       "[1] 55 59 62 61 64 52 54\n",
       "\n",
       "$`B-`\n",
       "[1] 66 68 70\n",
       "\n",
       "$B\n",
       "[1] 72\n",
       "\n",
       "$`B+`\n",
       "[1] 78 80\n",
       "\n",
       "$`A-`\n",
       "[1] 81 85\n",
       "\n",
       "$A\n",
       "[1] 99 98 91 97 NA\n"
      ]
     },
     "metadata": {},
     "output_type": "display_data"
    }
   ],
   "source": [
    "score.list <- split(scores, f = groups)\n",
    "score.list$A[5] <- NA\n",
    "score.list"
   ]
  },
  {
   "cell_type": "code",
   "execution_count": 34,
   "metadata": {},
   "outputs": [
    {
     "data": {
      "text/html": [
       "<dl>\n",
       "\t<dt>$`C+`</dt>\n",
       "\t\t<dd>58.1428571428571</dd>\n",
       "\t<dt>$`B-`</dt>\n",
       "\t\t<dd>68</dd>\n",
       "\t<dt>$B</dt>\n",
       "\t\t<dd>72</dd>\n",
       "\t<dt>$`B+`</dt>\n",
       "\t\t<dd>79</dd>\n",
       "\t<dt>$`A-`</dt>\n",
       "\t\t<dd>83</dd>\n",
       "\t<dt>$A</dt>\n",
       "\t\t<dd>&lt;NA&gt;</dd>\n",
       "</dl>\n"
      ],
      "text/latex": [
       "\\begin{description}\n",
       "\\item[\\$`C+`] 58.1428571428571\n",
       "\\item[\\$`B-`] 68\n",
       "\\item[\\$B] 72\n",
       "\\item[\\$`B+`] 79\n",
       "\\item[\\$`A-`] 83\n",
       "\\item[\\$A] <NA>\n",
       "\\end{description}\n"
      ],
      "text/markdown": [
       "$`C+`\n",
       ":   58.1428571428571\n",
       "$`B-`\n",
       ":   68\n",
       "$B\n",
       ":   72\n",
       "$`B+`\n",
       ":   79\n",
       "$`A-`\n",
       ":   83\n",
       "$A\n",
       ":   &lt;NA&gt;\n",
       "\n",
       "\n"
      ],
      "text/plain": [
       "$`C+`\n",
       "[1] 58.14286\n",
       "\n",
       "$`B-`\n",
       "[1] 68\n",
       "\n",
       "$B\n",
       "[1] 72\n",
       "\n",
       "$`B+`\n",
       "[1] 79\n",
       "\n",
       "$`A-`\n",
       "[1] 83\n",
       "\n",
       "$A\n",
       "[1] NA\n"
      ]
     },
     "metadata": {},
     "output_type": "display_data"
    }
   ],
   "source": [
    "# Average for each letter grade\n",
    "lapply(score.list, FUN = mean)"
   ]
  },
  {
   "cell_type": "code",
   "execution_count": 35,
   "metadata": {},
   "outputs": [
    {
     "data": {
      "text/html": [
       "<dl>\n",
       "\t<dt>$`C+`</dt>\n",
       "\t\t<dd>58.1428571428571</dd>\n",
       "\t<dt>$`B-`</dt>\n",
       "\t\t<dd>68</dd>\n",
       "\t<dt>$B</dt>\n",
       "\t\t<dd>72</dd>\n",
       "\t<dt>$`B+`</dt>\n",
       "\t\t<dd>79</dd>\n",
       "\t<dt>$`A-`</dt>\n",
       "\t\t<dd>83</dd>\n",
       "\t<dt>$A</dt>\n",
       "\t\t<dd>96.25</dd>\n",
       "</dl>\n"
      ],
      "text/latex": [
       "\\begin{description}\n",
       "\\item[\\$`C+`] 58.1428571428571\n",
       "\\item[\\$`B-`] 68\n",
       "\\item[\\$B] 72\n",
       "\\item[\\$`B+`] 79\n",
       "\\item[\\$`A-`] 83\n",
       "\\item[\\$A] 96.25\n",
       "\\end{description}\n"
      ],
      "text/markdown": [
       "$`C+`\n",
       ":   58.1428571428571\n",
       "$`B-`\n",
       ":   68\n",
       "$B\n",
       ":   72\n",
       "$`B+`\n",
       ":   79\n",
       "$`A-`\n",
       ":   83\n",
       "$A\n",
       ":   96.25\n",
       "\n",
       "\n"
      ],
      "text/plain": [
       "$`C+`\n",
       "[1] 58.14286\n",
       "\n",
       "$`B-`\n",
       "[1] 68\n",
       "\n",
       "$B\n",
       "[1] 72\n",
       "\n",
       "$`B+`\n",
       "[1] 79\n",
       "\n",
       "$`A-`\n",
       "[1] 83\n",
       "\n",
       "$A\n",
       "[1] 96.25\n"
      ]
     },
     "metadata": {},
     "output_type": "display_data"
    }
   ],
   "source": [
    "lapply(score.list, FUN = mean, na.rm = T)"
   ]
  },
  {
   "cell_type": "markdown",
   "metadata": {},
   "source": [
    "### 3.3 <tt>sapply()</tt>"
   ]
  },
  {
   "cell_type": "code",
   "execution_count": 36,
   "metadata": {},
   "outputs": [
    {
     "data": {
      "text/html": [
       "<dl class=dl-horizontal>\n",
       "\t<dt>C+</dt>\n",
       "\t\t<dd>58.1428571428571</dd>\n",
       "\t<dt>B-</dt>\n",
       "\t\t<dd>68</dd>\n",
       "\t<dt>B</dt>\n",
       "\t\t<dd>72</dd>\n",
       "\t<dt>B+</dt>\n",
       "\t\t<dd>79</dd>\n",
       "\t<dt>A-</dt>\n",
       "\t\t<dd>83</dd>\n",
       "\t<dt>A</dt>\n",
       "\t\t<dd>&lt;NA&gt;</dd>\n",
       "</dl>\n"
      ],
      "text/latex": [
       "\\begin{description*}\n",
       "\\item[C+] 58.1428571428571\n",
       "\\item[B-] 68\n",
       "\\item[B] 72\n",
       "\\item[B+] 79\n",
       "\\item[A-] 83\n",
       "\\item[A] <NA>\n",
       "\\end{description*}\n"
      ],
      "text/markdown": [
       "C+\n",
       ":   58.1428571428571B-\n",
       ":   68B\n",
       ":   72B+\n",
       ":   79A-\n",
       ":   83A\n",
       ":   &lt;NA&gt;\n",
       "\n"
      ],
      "text/plain": [
       "      C+       B-        B       B+       A-        A \n",
       "58.14286 68.00000 72.00000 79.00000 83.00000       NA "
      ]
     },
     "metadata": {},
     "output_type": "display_data"
    }
   ],
   "source": [
    "# sapply a list\n",
    "sapply(score.list, FUN = mean)"
   ]
  },
  {
   "cell_type": "code",
   "execution_count": 37,
   "metadata": {},
   "outputs": [
    {
     "data": {
      "text/html": [
       "<dl>\n",
       "\t<dt>$`C+`</dt>\n",
       "\t\t<dd>58.1428571428571</dd>\n",
       "\t<dt>$`B-`</dt>\n",
       "\t\t<dd>68</dd>\n",
       "\t<dt>$B</dt>\n",
       "\t\t<dd>72</dd>\n",
       "\t<dt>$`B+`</dt>\n",
       "\t\t<dd>79</dd>\n",
       "\t<dt>$`A-`</dt>\n",
       "\t\t<dd>83</dd>\n",
       "\t<dt>$A</dt>\n",
       "\t\t<dd>96.25</dd>\n",
       "</dl>\n"
      ],
      "text/latex": [
       "\\begin{description}\n",
       "\\item[\\$`C+`] 58.1428571428571\n",
       "\\item[\\$`B-`] 68\n",
       "\\item[\\$B] 72\n",
       "\\item[\\$`B+`] 79\n",
       "\\item[\\$`A-`] 83\n",
       "\\item[\\$A] 96.25\n",
       "\\end{description}\n"
      ],
      "text/markdown": [
       "$`C+`\n",
       ":   58.1428571428571\n",
       "$`B-`\n",
       ":   68\n",
       "$B\n",
       ":   72\n",
       "$`B+`\n",
       ":   79\n",
       "$`A-`\n",
       ":   83\n",
       "$A\n",
       ":   96.25\n",
       "\n",
       "\n"
      ],
      "text/plain": [
       "$`C+`\n",
       "[1] 58.14286\n",
       "\n",
       "$`B-`\n",
       "[1] 68\n",
       "\n",
       "$B\n",
       "[1] 72\n",
       "\n",
       "$`B+`\n",
       "[1] 79\n",
       "\n",
       "$`A-`\n",
       "[1] 83\n",
       "\n",
       "$A\n",
       "[1] 96.25\n"
      ]
     },
     "metadata": {},
     "output_type": "display_data"
    }
   ],
   "source": [
    "sapply(score.list, FUN = mean, na.rm = T, simplify = F)"
   ]
  },
  {
   "cell_type": "code",
   "execution_count": 38,
   "metadata": {},
   "outputs": [
    {
     "data": {
      "text/html": [
       "<table>\n",
       "<caption>A data.frame: 6 × 5</caption>\n",
       "<thead>\n",
       "\t<tr><th scope=col>Sepal.Length</th><th scope=col>Sepal.Width</th><th scope=col>Petal.Length</th><th scope=col>Petal.Width</th><th scope=col>Species</th></tr>\n",
       "\t<tr><th scope=col>&lt;dbl&gt;</th><th scope=col>&lt;dbl&gt;</th><th scope=col>&lt;dbl&gt;</th><th scope=col>&lt;dbl&gt;</th><th scope=col>&lt;fct&gt;</th></tr>\n",
       "</thead>\n",
       "<tbody>\n",
       "\t<tr><td>5.1</td><td>3.5</td><td>1.4</td><td>0.2</td><td>setosa</td></tr>\n",
       "\t<tr><td>4.9</td><td>3.0</td><td>1.4</td><td>0.2</td><td>setosa</td></tr>\n",
       "\t<tr><td>4.7</td><td>3.2</td><td>1.3</td><td>0.2</td><td>setosa</td></tr>\n",
       "\t<tr><td>4.6</td><td>3.1</td><td>1.5</td><td>0.2</td><td>setosa</td></tr>\n",
       "\t<tr><td>5.0</td><td>3.6</td><td>1.4</td><td>0.2</td><td>setosa</td></tr>\n",
       "\t<tr><td>5.4</td><td>3.9</td><td>1.7</td><td>0.4</td><td>setosa</td></tr>\n",
       "</tbody>\n",
       "</table>\n"
      ],
      "text/latex": [
       "A data.frame: 6 × 5\n",
       "\\begin{tabular}{r|lllll}\n",
       " Sepal.Length & Sepal.Width & Petal.Length & Petal.Width & Species\\\\\n",
       " <dbl> & <dbl> & <dbl> & <dbl> & <fct>\\\\\n",
       "\\hline\n",
       "\t 5.1 & 3.5 & 1.4 & 0.2 & setosa\\\\\n",
       "\t 4.9 & 3.0 & 1.4 & 0.2 & setosa\\\\\n",
       "\t 4.7 & 3.2 & 1.3 & 0.2 & setosa\\\\\n",
       "\t 4.6 & 3.1 & 1.5 & 0.2 & setosa\\\\\n",
       "\t 5.0 & 3.6 & 1.4 & 0.2 & setosa\\\\\n",
       "\t 5.4 & 3.9 & 1.7 & 0.4 & setosa\\\\\n",
       "\\end{tabular}\n"
      ],
      "text/markdown": [
       "\n",
       "A data.frame: 6 × 5\n",
       "\n",
       "| Sepal.Length &lt;dbl&gt; | Sepal.Width &lt;dbl&gt; | Petal.Length &lt;dbl&gt; | Petal.Width &lt;dbl&gt; | Species &lt;fct&gt; |\n",
       "|---|---|---|---|---|\n",
       "| 5.1 | 3.5 | 1.4 | 0.2 | setosa |\n",
       "| 4.9 | 3.0 | 1.4 | 0.2 | setosa |\n",
       "| 4.7 | 3.2 | 1.3 | 0.2 | setosa |\n",
       "| 4.6 | 3.1 | 1.5 | 0.2 | setosa |\n",
       "| 5.0 | 3.6 | 1.4 | 0.2 | setosa |\n",
       "| 5.4 | 3.9 | 1.7 | 0.4 | setosa |\n",
       "\n"
      ],
      "text/plain": [
       "  Sepal.Length Sepal.Width Petal.Length Petal.Width Species\n",
       "1 5.1          3.5         1.4          0.2         setosa \n",
       "2 4.9          3.0         1.4          0.2         setosa \n",
       "3 4.7          3.2         1.3          0.2         setosa \n",
       "4 4.6          3.1         1.5          0.2         setosa \n",
       "5 5.0          3.6         1.4          0.2         setosa \n",
       "6 5.4          3.9         1.7          0.4         setosa "
      ]
     },
     "metadata": {},
     "output_type": "display_data"
    },
    {
     "data": {
      "text/html": [
       "<dl class=dl-horizontal>\n",
       "\t<dt>Sepal.Length</dt>\n",
       "\t\t<dd>'numeric'</dd>\n",
       "\t<dt>Sepal.Width</dt>\n",
       "\t\t<dd>'numeric'</dd>\n",
       "\t<dt>Petal.Length</dt>\n",
       "\t\t<dd>'numeric'</dd>\n",
       "\t<dt>Petal.Width</dt>\n",
       "\t\t<dd>'numeric'</dd>\n",
       "\t<dt>Species</dt>\n",
       "\t\t<dd>'factor'</dd>\n",
       "</dl>\n"
      ],
      "text/latex": [
       "\\begin{description*}\n",
       "\\item[Sepal.Length] 'numeric'\n",
       "\\item[Sepal.Width] 'numeric'\n",
       "\\item[Petal.Length] 'numeric'\n",
       "\\item[Petal.Width] 'numeric'\n",
       "\\item[Species] 'factor'\n",
       "\\end{description*}\n"
      ],
      "text/markdown": [
       "Sepal.Length\n",
       ":   'numeric'Sepal.Width\n",
       ":   'numeric'Petal.Length\n",
       ":   'numeric'Petal.Width\n",
       ":   'numeric'Species\n",
       ":   'factor'\n",
       "\n"
      ],
      "text/plain": [
       "Sepal.Length  Sepal.Width Petal.Length  Petal.Width      Species \n",
       "   \"numeric\"    \"numeric\"    \"numeric\"    \"numeric\"     \"factor\" "
      ]
     },
     "metadata": {},
     "output_type": "display_data"
    }
   ],
   "source": [
    "# sapply() a data frame\n",
    "head(iris)\n",
    "sapply(iris, FUN = class)"
   ]
  },
  {
   "cell_type": "code",
   "execution_count": 39,
   "metadata": {},
   "outputs": [
    {
     "data": {
      "text/html": [
       "<ol>\n",
       "\t<li><ol class=list-inline>\n",
       "\t<li>1</li>\n",
       "\t<li>2</li>\n",
       "\t<li>3</li>\n",
       "\t<li>4</li>\n",
       "\t<li>5</li>\n",
       "\t<li>6</li>\n",
       "</ol>\n",
       "</li>\n",
       "\t<li>1</li>\n",
       "\t<li><ol class=list-inline>\n",
       "\t<li>1</li>\n",
       "\t<li>2</li>\n",
       "\t<li>3</li>\n",
       "</ol>\n",
       "</li>\n",
       "</ol>\n"
      ],
      "text/latex": [
       "\\begin{enumerate}\n",
       "\\item \\begin{enumerate*}\n",
       "\\item 1\n",
       "\\item 2\n",
       "\\item 3\n",
       "\\item 4\n",
       "\\item 5\n",
       "\\item 6\n",
       "\\end{enumerate*}\n",
       "\n",
       "\\item 1\n",
       "\\item \\begin{enumerate*}\n",
       "\\item 1\n",
       "\\item 2\n",
       "\\item 3\n",
       "\\end{enumerate*}\n",
       "\n",
       "\\end{enumerate}\n"
      ],
      "text/markdown": [
       "1. 1. 1\n",
       "2. 2\n",
       "3. 3\n",
       "4. 4\n",
       "5. 5\n",
       "6. 6\n",
       "\n",
       "\n",
       "\n",
       "2. 1\n",
       "3. 1. 1\n",
       "2. 2\n",
       "3. 3\n",
       "\n",
       "\n",
       "\n",
       "\n",
       "\n"
      ],
      "text/plain": [
       "[[1]]\n",
       "[1] 1 2 3 4 5 6\n",
       "\n",
       "[[2]]\n",
       "[1] 1\n",
       "\n",
       "[[3]]\n",
       "[1] 1 2 3\n"
      ]
     },
     "metadata": {},
     "output_type": "display_data"
    }
   ],
   "source": [
    "# sapply a vector\n",
    "sapply(c(6, 1, 3), FUN = seq)"
   ]
  },
  {
   "cell_type": "code",
   "execution_count": 40,
   "metadata": {},
   "outputs": [
    {
     "data": {
      "text/html": [
       "<ol class=list-inline>\n",
       "\t<li>8</li>\n",
       "\t<li>3</li>\n",
       "\t<li>5</li>\n",
       "</ol>\n"
      ],
      "text/latex": [
       "\\begin{enumerate*}\n",
       "\\item 8\n",
       "\\item 3\n",
       "\\item 5\n",
       "\\end{enumerate*}\n"
      ],
      "text/markdown": [
       "1. 8\n",
       "2. 3\n",
       "3. 5\n",
       "\n",
       "\n"
      ],
      "text/plain": [
       "[1] 8 3 5"
      ]
     },
     "metadata": {},
     "output_type": "display_data"
    }
   ],
   "source": [
    "sapply(c(6, 1, 3), FUN = '+', 2)"
   ]
  },
  {
   "cell_type": "code",
   "execution_count": 41,
   "metadata": {},
   "outputs": [
    {
     "data": {
      "text/html": [
       "<ol class=list-inline>\n",
       "\t<li>8</li>\n",
       "\t<li>3</li>\n",
       "\t<li>5</li>\n",
       "</ol>\n"
      ],
      "text/latex": [
       "\\begin{enumerate*}\n",
       "\\item 8\n",
       "\\item 3\n",
       "\\item 5\n",
       "\\end{enumerate*}\n"
      ],
      "text/markdown": [
       "1. 8\n",
       "2. 3\n",
       "3. 5\n",
       "\n",
       "\n"
      ],
      "text/plain": [
       "[1] 8 3 5"
      ]
     },
     "metadata": {},
     "output_type": "display_data"
    }
   ],
   "source": [
    "# use our own function in FUN\n",
    "sapply(c(6, 1, 3), FUN = function(x) {x + 2})"
   ]
  },
  {
   "cell_type": "code",
   "execution_count": 42,
   "metadata": {},
   "outputs": [
    {
     "data": {
      "text/html": [
       "<table>\n",
       "<caption>A data.frame: 3 × 1</caption>\n",
       "<thead>\n",
       "\t<tr><th scope=col>V1</th></tr>\n",
       "\t<tr><th scope=col>&lt;dbl&gt;</th></tr>\n",
       "</thead>\n",
       "<tbody>\n",
       "\t<tr><td>8</td></tr>\n",
       "\t<tr><td>3</td></tr>\n",
       "\t<tr><td>5</td></tr>\n",
       "</tbody>\n",
       "</table>\n"
      ],
      "text/latex": [
       "A data.frame: 3 × 1\n",
       "\\begin{tabular}{r|l}\n",
       " V1\\\\\n",
       " <dbl>\\\\\n",
       "\\hline\n",
       "\t 8\\\\\n",
       "\t 3\\\\\n",
       "\t 5\\\\\n",
       "\\end{tabular}\n"
      ],
      "text/markdown": [
       "\n",
       "A data.frame: 3 × 1\n",
       "\n",
       "| V1 &lt;dbl&gt; |\n",
       "|---|\n",
       "| 8 |\n",
       "| 3 |\n",
       "| 5 |\n",
       "\n"
      ],
      "text/plain": [
       "  V1\n",
       "1 8 \n",
       "2 3 \n",
       "3 5 "
      ]
     },
     "metadata": {},
     "output_type": "display_data"
    }
   ],
   "source": [
    "# plyr::ldply\n",
    "plyr::ldply(`.data` = c(6, 1, 3), `.fun` = function(x) {x + 2})"
   ]
  },
  {
   "cell_type": "markdown",
   "metadata": {},
   "source": [
    "##### Exercise.\n",
    "1. Use <tt>plyr::ldply</tt>, find out how many students there are in each letter grade."
   ]
  },
  {
   "cell_type": "code",
   "execution_count": 43,
   "metadata": {},
   "outputs": [
    {
     "data": {
      "text/html": [
       "<dl>\n",
       "\t<dt>$`C+`</dt>\n",
       "\t\t<dd><ol class=list-inline>\n",
       "\t<li>55</li>\n",
       "\t<li>59</li>\n",
       "\t<li>62</li>\n",
       "\t<li>61</li>\n",
       "\t<li>64</li>\n",
       "\t<li>52</li>\n",
       "\t<li>54</li>\n",
       "</ol>\n",
       "</dd>\n",
       "\t<dt>$`B-`</dt>\n",
       "\t\t<dd><ol class=list-inline>\n",
       "\t<li>66</li>\n",
       "\t<li>68</li>\n",
       "\t<li>70</li>\n",
       "</ol>\n",
       "</dd>\n",
       "\t<dt>$B</dt>\n",
       "\t\t<dd>72</dd>\n",
       "\t<dt>$`B+`</dt>\n",
       "\t\t<dd><ol class=list-inline>\n",
       "\t<li>78</li>\n",
       "\t<li>80</li>\n",
       "</ol>\n",
       "</dd>\n",
       "\t<dt>$`A-`</dt>\n",
       "\t\t<dd><ol class=list-inline>\n",
       "\t<li>81</li>\n",
       "\t<li>85</li>\n",
       "</ol>\n",
       "</dd>\n",
       "\t<dt>$A</dt>\n",
       "\t\t<dd><ol class=list-inline>\n",
       "\t<li>99</li>\n",
       "\t<li>98</li>\n",
       "\t<li>91</li>\n",
       "\t<li>97</li>\n",
       "\t<li>&lt;NA&gt;</li>\n",
       "</ol>\n",
       "</dd>\n",
       "</dl>\n"
      ],
      "text/latex": [
       "\\begin{description}\n",
       "\\item[\\$`C+`] \\begin{enumerate*}\n",
       "\\item 55\n",
       "\\item 59\n",
       "\\item 62\n",
       "\\item 61\n",
       "\\item 64\n",
       "\\item 52\n",
       "\\item 54\n",
       "\\end{enumerate*}\n",
       "\n",
       "\\item[\\$`B-`] \\begin{enumerate*}\n",
       "\\item 66\n",
       "\\item 68\n",
       "\\item 70\n",
       "\\end{enumerate*}\n",
       "\n",
       "\\item[\\$B] 72\n",
       "\\item[\\$`B+`] \\begin{enumerate*}\n",
       "\\item 78\n",
       "\\item 80\n",
       "\\end{enumerate*}\n",
       "\n",
       "\\item[\\$`A-`] \\begin{enumerate*}\n",
       "\\item 81\n",
       "\\item 85\n",
       "\\end{enumerate*}\n",
       "\n",
       "\\item[\\$A] \\begin{enumerate*}\n",
       "\\item 99\n",
       "\\item 98\n",
       "\\item 91\n",
       "\\item 97\n",
       "\\item <NA>\n",
       "\\end{enumerate*}\n",
       "\n",
       "\\end{description}\n"
      ],
      "text/markdown": [
       "$`C+`\n",
       ":   1. 55\n",
       "2. 59\n",
       "3. 62\n",
       "4. 61\n",
       "5. 64\n",
       "6. 52\n",
       "7. 54\n",
       "\n",
       "\n",
       "\n",
       "$`B-`\n",
       ":   1. 66\n",
       "2. 68\n",
       "3. 70\n",
       "\n",
       "\n",
       "\n",
       "$B\n",
       ":   72\n",
       "$`B+`\n",
       ":   1. 78\n",
       "2. 80\n",
       "\n",
       "\n",
       "\n",
       "$`A-`\n",
       ":   1. 81\n",
       "2. 85\n",
       "\n",
       "\n",
       "\n",
       "$A\n",
       ":   1. 99\n",
       "2. 98\n",
       "3. 91\n",
       "4. 97\n",
       "5. &lt;NA&gt;\n",
       "\n",
       "\n",
       "\n",
       "\n",
       "\n"
      ],
      "text/plain": [
       "$`C+`\n",
       "[1] 55 59 62 61 64 52 54\n",
       "\n",
       "$`B-`\n",
       "[1] 66 68 70\n",
       "\n",
       "$B\n",
       "[1] 72\n",
       "\n",
       "$`B+`\n",
       "[1] 78 80\n",
       "\n",
       "$`A-`\n",
       "[1] 81 85\n",
       "\n",
       "$A\n",
       "[1] 99 98 91 97 NA\n"
      ]
     },
     "metadata": {},
     "output_type": "display_data"
    }
   ],
   "source": [
    "score.list"
   ]
  },
  {
   "cell_type": "markdown",
   "metadata": {},
   "source": [
    "### 3.4 <tt>tapply()</tt>"
   ]
  },
  {
   "cell_type": "code",
   "execution_count": 44,
   "metadata": {},
   "outputs": [
    {
     "data": {
      "text/html": [
       "<table>\n",
       "<caption>A data.frame: 3 × 2</caption>\n",
       "<thead>\n",
       "\t<tr><th scope=col>Species</th><th scope=col>Sepal.Length</th></tr>\n",
       "\t<tr><th scope=col>&lt;fct&gt;</th><th scope=col>&lt;dbl&gt;</th></tr>\n",
       "</thead>\n",
       "<tbody>\n",
       "\t<tr><td>setosa    </td><td>5.006</td></tr>\n",
       "\t<tr><td>versicolor</td><td>5.936</td></tr>\n",
       "\t<tr><td>virginica </td><td>6.588</td></tr>\n",
       "</tbody>\n",
       "</table>\n"
      ],
      "text/latex": [
       "A data.frame: 3 × 2\n",
       "\\begin{tabular}{r|ll}\n",
       " Species & Sepal.Length\\\\\n",
       " <fct> & <dbl>\\\\\n",
       "\\hline\n",
       "\t setosa     & 5.006\\\\\n",
       "\t versicolor & 5.936\\\\\n",
       "\t virginica  & 6.588\\\\\n",
       "\\end{tabular}\n"
      ],
      "text/markdown": [
       "\n",
       "A data.frame: 3 × 2\n",
       "\n",
       "| Species &lt;fct&gt; | Sepal.Length &lt;dbl&gt; |\n",
       "|---|---|\n",
       "| setosa     | 5.006 |\n",
       "| versicolor | 5.936 |\n",
       "| virginica  | 6.588 |\n",
       "\n"
      ],
      "text/plain": [
       "  Species    Sepal.Length\n",
       "1 setosa     5.006       \n",
       "2 versicolor 5.936       \n",
       "3 virginica  6.588       "
      ]
     },
     "metadata": {},
     "output_type": "display_data"
    }
   ],
   "source": [
    "# recall aggregate()\n",
    "aggregate(Sepal.Length~Species, FUN = mean, data = iris)"
   ]
  },
  {
   "cell_type": "code",
   "execution_count": 45,
   "metadata": {},
   "outputs": [
    {
     "data": {
      "text/html": [
       "<table>\n",
       "<caption>A data.frame: 3 × 2</caption>\n",
       "<thead>\n",
       "\t<tr><th scope=col>Species</th><th scope=col>x</th></tr>\n",
       "\t<tr><th scope=col>&lt;fct&gt;</th><th scope=col>&lt;dbl&gt;</th></tr>\n",
       "</thead>\n",
       "<tbody>\n",
       "\t<tr><td>setosa    </td><td>5.006</td></tr>\n",
       "\t<tr><td>versicolor</td><td>5.936</td></tr>\n",
       "\t<tr><td>virginica </td><td>6.588</td></tr>\n",
       "</tbody>\n",
       "</table>\n"
      ],
      "text/latex": [
       "A data.frame: 3 × 2\n",
       "\\begin{tabular}{r|ll}\n",
       " Species & x\\\\\n",
       " <fct> & <dbl>\\\\\n",
       "\\hline\n",
       "\t setosa     & 5.006\\\\\n",
       "\t versicolor & 5.936\\\\\n",
       "\t virginica  & 6.588\\\\\n",
       "\\end{tabular}\n"
      ],
      "text/markdown": [
       "\n",
       "A data.frame: 3 × 2\n",
       "\n",
       "| Species &lt;fct&gt; | x &lt;dbl&gt; |\n",
       "|---|---|\n",
       "| setosa     | 5.006 |\n",
       "| versicolor | 5.936 |\n",
       "| virginica  | 6.588 |\n",
       "\n"
      ],
      "text/plain": [
       "  Species    x    \n",
       "1 setosa     5.006\n",
       "2 versicolor 5.936\n",
       "3 virginica  6.588"
      ]
     },
     "metadata": {},
     "output_type": "display_data"
    }
   ],
   "source": [
    "# Alternative syntax\n",
    "aggregate(iris$Sepal.Length, by = list(Species = iris$Species), FUN = mean)"
   ]
  },
  {
   "cell_type": "code",
   "execution_count": 46,
   "metadata": {},
   "outputs": [
    {
     "data": {
      "text/html": [
       "<dl class=dl-horizontal>\n",
       "\t<dt>setosa</dt>\n",
       "\t\t<dd>5.006</dd>\n",
       "\t<dt>versicolor</dt>\n",
       "\t\t<dd>5.936</dd>\n",
       "\t<dt>virginica</dt>\n",
       "\t\t<dd>6.588</dd>\n",
       "</dl>\n"
      ],
      "text/latex": [
       "\\begin{description*}\n",
       "\\item[setosa] 5.006\n",
       "\\item[versicolor] 5.936\n",
       "\\item[virginica] 6.588\n",
       "\\end{description*}\n"
      ],
      "text/markdown": [
       "setosa\n",
       ":   5.006versicolor\n",
       ":   5.936virginica\n",
       ":   6.588\n",
       "\n"
      ],
      "text/plain": [
       "Species\n",
       "    setosa versicolor  virginica \n",
       "     5.006      5.936      6.588 "
      ]
     },
     "metadata": {},
     "output_type": "display_data"
    }
   ],
   "source": [
    "tapply(X = iris$Sepal.Length, INDEX = list(Species = iris$Species), FUN = mean)"
   ]
  },
  {
   "cell_type": "code",
   "execution_count": 47,
   "metadata": {},
   "outputs": [
    {
     "data": {
      "text/plain": [
       "Species: setosa\n",
       "[1] 5.006\n",
       "------------------------------------------------------------ \n",
       "Species: versicolor\n",
       "[1] 5.936\n",
       "------------------------------------------------------------ \n",
       "Species: virginica\n",
       "[1] 6.588"
      ]
     },
     "metadata": {},
     "output_type": "display_data"
    }
   ],
   "source": [
    "# Another function that does the same thing\n",
    "by(data = iris$Sepal.Length, INDICES = list(Species = iris$Species), FUN = mean)"
   ]
  },
  {
   "cell_type": "markdown",
   "metadata": {},
   "source": [
    "## 4. Coverage probability (EPIB 607)"
   ]
  },
  {
   "cell_type": "code",
   "execution_count": null,
   "metadata": {},
   "outputs": [],
   "source": []
  }
 ],
 "metadata": {
  "kernelspec": {
   "display_name": "R",
   "language": "R",
   "name": "ir"
  },
  "language_info": {
   "codemirror_mode": "r",
   "file_extension": ".r",
   "mimetype": "text/x-r-source",
   "name": "R",
   "pygments_lexer": "r",
   "version": "3.6.3"
  }
 },
 "nbformat": 4,
 "nbformat_minor": 4
}
