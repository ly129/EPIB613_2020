{
 "cells": [
  {
   "cell_type": "markdown",
   "metadata": {},
   "source": [
    "# <center>EPIB 613 INTRODUCTION TO STATISTICAL SOFTWARE</center>\n",
    "\n",
    "<center> McGill EBOH </center>\n",
    "\n",
    "<center> Fall 2020 </center>\n",
    "\n",
    "<center> Yi Lian </center>\n",
    "\n",
    "# Lecture 12\n",
    "- Generalized linear models\n",
    "    - Logistic regression\n",
    "    - Poisson regression\n",
    "\n",
    "- Bootstrap\n",
    "    - Motivation\n",
    "    - Rationale\n",
    "    - Example\n",
    "    - Exercise"
   ]
  },
  {
   "cell_type": "markdown",
   "metadata": {},
   "source": [
    "## 12.1 Generalized linear models\n",
    "### 12.1.1 Logistic regression\n",
    "- Used to model binary outcome\n",
    "- More specifically, we model the logit function of the probability with a linear model\n",
    "    - Such that we are mostly likely to observe the observed data\n",
    "    - Therefore the name __generalized linear__ model\n",
    "    - Maximum likelihood estimator (MLE)"
   ]
  },
  {
   "cell_type": "markdown",
   "metadata": {},
   "source": [
    "#### Example: graduate school admission.\n",
    "A simulated graduate school admission data.\n",
    "- `admit`\n",
    "    - 1: admitted\n",
    "    - 0: rejected.\n",
    "- `rank`\n",
    "    - 1: from good undergraduate schools\n",
    "    - 0: from not as good undergraduate schools.\n",
    "- `gre`\n",
    "- `gpa`"
   ]
  },
  {
   "cell_type": "code",
   "execution_count": 1,
   "metadata": {},
   "outputs": [
    {
     "data": {
      "text/html": [
       "<table>\n",
       "<caption>A data.frame: 6 × 4</caption>\n",
       "<thead>\n",
       "\t<tr><th></th><th scope=col>admit</th><th scope=col>gre</th><th scope=col>gpa</th><th scope=col>rank</th></tr>\n",
       "\t<tr><th></th><th scope=col>&lt;int&gt;</th><th scope=col>&lt;int&gt;</th><th scope=col>&lt;dbl&gt;</th><th scope=col>&lt;dbl&gt;</th></tr>\n",
       "</thead>\n",
       "<tbody>\n",
       "\t<tr><th scope=row>1</th><td>0</td><td>380</td><td>3.61</td><td>1</td></tr>\n",
       "\t<tr><th scope=row>2</th><td>1</td><td>660</td><td>3.67</td><td>1</td></tr>\n",
       "\t<tr><th scope=row>3</th><td>1</td><td>800</td><td>4.00</td><td>0</td></tr>\n",
       "\t<tr><th scope=row>4</th><td>1</td><td>640</td><td>3.19</td><td>1</td></tr>\n",
       "\t<tr><th scope=row>5</th><td>0</td><td>520</td><td>2.93</td><td>1</td></tr>\n",
       "\t<tr><th scope=row>6</th><td>1</td><td>760</td><td>3.00</td><td>0</td></tr>\n",
       "</tbody>\n",
       "</table>\n"
      ],
      "text/latex": [
       "A data.frame: 6 × 4\n",
       "\\begin{tabular}{r|llll}\n",
       "  & admit & gre & gpa & rank\\\\\n",
       "  & <int> & <int> & <dbl> & <dbl>\\\\\n",
       "\\hline\n",
       "\t1 & 0 & 380 & 3.61 & 1\\\\\n",
       "\t2 & 1 & 660 & 3.67 & 1\\\\\n",
       "\t3 & 1 & 800 & 4.00 & 0\\\\\n",
       "\t4 & 1 & 640 & 3.19 & 1\\\\\n",
       "\t5 & 0 & 520 & 2.93 & 1\\\\\n",
       "\t6 & 1 & 760 & 3.00 & 0\\\\\n",
       "\\end{tabular}\n"
      ],
      "text/markdown": [
       "\n",
       "A data.frame: 6 × 4\n",
       "\n",
       "| <!--/--> | admit &lt;int&gt; | gre &lt;int&gt; | gpa &lt;dbl&gt; | rank &lt;dbl&gt; |\n",
       "|---|---|---|---|---|\n",
       "| 1 | 0 | 380 | 3.61 | 1 |\n",
       "| 2 | 1 | 660 | 3.67 | 1 |\n",
       "| 3 | 1 | 800 | 4.00 | 0 |\n",
       "| 4 | 1 | 640 | 3.19 | 1 |\n",
       "| 5 | 0 | 520 | 2.93 | 1 |\n",
       "| 6 | 1 | 760 | 3.00 | 0 |\n",
       "\n"
      ],
      "text/plain": [
       "  admit gre gpa  rank\n",
       "1 0     380 3.61 1   \n",
       "2 1     660 3.67 1   \n",
       "3 1     800 4.00 0   \n",
       "4 1     640 3.19 1   \n",
       "5 0     520 2.93 1   \n",
       "6 1     760 3.00 0   "
      ]
     },
     "metadata": {},
     "output_type": "display_data"
    }
   ],
   "source": [
    "df <- read.csv(\"https://stats.idre.ucla.edu/stat/data/binary.csv\")\n",
    "df$rank <- ceiling(df$rank/2) - 1\n",
    "head(df)"
   ]
  },
  {
   "cell_type": "markdown",
   "metadata": {},
   "source": [
    "##### 1. Investigate the association between admit and rank in terms of odds ratio."
   ]
  },
  {
   "cell_type": "code",
   "execution_count": 2,
   "metadata": {},
   "outputs": [
    {
     "data": {
      "text/plain": [
       "    admit\n",
       "rank   1   0\n",
       "   1  40 148\n",
       "   0  87 125"
      ]
     },
     "metadata": {},
     "output_type": "display_data"
    }
   ],
   "source": [
    "table(df[,c(\"rank\", \"admit\")])[c(2,1),c(2,1)]"
   ]
  },
  {
   "cell_type": "code",
   "execution_count": 3,
   "metadata": {},
   "outputs": [
    {
     "data": {
      "text/html": [
       "0.388319353836595"
      ],
      "text/latex": [
       "0.388319353836595"
      ],
      "text/markdown": [
       "0.388319353836595"
      ],
      "text/plain": [
       "[1] 0.3883194"
      ]
     },
     "metadata": {},
     "output_type": "display_data"
    }
   ],
   "source": [
    "OR <- 40*125/(87*148); OR"
   ]
  },
  {
   "cell_type": "code",
   "execution_count": 4,
   "metadata": {},
   "outputs": [
    {
     "data": {
      "text/plain": [
       "\n",
       "Call:\n",
       "glm(formula = admit ~ rank, family = binomial(link = \"logit\"), \n",
       "    data = df)\n",
       "\n",
       "Deviance Residuals: \n",
       "    Min       1Q   Median       3Q      Max  \n",
       "-1.0279  -1.0279  -0.6917   1.3347   1.7593  \n",
       "\n",
       "Coefficients:\n",
       "            Estimate Std. Error z value Pr(>|z|)    \n",
       "(Intercept)  -0.3624     0.1396  -2.596  0.00944 ** \n",
       "rank         -0.9459     0.2264  -4.178 2.94e-05 ***\n",
       "---\n",
       "Signif. codes:  0 ‘***’ 0.001 ‘**’ 0.01 ‘*’ 0.05 ‘.’ 0.1 ‘ ’ 1\n",
       "\n",
       "(Dispersion parameter for binomial family taken to be 1)\n",
       "\n",
       "    Null deviance: 499.98  on 399  degrees of freedom\n",
       "Residual deviance: 481.66  on 398  degrees of freedom\n",
       "AIC: 485.66\n",
       "\n",
       "Number of Fisher Scoring iterations: 4\n"
      ]
     },
     "metadata": {},
     "output_type": "display_data"
    }
   ],
   "source": [
    "fit1 <- glm(admit~rank,\n",
    "            family = binomial(link = \"logit\"),\n",
    "            data = df)\n",
    "summary(fit1)"
   ]
  },
  {
   "cell_type": "code",
   "execution_count": 5,
   "metadata": {},
   "outputs": [
    {
     "data": {
      "text/html": [
       "<style>\n",
       ".dl-inline {width: auto; margin:0; padding: 0}\n",
       ".dl-inline>dt, .dl-inline>dd {float: none; width: auto; display: inline-block}\n",
       ".dl-inline>dt::after {content: \":\\0020\"; padding-right: .5ex}\n",
       ".dl-inline>dt:not(:first-of-type) {padding-left: .5ex}\n",
       "</style><dl class=dl-inline><dt>(Intercept)</dt><dd>0.696000000000002</dd><dt>rank</dt><dd>0.388319353836889</dd></dl>\n"
      ],
      "text/latex": [
       "\\begin{description*}\n",
       "\\item[(Intercept)] 0.696000000000002\n",
       "\\item[rank] 0.388319353836889\n",
       "\\end{description*}\n"
      ],
      "text/markdown": [
       "(Intercept)\n",
       ":   0.696000000000002rank\n",
       ":   0.388319353836889\n",
       "\n"
      ],
      "text/plain": [
       "(Intercept)        rank \n",
       "  0.6960000   0.3883194 "
      ]
     },
     "metadata": {},
     "output_type": "display_data"
    }
   ],
   "source": [
    "exp(fit1$coefficients)"
   ]
  },
  {
   "cell_type": "code",
   "execution_count": 6,
   "metadata": {},
   "outputs": [
    {
     "name": "stderr",
     "output_type": "stream",
     "text": [
      "Waiting for profiling to be done...\n",
      "\n"
     ]
    },
    {
     "data": {
      "text/html": [
       "<table>\n",
       "<caption>A matrix: 2 × 2 of type dbl</caption>\n",
       "<thead>\n",
       "\t<tr><th></th><th scope=col>2.5 %</th><th scope=col>97.5 %</th></tr>\n",
       "</thead>\n",
       "<tbody>\n",
       "\t<tr><th scope=row>(Intercept)</th><td>0.5279583</td><td>0.9134167</td></tr>\n",
       "\t<tr><th scope=row>rank</th><td>0.2473729</td><td>0.6017864</td></tr>\n",
       "</tbody>\n",
       "</table>\n"
      ],
      "text/latex": [
       "A matrix: 2 × 2 of type dbl\n",
       "\\begin{tabular}{r|ll}\n",
       "  & 2.5 \\% & 97.5 \\%\\\\\n",
       "\\hline\n",
       "\t(Intercept) & 0.5279583 & 0.9134167\\\\\n",
       "\trank & 0.2473729 & 0.6017864\\\\\n",
       "\\end{tabular}\n"
      ],
      "text/markdown": [
       "\n",
       "A matrix: 2 × 2 of type dbl\n",
       "\n",
       "| <!--/--> | 2.5 % | 97.5 % |\n",
       "|---|---|---|\n",
       "| (Intercept) | 0.5279583 | 0.9134167 |\n",
       "| rank | 0.2473729 | 0.6017864 |\n",
       "\n"
      ],
      "text/plain": [
       "            2.5 %     97.5 %   \n",
       "(Intercept) 0.5279583 0.9134167\n",
       "rank        0.2473729 0.6017864"
      ]
     },
     "metadata": {},
     "output_type": "display_data"
    }
   ],
   "source": [
    "# CI for the odds ratio\n",
    "exp(confint(fit1, level = 0.95))"
   ]
  },
  {
   "cell_type": "code",
   "execution_count": 7,
   "metadata": {},
   "outputs": [
    {
     "data": {
      "text/html": [
       "<style>\n",
       ".dl-inline {width: auto; margin:0; padding: 0}\n",
       ".dl-inline>dt, .dl-inline>dd {float: none; width: auto; display: inline-block}\n",
       ".dl-inline>dt::after {content: \":\\0020\"; padding-right: .5ex}\n",
       ".dl-inline>dt:not(:first-of-type) {padding-left: .5ex}\n",
       "</style><dl class=dl-inline><dt>1</dt><dd>0.410377358490567</dd><dt>2</dt><dd>0.212765957446936</dd></dl>\n"
      ],
      "text/latex": [
       "\\begin{description*}\n",
       "\\item[1] 0.410377358490567\n",
       "\\item[2] 0.212765957446936\n",
       "\\end{description*}\n"
      ],
      "text/markdown": [
       "1\n",
       ":   0.4103773584905672\n",
       ":   0.212765957446936\n",
       "\n"
      ],
      "text/plain": [
       "        1         2 \n",
       "0.4103774 0.2127660 "
      ]
     },
     "metadata": {},
     "output_type": "display_data"
    }
   ],
   "source": [
    "# Prediction\n",
    "# type = \"response\" gives the fitted probability\n",
    "nd <- data.frame(rank = c(0,1))\n",
    "predict(fit1, type = \"response\", newdata = nd)"
   ]
  },
  {
   "cell_type": "markdown",
   "metadata": {},
   "source": [
    "On average, the probability of admission for rank 0 is 0.41 and 0.21 for rank 1."
   ]
  },
  {
   "cell_type": "code",
   "execution_count": 8,
   "metadata": {},
   "outputs": [
    {
     "data": {
      "text/html": [
       "<style>\n",
       ".dl-inline {width: auto; margin:0; padding: 0}\n",
       ".dl-inline>dt, .dl-inline>dd {float: none; width: auto; display: inline-block}\n",
       ".dl-inline>dt::after {content: \":\\0020\"; padding-right: .5ex}\n",
       ".dl-inline>dt:not(:first-of-type) {padding-left: .5ex}\n",
       "</style><dl class=dl-inline><dt>1</dt><dd>-0.362405618647715</dd><dt>2</dt><dd>-1.30833281964942</dd></dl>\n"
      ],
      "text/latex": [
       "\\begin{description*}\n",
       "\\item[1] -0.362405618647715\n",
       "\\item[2] -1.30833281964942\n",
       "\\end{description*}\n"
      ],
      "text/markdown": [
       "1\n",
       ":   -0.3624056186477152\n",
       ":   -1.30833281964942\n",
       "\n"
      ],
      "text/plain": [
       "         1          2 \n",
       "-0.3624056 -1.3083328 "
      ]
     },
     "metadata": {},
     "output_type": "display_data"
    }
   ],
   "source": [
    "# type = \"link\" give the fitted linear predictor\n",
    "predict(fit1, type = \"link\", newdata = nd)"
   ]
  },
  {
   "cell_type": "markdown",
   "metadata": {},
   "source": [
    "##### 2. Investigate the association between admit and GPA in terms of odds ratio.\n",
    "GPA is continuous, therefore we can no longer make the 2x2 table to get the odds ratio.\n",
    "\n",
    "Regression!"
   ]
  },
  {
   "cell_type": "code",
   "execution_count": 9,
   "metadata": {
    "scrolled": false
   },
   "outputs": [
    {
     "data": {
      "text/plain": [
       "\n",
       "Call:\n",
       "glm(formula = admit ~ gpa, family = binomial(), data = df)\n",
       "\n",
       "Deviance Residuals: \n",
       "    Min       1Q   Median       3Q      Max  \n",
       "-1.1131  -0.8874  -0.7566   1.3305   1.9824  \n",
       "\n",
       "Coefficients:\n",
       "            Estimate Std. Error z value Pr(>|z|)    \n",
       "(Intercept)  -4.3576     1.0353  -4.209 2.57e-05 ***\n",
       "gpa           1.0511     0.2989   3.517 0.000437 ***\n",
       "---\n",
       "Signif. codes:  0 ‘***’ 0.001 ‘**’ 0.01 ‘*’ 0.05 ‘.’ 0.1 ‘ ’ 1\n",
       "\n",
       "(Dispersion parameter for binomial family taken to be 1)\n",
       "\n",
       "    Null deviance: 499.98  on 399  degrees of freedom\n",
       "Residual deviance: 486.97  on 398  degrees of freedom\n",
       "AIC: 490.97\n",
       "\n",
       "Number of Fisher Scoring iterations: 4\n"
      ]
     },
     "metadata": {},
     "output_type": "display_data"
    }
   ],
   "source": [
    "fit2 <- glm(admit~gpa,\n",
    "            family = binomial(),\n",
    "            data = df)\n",
    "summary(fit2)\n",
    "# the link function for binomial family is logit by default - canonical link"
   ]
  },
  {
   "cell_type": "code",
   "execution_count": 10,
   "metadata": {},
   "outputs": [
    {
     "data": {
      "text/html": [
       "<style>\n",
       ".dl-inline {width: auto; margin:0; padding: 0}\n",
       ".dl-inline>dt, .dl-inline>dd {float: none; width: auto; display: inline-block}\n",
       ".dl-inline>dt::after {content: \":\\0020\"; padding-right: .5ex}\n",
       ".dl-inline>dt:not(:first-of-type) {padding-left: .5ex}\n",
       "</style><dl class=dl-inline><dt>(Intercept)</dt><dd>-4.35758730334778</dd><dt>gpa</dt><dd>1.05110872619157</dd></dl>\n"
      ],
      "text/latex": [
       "\\begin{description*}\n",
       "\\item[(Intercept)] -4.35758730334778\n",
       "\\item[gpa] 1.05110872619157\n",
       "\\end{description*}\n"
      ],
      "text/markdown": [
       "(Intercept)\n",
       ":   -4.35758730334778gpa\n",
       ":   1.05110872619157\n",
       "\n"
      ],
      "text/plain": [
       "(Intercept)         gpa \n",
       "  -4.357587    1.051109 "
      ]
     },
     "metadata": {},
     "output_type": "display_data"
    }
   ],
   "source": [
    "fit2$coefficients"
   ]
  },
  {
   "cell_type": "code",
   "execution_count": 11,
   "metadata": {
    "scrolled": false
   },
   "outputs": [
    {
     "data": {
      "text/html": [
       "<style>\n",
       ".dl-inline {width: auto; margin:0; padding: 0}\n",
       ".dl-inline>dt, .dl-inline>dd {float: none; width: auto; display: inline-block}\n",
       ".dl-inline>dt::after {content: \":\\0020\"; padding-right: .5ex}\n",
       ".dl-inline>dt:not(:first-of-type) {padding-left: .5ex}\n",
       "</style><dl class=dl-inline><dt>(Intercept)</dt><dd>0.0128092552447367</dd><dt>gpa</dt><dd>2.86082122777123</dd></dl>\n"
      ],
      "text/latex": [
       "\\begin{description*}\n",
       "\\item[(Intercept)] 0.0128092552447367\n",
       "\\item[gpa] 2.86082122777123\n",
       "\\end{description*}\n"
      ],
      "text/markdown": [
       "(Intercept)\n",
       ":   0.0128092552447367gpa\n",
       ":   2.86082122777123\n",
       "\n"
      ],
      "text/plain": [
       "(Intercept)         gpa \n",
       " 0.01280926  2.86082123 "
      ]
     },
     "metadata": {},
     "output_type": "display_data"
    }
   ],
   "source": [
    "exp(fit2$coefficients)"
   ]
  },
  {
   "cell_type": "code",
   "execution_count": 12,
   "metadata": {
    "scrolled": true
   },
   "outputs": [
    {
     "data": {
      "text/html": [
       "<strong>1:</strong> 0.461786564607921"
      ],
      "text/latex": [
       "\\textbf{1:} 0.461786564607921"
      ],
      "text/markdown": [
       "**1:** 0.461786564607921"
      ],
      "text/plain": [
       "        1 \n",
       "0.4617866 "
      ]
     },
     "metadata": {},
     "output_type": "display_data"
    }
   ],
   "source": [
    "# Predict the probability of admit given 4.0 GPA\n",
    "predict(fit2, newdata=data.frame(gpa=4), type=\"response\")"
   ]
  },
  {
   "cell_type": "markdown",
   "metadata": {},
   "source": [
    "##### 3. Investigate the association between admit and all three variables."
   ]
  },
  {
   "cell_type": "code",
   "execution_count": 13,
   "metadata": {},
   "outputs": [
    {
     "data": {
      "text/plain": [
       "\n",
       "Call:\n",
       "glm(formula = admit ~ ., family = binomial(), data = df)\n",
       "\n",
       "Deviance Residuals: \n",
       "    Min       1Q   Median       3Q      Max  \n",
       "-1.4290  -0.8902  -0.6552   1.1937   2.1122  \n",
       "\n",
       "Coefficients:\n",
       "             Estimate Std. Error z value Pr(>|z|)    \n",
       "(Intercept) -4.679673   1.100498  -4.252 2.12e-05 ***\n",
       "gre          0.002280   0.001085   2.101  0.03568 *  \n",
       "gpa          0.864058   0.327562   2.638  0.00834 ** \n",
       "rank        -0.938317   0.232946  -4.028 5.62e-05 ***\n",
       "---\n",
       "Signif. codes:  0 ‘***’ 0.001 ‘**’ 0.01 ‘*’ 0.05 ‘.’ 0.1 ‘ ’ 1\n",
       "\n",
       "(Dispersion parameter for binomial family taken to be 1)\n",
       "\n",
       "    Null deviance: 499.98  on 399  degrees of freedom\n",
       "Residual deviance: 463.37  on 396  degrees of freedom\n",
       "AIC: 471.37\n",
       "\n",
       "Number of Fisher Scoring iterations: 3\n"
      ]
     },
     "metadata": {},
     "output_type": "display_data"
    }
   ],
   "source": [
    "fit3 <- glm(admit~., family = binomial(), data = df)\n",
    "summary(fit3)"
   ]
  },
  {
   "cell_type": "markdown",
   "metadata": {},
   "source": [
    "### 12.1.2 Poisson regression\n",
    "- Used to model count data\n",
    "    - Poisson distribution is commonly used to model counts\n",
    "        - Sometimes modeling the counts does not make sense\n",
    "        - e.g. Number of accidents for a certain model of vehicle\n",
    "    - Include an denominator to the counts to make a rate\n",
    "        - e.g. Number of accidents for a certain model of vehicle per month\n",
    "    \n",
    "#### Example: Ship damage data\n",
    "- `incidents`\n",
    "    - Number of damage incidents during service\n",
    "- `service`\n",
    "    - Aggregate months of service\n",
    "- `type`\n",
    "    - 5 types of ships, A-E\n",
    "- `year`\n",
    "    - Year of construction"
   ]
  },
  {
   "cell_type": "code",
   "execution_count": 14,
   "metadata": {},
   "outputs": [
    {
     "data": {
      "text/html": [
       "<table>\n",
       "<caption>A data.frame: 6 × 5</caption>\n",
       "<thead>\n",
       "\t<tr><th></th><th scope=col>type</th><th scope=col>year</th><th scope=col>period</th><th scope=col>service</th><th scope=col>incidents</th></tr>\n",
       "\t<tr><th></th><th scope=col>&lt;fct&gt;</th><th scope=col>&lt;int&gt;</th><th scope=col>&lt;int&gt;</th><th scope=col>&lt;int&gt;</th><th scope=col>&lt;int&gt;</th></tr>\n",
       "</thead>\n",
       "<tbody>\n",
       "\t<tr><th scope=row>1</th><td>A</td><td>60</td><td>60</td><td> 127</td><td> 0</td></tr>\n",
       "\t<tr><th scope=row>2</th><td>A</td><td>60</td><td>75</td><td>  63</td><td> 0</td></tr>\n",
       "\t<tr><th scope=row>3</th><td>A</td><td>65</td><td>60</td><td>1095</td><td> 3</td></tr>\n",
       "\t<tr><th scope=row>4</th><td>A</td><td>65</td><td>75</td><td>1095</td><td> 4</td></tr>\n",
       "\t<tr><th scope=row>5</th><td>A</td><td>70</td><td>60</td><td>1512</td><td> 6</td></tr>\n",
       "\t<tr><th scope=row>6</th><td>A</td><td>70</td><td>75</td><td>3353</td><td>18</td></tr>\n",
       "</tbody>\n",
       "</table>\n"
      ],
      "text/latex": [
       "A data.frame: 6 × 5\n",
       "\\begin{tabular}{r|lllll}\n",
       "  & type & year & period & service & incidents\\\\\n",
       "  & <fct> & <int> & <int> & <int> & <int>\\\\\n",
       "\\hline\n",
       "\t1 & A & 60 & 60 &  127 &  0\\\\\n",
       "\t2 & A & 60 & 75 &   63 &  0\\\\\n",
       "\t3 & A & 65 & 60 & 1095 &  3\\\\\n",
       "\t4 & A & 65 & 75 & 1095 &  4\\\\\n",
       "\t5 & A & 70 & 60 & 1512 &  6\\\\\n",
       "\t6 & A & 70 & 75 & 3353 & 18\\\\\n",
       "\\end{tabular}\n"
      ],
      "text/markdown": [
       "\n",
       "A data.frame: 6 × 5\n",
       "\n",
       "| <!--/--> | type &lt;fct&gt; | year &lt;int&gt; | period &lt;int&gt; | service &lt;int&gt; | incidents &lt;int&gt; |\n",
       "|---|---|---|---|---|---|\n",
       "| 1 | A | 60 | 60 |  127 |  0 |\n",
       "| 2 | A | 60 | 75 |   63 |  0 |\n",
       "| 3 | A | 65 | 60 | 1095 |  3 |\n",
       "| 4 | A | 65 | 75 | 1095 |  4 |\n",
       "| 5 | A | 70 | 60 | 1512 |  6 |\n",
       "| 6 | A | 70 | 75 | 3353 | 18 |\n",
       "\n"
      ],
      "text/plain": [
       "  type year period service incidents\n",
       "1 A    60   60      127     0       \n",
       "2 A    60   75       63     0       \n",
       "3 A    65   60     1095     3       \n",
       "4 A    65   75     1095     4       \n",
       "5 A    70   60     1512     6       \n",
       "6 A    70   75     3353    18       "
      ]
     },
     "metadata": {},
     "output_type": "display_data"
    }
   ],
   "source": [
    "library(MASS)\n",
    "ds <- ships\n",
    "ds <- ds[ds$service>0, ]\n",
    "head(ds)"
   ]
  },
  {
   "cell_type": "markdown",
   "metadata": {},
   "source": [
    "##### Investigate the association between rate of incidents and the variables"
   ]
  },
  {
   "cell_type": "code",
   "execution_count": 15,
   "metadata": {
    "scrolled": false
   },
   "outputs": [
    {
     "data": {
      "text/plain": [
       "\n",
       "Call:\n",
       "glm(formula = incidents ~ type + as.factor(year) + offset(log(service)), \n",
       "    family = poisson(\"log\"), data = ds)\n",
       "\n",
       "Deviance Residuals: \n",
       "    Min       1Q   Median       3Q      Max  \n",
       "-1.9538  -1.0525  -0.4846   0.5779   2.4183  \n",
       "\n",
       "Coefficients:\n",
       "                  Estimate Std. Error z value Pr(>|z|)    \n",
       "(Intercept)       -6.26892    0.21241 -29.513  < 2e-16 ***\n",
       "typeB             -0.55861    0.17767  -3.144  0.00167 ** \n",
       "typeC             -0.68388    0.32908  -2.078  0.03769 *  \n",
       "typeD             -0.07032    0.29071  -0.242  0.80887    \n",
       "typeE              0.30425    0.23581   1.290  0.19698    \n",
       "as.factor(year)65  0.75347    0.14855   5.072 3.94e-07 ***\n",
       "as.factor(year)70  0.96530    0.16369   5.897 3.70e-09 ***\n",
       "as.factor(year)75  0.70828    0.22153   3.197  0.00139 ** \n",
       "---\n",
       "Signif. codes:  0 ‘***’ 0.001 ‘**’ 0.01 ‘*’ 0.05 ‘.’ 0.1 ‘ ’ 1\n",
       "\n",
       "(Dispersion parameter for poisson family taken to be 1)\n",
       "\n",
       "    Null deviance: 146.328  on 33  degrees of freedom\n",
       "Residual deviance:  49.355  on 26  degrees of freedom\n",
       "AIC: 163.22\n",
       "\n",
       "Number of Fisher Scoring iterations: 5\n"
      ]
     },
     "metadata": {},
     "output_type": "display_data"
    }
   ],
   "source": [
    "# The canonical link for poisson regression is log, so can be omitted.\n",
    "fit.rate <- glm(incidents~type+as.factor(year)+offset(log(service)),\n",
    "                family = poisson(\"log\"), data = ds)\n",
    "summary(fit.rate)"
   ]
  },
  {
   "cell_type": "code",
   "execution_count": 16,
   "metadata": {},
   "outputs": [
    {
     "name": "stdout",
     "output_type": "stream",
     "text": [
      "      (Intercept)             typeB             typeC             typeD \n",
      "      0.001894267       0.572000831       0.504653459       0.932096489 \n",
      "            typeE as.factor(year)65 as.factor(year)70 as.factor(year)75 \n",
      "      1.355607592       2.124369011       2.625565697       2.030490911 \n"
     ]
    }
   ],
   "source": [
    "print(exp(fit.rate$coefficients))"
   ]
  },
  {
   "cell_type": "markdown",
   "metadata": {},
   "source": [
    "## 12.2 Bootstrap\n",
    "### Motivation\n",
    "Sometimes we cannot find the standard error thus the confidence interval of an estimator analytically.\n",
    "\n",
    "We have learned from the statistics class that $\\mathrm{Var}(aX+bY) = a^2\\mathrm{Var}(X)+b^2\\mathrm{Var}(Y)$\n",
    "\n",
    "What about $\\mathrm{Var}(XY)$ or $\\mathrm{Var}(X/Y)$\n",
    "\n",
    "### Rationale\n",
    "\n",
    "1. Resample from our dataset with replacement for many many many times.\n",
    "\n",
    "2. Perform the same estimation for each sample.\n",
    "\n",
    "3. Acquire an empirical confidence interval.\n",
    "\n",
    "### Implementation\n",
    "\n",
    "1. Write our own loop\n",
    "\n",
    "2. The `boot` package"
   ]
  },
  {
   "cell_type": "markdown",
   "metadata": {},
   "source": [
    "### Example 1 - $\\mathrm{Var}(XY)$\n",
    "- $X\\sim \\mathrm{Norm}(10, 1)$\n",
    "- $Y\\sim \\mathrm{Gamma}(3, 4)$"
   ]
  },
  {
   "cell_type": "code",
   "execution_count": 17,
   "metadata": {},
   "outputs": [
    {
     "data": {
      "text/html": [
       "4.39635884856708"
      ],
      "text/latex": [
       "4.39635884856708"
      ],
      "text/markdown": [
       "4.39635884856708"
      ],
      "text/plain": [
       "[1] 4.396359"
      ]
     },
     "metadata": {},
     "output_type": "display_data"
    }
   ],
   "source": [
    "x <- rnorm(1, mean = 10, sd = 1)\n",
    "y <- rgamma(1, shape = 3, rate = 4)\n",
    "x*y"
   ]
  },
  {
   "cell_type": "code",
   "execution_count": 18,
   "metadata": {},
   "outputs": [
    {
     "name": "stdout",
     "output_type": "stream",
     "text": [
      "     2.5%       50%     97.5% \n",
      " 1.495221  6.657289 18.378784 \n"
     ]
    },
    {
     "data": {
      "image/png": "[encoded data removed]",
      "text/plain": [
       "Plot with title “Histogram of XY”"
      ]
     },
     "metadata": {
      "image/png": {
       "height": 420,
       "width": 420
      }
     },
     "output_type": "display_data"
    }
   ],
   "source": [
    "boot.iter <- 10000\n",
    "XY <- numeric(boot.iter)\n",
    "\n",
    "set.seed(613)\n",
    "for (i in 1:boot.iter) {\n",
    "    x <- rnorm(n = 1, mean = 10, sd = 1)\n",
    "    y <- rgamma(n = 1, shape = 3, rate = 4)\n",
    "    XY[i] <- x * y\n",
    "}\n",
    "print(quantile(x = XY, probs = c(0.025,0.5,0.975)))\n",
    "hist(XY, breaks = 20)"
   ]
  },
  {
   "cell_type": "markdown",
   "metadata": {},
   "source": [
    "### Example 2\n",
    "\n",
    "##### Once I came across a paper that calculated the ratio of odds ratios (\"ROR\") of two variables, and claimed that the variable with bigger odds ratio (ROR$>1$) had a greater effect."
   ]
  },
  {
   "cell_type": "code",
   "execution_count": 19,
   "metadata": {},
   "outputs": [
    {
     "data": {
      "text/html": [
       "<table>\n",
       "<caption>A data.frame: 6 × 9</caption>\n",
       "<thead>\n",
       "\t<tr><th></th><th scope=col>sex</th><th scope=col>dstr</th><th scope=col>age</th><th scope=col>coma</th><th scope=col>diab</th><th scope=col>minf</th><th scope=col>han</th><th scope=col>dead</th><th scope=col>obsmonths</th></tr>\n",
       "\t<tr><th></th><th scope=col>&lt;fct&gt;</th><th scope=col>&lt;fct&gt;</th><th scope=col>&lt;int&gt;</th><th scope=col>&lt;fct&gt;</th><th scope=col>&lt;fct&gt;</th><th scope=col>&lt;fct&gt;</th><th scope=col>&lt;fct&gt;</th><th scope=col>&lt;lgl&gt;</th><th scope=col>&lt;dbl&gt;</th></tr>\n",
       "</thead>\n",
       "<tbody>\n",
       "\t<tr><th scope=row>1</th><td>Male  </td><td>1991-01-02</td><td>76</td><td>No </td><td>No </td><td>Yes</td><td>No </td><td> TRUE</td><td> 0.16339869</td></tr>\n",
       "\t<tr><th scope=row>2</th><td>Male  </td><td>1991-01-03</td><td>58</td><td>No </td><td>No </td><td>No </td><td>No </td><td>FALSE</td><td>59.60784314</td></tr>\n",
       "\t<tr><th scope=row>3</th><td>Male  </td><td>1991-01-08</td><td>74</td><td>No </td><td>No </td><td>Yes</td><td>Yes</td><td> TRUE</td><td> 4.73856209</td></tr>\n",
       "\t<tr><th scope=row>4</th><td>Female</td><td>1991-01-11</td><td>78</td><td>No </td><td>Yes</td><td>No </td><td>Yes</td><td> TRUE</td><td> 0.06535948</td></tr>\n",
       "\t<tr><th scope=row>5</th><td>Female</td><td>1991-01-13</td><td>76</td><td>No </td><td>Yes</td><td>No </td><td>Yes</td><td>FALSE</td><td>59.28104575</td></tr>\n",
       "\t<tr><th scope=row>6</th><td>Male  </td><td>1991-01-13</td><td>48</td><td>Yes</td><td>No </td><td>No </td><td>Yes</td><td> TRUE</td><td> 0.10000000</td></tr>\n",
       "</tbody>\n",
       "</table>\n"
      ],
      "text/latex": [
       "A data.frame: 6 × 9\n",
       "\\begin{tabular}{r|lllllllll}\n",
       "  & sex & dstr & age & coma & diab & minf & han & dead & obsmonths\\\\\n",
       "  & <fct> & <fct> & <int> & <fct> & <fct> & <fct> & <fct> & <lgl> & <dbl>\\\\\n",
       "\\hline\n",
       "\t1 & Male   & 1991-01-02 & 76 & No  & No  & Yes & No  &  TRUE &  0.16339869\\\\\n",
       "\t2 & Male   & 1991-01-03 & 58 & No  & No  & No  & No  & FALSE & 59.60784314\\\\\n",
       "\t3 & Male   & 1991-01-08 & 74 & No  & No  & Yes & Yes &  TRUE &  4.73856209\\\\\n",
       "\t4 & Female & 1991-01-11 & 78 & No  & Yes & No  & Yes &  TRUE &  0.06535948\\\\\n",
       "\t5 & Female & 1991-01-13 & 76 & No  & Yes & No  & Yes & FALSE & 59.28104575\\\\\n",
       "\t6 & Male   & 1991-01-13 & 48 & Yes & No  & No  & Yes &  TRUE &  0.10000000\\\\\n",
       "\\end{tabular}\n"
      ],
      "text/markdown": [
       "\n",
       "A data.frame: 6 × 9\n",
       "\n",
       "| <!--/--> | sex &lt;fct&gt; | dstr &lt;fct&gt; | age &lt;int&gt; | coma &lt;fct&gt; | diab &lt;fct&gt; | minf &lt;fct&gt; | han &lt;fct&gt; | dead &lt;lgl&gt; | obsmonths &lt;dbl&gt; |\n",
       "|---|---|---|---|---|---|---|---|---|---|\n",
       "| 1 | Male   | 1991-01-02 | 76 | No  | No  | Yes | No  |  TRUE |  0.16339869 |\n",
       "| 2 | Male   | 1991-01-03 | 58 | No  | No  | No  | No  | FALSE | 59.60784314 |\n",
       "| 3 | Male   | 1991-01-08 | 74 | No  | No  | Yes | Yes |  TRUE |  4.73856209 |\n",
       "| 4 | Female | 1991-01-11 | 78 | No  | Yes | No  | Yes |  TRUE |  0.06535948 |\n",
       "| 5 | Female | 1991-01-13 | 76 | No  | Yes | No  | Yes | FALSE | 59.28104575 |\n",
       "| 6 | Male   | 1991-01-13 | 48 | Yes | No  | No  | Yes |  TRUE |  0.10000000 |\n",
       "\n"
      ],
      "text/plain": [
       "  sex    dstr       age coma diab minf han dead  obsmonths  \n",
       "1 Male   1991-01-02 76  No   No   Yes  No   TRUE  0.16339869\n",
       "2 Male   1991-01-03 58  No   No   No   No  FALSE 59.60784314\n",
       "3 Male   1991-01-08 74  No   No   Yes  Yes  TRUE  4.73856209\n",
       "4 Female 1991-01-11 78  No   Yes  No   Yes  TRUE  0.06535948\n",
       "5 Female 1991-01-13 76  No   Yes  No   Yes FALSE 59.28104575\n",
       "6 Male   1991-01-13 48  Yes  No   No   Yes  TRUE  0.10000000"
      ]
     },
     "metadata": {},
     "output_type": "display_data"
    }
   ],
   "source": [
    "# Illustration of the idea on a different dataset.\n",
    "stroke <- read.csv(\"https://raw.githubusercontent.com/ly129/EPIB613_2019/master/stroke.csv\")\n",
    "head(stroke)"
   ]
  },
  {
   "cell_type": "code",
   "execution_count": 20,
   "metadata": {},
   "outputs": [
    {
     "name": "stdout",
     "output_type": "stream",
     "text": [
      "(Intercept)     sexMale     diabYes     comaYes     minfYes \n",
      "  1.2445152   0.5727227   1.3259460  70.2134665   2.7566108 \n"
     ]
    }
   ],
   "source": [
    "fit <- glm(dead~sex+diab+coma+minf, data = stroke, family = binomial())\n",
    "print(exp(coef(fit)))"
   ]
  },
  {
   "cell_type": "code",
   "execution_count": 21,
   "metadata": {},
   "outputs": [
    {
     "data": {
      "text/html": [
       "<strong>minfYes:</strong> 2.07897660469724"
      ],
      "text/latex": [
       "\\textbf{minfYes:} 2.07897660469724"
      ],
      "text/markdown": [
       "**minfYes:** 2.07897660469724"
      ],
      "text/plain": [
       " minfYes \n",
       "2.078977 "
      ]
     },
     "metadata": {},
     "output_type": "display_data"
    }
   ],
   "source": [
    "# ROR of myocardial infarction vs. diabetes\n",
    "ROR_minf_diab <- exp(coef(fit))[5] / exp(coef(fit))[3]\n",
    "ROR_minf_diab"
   ]
  },
  {
   "cell_type": "markdown",
   "metadata": {},
   "source": [
    "##### Let's pretend that the analysis is OK. We still need a confidence interval for this \"ROR\"...\n",
    "- Statistically intractable.\n",
    "    - $\\mathrm{Var}(\\beta_{minf}/\\beta_{diab})$ cannot be calculated analytically.\n",
    "    \n",
    "- Solution? Bootstrap!"
   ]
  },
  {
   "cell_type": "code",
   "execution_count": 22,
   "metadata": {},
   "outputs": [
    {
     "name": "stdout",
     "output_type": "stream",
     "text": [
      "     2.5%       50%     97.5% \n",
      "0.9839096 2.1269956 4.1777443 \n"
     ]
    },
    {
     "data": {
      "image/png": "[encoded data removed]",
      "text/plain": [
       "Plot with title “Histogram of ROR”"
      ]
     },
     "metadata": {
      "image/png": {
       "height": 420,
       "width": 420
      }
     },
     "output_type": "display_data"
    }
   ],
   "source": [
    "n <- nrow(stroke)\n",
    "boot.iter <- 1000\n",
    "ROR <- numeric(boot.iter)\n",
    "\n",
    "set.seed(613)\n",
    "for (i in 1:boot.iter) {\n",
    "    boot.index <- sample(1:n, n, replace = T)\n",
    "    boot.sample <- stroke[boot.index, ]\n",
    "    fit <- glm(dead~sex+diab+coma+minf,\n",
    "               data = boot.sample,\n",
    "               family = binomial())\n",
    "    ROR[i] <- exp(coef(fit))[5] / exp(coef(fit))[3]\n",
    "}\n",
    "print(quantile(x = ROR, probs = c(0.025,0.5,0.975)))\n",
    "hist(ROR, breaks = 20)"
   ]
  },
  {
   "cell_type": "code",
   "execution_count": 23,
   "metadata": {},
   "outputs": [
    {
     "data": {
      "text/plain": [
       "\n",
       "ORDINARY NONPARAMETRIC BOOTSTRAP\n",
       "\n",
       "\n",
       "Call:\n",
       "boot::boot(data = stroke, statistic = ROR, R = 1000)\n",
       "\n",
       "\n",
       "Bootstrap Statistics :\n",
       "    original    bias    std. error\n",
       "t1* 2.078977 0.1560756   0.8775112"
      ]
     },
     "metadata": {},
     "output_type": "display_data"
    }
   ],
   "source": [
    "library(boot)\n",
    "# function to obtain the estimate of ROR\n",
    "ROR <- function(data, indices) {\n",
    "    # allows boot to select sample\n",
    "    d <- data[indices,]\n",
    "    fit <- glm(dead~sex+diab+coma+minf,\n",
    "               data = d,\n",
    "               family = binomial())\n",
    "    ror <- exp(coef(fit))[5] / exp(coef(fit))[3]\n",
    "    return(ror)\n",
    "}\n",
    "results <- boot(data = stroke, statistic = ROR, R = 1000)\n",
    "results"
   ]
  },
  {
   "cell_type": "code",
   "execution_count": 24,
   "metadata": {},
   "outputs": [
    {
     "data": {
      "image/png": "[encoded data removed]",
      "text/plain": [
       "Plot with title “Histogram of t”"
      ]
     },
     "metadata": {
      "image/png": {
       "height": 420,
       "width": 420
      }
     },
     "output_type": "display_data"
    }
   ],
   "source": [
    "plot(results)"
   ]
  },
  {
   "cell_type": "code",
   "execution_count": 25,
   "metadata": {},
   "outputs": [
    {
     "name": "stderr",
     "output_type": "stream",
     "text": [
      "Warning message in boot.ci(results):\n",
      "“bootstrap variances needed for studentized intervals”\n"
     ]
    },
    {
     "data": {
      "text/plain": [
       "BOOTSTRAP CONFIDENCE INTERVAL CALCULATIONS\n",
       "Based on 1000 bootstrap replicates\n",
       "\n",
       "CALL : \n",
       "boot.ci(boot.out = results)\n",
       "\n",
       "Intervals : \n",
       "Level      Normal              Basic         \n",
       "95%   ( 0.203,  3.643 )   (-0.167,  3.159 )  \n",
       "\n",
       "Level     Percentile            BCa          \n",
       "95%   ( 0.999,  4.325 )   ( 0.994,  4.310 )  \n",
       "Calculations and Intervals on Original Scale"
      ]
     },
     "metadata": {},
     "output_type": "display_data"
    }
   ],
   "source": [
    "boot.ci(results)"
   ]
  }
 ],
 "metadata": {
  "kernelspec": {
   "display_name": "R",
   "language": "R",
   "name": "ir"
  },
  "language_info": {
   "codemirror_mode": "r",
   "file_extension": ".r",
   "mimetype": "text/x-r-source",
   "name": "R",
   "pygments_lexer": "r",
   "version": "3.6.3"
  }
 },
 "nbformat": 4,
 "nbformat_minor": 4
}
