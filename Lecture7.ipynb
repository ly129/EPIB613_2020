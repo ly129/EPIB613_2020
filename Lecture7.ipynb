{
 "cells": [
  {
   "cell_type": "markdown",
   "metadata": {},
   "source": [
    "# <center>EPIB 613 INTRODUCTION TO STATISTICAL SOFTWARE</center>\n",
    "\n",
    "<center> McGill EBOH </center>\n",
    "\n",
    "<center> Fall 2020 </center>\n",
    "\n",
    "<center> Yi Lian </center>\n",
    "\n",
    "# Lecture 7\n",
    "- Write our own function in R with function( )\n",
    "\n",
    "##### So far, we have seen a lot of operators\n",
    "- & | ! + - * /\n",
    "- %%, %/%, %in%\n",
    "- ...\n",
    "\n",
    "Functions are more powerful \"operators\" in R.\n",
    "\n",
    "##### Usually, functions take some inputs, perform some operations and return some output.\n",
    "\n",
    "##### R functions take inputs in the arguments"
   ]
  },
  {
   "cell_type": "code",
   "execution_count": 1,
   "metadata": {},
   "outputs": [],
   "source": [
    "# The structure\n",
    "\n",
    "func_name <- function(argument){\n",
    "    statement\n",
    "}"
   ]
  },
  {
   "cell_type": "markdown",
   "metadata": {},
   "source": [
    "#### Example 1. Make a function for $f(a,b) = a - b$\n",
    "See how R recognizes and uses the arguments"
   ]
  },
  {
   "cell_type": "code",
   "execution_count": 2,
   "metadata": {},
   "outputs": [],
   "source": [
    "# Build the function\n",
    "a_b <- function(a, b) {\n",
    "    f = a - b\n",
    "    return(f)\n",
    "}"
   ]
  },
  {
   "cell_type": "code",
   "execution_count": 3,
   "metadata": {},
   "outputs": [
    {
     "data": {
      "text/html": [
       "2"
      ],
      "text/latex": [
       "2"
      ],
      "text/markdown": [
       "2"
      ],
      "text/plain": [
       "[1] 2"
      ]
     },
     "metadata": {},
     "output_type": "display_data"
    }
   ],
   "source": [
    "# Use the function\n",
    "a_b(5, 3)"
   ]
  },
  {
   "cell_type": "code",
   "execution_count": 4,
   "metadata": {},
   "outputs": [
    {
     "data": {
      "text/html": [
       "-2"
      ],
      "text/latex": [
       "-2"
      ],
      "text/markdown": [
       "-2"
      ],
      "text/plain": [
       "[1] -2"
      ]
     },
     "metadata": {},
     "output_type": "display_data"
    }
   ],
   "source": [
    "a_b(3, 5)"
   ]
  },
  {
   "cell_type": "code",
   "execution_count": 5,
   "metadata": {},
   "outputs": [
    {
     "data": {
      "text/html": [
       "2"
      ],
      "text/latex": [
       "2"
      ],
      "text/markdown": [
       "2"
      ],
      "text/plain": [
       "[1] 2"
      ]
     },
     "metadata": {},
     "output_type": "display_data"
    }
   ],
   "source": [
    "a_b(3, a = 5)"
   ]
  },
  {
   "cell_type": "code",
   "execution_count": 6,
   "metadata": {},
   "outputs": [
    {
     "data": {
      "text/html": [
       "2"
      ],
      "text/latex": [
       "2"
      ],
      "text/markdown": [
       "2"
      ],
      "text/plain": [
       "[1] 2"
      ]
     },
     "metadata": {},
     "output_type": "display_data"
    }
   ],
   "source": [
    "a_b(a = 5, b = 3)"
   ]
  },
  {
   "cell_type": "code",
   "execution_count": 7,
   "metadata": {},
   "outputs": [
    {
     "data": {
      "text/html": [
       "2"
      ],
      "text/latex": [
       "2"
      ],
      "text/markdown": [
       "2"
      ],
      "text/plain": [
       "[1] 2"
      ]
     },
     "metadata": {},
     "output_type": "display_data"
    }
   ],
   "source": [
    "a_b(b = 3, a = 5)"
   ]
  },
  {
   "cell_type": "code",
   "execution_count": 8,
   "metadata": {},
   "outputs": [
    {
     "data": {
      "text/html": [
       "<ol class=list-inline>\n",
       "\t<li>2</li>\n",
       "\t<li>4</li>\n",
       "\t<li>6</li>\n",
       "</ol>\n"
      ],
      "text/latex": [
       "\\begin{enumerate*}\n",
       "\\item 2\n",
       "\\item 4\n",
       "\\item 6\n",
       "\\end{enumerate*}\n"
      ],
      "text/markdown": [
       "1. 2\n",
       "2. 4\n",
       "3. 6\n",
       "\n",
       "\n"
      ],
      "text/plain": [
       "[1] 2 4 6"
      ]
     },
     "metadata": {},
     "output_type": "display_data"
    }
   ],
   "source": [
    "a_b(a = c(5,6,7), b = c(3,2,1))"
   ]
  },
  {
   "cell_type": "markdown",
   "metadata": {},
   "source": [
    "#### Example 2. Make a function to calculate the integer division of $a$ by $b$, return the integer part and the modulus.\n",
    "Note the different formats of output that function( ) allows."
   ]
  },
  {
   "cell_type": "code",
   "execution_count": 9,
   "metadata": {},
   "outputs": [
    {
     "data": {
      "text/html": [
       "4"
      ],
      "text/latex": [
       "4"
      ],
      "text/markdown": [
       "4"
      ],
      "text/plain": [
       "[1] 4"
      ]
     },
     "metadata": {},
     "output_type": "display_data"
    },
    {
     "data": {
      "text/html": [
       "1"
      ],
      "text/latex": [
       "1"
      ],
      "text/markdown": [
       "1"
      ],
      "text/plain": [
       "[1] 1"
      ]
     },
     "metadata": {},
     "output_type": "display_data"
    }
   ],
   "source": [
    "# Recall\n",
    "9 %/% 2\n",
    "9 %% 2"
   ]
  },
  {
   "cell_type": "code",
   "execution_count": 10,
   "metadata": {},
   "outputs": [],
   "source": [
    "int.div <- function(a, b){\n",
    "    int <- floor(a/b)\n",
    "    mod <- a - int*b\n",
    "    return(list(integer = int, modulus = mod))\n",
    "}"
   ]
  },
  {
   "cell_type": "code",
   "execution_count": 11,
   "metadata": {},
   "outputs": [
    {
     "data": {
      "text/html": [
       "5"
      ],
      "text/latex": [
       "5"
      ],
      "text/markdown": [
       "5"
      ],
      "text/plain": [
       "[1] 5"
      ]
     },
     "metadata": {},
     "output_type": "display_data"
    }
   ],
   "source": [
    "# Recall: how do we access the modulus?\n",
    "result <- int.div(21, 4)\n",
    "result$integer"
   ]
  },
  {
   "cell_type": "code",
   "execution_count": 12,
   "metadata": {},
   "outputs": [
    {
     "name": "stdout",
     "output_type": "stream",
     "text": [
      "21 %% 4 : \n",
      " integer = 5 \n",
      " ------------------ \n",
      " modulus = 1 \n"
     ]
    }
   ],
   "source": [
    "int.div <- function(a, b){\n",
    "    int <- a%/%b\n",
    "    mod <- a%%b\n",
    "    cat(a, \"%%\", b, \": \\n integer =\", int,\"\\n ------------------ \\n modulus =\", mod, \"\\n\")\n",
    "}\n",
    "int.div(21, 4)"
   ]
  },
  {
   "cell_type": "code",
   "execution_count": 13,
   "metadata": {},
   "outputs": [
    {
     "data": {
      "text/html": [
       "<ol class=list-inline>\n",
       "\t<li>21</li>\n",
       "\t<li>4</li>\n",
       "</ol>\n"
      ],
      "text/latex": [
       "\\begin{enumerate*}\n",
       "\\item 21\n",
       "\\item 4\n",
       "\\end{enumerate*}\n"
      ],
      "text/markdown": [
       "1. 21\n",
       "2. 4\n",
       "\n",
       "\n"
      ],
      "text/plain": [
       "[1] 21  4"
      ]
     },
     "metadata": {},
     "output_type": "display_data"
    }
   ],
   "source": [
    "int.div <- function(a, b){\n",
    "    int <- a%/%b\n",
    "    mod <- a%%b\n",
    "    return(c(a, b))\n",
    "}\n",
    "int.div(21, 4)"
   ]
  },
  {
   "cell_type": "markdown",
   "metadata": {},
   "source": [
    "#### Example 3. Make the simplest canadian AI chatbot\n",
    "A function can return something other than an R object, say some voice."
   ]
  },
  {
   "cell_type": "code",
   "execution_count": 14,
   "metadata": {},
   "outputs": [],
   "source": [
    "# No need to worry about the details here.\n",
    "# Just want to show that functions do not always have to return() something.\n",
    "AIcanadian <- function(who, reply_to) {\n",
    "    system(paste(\"say -v\", who, \"Sorry!\"))\n",
    "}\n",
    "# AIcanadian(\"Alex\", \"Sorry I stepped on your foot.\")"
   ]
  },
  {
   "cell_type": "code",
   "execution_count": 15,
   "metadata": {},
   "outputs": [],
   "source": [
    "# Train my chatbot - AlphaGo style.\n",
    "# I'll let Alex and Victoria talk to each other.\n",
    "# MacOS has their voices recorded.\n",
    "# chat_log <- rep(NA, 8)\n",
    "# for (i in 1:8) {\n",
    "#     if (i == 1) {\n",
    "#         chat_log[1] <- \"Sorry I stepped on your foot.\"\n",
    "#         system(\"say -v Victoria Sorry, I stepped on your foot.\")\n",
    "#     } else {\n",
    "#         if (i %% 2 == 0)\n",
    "#             chat_log[i] <- AIcanadian(\"Alex\", chat_log[i - 1])\n",
    "#         else\n",
    "#             chat_log[i] <- AIcanadian(\"Victoria\", chat_log[i - 1])\n",
    "#     }\n",
    "# }\n",
    "# chat_log"
   ]
  },
  {
   "cell_type": "markdown",
   "metadata": {},
   "source": [
    "#### Example 4. Check one summary statistic of the score by class\n",
    "Function arguments can be basically anything, say another function."
   ]
  },
  {
   "cell_type": "code",
   "execution_count": 16,
   "metadata": {},
   "outputs": [
    {
     "data": {
      "text/plain": [
       ": epib607\n",
       "[1] 77.6\n",
       "------------------------------------------------------------ \n",
       ": epib613\n",
       "[1] 73"
      ]
     },
     "metadata": {},
     "output_type": "display_data"
    }
   ],
   "source": [
    "data_summary <- function(func) {\n",
    "    data <- read.csv(\"https://raw.githubusercontent.com/ly129/EPIB613_2020/master/scores.csv\", header = TRUE)\n",
    "    by(data = data$scores, INDICES = list(data$course), FUN = func)\n",
    "}\n",
    "data_summary(mean)"
   ]
  },
  {
   "cell_type": "markdown",
   "metadata": {},
   "source": [
    "#### Example 5. Default argument value, warning message and error message."
   ]
  },
  {
   "cell_type": "code",
   "execution_count": 17,
   "metadata": {},
   "outputs": [],
   "source": [
    "times_2_by_default_dislikes_3_hates_4 <- function(a, b = 2){\n",
    "    if (b == 3) {\n",
    "        warning(\"I dislike 3!\")\n",
    "    }\n",
    "    \n",
    "    if (b == 4) {\n",
    "        stop(\"I hate 4!\")\n",
    "    }\n",
    "    \n",
    "    return(a*b)\n",
    "}"
   ]
  },
  {
   "cell_type": "code",
   "execution_count": 18,
   "metadata": {},
   "outputs": [
    {
     "data": {
      "text/html": [
       "12"
      ],
      "text/latex": [
       "12"
      ],
      "text/markdown": [
       "12"
      ],
      "text/plain": [
       "[1] 12"
      ]
     },
     "metadata": {},
     "output_type": "display_data"
    }
   ],
   "source": [
    "times_2_by_default_dislikes_3_hates_4(a = 6)"
   ]
  },
  {
   "cell_type": "code",
   "execution_count": 19,
   "metadata": {},
   "outputs": [
    {
     "name": "stderr",
     "output_type": "stream",
     "text": [
      "Warning message in times_2_by_default_dislikes_3_hates_4(a = 6, b = 3):\n",
      "“I dislike 3!”\n"
     ]
    },
    {
     "data": {
      "text/html": [
       "18"
      ],
      "text/latex": [
       "18"
      ],
      "text/markdown": [
       "18"
      ],
      "text/plain": [
       "[1] 18"
      ]
     },
     "metadata": {},
     "output_type": "display_data"
    }
   ],
   "source": [
    "times_2_by_default_dislikes_3_hates_4(a = 6, b = 3)"
   ]
  },
  {
   "cell_type": "code",
   "execution_count": 20,
   "metadata": {
    "scrolled": true
   },
   "outputs": [],
   "source": [
    "# times_2_by_default_dislikes_3_hates_4(a = 6, b = 4)"
   ]
  },
  {
   "cell_type": "code",
   "execution_count": 21,
   "metadata": {},
   "outputs": [
    {
     "data": {
      "text/html": [
       "30"
      ],
      "text/latex": [
       "30"
      ],
      "text/markdown": [
       "30"
      ],
      "text/plain": [
       "[1] 30"
      ]
     },
     "metadata": {},
     "output_type": "display_data"
    }
   ],
   "source": [
    "times_2_by_default_dislikes_3_hates_4(a = 6, b = 5)"
   ]
  },
  {
   "cell_type": "markdown",
   "metadata": {},
   "source": [
    "### Exercise: make our own pivot_longer( ) / pivot_wider( )\n",
    "https://tidyr.tidyverse.org/articles/pivot.html\n",
    "\n",
    "R is a software with very high degree of freedom. There are always many ways to achieve the same goal. Writing our own functions tests our problem solving skills."
   ]
  },
  {
   "cell_type": "code",
   "execution_count": 22,
   "metadata": {
    "scrolled": false
   },
   "outputs": [
    {
     "data": {
      "text/html": [
       "<table>\n",
       "<caption>A data.frame: 15 × 3</caption>\n",
       "<thead>\n",
       "\t<tr><th></th><th scope=col>students</th><th scope=col>course</th><th scope=col>scores</th></tr>\n",
       "\t<tr><th></th><th scope=col>&lt;fct&gt;</th><th scope=col>&lt;fct&gt;</th><th scope=col>&lt;int&gt;</th></tr>\n",
       "</thead>\n",
       "<tbody>\n",
       "\t<tr><th scope=row>6</th><td>Lucy </td><td>epib607</td><td>82</td></tr>\n",
       "\t<tr><th scope=row>15</th><td>Chris</td><td>epib613</td><td>53</td></tr>\n",
       "\t<tr><th scope=row>7</th><td>John </td><td>epib607</td><td>98</td></tr>\n",
       "\t<tr><th scope=row>9</th><td>Candy</td><td>epib607</td><td>80</td></tr>\n",
       "\t<tr><th scope=row>4</th><td>Candy</td><td>epib601</td><td>68</td></tr>\n",
       "\t<tr><th scope=row>1</th><td>Lucy </td><td>epib601</td><td>57</td></tr>\n",
       "\t<tr><th scope=row>3</th><td>Mark </td><td>epib601</td><td>59</td></tr>\n",
       "\t<tr><th scope=row>14</th><td>Candy</td><td>epib613</td><td>61</td></tr>\n",
       "\t<tr><th scope=row>10</th><td>Chris</td><td>epib607</td><td>56</td></tr>\n",
       "\t<tr><th scope=row>5</th><td>Chris</td><td>epib601</td><td>64</td></tr>\n",
       "\t<tr><th scope=row>12</th><td>John </td><td>epib613</td><td>59</td></tr>\n",
       "\t<tr><th scope=row>13</th><td>Mark </td><td>epib613</td><td>80</td></tr>\n",
       "\t<tr><th scope=row>2</th><td>John </td><td>epib601</td><td>78</td></tr>\n",
       "\t<tr><th scope=row>11</th><td>Lucy </td><td>epib613</td><td>75</td></tr>\n",
       "\t<tr><th scope=row>8</th><td>Mark </td><td>epib607</td><td>57</td></tr>\n",
       "</tbody>\n",
       "</table>\n"
      ],
      "text/latex": [
       "A data.frame: 15 × 3\n",
       "\\begin{tabular}{r|lll}\n",
       "  & students & course & scores\\\\\n",
       "  & <fct> & <fct> & <int>\\\\\n",
       "\\hline\n",
       "\t6 & Lucy  & epib607 & 82\\\\\n",
       "\t15 & Chris & epib613 & 53\\\\\n",
       "\t7 & John  & epib607 & 98\\\\\n",
       "\t9 & Candy & epib607 & 80\\\\\n",
       "\t4 & Candy & epib601 & 68\\\\\n",
       "\t1 & Lucy  & epib601 & 57\\\\\n",
       "\t3 & Mark  & epib601 & 59\\\\\n",
       "\t14 & Candy & epib613 & 61\\\\\n",
       "\t10 & Chris & epib607 & 56\\\\\n",
       "\t5 & Chris & epib601 & 64\\\\\n",
       "\t12 & John  & epib613 & 59\\\\\n",
       "\t13 & Mark  & epib613 & 80\\\\\n",
       "\t2 & John  & epib601 & 78\\\\\n",
       "\t11 & Lucy  & epib613 & 75\\\\\n",
       "\t8 & Mark  & epib607 & 57\\\\\n",
       "\\end{tabular}\n"
      ],
      "text/markdown": [
       "\n",
       "A data.frame: 15 × 3\n",
       "\n",
       "| <!--/--> | students &lt;fct&gt; | course &lt;fct&gt; | scores &lt;int&gt; |\n",
       "|---|---|---|---|\n",
       "| 6 | Lucy  | epib607 | 82 |\n",
       "| 15 | Chris | epib613 | 53 |\n",
       "| 7 | John  | epib607 | 98 |\n",
       "| 9 | Candy | epib607 | 80 |\n",
       "| 4 | Candy | epib601 | 68 |\n",
       "| 1 | Lucy  | epib601 | 57 |\n",
       "| 3 | Mark  | epib601 | 59 |\n",
       "| 14 | Candy | epib613 | 61 |\n",
       "| 10 | Chris | epib607 | 56 |\n",
       "| 5 | Chris | epib601 | 64 |\n",
       "| 12 | John  | epib613 | 59 |\n",
       "| 13 | Mark  | epib613 | 80 |\n",
       "| 2 | John  | epib601 | 78 |\n",
       "| 11 | Lucy  | epib613 | 75 |\n",
       "| 8 | Mark  | epib607 | 57 |\n",
       "\n"
      ],
      "text/plain": [
       "   students course  scores\n",
       "6  Lucy     epib607 82    \n",
       "15 Chris    epib613 53    \n",
       "7  John     epib607 98    \n",
       "9  Candy    epib607 80    \n",
       "4  Candy    epib601 68    \n",
       "1  Lucy     epib601 57    \n",
       "3  Mark     epib601 59    \n",
       "14 Candy    epib613 61    \n",
       "10 Chris    epib607 56    \n",
       "5  Chris    epib601 64    \n",
       "12 John     epib613 59    \n",
       "13 Mark     epib613 80    \n",
       "2  John     epib601 78    \n",
       "11 Lucy     epib613 75    \n",
       "8  Mark     epib607 57    "
      ]
     },
     "metadata": {},
     "output_type": "display_data"
    }
   ],
   "source": [
    "# Sample data\n",
    "set.seed(613)\n",
    "students <- rep(c(\"Lucy\", \"John\", \"Mark\", \"Candy\", \"Chris\"), 3)\n",
    "course <- rep(c(\"epib601\", \"epib607\", \"epib613\"), each = 5)\n",
    "scores <- sample(50:100, size = 15, replace = T)\n",
    "\n",
    "df <- data.frame(students, course, scores)\n",
    "df <- df[sample(1:nrow(df)), ]\n",
    "df"
   ]
  },
  {
   "cell_type": "code",
   "execution_count": 23,
   "metadata": {},
   "outputs": [
    {
     "name": "stderr",
     "output_type": "stream",
     "text": [
      "── \u001b[1mAttaching packages\u001b[22m ─────────────────────────────────────── tidyverse 1.3.0 ──\n",
      "\n",
      "\u001b[32m✔\u001b[39m \u001b[34mggplot2\u001b[39m 3.3.2     \u001b[32m✔\u001b[39m \u001b[34mpurrr  \u001b[39m 0.3.4\n",
      "\u001b[32m✔\u001b[39m \u001b[34mtibble \u001b[39m 3.0.3     \u001b[32m✔\u001b[39m \u001b[34mdplyr  \u001b[39m 1.0.2\n",
      "\u001b[32m✔\u001b[39m \u001b[34mtidyr  \u001b[39m 1.1.2     \u001b[32m✔\u001b[39m \u001b[34mstringr\u001b[39m 1.4.0\n",
      "\u001b[32m✔\u001b[39m \u001b[34mreadr  \u001b[39m 1.3.1     \u001b[32m✔\u001b[39m \u001b[34mforcats\u001b[39m 0.5.0\n",
      "\n",
      "── \u001b[1mConflicts\u001b[22m ────────────────────────────────────────── tidyverse_conflicts() ──\n",
      "\u001b[31m✖\u001b[39m \u001b[34mdplyr\u001b[39m::\u001b[32mfilter()\u001b[39m masks \u001b[34mstats\u001b[39m::filter()\n",
      "\u001b[31m✖\u001b[39m \u001b[34mdplyr\u001b[39m::\u001b[32mlag()\u001b[39m    masks \u001b[34mstats\u001b[39m::lag()\n",
      "\n"
     ]
    }
   ],
   "source": [
    "library(tidyverse)"
   ]
  },
  {
   "cell_type": "code",
   "execution_count": 24,
   "metadata": {},
   "outputs": [
    {
     "data": {
      "text/html": [
       "<table>\n",
       "<caption>A tibble: 5 × 4</caption>\n",
       "<thead>\n",
       "\t<tr><th scope=col>students</th><th scope=col>epib607</th><th scope=col>epib613</th><th scope=col>epib601</th></tr>\n",
       "\t<tr><th scope=col>&lt;fct&gt;</th><th scope=col>&lt;int&gt;</th><th scope=col>&lt;int&gt;</th><th scope=col>&lt;int&gt;</th></tr>\n",
       "</thead>\n",
       "<tbody>\n",
       "\t<tr><td>Lucy </td><td>82</td><td>75</td><td>57</td></tr>\n",
       "\t<tr><td>Chris</td><td>56</td><td>53</td><td>64</td></tr>\n",
       "\t<tr><td>John </td><td>98</td><td>59</td><td>78</td></tr>\n",
       "\t<tr><td>Candy</td><td>80</td><td>61</td><td>68</td></tr>\n",
       "\t<tr><td>Mark </td><td>57</td><td>80</td><td>59</td></tr>\n",
       "</tbody>\n",
       "</table>\n"
      ],
      "text/latex": [
       "A tibble: 5 × 4\n",
       "\\begin{tabular}{r|llll}\n",
       " students & epib607 & epib613 & epib601\\\\\n",
       " <fct> & <int> & <int> & <int>\\\\\n",
       "\\hline\n",
       "\t Lucy  & 82 & 75 & 57\\\\\n",
       "\t Chris & 56 & 53 & 64\\\\\n",
       "\t John  & 98 & 59 & 78\\\\\n",
       "\t Candy & 80 & 61 & 68\\\\\n",
       "\t Mark  & 57 & 80 & 59\\\\\n",
       "\\end{tabular}\n"
      ],
      "text/markdown": [
       "\n",
       "A tibble: 5 × 4\n",
       "\n",
       "| students &lt;fct&gt; | epib607 &lt;int&gt; | epib613 &lt;int&gt; | epib601 &lt;int&gt; |\n",
       "|---|---|---|---|\n",
       "| Lucy  | 82 | 75 | 57 |\n",
       "| Chris | 56 | 53 | 64 |\n",
       "| John  | 98 | 59 | 78 |\n",
       "| Candy | 80 | 61 | 68 |\n",
       "| Mark  | 57 | 80 | 59 |\n",
       "\n"
      ],
      "text/plain": [
       "  students epib607 epib613 epib601\n",
       "1 Lucy     82      75      57     \n",
       "2 Chris    56      53      64     \n",
       "3 John     98      59      78     \n",
       "4 Candy    80      61      68     \n",
       "5 Mark     57      80      59     "
      ]
     },
     "metadata": {},
     "output_type": "display_data"
    }
   ],
   "source": [
    "df_wide <- pivot_wider(data = df, names_from = course, values_from = scores)\n",
    "df_wide"
   ]
  },
  {
   "cell_type": "code",
   "execution_count": 25,
   "metadata": {
    "scrolled": false
   },
   "outputs": [
    {
     "data": {
      "text/html": [
       "<table>\n",
       "<caption>A tibble: 15 × 3</caption>\n",
       "<thead>\n",
       "\t<tr><th scope=col>students</th><th scope=col>course</th><th scope=col>scores</th></tr>\n",
       "\t<tr><th scope=col>&lt;fct&gt;</th><th scope=col>&lt;chr&gt;</th><th scope=col>&lt;int&gt;</th></tr>\n",
       "</thead>\n",
       "<tbody>\n",
       "\t<tr><td>Lucy </td><td>epib607</td><td>82</td></tr>\n",
       "\t<tr><td>Lucy </td><td>epib613</td><td>75</td></tr>\n",
       "\t<tr><td>Lucy </td><td>epib601</td><td>57</td></tr>\n",
       "\t<tr><td>Chris</td><td>epib607</td><td>56</td></tr>\n",
       "\t<tr><td>Chris</td><td>epib613</td><td>53</td></tr>\n",
       "\t<tr><td>Chris</td><td>epib601</td><td>64</td></tr>\n",
       "\t<tr><td>John </td><td>epib607</td><td>98</td></tr>\n",
       "\t<tr><td>John </td><td>epib613</td><td>59</td></tr>\n",
       "\t<tr><td>John </td><td>epib601</td><td>78</td></tr>\n",
       "\t<tr><td>Candy</td><td>epib607</td><td>80</td></tr>\n",
       "\t<tr><td>Candy</td><td>epib613</td><td>61</td></tr>\n",
       "\t<tr><td>Candy</td><td>epib601</td><td>68</td></tr>\n",
       "\t<tr><td>Mark </td><td>epib607</td><td>57</td></tr>\n",
       "\t<tr><td>Mark </td><td>epib613</td><td>80</td></tr>\n",
       "\t<tr><td>Mark </td><td>epib601</td><td>59</td></tr>\n",
       "</tbody>\n",
       "</table>\n"
      ],
      "text/latex": [
       "A tibble: 15 × 3\n",
       "\\begin{tabular}{r|lll}\n",
       " students & course & scores\\\\\n",
       " <fct> & <chr> & <int>\\\\\n",
       "\\hline\n",
       "\t Lucy  & epib607 & 82\\\\\n",
       "\t Lucy  & epib613 & 75\\\\\n",
       "\t Lucy  & epib601 & 57\\\\\n",
       "\t Chris & epib607 & 56\\\\\n",
       "\t Chris & epib613 & 53\\\\\n",
       "\t Chris & epib601 & 64\\\\\n",
       "\t John  & epib607 & 98\\\\\n",
       "\t John  & epib613 & 59\\\\\n",
       "\t John  & epib601 & 78\\\\\n",
       "\t Candy & epib607 & 80\\\\\n",
       "\t Candy & epib613 & 61\\\\\n",
       "\t Candy & epib601 & 68\\\\\n",
       "\t Mark  & epib607 & 57\\\\\n",
       "\t Mark  & epib613 & 80\\\\\n",
       "\t Mark  & epib601 & 59\\\\\n",
       "\\end{tabular}\n"
      ],
      "text/markdown": [
       "\n",
       "A tibble: 15 × 3\n",
       "\n",
       "| students &lt;fct&gt; | course &lt;chr&gt; | scores &lt;int&gt; |\n",
       "|---|---|---|\n",
       "| Lucy  | epib607 | 82 |\n",
       "| Lucy  | epib613 | 75 |\n",
       "| Lucy  | epib601 | 57 |\n",
       "| Chris | epib607 | 56 |\n",
       "| Chris | epib613 | 53 |\n",
       "| Chris | epib601 | 64 |\n",
       "| John  | epib607 | 98 |\n",
       "| John  | epib613 | 59 |\n",
       "| John  | epib601 | 78 |\n",
       "| Candy | epib607 | 80 |\n",
       "| Candy | epib613 | 61 |\n",
       "| Candy | epib601 | 68 |\n",
       "| Mark  | epib607 | 57 |\n",
       "| Mark  | epib613 | 80 |\n",
       "| Mark  | epib601 | 59 |\n",
       "\n"
      ],
      "text/plain": [
       "   students course  scores\n",
       "1  Lucy     epib607 82    \n",
       "2  Lucy     epib613 75    \n",
       "3  Lucy     epib601 57    \n",
       "4  Chris    epib607 56    \n",
       "5  Chris    epib613 53    \n",
       "6  Chris    epib601 64    \n",
       "7  John     epib607 98    \n",
       "8  John     epib613 59    \n",
       "9  John     epib601 78    \n",
       "10 Candy    epib607 80    \n",
       "11 Candy    epib613 61    \n",
       "12 Candy    epib601 68    \n",
       "13 Mark     epib607 57    \n",
       "14 Mark     epib613 80    \n",
       "15 Mark     epib601 59    "
      ]
     },
     "metadata": {},
     "output_type": "display_data"
    }
   ],
   "source": [
    "df_long <- pivot_longer(data = df_wide, cols = contains(\"epib\"), names_to = \"course\", values_to = \"scores\")\n",
    "df_long"
   ]
  },
  {
   "cell_type": "code",
   "execution_count": 26,
   "metadata": {},
   "outputs": [],
   "source": [
    "# ?dplyr::select # for how to select columns"
   ]
  },
  {
   "cell_type": "markdown",
   "metadata": {},
   "source": [
    "##### Let's reproduce one of these two functions with function( ) from scratch!\n",
    "I would take full advantage of the ordering of factors."
   ]
  },
  {
   "cell_type": "code",
   "execution_count": 27,
   "metadata": {},
   "outputs": [],
   "source": [
    "my_wider <- function(data, pivot, names_from, values_from) {\n",
    "    \n",
    "}"
   ]
  }
 ],
 "metadata": {
  "kernelspec": {
   "display_name": "R",
   "language": "R",
   "name": "ir"
  },
  "language_info": {
   "codemirror_mode": "r",
   "file_extension": ".r",
   "mimetype": "text/x-r-source",
   "name": "R",
   "pygments_lexer": "r",
   "version": "3.6.3"
  }
 },
 "nbformat": 4,
 "nbformat_minor": 4
}
