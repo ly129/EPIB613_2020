{
 "cells": [
  {
   "cell_type": "markdown",
   "metadata": {},
   "source": [
    "# <center>EPIB 613 INTRODUCTION TO STATISTICAL SOFTWARE</center>\n",
    "\n",
    "<center> McGill EBOH </center>\n",
    "\n",
    "<center> Fall 2020 </center>\n",
    "\n",
    "<center> Yi Lian </center>"
   ]
  },
  {
   "cell_type": "markdown",
   "metadata": {},
   "source": [
    "# Lecture 1\n",
    "\n",
    "1. Course walkthrouth\n",
    "2. R and Rstudio\n",
    "3. R markdown\n",
    "\n",
    "## 1.1 Course walkthrough\n",
    "### Logistics\n",
    "- Location:\n",
    "    - https://mcgill.zoom.us/j/98942683588?pwd=WnVBS0JkVmRCT0hCQlBJUjZBeXVmUT09\n",
    "\n",
    "    - Meeting ID: 989 4268 3588\n",
    "\n",
    "    - Passcode: 6132020\n",
    "    \n",
    "- Time: Fridays, 11:35-12:55\n",
    "- Credits: 1\n",
    "- Assignments: 3\n",
    "- Contact: yi.lian@mail.mcgill.ca\n",
    "- Office hours: by appointment\n",
    "\n",
    "### Objectives\n",
    "- R programming\n",
    "- Hands-on data management and analysis\n",
    "- Preparation for other courses\n",
    "\n",
    "### Evaluations\n",
    "- Pass/fail\n",
    "    - Attend*\n",
    "    - Participate*\n",
    "    - Do your assignments\n",
    "        - Submit via myCourses\n",
    "        - __Must be in PDF format__\n",
    "        - Code can be similar but written responses must be your own\n",
    "        - Late assignments will be penalized by 10% per day\n",
    "        \n",
    "### Zoom lectures\n",
    "- Please mute your microphone\n",
    "- Please raise hand for questions and comments\n",
    "- Lectures will be recorded and posted on myCourses\n",
    "- A second device and/or a second screen is recommended\n",
    "    - One for viewing the lecture and the other for running your code\n",
    "    \n",
    "### A few notes\n",
    "- Be patient\n",
    "    - with yourself, with R, with me\n",
    "- Don't panic\n",
    "    - I am always available\n",
    "    - The [unofficial course TA](https://www.google.ca/) is always available\n",
    "- Reproducibility\n",
    "    - Annotate\n",
    "    - Markdown"
   ]
  },
  {
   "cell_type": "markdown",
   "metadata": {},
   "source": [
    "## 1.2 R and Rstudio\n",
    "- R Console\n",
    "    - It can do everything\n",
    "    - Not very handy\n",
    "    - Like most programming languages, people use an integrated development environment (IDE)\n",
    "- Rstudio\n",
    "    - The go-to IDE for R\n",
    "    - A lot can be done through mouse-clicking\n",
    "    - Cheatsheet https://github.com/rstudio/cheatsheets/raw/master/rstudio-ide.pdf"
   ]
  },
  {
   "cell_type": "markdown",
   "metadata": {},
   "source": [
    "## 1.3 R Markdown\n",
    "- A sample answer for your assignment\n",
    "- Cheatsheet https://github.com/rstudio/cheatsheets/raw/master/rmarkdown-2.0.pdf"
   ]
  }
 ],
 "metadata": {
  "kernelspec": {
   "display_name": "R",
   "language": "R",
   "name": "ir"
  },
  "language_info": {
   "codemirror_mode": "r",
   "file_extension": ".r",
   "mimetype": "text/x-r-source",
   "name": "R",
   "pygments_lexer": "r",
   "version": "3.6.3"
  }
 },
 "nbformat": 4,
 "nbformat_minor": 4
}
