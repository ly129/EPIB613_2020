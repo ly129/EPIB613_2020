{
 "cells": [
  {
   "cell_type": "markdown",
   "metadata": {},
   "source": [
    "# <center>EPIB 613 INTRODUCTION TO STATISTICAL SOFTWARE</center>\n",
    "\n",
    "<center> McGill EBOH </center>\n",
    "\n",
    "<center> Fall 2020 </center>\n",
    "\n",
    "<center> Yi Lian </center>\n",
    "\n",
    "# Lecture 6\n",
    "- Control structure\n",
    "- Missing value\n",
    "- Useful functions\n",
    "\n",
    "## 6.1 Control structure\n",
    "\n",
    "<b>Loops</b> and <b>if-else conditions</b> are very important structures in most programming languages.\n",
    "\n",
    "See ?Control\n",
    "\n",
    "R is more efficient with vectorized operations but not loops. I taught a workshop on efficient coding and computing and explaied why. Here is the link: https://github.com/ly129/MiCM2020\n",
    "\n",
    "### 6.1.1 For loop\n",
    "\n",
    "#### When we know how many iterations we want to perform."
   ]
  },
  {
   "cell_type": "code",
   "execution_count": 1,
   "metadata": {},
   "outputs": [
    {
     "name": "stdout",
     "output_type": "stream",
     "text": [
      "[1] \"Lucy\"\n",
      "[1] \"John\"\n",
      "[1] \"Mark\"\n",
      "[1] \"Candy\"\n"
     ]
    }
   ],
   "source": [
    "for (names in c(\"Lucy\", \"John\", \"Mark\", \"Candy\")) {\n",
    "    print(names)\n",
    "}"
   ]
  },
  {
   "cell_type": "code",
   "execution_count": 2,
   "metadata": {},
   "outputs": [
    {
     "data": {
      "text/html": [
       "<ol class=list-inline>\n",
       "\t<li>22</li>\n",
       "\t<li>24</li>\n",
       "\t<li>26</li>\n",
       "\t<li>28</li>\n",
       "\t<li>30</li>\n",
       "</ol>\n"
      ],
      "text/latex": [
       "\\begin{enumerate*}\n",
       "\\item 22\n",
       "\\item 24\n",
       "\\item 26\n",
       "\\item 28\n",
       "\\item 30\n",
       "\\end{enumerate*}\n"
      ],
      "text/markdown": [
       "1. 22\n",
       "2. 24\n",
       "3. 26\n",
       "4. 28\n",
       "5. 30\n",
       "\n",
       "\n"
      ],
      "text/plain": [
       "[1] 22 24 26 28 30"
      ]
     },
     "metadata": {},
     "output_type": "display_data"
    }
   ],
   "source": [
    "x <- 11:15\n",
    "n <- length(x)\n",
    "\n",
    "for (index in 1:length(x)) {\n",
    "    x[index] <- 2 * x[index]\n",
    "}\n",
    "x"
   ]
  },
  {
   "cell_type": "code",
   "execution_count": 3,
   "metadata": {},
   "outputs": [
    {
     "data": {
      "text/html": [
       "<ol class=list-inline>\n",
       "\t<li>22</li>\n",
       "\t<li>24</li>\n",
       "\t<li>26</li>\n",
       "\t<li>28</li>\n",
       "\t<li>30</li>\n",
       "</ol>\n"
      ],
      "text/latex": [
       "\\begin{enumerate*}\n",
       "\\item 22\n",
       "\\item 24\n",
       "\\item 26\n",
       "\\item 28\n",
       "\\item 30\n",
       "\\end{enumerate*}\n"
      ],
      "text/markdown": [
       "1. 22\n",
       "2. 24\n",
       "3. 26\n",
       "4. 28\n",
       "5. 30\n",
       "\n",
       "\n"
      ],
      "text/plain": [
       "[1] 22 24 26 28 30"
      ]
     },
     "metadata": {},
     "output_type": "display_data"
    }
   ],
   "source": [
    "# Vectorized operation?\n",
    "x <- 11:15\n",
    "x <- x * 2; x"
   ]
  },
  {
   "cell_type": "code",
   "execution_count": 4,
   "metadata": {
    "scrolled": true
   },
   "outputs": [
    {
     "data": {
      "text/html": [
       "<table>\n",
       "<caption>A data.frame: 4 × 2</caption>\n",
       "<thead>\n",
       "\t<tr><th scope=col>names</th><th scope=col>score</th></tr>\n",
       "\t<tr><th scope=col>&lt;chr&gt;</th><th scope=col>&lt;dbl&gt;</th></tr>\n",
       "</thead>\n",
       "<tbody>\n",
       "\t<tr><td>Lucy </td><td>67</td></tr>\n",
       "\t<tr><td>John </td><td>56</td></tr>\n",
       "\t<tr><td>Mark </td><td>87</td></tr>\n",
       "\t<tr><td>Candy</td><td>91</td></tr>\n",
       "</tbody>\n",
       "</table>\n"
      ],
      "text/latex": [
       "A data.frame: 4 × 2\n",
       "\\begin{tabular}{r|ll}\n",
       " names & score\\\\\n",
       " <chr> & <dbl>\\\\\n",
       "\\hline\n",
       "\t Lucy  & 67\\\\\n",
       "\t John  & 56\\\\\n",
       "\t Mark  & 87\\\\\n",
       "\t Candy & 91\\\\\n",
       "\\end{tabular}\n"
      ],
      "text/markdown": [
       "\n",
       "A data.frame: 4 × 2\n",
       "\n",
       "| names &lt;chr&gt; | score &lt;dbl&gt; |\n",
       "|---|---|\n",
       "| Lucy  | 67 |\n",
       "| John  | 56 |\n",
       "| Mark  | 87 |\n",
       "| Candy | 91 |\n",
       "\n"
      ],
      "text/plain": [
       "  names score\n",
       "1 Lucy  67   \n",
       "2 John  56   \n",
       "3 Mark  87   \n",
       "4 Candy 91   "
      ]
     },
     "metadata": {},
     "output_type": "display_data"
    }
   ],
   "source": [
    "df <- data.frame(names = c(\"Lucy\", \"John\", \"Mark\", \"Candy\"),\n",
    "                 score = c(67, 56, 87, 91))\n",
    "df$names <- as.character(df$names)\n",
    "df"
   ]
  },
  {
   "cell_type": "code",
   "execution_count": 5,
   "metadata": {},
   "outputs": [
    {
     "data": {
      "text/html": [
       "<table>\n",
       "<caption>A data.frame: 4 × 3</caption>\n",
       "<thead>\n",
       "\t<tr><th scope=col>names</th><th scope=col>score</th><th scope=col>curved</th></tr>\n",
       "\t<tr><th scope=col>&lt;chr&gt;</th><th scope=col>&lt;dbl&gt;</th><th scope=col>&lt;dbl&gt;</th></tr>\n",
       "</thead>\n",
       "<tbody>\n",
       "\t<tr><td>Lucy </td><td>67</td><td>82</td></tr>\n",
       "\t<tr><td>John </td><td>56</td><td>75</td></tr>\n",
       "\t<tr><td>Mark </td><td>87</td><td>93</td></tr>\n",
       "\t<tr><td>Candy</td><td>91</td><td>95</td></tr>\n",
       "</tbody>\n",
       "</table>\n"
      ],
      "text/latex": [
       "A data.frame: 4 × 3\n",
       "\\begin{tabular}{r|lll}\n",
       " names & score & curved\\\\\n",
       " <chr> & <dbl> & <dbl>\\\\\n",
       "\\hline\n",
       "\t Lucy  & 67 & 82\\\\\n",
       "\t John  & 56 & 75\\\\\n",
       "\t Mark  & 87 & 93\\\\\n",
       "\t Candy & 91 & 95\\\\\n",
       "\\end{tabular}\n"
      ],
      "text/markdown": [
       "\n",
       "A data.frame: 4 × 3\n",
       "\n",
       "| names &lt;chr&gt; | score &lt;dbl&gt; | curved &lt;dbl&gt; |\n",
       "|---|---|---|\n",
       "| Lucy  | 67 | 82 |\n",
       "| John  | 56 | 75 |\n",
       "| Mark  | 87 | 93 |\n",
       "| Candy | 91 | 95 |\n",
       "\n"
      ],
      "text/plain": [
       "  names score curved\n",
       "1 Lucy  67    82    \n",
       "2 John  56    75    \n",
       "3 Mark  87    93    \n",
       "4 Candy 91    95    "
      ]
     },
     "metadata": {},
     "output_type": "display_data"
    }
   ],
   "source": [
    "for (i in 1:4) {\n",
    "    df$curved[i] <- round(sqrt(df$score[i])*10)\n",
    "}\n",
    "df"
   ]
  },
  {
   "cell_type": "markdown",
   "metadata": {},
   "source": [
    "### 6.1.2 While loop\n",
    "\n",
    "#### When we know when we want to stop."
   ]
  },
  {
   "cell_type": "code",
   "execution_count": 6,
   "metadata": {},
   "outputs": [
    {
     "name": "stdout",
     "output_type": "stream",
     "text": [
      "iteration 1, x = 2\n",
      "iteration 2, x = 3\n",
      "iteration 3, x = 4\n",
      "iteration 4, x = 5\n"
     ]
    },
    {
     "data": {
      "text/html": [
       "5"
      ],
      "text/latex": [
       "5"
      ],
      "text/markdown": [
       "5"
      ],
      "text/plain": [
       "[1] 5"
      ]
     },
     "metadata": {},
     "output_type": "display_data"
    }
   ],
   "source": [
    "x <- 1\n",
    "y <- 5\n",
    "\n",
    "iteration <- 0\n",
    "\n",
    "while (x < y) {\n",
    "    x <- x + 1\n",
    "    iteration <- iteration + 1\n",
    "    cat(\"iteration \", iteration, \", x = \", x, \"\\n\", sep = \"\")\n",
    "}\n",
    "\n",
    "x"
   ]
  },
  {
   "cell_type": "code",
   "execution_count": 7,
   "metadata": {},
   "outputs": [],
   "source": [
    "# Vectorized operation?\n",
    "\n",
    "# Sometimes loops are necessary."
   ]
  },
  {
   "cell_type": "markdown",
   "metadata": {},
   "source": [
    "Two useless operators in R that I found useful for teaching: modulus and integer division.\n",
    "\n",
    "$$ \\text{integer } 9/2 \\rightarrow 9 = \\underbrace{4}_{\\text{integer division}} \\times 2 + \\underbrace{1}_\\text{modulus}$$"
   ]
  },
  {
   "cell_type": "code",
   "execution_count": 8,
   "metadata": {},
   "outputs": [
    {
     "data": {
      "text/html": [
       "1"
      ],
      "text/latex": [
       "1"
      ],
      "text/markdown": [
       "1"
      ],
      "text/plain": [
       "[1] 1"
      ]
     },
     "metadata": {},
     "output_type": "display_data"
    }
   ],
   "source": [
    "9 %% 2   # 9 mod 2"
   ]
  },
  {
   "cell_type": "code",
   "execution_count": 9,
   "metadata": {},
   "outputs": [
    {
     "data": {
      "text/html": [
       "4"
      ],
      "text/latex": [
       "4"
      ],
      "text/markdown": [
       "4"
      ],
      "text/plain": [
       "[1] 4"
      ]
     },
     "metadata": {},
     "output_type": "display_data"
    }
   ],
   "source": [
    "9 %/% 2"
   ]
  },
  {
   "cell_type": "markdown",
   "metadata": {},
   "source": [
    "##### Exercise: can we write a while loop to do the two operations at the same time?"
   ]
  },
  {
   "cell_type": "code",
   "execution_count": 10,
   "metadata": {},
   "outputs": [
    {
     "data": {
      "text/html": [
       "4"
      ],
      "text/latex": [
       "4"
      ],
      "text/markdown": [
       "4"
      ],
      "text/plain": [
       "[1] 4"
      ]
     },
     "metadata": {},
     "output_type": "display_data"
    },
    {
     "data": {
      "text/html": [
       "1"
      ],
      "text/latex": [
       "1"
      ],
      "text/markdown": [
       "1"
      ],
      "text/plain": [
       "[1] 1"
      ]
     },
     "metadata": {},
     "output_type": "display_data"
    }
   ],
   "source": [
    "# y %% x\n",
    "# y %/% x\n",
    "\n",
    "y <- 9\n",
    "x <- 2\n",
    "counter <- 0\n",
    "\n",
    "while (y >= x) {\n",
    "    y <- y - x\n",
    "    counter <- counter + 1\n",
    "}\n",
    "\n",
    "integer.div <- counter\n",
    "modulus <- y\n",
    "\n",
    "integer.div\n",
    "modulus"
   ]
  },
  {
   "cell_type": "markdown",
   "metadata": {},
   "source": [
    "### 6.1.3 If, else, ifelse\n",
    "\n",
    "Not a loop. <tt>ifelse</tt> is the vectorized alternative to <tt>if ..., else, ...</tt>.\n",
    "\n",
    "##### Programmers' logic \n",
    "    -- \"Honey, on your way home, buy 6 oranges at the supermarket. If they have watermelons, get 1.\"\n",
    "\n",
    "    -- Mr. Programmer came home with 1 orange.\n",
    "\n",
    "    -- Furious girlfriend, \"Why the [--beep--] did you get only 1 orange?\"\n",
    "\n",
    "    -- \"Because they have watermelons.\""
   ]
  },
  {
   "cell_type": "code",
   "execution_count": 11,
   "metadata": {},
   "outputs": [
    {
     "data": {
      "text/html": [
       "'Buy 1 watermelon'"
      ],
      "text/latex": [
       "'Buy 1 watermelon'"
      ],
      "text/markdown": [
       "'Buy 1 watermelon'"
      ],
      "text/plain": [
       "[1] \"Buy 1 watermelon\""
      ]
     },
     "metadata": {},
     "output_type": "display_data"
    }
   ],
   "source": [
    "# Girlfriend\n",
    "watermelon <- T\n",
    "gf.orange <- 6\n",
    "\n",
    "gf.watermelon <- if (watermelon == TRUE) {\n",
    "    \"Buy 1 watermelon\"\n",
    "}\n",
    "\n",
    "gf.watermelon"
   ]
  },
  {
   "cell_type": "code",
   "execution_count": 12,
   "metadata": {},
   "outputs": [
    {
     "data": {
      "text/html": [
       "'Buy 6 oranges'"
      ],
      "text/latex": [
       "'Buy 6 oranges'"
      ],
      "text/markdown": [
       "'Buy 6 oranges'"
      ],
      "text/plain": [
       "[1] \"Buy 6 oranges\""
      ]
     },
     "metadata": {},
     "output_type": "display_data"
    }
   ],
   "source": [
    "# Mr. Programmer\n",
    "watermelon <- F\n",
    "\n",
    "pro.orange <- if (watermelon == TRUE) {\n",
    "    \"Buy 1 orange\"\n",
    "} else {\n",
    "    \"Buy 6 oranges\"   # As seen in class, print() is useless here.\n",
    "}\n",
    "pro.orange\n",
    "\n",
    "# pro.watermelon <- ???"
   ]
  },
  {
   "cell_type": "code",
   "execution_count": 13,
   "metadata": {},
   "outputs": [
    {
     "data": {
      "text/html": [
       "'Buy 6 oranges'"
      ],
      "text/latex": [
       "'Buy 6 oranges'"
      ],
      "text/markdown": [
       "'Buy 6 oranges'"
      ],
      "text/plain": [
       "[1] \"Buy 6 oranges\""
      ]
     },
     "metadata": {},
     "output_type": "display_data"
    }
   ],
   "source": [
    "# I prefer a simple function, ifelse(test, yes, no)\n",
    "\n",
    "watermelon <- F\n",
    "ifelse(watermelon == TRUE, yes = \"Buy 1 orange\", no = \"Buy 6 oranges\")"
   ]
  },
  {
   "cell_type": "code",
   "execution_count": 14,
   "metadata": {},
   "outputs": [
    {
     "data": {
      "text/html": [
       "<table>\n",
       "<caption>A data.frame: 4 × 4</caption>\n",
       "<thead>\n",
       "\t<tr><th scope=col>names</th><th scope=col>score</th><th scope=col>curved</th><th scope=col>pass</th></tr>\n",
       "\t<tr><th scope=col>&lt;chr&gt;</th><th scope=col>&lt;dbl&gt;</th><th scope=col>&lt;dbl&gt;</th><th scope=col>&lt;lgl&gt;</th></tr>\n",
       "</thead>\n",
       "<tbody>\n",
       "\t<tr><td>Lucy </td><td>67</td><td>82</td><td> TRUE</td></tr>\n",
       "\t<tr><td>John </td><td>56</td><td>75</td><td>FALSE</td></tr>\n",
       "\t<tr><td>Mark </td><td>87</td><td>93</td><td> TRUE</td></tr>\n",
       "\t<tr><td>Candy</td><td>91</td><td>95</td><td> TRUE</td></tr>\n",
       "</tbody>\n",
       "</table>\n"
      ],
      "text/latex": [
       "A data.frame: 4 × 4\n",
       "\\begin{tabular}{r|llll}\n",
       " names & score & curved & pass\\\\\n",
       " <chr> & <dbl> & <dbl> & <lgl>\\\\\n",
       "\\hline\n",
       "\t Lucy  & 67 & 82 &  TRUE\\\\\n",
       "\t John  & 56 & 75 & FALSE\\\\\n",
       "\t Mark  & 87 & 93 &  TRUE\\\\\n",
       "\t Candy & 91 & 95 &  TRUE\\\\\n",
       "\\end{tabular}\n"
      ],
      "text/markdown": [
       "\n",
       "A data.frame: 4 × 4\n",
       "\n",
       "| names &lt;chr&gt; | score &lt;dbl&gt; | curved &lt;dbl&gt; | pass &lt;lgl&gt; |\n",
       "|---|---|---|---|\n",
       "| Lucy  | 67 | 82 |  TRUE |\n",
       "| John  | 56 | 75 | FALSE |\n",
       "| Mark  | 87 | 93 |  TRUE |\n",
       "| Candy | 91 | 95 |  TRUE |\n",
       "\n"
      ],
      "text/plain": [
       "  names score curved pass \n",
       "1 Lucy  67    82      TRUE\n",
       "2 John  56    75     FALSE\n",
       "3 Mark  87    93      TRUE\n",
       "4 Candy 91    95      TRUE"
      ]
     },
     "metadata": {},
     "output_type": "display_data"
    }
   ],
   "source": [
    "# ifelse is vectorized\n",
    "df$pass <- ifelse(test = df$score >= 65, yes = TRUE, no = FALSE)\n",
    "df"
   ]
  },
  {
   "cell_type": "code",
   "execution_count": 15,
   "metadata": {},
   "outputs": [
    {
     "data": {
      "text/html": [
       "<table>\n",
       "<caption>A data.frame: 4 × 5</caption>\n",
       "<thead>\n",
       "\t<tr><th scope=col>names</th><th scope=col>score</th><th scope=col>curved</th><th scope=col>pass</th><th scope=col>pass2</th></tr>\n",
       "\t<tr><th scope=col>&lt;chr&gt;</th><th scope=col>&lt;dbl&gt;</th><th scope=col>&lt;dbl&gt;</th><th scope=col>&lt;lgl&gt;</th><th scope=col>&lt;lgl&gt;</th></tr>\n",
       "</thead>\n",
       "<tbody>\n",
       "\t<tr><td>Lucy </td><td>67</td><td>82</td><td> TRUE</td><td> TRUE</td></tr>\n",
       "\t<tr><td>John </td><td>56</td><td>75</td><td>FALSE</td><td>FALSE</td></tr>\n",
       "\t<tr><td>Mark </td><td>87</td><td>93</td><td> TRUE</td><td> TRUE</td></tr>\n",
       "\t<tr><td>Candy</td><td>91</td><td>95</td><td> TRUE</td><td> TRUE</td></tr>\n",
       "</tbody>\n",
       "</table>\n"
      ],
      "text/latex": [
       "A data.frame: 4 × 5\n",
       "\\begin{tabular}{r|lllll}\n",
       " names & score & curved & pass & pass2\\\\\n",
       " <chr> & <dbl> & <dbl> & <lgl> & <lgl>\\\\\n",
       "\\hline\n",
       "\t Lucy  & 67 & 82 &  TRUE &  TRUE\\\\\n",
       "\t John  & 56 & 75 & FALSE & FALSE\\\\\n",
       "\t Mark  & 87 & 93 &  TRUE &  TRUE\\\\\n",
       "\t Candy & 91 & 95 &  TRUE &  TRUE\\\\\n",
       "\\end{tabular}\n"
      ],
      "text/markdown": [
       "\n",
       "A data.frame: 4 × 5\n",
       "\n",
       "| names &lt;chr&gt; | score &lt;dbl&gt; | curved &lt;dbl&gt; | pass &lt;lgl&gt; | pass2 &lt;lgl&gt; |\n",
       "|---|---|---|---|---|\n",
       "| Lucy  | 67 | 82 |  TRUE |  TRUE |\n",
       "| John  | 56 | 75 | FALSE | FALSE |\n",
       "| Mark  | 87 | 93 |  TRUE |  TRUE |\n",
       "| Candy | 91 | 95 |  TRUE |  TRUE |\n",
       "\n"
      ],
      "text/plain": [
       "  names score curved pass  pass2\n",
       "1 Lucy  67    82      TRUE  TRUE\n",
       "2 John  56    75     FALSE FALSE\n",
       "3 Mark  87    93      TRUE  TRUE\n",
       "4 Candy 91    95      TRUE  TRUE"
      ]
     },
     "metadata": {},
     "output_type": "display_data"
    }
   ],
   "source": [
    "# vectorized operation\n",
    "df$pass2 <- df$score>=65;df"
   ]
  },
  {
   "cell_type": "markdown",
   "metadata": {},
   "source": [
    "### 6.1.4 Repeat loop\n",
    "#### Repeat until told to stop (or not)"
   ]
  },
  {
   "cell_type": "code",
   "execution_count": 16,
   "metadata": {},
   "outputs": [
    {
     "name": "stdout",
     "output_type": "stream",
     "text": [
      "Because they have watermelons!  X 1 \n",
      "Because they have watermelons!  X 2 \n",
      "Because they have watermelons!  X 3 \n"
     ]
    }
   ],
   "source": [
    "# Mr. Pro explains why he comes home with one orange for 3 times.\n",
    "\n",
    "i <- 0\n",
    "repeat {\n",
    "    i <- i + 1\n",
    "    cat(\"Because they have watermelons!  X\", i, \"\\n\")\n",
    "    \n",
    "    if (i>=3){\n",
    "        break\n",
    "    }\n",
    "}"
   ]
  },
  {
   "cell_type": "markdown",
   "metadata": {},
   "source": [
    "###### Exercise: use the repeat loop to calculate 9 %% 2 and 9 %/% 2."
   ]
  },
  {
   "cell_type": "code",
   "execution_count": null,
   "metadata": {},
   "outputs": [],
   "source": []
  },
  {
   "cell_type": "markdown",
   "metadata": {},
   "source": [
    "## 6.2 Missing values\n",
    "- NA"
   ]
  },
  {
   "cell_type": "code",
   "execution_count": 17,
   "metadata": {},
   "outputs": [
    {
     "data": {
      "text/html": [
       "<table>\n",
       "<caption>A data.frame: 4 × 5</caption>\n",
       "<thead>\n",
       "\t<tr><th scope=col>names</th><th scope=col>score</th><th scope=col>curved</th><th scope=col>pass</th><th scope=col>pass2</th></tr>\n",
       "\t<tr><th scope=col>&lt;chr&gt;</th><th scope=col>&lt;dbl&gt;</th><th scope=col>&lt;dbl&gt;</th><th scope=col>&lt;lgl&gt;</th><th scope=col>&lt;lgl&gt;</th></tr>\n",
       "</thead>\n",
       "<tbody>\n",
       "\t<tr><td>Lucy </td><td>67</td><td>82</td><td> TRUE</td><td> TRUE</td></tr>\n",
       "\t<tr><td>John </td><td>NA</td><td>75</td><td>FALSE</td><td>FALSE</td></tr>\n",
       "\t<tr><td>NA   </td><td>87</td><td>93</td><td> TRUE</td><td> TRUE</td></tr>\n",
       "\t<tr><td>Candy</td><td>91</td><td>95</td><td> TRUE</td><td> TRUE</td></tr>\n",
       "</tbody>\n",
       "</table>\n"
      ],
      "text/latex": [
       "A data.frame: 4 × 5\n",
       "\\begin{tabular}{r|lllll}\n",
       " names & score & curved & pass & pass2\\\\\n",
       " <chr> & <dbl> & <dbl> & <lgl> & <lgl>\\\\\n",
       "\\hline\n",
       "\t Lucy  & 67 & 82 &  TRUE &  TRUE\\\\\n",
       "\t John  & NA & 75 & FALSE & FALSE\\\\\n",
       "\t NA    & 87 & 93 &  TRUE &  TRUE\\\\\n",
       "\t Candy & 91 & 95 &  TRUE &  TRUE\\\\\n",
       "\\end{tabular}\n"
      ],
      "text/markdown": [
       "\n",
       "A data.frame: 4 × 5\n",
       "\n",
       "| names &lt;chr&gt; | score &lt;dbl&gt; | curved &lt;dbl&gt; | pass &lt;lgl&gt; | pass2 &lt;lgl&gt; |\n",
       "|---|---|---|---|---|\n",
       "| Lucy  | 67 | 82 |  TRUE |  TRUE |\n",
       "| John  | NA | 75 | FALSE | FALSE |\n",
       "| NA    | 87 | 93 |  TRUE |  TRUE |\n",
       "| Candy | 91 | 95 |  TRUE |  TRUE |\n",
       "\n"
      ],
      "text/plain": [
       "  names score curved pass  pass2\n",
       "1 Lucy  67    82      TRUE  TRUE\n",
       "2 John  NA    75     FALSE FALSE\n",
       "3 NA    87    93      TRUE  TRUE\n",
       "4 Candy 91    95      TRUE  TRUE"
      ]
     },
     "metadata": {},
     "output_type": "display_data"
    }
   ],
   "source": [
    "df.copy <- df\n",
    "df.copy$score[2] <- df.copy$names[3] <- NA\n",
    "df.copy"
   ]
  },
  {
   "cell_type": "code",
   "execution_count": 18,
   "metadata": {
    "scrolled": true
   },
   "outputs": [
    {
     "data": {
      "text/html": [
       "<table>\n",
       "<caption>A matrix: 4 × 5 of type lgl</caption>\n",
       "<thead>\n",
       "\t<tr><th scope=col>names</th><th scope=col>score</th><th scope=col>curved</th><th scope=col>pass</th><th scope=col>pass2</th></tr>\n",
       "</thead>\n",
       "<tbody>\n",
       "\t<tr><td>FALSE</td><td>FALSE</td><td>FALSE</td><td>FALSE</td><td>FALSE</td></tr>\n",
       "\t<tr><td>FALSE</td><td> TRUE</td><td>FALSE</td><td>FALSE</td><td>FALSE</td></tr>\n",
       "\t<tr><td> TRUE</td><td>FALSE</td><td>FALSE</td><td>FALSE</td><td>FALSE</td></tr>\n",
       "\t<tr><td>FALSE</td><td>FALSE</td><td>FALSE</td><td>FALSE</td><td>FALSE</td></tr>\n",
       "</tbody>\n",
       "</table>\n"
      ],
      "text/latex": [
       "A matrix: 4 × 5 of type lgl\n",
       "\\begin{tabular}{lllll}\n",
       " names & score & curved & pass & pass2\\\\\n",
       "\\hline\n",
       "\t FALSE & FALSE & FALSE & FALSE & FALSE\\\\\n",
       "\t FALSE &  TRUE & FALSE & FALSE & FALSE\\\\\n",
       "\t  TRUE & FALSE & FALSE & FALSE & FALSE\\\\\n",
       "\t FALSE & FALSE & FALSE & FALSE & FALSE\\\\\n",
       "\\end{tabular}\n"
      ],
      "text/markdown": [
       "\n",
       "A matrix: 4 × 5 of type lgl\n",
       "\n",
       "| names | score | curved | pass | pass2 |\n",
       "|---|---|---|---|---|\n",
       "| FALSE | FALSE | FALSE | FALSE | FALSE |\n",
       "| FALSE |  TRUE | FALSE | FALSE | FALSE |\n",
       "|  TRUE | FALSE | FALSE | FALSE | FALSE |\n",
       "| FALSE | FALSE | FALSE | FALSE | FALSE |\n",
       "\n"
      ],
      "text/plain": [
       "     names score curved pass  pass2\n",
       "[1,] FALSE FALSE FALSE  FALSE FALSE\n",
       "[2,] FALSE  TRUE FALSE  FALSE FALSE\n",
       "[3,]  TRUE FALSE FALSE  FALSE FALSE\n",
       "[4,] FALSE FALSE FALSE  FALSE FALSE"
      ]
     },
     "metadata": {},
     "output_type": "display_data"
    }
   ],
   "source": [
    "is.na(df.copy)"
   ]
  },
  {
   "cell_type": "code",
   "execution_count": 19,
   "metadata": {},
   "outputs": [
    {
     "data": {
      "text/html": [
       "2"
      ],
      "text/latex": [
       "2"
      ],
      "text/markdown": [
       "2"
      ],
      "text/plain": [
       "[1] 2"
      ]
     },
     "metadata": {},
     "output_type": "display_data"
    }
   ],
   "source": [
    "# Total number of cells with missing values\n",
    "sum(is.na(df.copy))"
   ]
  },
  {
   "cell_type": "code",
   "execution_count": 20,
   "metadata": {
    "scrolled": true
   },
   "outputs": [
    {
     "data": {
      "text/html": [
       "<ol class=list-inline>\n",
       "\t<li>TRUE</li>\n",
       "\t<li>FALSE</li>\n",
       "\t<li>FALSE</li>\n",
       "\t<li>TRUE</li>\n",
       "</ol>\n"
      ],
      "text/latex": [
       "\\begin{enumerate*}\n",
       "\\item TRUE\n",
       "\\item FALSE\n",
       "\\item FALSE\n",
       "\\item TRUE\n",
       "\\end{enumerate*}\n"
      ],
      "text/markdown": [
       "1. TRUE\n",
       "2. FALSE\n",
       "3. FALSE\n",
       "4. TRUE\n",
       "\n",
       "\n"
      ],
      "text/plain": [
       "[1]  TRUE FALSE FALSE  TRUE"
      ]
     },
     "metadata": {},
     "output_type": "display_data"
    }
   ],
   "source": [
    "# Whether a data point (row) is complete\n",
    "complete.cases(df.copy)"
   ]
  },
  {
   "cell_type": "code",
   "execution_count": 21,
   "metadata": {},
   "outputs": [
    {
     "data": {
      "text/html": [
       "<ol class=list-inline>\n",
       "\t<li>FALSE</li>\n",
       "\t<li>TRUE</li>\n",
       "\t<li>TRUE</li>\n",
       "\t<li>FALSE</li>\n",
       "</ol>\n"
      ],
      "text/latex": [
       "\\begin{enumerate*}\n",
       "\\item FALSE\n",
       "\\item TRUE\n",
       "\\item TRUE\n",
       "\\item FALSE\n",
       "\\end{enumerate*}\n"
      ],
      "text/markdown": [
       "1. FALSE\n",
       "2. TRUE\n",
       "3. TRUE\n",
       "4. FALSE\n",
       "\n",
       "\n"
      ],
      "text/plain": [
       "[1] FALSE  TRUE  TRUE FALSE"
      ]
     },
     "metadata": {},
     "output_type": "display_data"
    }
   ],
   "source": [
    "!complete.cases(df.copy)"
   ]
  },
  {
   "cell_type": "code",
   "execution_count": 22,
   "metadata": {
    "scrolled": true
   },
   "outputs": [
    {
     "data": {
      "text/html": [
       "<table>\n",
       "<caption>A data.frame: 2 × 5</caption>\n",
       "<thead>\n",
       "\t<tr><th></th><th scope=col>names</th><th scope=col>score</th><th scope=col>curved</th><th scope=col>pass</th><th scope=col>pass2</th></tr>\n",
       "\t<tr><th></th><th scope=col>&lt;chr&gt;</th><th scope=col>&lt;dbl&gt;</th><th scope=col>&lt;dbl&gt;</th><th scope=col>&lt;lgl&gt;</th><th scope=col>&lt;lgl&gt;</th></tr>\n",
       "</thead>\n",
       "<tbody>\n",
       "\t<tr><th scope=row>1</th><td>Lucy </td><td>67</td><td>82</td><td>TRUE</td><td>TRUE</td></tr>\n",
       "\t<tr><th scope=row>4</th><td>Candy</td><td>91</td><td>95</td><td>TRUE</td><td>TRUE</td></tr>\n",
       "</tbody>\n",
       "</table>\n"
      ],
      "text/latex": [
       "A data.frame: 2 × 5\n",
       "\\begin{tabular}{r|lllll}\n",
       "  & names & score & curved & pass & pass2\\\\\n",
       "  & <chr> & <dbl> & <dbl> & <lgl> & <lgl>\\\\\n",
       "\\hline\n",
       "\t1 & Lucy  & 67 & 82 & TRUE & TRUE\\\\\n",
       "\t4 & Candy & 91 & 95 & TRUE & TRUE\\\\\n",
       "\\end{tabular}\n"
      ],
      "text/markdown": [
       "\n",
       "A data.frame: 2 × 5\n",
       "\n",
       "| <!--/--> | names &lt;chr&gt; | score &lt;dbl&gt; | curved &lt;dbl&gt; | pass &lt;lgl&gt; | pass2 &lt;lgl&gt; |\n",
       "|---|---|---|---|---|---|\n",
       "| 1 | Lucy  | 67 | 82 | TRUE | TRUE |\n",
       "| 4 | Candy | 91 | 95 | TRUE | TRUE |\n",
       "\n"
      ],
      "text/plain": [
       "  names score curved pass pass2\n",
       "1 Lucy  67    82     TRUE TRUE \n",
       "4 Candy 91    95     TRUE TRUE "
      ]
     },
     "metadata": {},
     "output_type": "display_data"
    }
   ],
   "source": [
    "# Complete data points\n",
    "df.copy[complete.cases(df.copy), ]"
   ]
  },
  {
   "cell_type": "code",
   "execution_count": 23,
   "metadata": {},
   "outputs": [
    {
     "data": {
      "text/html": [
       "&lt;NA&gt;"
      ],
      "text/latex": [
       "<NA>"
      ],
      "text/markdown": [
       "&lt;NA&gt;"
      ],
      "text/plain": [
       "[1] NA"
      ]
     },
     "metadata": {},
     "output_type": "display_data"
    }
   ],
   "source": [
    "# Taking the average score\n",
    "mean(df.copy$score)"
   ]
  },
  {
   "cell_type": "code",
   "execution_count": 24,
   "metadata": {},
   "outputs": [
    {
     "data": {
      "text/html": [
       "81.6666666666667"
      ],
      "text/latex": [
       "81.6666666666667"
      ],
      "text/markdown": [
       "81.6666666666667"
      ],
      "text/plain": [
       "[1] 81.66667"
      ]
     },
     "metadata": {},
     "output_type": "display_data"
    }
   ],
   "source": [
    "mean(df.copy$score, na.rm = TRUE)"
   ]
  },
  {
   "cell_type": "code",
   "execution_count": 25,
   "metadata": {},
   "outputs": [
    {
     "data": {
      "text/html": [
       "&lt;NA&gt;"
      ],
      "text/latex": [
       "<NA>"
      ],
      "text/markdown": [
       "&lt;NA&gt;"
      ],
      "text/plain": [
       "[1] NA"
      ]
     },
     "metadata": {},
     "output_type": "display_data"
    },
    {
     "data": {
      "text/html": [
       "245"
      ],
      "text/latex": [
       "245"
      ],
      "text/markdown": [
       "245"
      ],
      "text/plain": [
       "[1] 245"
      ]
     },
     "metadata": {},
     "output_type": "display_data"
    }
   ],
   "source": [
    "sum(df.copy$score)\n",
    "sum(df.copy$score, na.rm = T)"
   ]
  },
  {
   "cell_type": "code",
   "execution_count": 26,
   "metadata": {},
   "outputs": [
    {
     "data": {
      "text/html": [
       "<table>\n",
       "<caption>A data.frame: 2 × 5</caption>\n",
       "<thead>\n",
       "\t<tr><th></th><th scope=col>names</th><th scope=col>score</th><th scope=col>curved</th><th scope=col>pass</th><th scope=col>pass2</th></tr>\n",
       "\t<tr><th></th><th scope=col>&lt;chr&gt;</th><th scope=col>&lt;dbl&gt;</th><th scope=col>&lt;dbl&gt;</th><th scope=col>&lt;lgl&gt;</th><th scope=col>&lt;lgl&gt;</th></tr>\n",
       "</thead>\n",
       "<tbody>\n",
       "\t<tr><th scope=row>1</th><td>Lucy </td><td>67</td><td>82</td><td>TRUE</td><td>TRUE</td></tr>\n",
       "\t<tr><th scope=row>4</th><td>Candy</td><td>91</td><td>95</td><td>TRUE</td><td>TRUE</td></tr>\n",
       "</tbody>\n",
       "</table>\n"
      ],
      "text/latex": [
       "A data.frame: 2 × 5\n",
       "\\begin{tabular}{r|lllll}\n",
       "  & names & score & curved & pass & pass2\\\\\n",
       "  & <chr> & <dbl> & <dbl> & <lgl> & <lgl>\\\\\n",
       "\\hline\n",
       "\t1 & Lucy  & 67 & 82 & TRUE & TRUE\\\\\n",
       "\t4 & Candy & 91 & 95 & TRUE & TRUE\\\\\n",
       "\\end{tabular}\n"
      ],
      "text/markdown": [
       "\n",
       "A data.frame: 2 × 5\n",
       "\n",
       "| <!--/--> | names &lt;chr&gt; | score &lt;dbl&gt; | curved &lt;dbl&gt; | pass &lt;lgl&gt; | pass2 &lt;lgl&gt; |\n",
       "|---|---|---|---|---|---|\n",
       "| 1 | Lucy  | 67 | 82 | TRUE | TRUE |\n",
       "| 4 | Candy | 91 | 95 | TRUE | TRUE |\n",
       "\n"
      ],
      "text/plain": [
       "  names score curved pass pass2\n",
       "1 Lucy  67    82     TRUE TRUE \n",
       "4 Candy 91    95     TRUE TRUE "
      ]
     },
     "metadata": {},
     "output_type": "display_data"
    }
   ],
   "source": [
    "na.omit(df.copy)"
   ]
  },
  {
   "cell_type": "code",
   "execution_count": null,
   "metadata": {},
   "outputs": [],
   "source": []
  },
  {
   "cell_type": "code",
   "execution_count": 27,
   "metadata": {},
   "outputs": [],
   "source": [
    "# Options in R that deals with missingness\n",
    "# ?na.action"
   ]
  },
  {
   "cell_type": "markdown",
   "metadata": {},
   "source": [
    "## 6.3 Useful functions\n",
    "### 6.3.1 Numeric"
   ]
  },
  {
   "cell_type": "code",
   "execution_count": 28,
   "metadata": {},
   "outputs": [
    {
     "data": {
      "text/html": [
       "3"
      ],
      "text/latex": [
       "3"
      ],
      "text/markdown": [
       "3"
      ],
      "text/plain": [
       "[1] 3"
      ]
     },
     "metadata": {},
     "output_type": "display_data"
    }
   ],
   "source": [
    "# Absolute value\n",
    "abs(-3)"
   ]
  },
  {
   "cell_type": "code",
   "execution_count": 29,
   "metadata": {
    "scrolled": true
   },
   "outputs": [
    {
     "data": {
      "text/html": [
       "4"
      ],
      "text/latex": [
       "4"
      ],
      "text/markdown": [
       "4"
      ],
      "text/plain": [
       "[1] 4"
      ]
     },
     "metadata": {},
     "output_type": "display_data"
    },
    {
     "data": {
      "text/html": [
       "-3"
      ],
      "text/latex": [
       "-3"
      ],
      "text/markdown": [
       "-3"
      ],
      "text/plain": [
       "[1] -3"
      ]
     },
     "metadata": {},
     "output_type": "display_data"
    }
   ],
   "source": [
    "ceiling(3.14159); ceiling(-3.14159)"
   ]
  },
  {
   "cell_type": "code",
   "execution_count": 30,
   "metadata": {},
   "outputs": [
    {
     "data": {
      "text/html": [
       "3"
      ],
      "text/latex": [
       "3"
      ],
      "text/markdown": [
       "3"
      ],
      "text/plain": [
       "[1] 3"
      ]
     },
     "metadata": {},
     "output_type": "display_data"
    },
    {
     "data": {
      "text/html": [
       "-4"
      ],
      "text/latex": [
       "-4"
      ],
      "text/markdown": [
       "-4"
      ],
      "text/plain": [
       "[1] -4"
      ]
     },
     "metadata": {},
     "output_type": "display_data"
    }
   ],
   "source": [
    "floor(3.14159); floor(-3.14159)"
   ]
  },
  {
   "cell_type": "code",
   "execution_count": 31,
   "metadata": {},
   "outputs": [
    {
     "data": {
      "text/html": [
       "3"
      ],
      "text/latex": [
       "3"
      ],
      "text/markdown": [
       "3"
      ],
      "text/plain": [
       "[1] 3"
      ]
     },
     "metadata": {},
     "output_type": "display_data"
    },
    {
     "data": {
      "text/html": [
       "-3"
      ],
      "text/latex": [
       "-3"
      ],
      "text/markdown": [
       "-3"
      ],
      "text/plain": [
       "[1] -3"
      ]
     },
     "metadata": {},
     "output_type": "display_data"
    }
   ],
   "source": [
    "trunc(3.14159); trunc(-3.14159)"
   ]
  },
  {
   "cell_type": "code",
   "execution_count": 32,
   "metadata": {},
   "outputs": [
    {
     "data": {
      "text/html": [
       "3.14"
      ],
      "text/latex": [
       "3.14"
      ],
      "text/markdown": [
       "3.14"
      ],
      "text/plain": [
       "[1] 3.14"
      ]
     },
     "metadata": {},
     "output_type": "display_data"
    }
   ],
   "source": [
    "signif(3.14159, 3)"
   ]
  },
  {
   "cell_type": "code",
   "execution_count": 33,
   "metadata": {},
   "outputs": [
    {
     "data": {
      "text/html": [
       "3.1415926536"
      ],
      "text/latex": [
       "3.1415926536"
      ],
      "text/markdown": [
       "3.1415926536"
      ],
      "text/plain": [
       "[1] 3.141593"
      ]
     },
     "metadata": {},
     "output_type": "display_data"
    }
   ],
   "source": [
    "round(pi, digits = 10)"
   ]
  },
  {
   "cell_type": "markdown",
   "metadata": {},
   "source": [
    "##### Exercise: use these functions to calculate 9 %% 2 and 9 %/% 2."
   ]
  },
  {
   "cell_type": "code",
   "execution_count": 34,
   "metadata": {},
   "outputs": [
    {
     "data": {
      "text/html": [
       "4"
      ],
      "text/latex": [
       "4"
      ],
      "text/markdown": [
       "4"
      ],
      "text/plain": [
       "[1] 4"
      ]
     },
     "metadata": {},
     "output_type": "display_data"
    }
   ],
   "source": [
    "floor(9/2)"
   ]
  },
  {
   "cell_type": "code",
   "execution_count": 35,
   "metadata": {},
   "outputs": [
    {
     "data": {
      "text/html": [
       "<ol class=list-inline>\n",
       "\t<li>1</li>\n",
       "\t<li>6</li>\n",
       "\t<li>4</li>\n",
       "\t<li>5</li>\n",
       "\t<li>8</li>\n",
       "\t<li>5</li>\n",
       "\t<li>4</li>\n",
       "\t<li>3</li>\n",
       "</ol>\n"
      ],
      "text/latex": [
       "\\begin{enumerate*}\n",
       "\\item 1\n",
       "\\item 6\n",
       "\\item 4\n",
       "\\item 5\n",
       "\\item 8\n",
       "\\item 5\n",
       "\\item 4\n",
       "\\item 3\n",
       "\\end{enumerate*}\n"
      ],
      "text/markdown": [
       "1. 1\n",
       "2. 6\n",
       "3. 4\n",
       "4. 5\n",
       "5. 8\n",
       "6. 5\n",
       "7. 4\n",
       "8. 3\n",
       "\n",
       "\n"
      ],
      "text/plain": [
       "[1] 1 6 4 5 8 5 4 3"
      ]
     },
     "metadata": {},
     "output_type": "display_data"
    }
   ],
   "source": [
    "age <- c(1,6,4,5,8,5,4,3)\n",
    "age"
   ]
  },
  {
   "cell_type": "code",
   "execution_count": 36,
   "metadata": {},
   "outputs": [
    {
     "data": {
      "text/html": [
       "36"
      ],
      "text/latex": [
       "36"
      ],
      "text/markdown": [
       "36"
      ],
      "text/plain": [
       "[1] 36"
      ]
     },
     "metadata": {},
     "output_type": "display_data"
    }
   ],
   "source": [
    "sum(age)"
   ]
  },
  {
   "cell_type": "code",
   "execution_count": 37,
   "metadata": {},
   "outputs": [
    {
     "data": {
      "text/html": [
       "4.5"
      ],
      "text/latex": [
       "4.5"
      ],
      "text/markdown": [
       "4.5"
      ],
      "text/plain": [
       "[1] 4.5"
      ]
     },
     "metadata": {},
     "output_type": "display_data"
    }
   ],
   "source": [
    "mean(age)"
   ]
  },
  {
   "cell_type": "code",
   "execution_count": 38,
   "metadata": {},
   "outputs": [
    {
     "data": {
      "text/html": [
       "57600"
      ],
      "text/latex": [
       "57600"
      ],
      "text/markdown": [
       "57600"
      ],
      "text/plain": [
       "[1] 57600"
      ]
     },
     "metadata": {},
     "output_type": "display_data"
    }
   ],
   "source": [
    "prod(age)"
   ]
  },
  {
   "cell_type": "code",
   "execution_count": 39,
   "metadata": {},
   "outputs": [
    {
     "data": {
      "text/html": [
       "4.5"
      ],
      "text/latex": [
       "4.5"
      ],
      "text/markdown": [
       "4.5"
      ],
      "text/plain": [
       "[1] 4.5"
      ]
     },
     "metadata": {},
     "output_type": "display_data"
    }
   ],
   "source": [
    "median(age)"
   ]
  },
  {
   "cell_type": "code",
   "execution_count": 40,
   "metadata": {},
   "outputs": [
    {
     "data": {
      "text/html": [
       "4.28571428571429"
      ],
      "text/latex": [
       "4.28571428571429"
      ],
      "text/markdown": [
       "4.28571428571429"
      ],
      "text/plain": [
       "[1] 4.285714"
      ]
     },
     "metadata": {},
     "output_type": "display_data"
    },
    {
     "data": {
      "text/html": [
       "2.07019667802706"
      ],
      "text/latex": [
       "2.07019667802706"
      ],
      "text/markdown": [
       "2.07019667802706"
      ],
      "text/plain": [
       "[1] 2.070197"
      ]
     },
     "metadata": {},
     "output_type": "display_data"
    }
   ],
   "source": [
    "var(age)\n",
    "sd(age)"
   ]
  },
  {
   "cell_type": "code",
   "execution_count": 41,
   "metadata": {},
   "outputs": [
    {
     "data": {
      "text/html": [
       "8"
      ],
      "text/latex": [
       "8"
      ],
      "text/markdown": [
       "8"
      ],
      "text/plain": [
       "[1] 8"
      ]
     },
     "metadata": {},
     "output_type": "display_data"
    },
    {
     "data": {
      "text/html": [
       "1"
      ],
      "text/latex": [
       "1"
      ],
      "text/markdown": [
       "1"
      ],
      "text/plain": [
       "[1] 1"
      ]
     },
     "metadata": {},
     "output_type": "display_data"
    },
    {
     "data": {
      "text/html": [
       "<ol class=list-inline>\n",
       "\t<li>1</li>\n",
       "\t<li>8</li>\n",
       "</ol>\n"
      ],
      "text/latex": [
       "\\begin{enumerate*}\n",
       "\\item 1\n",
       "\\item 8\n",
       "\\end{enumerate*}\n"
      ],
      "text/markdown": [
       "1. 1\n",
       "2. 8\n",
       "\n",
       "\n"
      ],
      "text/plain": [
       "[1] 1 8"
      ]
     },
     "metadata": {},
     "output_type": "display_data"
    }
   ],
   "source": [
    "max(age)\n",
    "min(age)\n",
    "range(age)"
   ]
  },
  {
   "cell_type": "code",
   "execution_count": 42,
   "metadata": {},
   "outputs": [
    {
     "data": {
      "text/html": [
       "<ol class=list-inline>\n",
       "\t<li>1</li>\n",
       "\t<li>6</li>\n",
       "\t<li>4</li>\n",
       "\t<li>5</li>\n",
       "\t<li>8</li>\n",
       "\t<li>5</li>\n",
       "\t<li>4</li>\n",
       "\t<li>3</li>\n",
       "</ol>\n"
      ],
      "text/latex": [
       "\\begin{enumerate*}\n",
       "\\item 1\n",
       "\\item 6\n",
       "\\item 4\n",
       "\\item 5\n",
       "\\item 8\n",
       "\\item 5\n",
       "\\item 4\n",
       "\\item 3\n",
       "\\end{enumerate*}\n"
      ],
      "text/markdown": [
       "1. 1\n",
       "2. 6\n",
       "3. 4\n",
       "4. 5\n",
       "5. 8\n",
       "6. 5\n",
       "7. 4\n",
       "8. 3\n",
       "\n",
       "\n"
      ],
      "text/plain": [
       "[1] 1 6 4 5 8 5 4 3"
      ]
     },
     "metadata": {},
     "output_type": "display_data"
    }
   ],
   "source": [
    "age"
   ]
  },
  {
   "cell_type": "code",
   "execution_count": 43,
   "metadata": {},
   "outputs": [
    {
     "data": {
      "text/html": [
       "5"
      ],
      "text/latex": [
       "5"
      ],
      "text/markdown": [
       "5"
      ],
      "text/plain": [
       "[1] 5"
      ]
     },
     "metadata": {},
     "output_type": "display_data"
    },
    {
     "data": {
      "text/html": [
       "1"
      ],
      "text/latex": [
       "1"
      ],
      "text/markdown": [
       "1"
      ],
      "text/plain": [
       "[1] 1"
      ]
     },
     "metadata": {},
     "output_type": "display_data"
    }
   ],
   "source": [
    "which.max(age)   #returns the index of the greatest element of x\n",
    "which.min(age)   #returns the index of the smallest element of x"
   ]
  },
  {
   "cell_type": "code",
   "execution_count": 44,
   "metadata": {},
   "outputs": [
    {
     "data": {
      "text/html": [
       "<ol class=list-inline>\n",
       "\t<li>0</li>\n",
       "\t<li>0.25</li>\n",
       "\t<li>0.5</li>\n",
       "\t<li>0.75</li>\n",
       "\t<li>1</li>\n",
       "</ol>\n"
      ],
      "text/latex": [
       "\\begin{enumerate*}\n",
       "\\item 0\n",
       "\\item 0.25\n",
       "\\item 0.5\n",
       "\\item 0.75\n",
       "\\item 1\n",
       "\\end{enumerate*}\n"
      ],
      "text/markdown": [
       "1. 0\n",
       "2. 0.25\n",
       "3. 0.5\n",
       "4. 0.75\n",
       "5. 1\n",
       "\n",
       "\n"
      ],
      "text/plain": [
       "[1] 0.00 0.25 0.50 0.75 1.00"
      ]
     },
     "metadata": {},
     "output_type": "display_data"
    },
    {
     "data": {
      "text/html": [
       "<dl class=dl-horizontal>\n",
       "\t<dt>0%</dt>\n",
       "\t\t<dd>1</dd>\n",
       "\t<dt>25%</dt>\n",
       "\t\t<dd>25.75</dd>\n",
       "\t<dt>50%</dt>\n",
       "\t\t<dd>50.5</dd>\n",
       "\t<dt>75%</dt>\n",
       "\t\t<dd>75.25</dd>\n",
       "\t<dt>100%</dt>\n",
       "\t\t<dd>100</dd>\n",
       "</dl>\n"
      ],
      "text/latex": [
       "\\begin{description*}\n",
       "\\item[0\\textbackslash{}\\%] 1\n",
       "\\item[25\\textbackslash{}\\%] 25.75\n",
       "\\item[50\\textbackslash{}\\%] 50.5\n",
       "\\item[75\\textbackslash{}\\%] 75.25\n",
       "\\item[100\\textbackslash{}\\%] 100\n",
       "\\end{description*}\n"
      ],
      "text/markdown": [
       "0%\n",
       ":   125%\n",
       ":   25.7550%\n",
       ":   50.575%\n",
       ":   75.25100%\n",
       ":   100\n",
       "\n"
      ],
      "text/plain": [
       "    0%    25%    50%    75%   100% \n",
       "  1.00  25.75  50.50  75.25 100.00 "
      ]
     },
     "metadata": {},
     "output_type": "display_data"
    }
   ],
   "source": [
    "seq(from = 0, to = 1, by = 0.25)\n",
    "quantile(1:100, probs = seq(from = 0, to = 1, by = 0.25))\n",
    "# Returns the specified quantiles."
   ]
  },
  {
   "cell_type": "code",
   "execution_count": 45,
   "metadata": {},
   "outputs": [
    {
     "data": {
      "text/html": [
       "<ol class=list-inline>\n",
       "\t<li>1</li>\n",
       "\t<li>6</li>\n",
       "\t<li>4</li>\n",
       "\t<li>5</li>\n",
       "\t<li>8</li>\n",
       "\t<li>5</li>\n",
       "\t<li>4</li>\n",
       "\t<li>3</li>\n",
       "</ol>\n"
      ],
      "text/latex": [
       "\\begin{enumerate*}\n",
       "\\item 1\n",
       "\\item 6\n",
       "\\item 4\n",
       "\\item 5\n",
       "\\item 8\n",
       "\\item 5\n",
       "\\item 4\n",
       "\\item 3\n",
       "\\end{enumerate*}\n"
      ],
      "text/markdown": [
       "1. 1\n",
       "2. 6\n",
       "3. 4\n",
       "4. 5\n",
       "5. 8\n",
       "6. 5\n",
       "7. 4\n",
       "8. 3\n",
       "\n",
       "\n"
      ],
      "text/plain": [
       "[1] 1 6 4 5 8 5 4 3"
      ]
     },
     "metadata": {},
     "output_type": "display_data"
    },
    {
     "data": {
      "text/html": [
       "<ol class=list-inline>\n",
       "\t<li>1</li>\n",
       "\t<li>6</li>\n",
       "\t<li>4</li>\n",
       "\t<li>5</li>\n",
       "\t<li>8</li>\n",
       "\t<li>3</li>\n",
       "</ol>\n"
      ],
      "text/latex": [
       "\\begin{enumerate*}\n",
       "\\item 1\n",
       "\\item 6\n",
       "\\item 4\n",
       "\\item 5\n",
       "\\item 8\n",
       "\\item 3\n",
       "\\end{enumerate*}\n"
      ],
      "text/markdown": [
       "1. 1\n",
       "2. 6\n",
       "3. 4\n",
       "4. 5\n",
       "5. 8\n",
       "6. 3\n",
       "\n",
       "\n"
      ],
      "text/plain": [
       "[1] 1 6 4 5 8 3"
      ]
     },
     "metadata": {},
     "output_type": "display_data"
    }
   ],
   "source": [
    "age\n",
    "unique(age)   # Gives the vector of distinct values"
   ]
  },
  {
   "cell_type": "code",
   "execution_count": 46,
   "metadata": {},
   "outputs": [
    {
     "data": {
      "text/html": [
       "<ol class=list-inline>\n",
       "\t<li>5</li>\n",
       "\t<li>-2</li>\n",
       "\t<li>1</li>\n",
       "\t<li>3</li>\n",
       "\t<li>-3</li>\n",
       "\t<li>-1</li>\n",
       "\t<li>-1</li>\n",
       "</ol>\n"
      ],
      "text/latex": [
       "\\begin{enumerate*}\n",
       "\\item 5\n",
       "\\item -2\n",
       "\\item 1\n",
       "\\item 3\n",
       "\\item -3\n",
       "\\item -1\n",
       "\\item -1\n",
       "\\end{enumerate*}\n"
      ],
      "text/markdown": [
       "1. 5\n",
       "2. -2\n",
       "3. 1\n",
       "4. 3\n",
       "5. -3\n",
       "6. -1\n",
       "7. -1\n",
       "\n",
       "\n"
      ],
      "text/plain": [
       "[1]  5 -2  1  3 -3 -1 -1"
      ]
     },
     "metadata": {},
     "output_type": "display_data"
    }
   ],
   "source": [
    "diff(age)   # Replaces a vector by the vector of first differences"
   ]
  },
  {
   "cell_type": "code",
   "execution_count": 47,
   "metadata": {},
   "outputs": [
    {
     "data": {
      "text/html": [
       "<ol class=list-inline>\n",
       "\t<li>8</li>\n",
       "\t<li>6</li>\n",
       "\t<li>5</li>\n",
       "\t<li>5</li>\n",
       "\t<li>4</li>\n",
       "\t<li>4</li>\n",
       "\t<li>3</li>\n",
       "\t<li>1</li>\n",
       "</ol>\n"
      ],
      "text/latex": [
       "\\begin{enumerate*}\n",
       "\\item 8\n",
       "\\item 6\n",
       "\\item 5\n",
       "\\item 5\n",
       "\\item 4\n",
       "\\item 4\n",
       "\\item 3\n",
       "\\item 1\n",
       "\\end{enumerate*}\n"
      ],
      "text/markdown": [
       "1. 8\n",
       "2. 6\n",
       "3. 5\n",
       "4. 5\n",
       "5. 4\n",
       "6. 4\n",
       "7. 3\n",
       "8. 1\n",
       "\n",
       "\n"
      ],
      "text/plain": [
       "[1] 8 6 5 5 4 4 3 1"
      ]
     },
     "metadata": {},
     "output_type": "display_data"
    }
   ],
   "source": [
    "sort(age, decreasing = T)   # Sorts elements into order"
   ]
  },
  {
   "cell_type": "code",
   "execution_count": 48,
   "metadata": {},
   "outputs": [
    {
     "data": {
      "text/html": [
       "<ol class=list-inline>\n",
       "\t<li>1</li>\n",
       "\t<li>8</li>\n",
       "\t<li>3</li>\n",
       "\t<li>7</li>\n",
       "\t<li>4</li>\n",
       "\t<li>6</li>\n",
       "\t<li>2</li>\n",
       "\t<li>5</li>\n",
       "</ol>\n"
      ],
      "text/latex": [
       "\\begin{enumerate*}\n",
       "\\item 1\n",
       "\\item 8\n",
       "\\item 3\n",
       "\\item 7\n",
       "\\item 4\n",
       "\\item 6\n",
       "\\item 2\n",
       "\\item 5\n",
       "\\end{enumerate*}\n"
      ],
      "text/markdown": [
       "1. 1\n",
       "2. 8\n",
       "3. 3\n",
       "4. 7\n",
       "5. 4\n",
       "6. 6\n",
       "7. 2\n",
       "8. 5\n",
       "\n",
       "\n"
      ],
      "text/plain": [
       "[1] 1 8 3 7 4 6 2 5"
      ]
     },
     "metadata": {},
     "output_type": "display_data"
    },
    {
     "data": {
      "text/html": [
       "<ol class=list-inline>\n",
       "\t<li>1</li>\n",
       "\t<li>3</li>\n",
       "\t<li>4</li>\n",
       "\t<li>4</li>\n",
       "\t<li>5</li>\n",
       "\t<li>5</li>\n",
       "\t<li>6</li>\n",
       "\t<li>8</li>\n",
       "</ol>\n"
      ],
      "text/latex": [
       "\\begin{enumerate*}\n",
       "\\item 1\n",
       "\\item 3\n",
       "\\item 4\n",
       "\\item 4\n",
       "\\item 5\n",
       "\\item 5\n",
       "\\item 6\n",
       "\\item 8\n",
       "\\end{enumerate*}\n"
      ],
      "text/markdown": [
       "1. 1\n",
       "2. 3\n",
       "3. 4\n",
       "4. 4\n",
       "5. 5\n",
       "6. 5\n",
       "7. 6\n",
       "8. 8\n",
       "\n",
       "\n"
      ],
      "text/plain": [
       "[1] 1 3 4 4 5 5 6 8"
      ]
     },
     "metadata": {},
     "output_type": "display_data"
    }
   ],
   "source": [
    "order(age)\n",
    "age[order(age)]   # x[order(x)] orders elements of x"
   ]
  },
  {
   "cell_type": "code",
   "execution_count": 49,
   "metadata": {},
   "outputs": [
    {
     "data": {
      "text/html": [
       "<ol class=list-inline>\n",
       "\t<li>1</li>\n",
       "\t<li>6</li>\n",
       "\t<li>4</li>\n",
       "\t<li>5</li>\n",
       "\t<li>8</li>\n",
       "\t<li>5</li>\n",
       "\t<li>4</li>\n",
       "\t<li>3</li>\n",
       "</ol>\n"
      ],
      "text/latex": [
       "\\begin{enumerate*}\n",
       "\\item 1\n",
       "\\item 6\n",
       "\\item 4\n",
       "\\item 5\n",
       "\\item 8\n",
       "\\item 5\n",
       "\\item 4\n",
       "\\item 3\n",
       "\\end{enumerate*}\n"
      ],
      "text/markdown": [
       "1. 1\n",
       "2. 6\n",
       "3. 4\n",
       "4. 5\n",
       "5. 8\n",
       "6. 5\n",
       "7. 4\n",
       "8. 3\n",
       "\n",
       "\n"
      ],
      "text/plain": [
       "[1] 1 6 4 5 8 5 4 3"
      ]
     },
     "metadata": {},
     "output_type": "display_data"
    },
    {
     "data": {
      "text/html": [
       "<ol class=list-inline>\n",
       "\t<li>1</li>\n",
       "\t<li>7</li>\n",
       "\t<li>11</li>\n",
       "\t<li>16</li>\n",
       "\t<li>24</li>\n",
       "\t<li>29</li>\n",
       "\t<li>33</li>\n",
       "\t<li>36</li>\n",
       "</ol>\n"
      ],
      "text/latex": [
       "\\begin{enumerate*}\n",
       "\\item 1\n",
       "\\item 7\n",
       "\\item 11\n",
       "\\item 16\n",
       "\\item 24\n",
       "\\item 29\n",
       "\\item 33\n",
       "\\item 36\n",
       "\\end{enumerate*}\n"
      ],
      "text/markdown": [
       "1. 1\n",
       "2. 7\n",
       "3. 11\n",
       "4. 16\n",
       "5. 24\n",
       "6. 29\n",
       "7. 33\n",
       "8. 36\n",
       "\n",
       "\n"
      ],
      "text/plain": [
       "[1]  1  7 11 16 24 29 33 36"
      ]
     },
     "metadata": {},
     "output_type": "display_data"
    },
    {
     "data": {
      "text/html": [
       "<ol class=list-inline>\n",
       "\t<li>1</li>\n",
       "\t<li>6</li>\n",
       "\t<li>24</li>\n",
       "\t<li>120</li>\n",
       "\t<li>960</li>\n",
       "\t<li>4800</li>\n",
       "\t<li>19200</li>\n",
       "\t<li>57600</li>\n",
       "</ol>\n"
      ],
      "text/latex": [
       "\\begin{enumerate*}\n",
       "\\item 1\n",
       "\\item 6\n",
       "\\item 24\n",
       "\\item 120\n",
       "\\item 960\n",
       "\\item 4800\n",
       "\\item 19200\n",
       "\\item 57600\n",
       "\\end{enumerate*}\n"
      ],
      "text/markdown": [
       "1. 1\n",
       "2. 6\n",
       "3. 24\n",
       "4. 120\n",
       "5. 960\n",
       "6. 4800\n",
       "7. 19200\n",
       "8. 57600\n",
       "\n",
       "\n"
      ],
      "text/plain": [
       "[1]     1     6    24   120   960  4800 19200 57600"
      ]
     },
     "metadata": {},
     "output_type": "display_data"
    }
   ],
   "source": [
    "age\n",
    "cumsum(age)    # Cumulative sums\n",
    "cumprod(age)   # Cumulative products"
   ]
  },
  {
   "cell_type": "code",
   "execution_count": null,
   "metadata": {},
   "outputs": [],
   "source": []
  },
  {
   "cell_type": "markdown",
   "metadata": {},
   "source": [
    "### 6.3.2 Character\n",
    "\n",
    "- paste( ) and expression( )\n",
    "    - paste( ) put text and variable values together into a text string.\n",
    "    - expression( ) can be used to display math symbols when needed, e.g. in plot titles.\n",
    "- grep( ) and related\n",
    "    - Deal with text patterns\n",
    "\n",
    "##### Few situations where you have to deal with text in R\n",
    "- Data frame entries\n",
    "- Plot title, labels, legends, etc...\n",
    "- Text mining \n",
    "\n",
    "#### paste( ) and expression( )"
   ]
  },
  {
   "cell_type": "code",
   "execution_count": 50,
   "metadata": {},
   "outputs": [
    {
     "data": {
      "text/html": [
       "<table>\n",
       "<caption>A data.frame: 4 × 4</caption>\n",
       "<thead>\n",
       "\t<tr><th scope=col>names</th><th scope=col>score</th><th scope=col>curved</th><th scope=col>pass</th></tr>\n",
       "\t<tr><th scope=col>&lt;chr&gt;</th><th scope=col>&lt;dbl&gt;</th><th scope=col>&lt;dbl&gt;</th><th scope=col>&lt;lgl&gt;</th></tr>\n",
       "</thead>\n",
       "<tbody>\n",
       "\t<tr><td>Lucy </td><td>67</td><td>82</td><td> TRUE</td></tr>\n",
       "\t<tr><td>John </td><td>56</td><td>75</td><td>FALSE</td></tr>\n",
       "\t<tr><td>Mark </td><td>87</td><td>93</td><td> TRUE</td></tr>\n",
       "\t<tr><td>Candy</td><td>91</td><td>95</td><td> TRUE</td></tr>\n",
       "</tbody>\n",
       "</table>\n"
      ],
      "text/latex": [
       "A data.frame: 4 × 4\n",
       "\\begin{tabular}{r|llll}\n",
       " names & score & curved & pass\\\\\n",
       " <chr> & <dbl> & <dbl> & <lgl>\\\\\n",
       "\\hline\n",
       "\t Lucy  & 67 & 82 &  TRUE\\\\\n",
       "\t John  & 56 & 75 & FALSE\\\\\n",
       "\t Mark  & 87 & 93 &  TRUE\\\\\n",
       "\t Candy & 91 & 95 &  TRUE\\\\\n",
       "\\end{tabular}\n"
      ],
      "text/markdown": [
       "\n",
       "A data.frame: 4 × 4\n",
       "\n",
       "| names &lt;chr&gt; | score &lt;dbl&gt; | curved &lt;dbl&gt; | pass &lt;lgl&gt; |\n",
       "|---|---|---|---|\n",
       "| Lucy  | 67 | 82 |  TRUE |\n",
       "| John  | 56 | 75 | FALSE |\n",
       "| Mark  | 87 | 93 |  TRUE |\n",
       "| Candy | 91 | 95 |  TRUE |\n",
       "\n"
      ],
      "text/plain": [
       "  names score curved pass \n",
       "1 Lucy  67    82      TRUE\n",
       "2 John  56    75     FALSE\n",
       "3 Mark  87    93      TRUE\n",
       "4 Candy 91    95      TRUE"
      ]
     },
     "metadata": {},
     "output_type": "display_data"
    }
   ],
   "source": [
    "df$pass2 <- NULL\n",
    "df$student.no <- NULL\n",
    "df"
   ]
  },
  {
   "cell_type": "code",
   "execution_count": 51,
   "metadata": {},
   "outputs": [
    {
     "data": {
      "text/html": [
       "<table>\n",
       "<caption>A data.frame: 4 × 5</caption>\n",
       "<thead>\n",
       "\t<tr><th scope=col>names</th><th scope=col>score</th><th scope=col>curved</th><th scope=col>pass</th><th scope=col>student.no</th></tr>\n",
       "\t<tr><th scope=col>&lt;chr&gt;</th><th scope=col>&lt;dbl&gt;</th><th scope=col>&lt;dbl&gt;</th><th scope=col>&lt;lgl&gt;</th><th scope=col>&lt;chr&gt;</th></tr>\n",
       "</thead>\n",
       "<tbody>\n",
       "\t<tr><td>Lucy </td><td>67</td><td>82</td><td> TRUE</td><td>student 1</td></tr>\n",
       "\t<tr><td>John </td><td>56</td><td>75</td><td>FALSE</td><td>student 2</td></tr>\n",
       "\t<tr><td>Mark </td><td>87</td><td>93</td><td> TRUE</td><td>student 3</td></tr>\n",
       "\t<tr><td>Candy</td><td>91</td><td>95</td><td> TRUE</td><td>student 4</td></tr>\n",
       "</tbody>\n",
       "</table>\n"
      ],
      "text/latex": [
       "A data.frame: 4 × 5\n",
       "\\begin{tabular}{r|lllll}\n",
       " names & score & curved & pass & student.no\\\\\n",
       " <chr> & <dbl> & <dbl> & <lgl> & <chr>\\\\\n",
       "\\hline\n",
       "\t Lucy  & 67 & 82 &  TRUE & student 1\\\\\n",
       "\t John  & 56 & 75 & FALSE & student 2\\\\\n",
       "\t Mark  & 87 & 93 &  TRUE & student 3\\\\\n",
       "\t Candy & 91 & 95 &  TRUE & student 4\\\\\n",
       "\\end{tabular}\n"
      ],
      "text/markdown": [
       "\n",
       "A data.frame: 4 × 5\n",
       "\n",
       "| names &lt;chr&gt; | score &lt;dbl&gt; | curved &lt;dbl&gt; | pass &lt;lgl&gt; | student.no &lt;chr&gt; |\n",
       "|---|---|---|---|---|\n",
       "| Lucy  | 67 | 82 |  TRUE | student 1 |\n",
       "| John  | 56 | 75 | FALSE | student 2 |\n",
       "| Mark  | 87 | 93 |  TRUE | student 3 |\n",
       "| Candy | 91 | 95 |  TRUE | student 4 |\n",
       "\n"
      ],
      "text/plain": [
       "  names score curved pass  student.no\n",
       "1 Lucy  67    82      TRUE student 1 \n",
       "2 John  56    75     FALSE student 2 \n",
       "3 Mark  87    93      TRUE student 3 \n",
       "4 Candy 91    95      TRUE student 4 "
      ]
     },
     "metadata": {},
     "output_type": "display_data"
    }
   ],
   "source": [
    "for (i in 1:4){\n",
    "    df$student.no[i] <- paste(\"student\", i)\n",
    "}\n",
    "df"
   ]
  },
  {
   "cell_type": "code",
   "execution_count": 52,
   "metadata": {},
   "outputs": [
    {
     "data": {
      "image/png": "[encoded data removed]",
      "text/plain": [
       "Plot with title “paste(\"Score is \", alpha, \", curved score is \", sqrt(alpha) %*% 10)”"
      ]
     },
     "metadata": {
      "image/png": {
       "height": 420,
       "width": 420
      },
      "text/plain": {
       "height": 420,
       "width": 420
      }
     },
     "output_type": "display_data"
    }
   ],
   "source": [
    "n <- nrow(df)\n",
    "plot(as.factor(df$student.no), df$curved,\n",
    "     # Math symbols in text\n",
    "     main = expression(paste(\"Score is \", alpha, \", curved score is \", sqrt(alpha)%*%10)),\n",
    "     # Variable value in text\n",
    "     xlab = paste(\"There are\", n, \"students\"))"
   ]
  },
  {
   "cell_type": "markdown",
   "metadata": {},
   "source": [
    "#### grep( ) and many related"
   ]
  },
  {
   "cell_type": "code",
   "execution_count": 53,
   "metadata": {},
   "outputs": [],
   "source": [
    "find <- \"epib\"\n",
    "courses.EBOH <- c(\"epib601\", \"epib602\", \"bios601\", \"bios602\", \"math556\", \"math557\")"
   ]
  },
  {
   "cell_type": "code",
   "execution_count": 54,
   "metadata": {},
   "outputs": [
    {
     "data": {
      "text/html": [
       "<ol class=list-inline>\n",
       "\t<li>'epib601'</li>\n",
       "\t<li>'epib602'</li>\n",
       "</ol>\n"
      ],
      "text/latex": [
       "\\begin{enumerate*}\n",
       "\\item 'epib601'\n",
       "\\item 'epib602'\n",
       "\\end{enumerate*}\n"
      ],
      "text/markdown": [
       "1. 'epib601'\n",
       "2. 'epib602'\n",
       "\n",
       "\n"
      ],
      "text/plain": [
       "[1] \"epib601\" \"epib602\""
      ]
     },
     "metadata": {},
     "output_type": "display_data"
    }
   ],
   "source": [
    "grep(pattern = find, x = courses.EBOH, value = T)"
   ]
  },
  {
   "cell_type": "code",
   "execution_count": 55,
   "metadata": {},
   "outputs": [
    {
     "data": {
      "text/html": [
       "<ol class=list-inline>\n",
       "\t<li>1</li>\n",
       "\t<li>2</li>\n",
       "</ol>\n"
      ],
      "text/latex": [
       "\\begin{enumerate*}\n",
       "\\item 1\n",
       "\\item 2\n",
       "\\end{enumerate*}\n"
      ],
      "text/markdown": [
       "1. 1\n",
       "2. 2\n",
       "\n",
       "\n"
      ],
      "text/plain": [
       "[1] 1 2"
      ]
     },
     "metadata": {},
     "output_type": "display_data"
    }
   ],
   "source": [
    "grep(pattern = find, x = courses.EBOH, value = F)"
   ]
  },
  {
   "cell_type": "code",
   "execution_count": 56,
   "metadata": {},
   "outputs": [
    {
     "data": {
      "text/html": [
       "<ol class=list-inline>\n",
       "\t<li>TRUE</li>\n",
       "\t<li>TRUE</li>\n",
       "\t<li>FALSE</li>\n",
       "\t<li>FALSE</li>\n",
       "\t<li>FALSE</li>\n",
       "\t<li>FALSE</li>\n",
       "</ol>\n"
      ],
      "text/latex": [
       "\\begin{enumerate*}\n",
       "\\item TRUE\n",
       "\\item TRUE\n",
       "\\item FALSE\n",
       "\\item FALSE\n",
       "\\item FALSE\n",
       "\\item FALSE\n",
       "\\end{enumerate*}\n"
      ],
      "text/markdown": [
       "1. TRUE\n",
       "2. TRUE\n",
       "3. FALSE\n",
       "4. FALSE\n",
       "5. FALSE\n",
       "6. FALSE\n",
       "\n",
       "\n"
      ],
      "text/plain": [
       "[1]  TRUE  TRUE FALSE FALSE FALSE FALSE"
      ]
     },
     "metadata": {},
     "output_type": "display_data"
    }
   ],
   "source": [
    "grepl(pattern = find, x = courses.EBOH)"
   ]
  },
  {
   "cell_type": "code",
   "execution_count": 57,
   "metadata": {},
   "outputs": [
    {
     "data": {
      "text/html": [
       "<ol class=list-inline>\n",
       "\t<li>'EPIB601'</li>\n",
       "\t<li>'EPIB602'</li>\n",
       "\t<li>'bios601'</li>\n",
       "\t<li>'bios602'</li>\n",
       "\t<li>'math556'</li>\n",
       "\t<li>'math557'</li>\n",
       "</ol>\n"
      ],
      "text/latex": [
       "\\begin{enumerate*}\n",
       "\\item 'EPIB601'\n",
       "\\item 'EPIB602'\n",
       "\\item 'bios601'\n",
       "\\item 'bios602'\n",
       "\\item 'math556'\n",
       "\\item 'math557'\n",
       "\\end{enumerate*}\n"
      ],
      "text/markdown": [
       "1. 'EPIB601'\n",
       "2. 'EPIB602'\n",
       "3. 'bios601'\n",
       "4. 'bios602'\n",
       "5. 'math556'\n",
       "6. 'math557'\n",
       "\n",
       "\n"
      ],
      "text/plain": [
       "[1] \"EPIB601\" \"EPIB602\" \"bios601\" \"bios602\" \"math556\" \"math557\""
      ]
     },
     "metadata": {},
     "output_type": "display_data"
    }
   ],
   "source": [
    "gsub(pattern = find, replacement = \"EPIB\", x = courses.EBOH)"
   ]
  },
  {
   "cell_type": "code",
   "execution_count": 58,
   "metadata": {},
   "outputs": [
    {
     "data": {
      "text/html": [
       "8"
      ],
      "text/latex": [
       "8"
      ],
      "text/markdown": [
       "8"
      ],
      "text/plain": [
       "[1] 8\n",
       "attr(,\"match.length\")\n",
       "[1] 4\n",
       "attr(,\"index.type\")\n",
       "[1] \"chars\"\n",
       "attr(,\"useBytes\")\n",
       "[1] TRUE"
      ]
     },
     "metadata": {},
     "output_type": "display_data"
    }
   ],
   "source": [
    "regexpr(pattern = find, text = \"I'm in epib 613! I'm in epib 607.\")"
   ]
  },
  {
   "cell_type": "code",
   "execution_count": 59,
   "metadata": {},
   "outputs": [
    {
     "data": {
      "text/html": [
       "<ol>\n",
       "\t<li><ol class=list-inline>\n",
       "\t<li>8</li>\n",
       "\t<li>25</li>\n",
       "</ol>\n",
       "</li>\n",
       "\t<li>10</li>\n",
       "</ol>\n"
      ],
      "text/latex": [
       "\\begin{enumerate}\n",
       "\\item \\begin{enumerate*}\n",
       "\\item 8\n",
       "\\item 25\n",
       "\\end{enumerate*}\n",
       "\n",
       "\\item 10\n",
       "\\end{enumerate}\n"
      ],
      "text/markdown": [
       "1. 1. 8\n",
       "2. 25\n",
       "\n",
       "\n",
       "\n",
       "2. 10\n",
       "\n",
       "\n"
      ],
      "text/plain": [
       "[[1]]\n",
       "[1]  8 25\n",
       "attr(,\"match.length\")\n",
       "[1] 4 4\n",
       "attr(,\"index.type\")\n",
       "[1] \"chars\"\n",
       "attr(,\"useBytes\")\n",
       "[1] TRUE\n",
       "\n",
       "[[2]]\n",
       "[1] 10\n",
       "attr(,\"match.length\")\n",
       "[1] 4\n",
       "attr(,\"index.type\")\n",
       "[1] \"chars\"\n",
       "attr(,\"useBytes\")\n",
       "[1] TRUE\n"
      ]
     },
     "metadata": {},
     "output_type": "display_data"
    }
   ],
   "source": [
    "gregexpr(pattern = find, text = c(\"I'm in epib 613. I'm in epib 607.\",\n",
    "                                  \"I prefer epib 613.\"))"
   ]
  },
  {
   "cell_type": "code",
   "execution_count": 60,
   "metadata": {},
   "outputs": [
    {
     "data": {
      "text/html": [
       "<ol class=list-inline>\n",
       "\t<li>8</li>\n",
       "\t<li>25</li>\n",
       "\t<li>10</li>\n",
       "</ol>\n"
      ],
      "text/latex": [
       "\\begin{enumerate*}\n",
       "\\item 8\n",
       "\\item 25\n",
       "\\item 10\n",
       "\\end{enumerate*}\n"
      ],
      "text/markdown": [
       "1. 8\n",
       "2. 25\n",
       "3. 10\n",
       "\n",
       "\n"
      ],
      "text/plain": [
       "[1]  8 25 10"
      ]
     },
     "metadata": {},
     "output_type": "display_data"
    }
   ],
   "source": [
    "unlist(gregexpr(pattern = find, text = c(\"I'm in epib 613. I'm in epib 607.\",\n",
    "                                  \"I prefer epib 613.\")))"
   ]
  },
  {
   "cell_type": "markdown",
   "metadata": {},
   "source": [
    "### 6.3.3 Sets"
   ]
  },
  {
   "cell_type": "code",
   "execution_count": 61,
   "metadata": {},
   "outputs": [],
   "source": [
    "# ?sets\n",
    "a <- 1:5\n",
    "b <- 3:7\n",
    "\n",
    "text1 <- c(\"epib\", \"bios\", \"math\")\n",
    "text2 <- c(\"epib\", \"pphs\")"
   ]
  },
  {
   "cell_type": "code",
   "execution_count": 62,
   "metadata": {},
   "outputs": [
    {
     "data": {
      "text/html": [
       "<ol class=list-inline>\n",
       "\t<li>1</li>\n",
       "\t<li>2</li>\n",
       "\t<li>3</li>\n",
       "\t<li>4</li>\n",
       "\t<li>5</li>\n",
       "\t<li>6</li>\n",
       "\t<li>7</li>\n",
       "</ol>\n"
      ],
      "text/latex": [
       "\\begin{enumerate*}\n",
       "\\item 1\n",
       "\\item 2\n",
       "\\item 3\n",
       "\\item 4\n",
       "\\item 5\n",
       "\\item 6\n",
       "\\item 7\n",
       "\\end{enumerate*}\n"
      ],
      "text/markdown": [
       "1. 1\n",
       "2. 2\n",
       "3. 3\n",
       "4. 4\n",
       "5. 5\n",
       "6. 6\n",
       "7. 7\n",
       "\n",
       "\n"
      ],
      "text/plain": [
       "[1] 1 2 3 4 5 6 7"
      ]
     },
     "metadata": {},
     "output_type": "display_data"
    }
   ],
   "source": [
    "union(a, b)"
   ]
  },
  {
   "cell_type": "code",
   "execution_count": 63,
   "metadata": {},
   "outputs": [
    {
     "data": {
      "text/html": [
       "<ol class=list-inline>\n",
       "\t<li>3</li>\n",
       "\t<li>4</li>\n",
       "\t<li>5</li>\n",
       "</ol>\n"
      ],
      "text/latex": [
       "\\begin{enumerate*}\n",
       "\\item 3\n",
       "\\item 4\n",
       "\\item 5\n",
       "\\end{enumerate*}\n"
      ],
      "text/markdown": [
       "1. 3\n",
       "2. 4\n",
       "3. 5\n",
       "\n",
       "\n"
      ],
      "text/plain": [
       "[1] 3 4 5"
      ]
     },
     "metadata": {},
     "output_type": "display_data"
    }
   ],
   "source": [
    "intersect(a, b)"
   ]
  },
  {
   "cell_type": "code",
   "execution_count": 64,
   "metadata": {},
   "outputs": [
    {
     "data": {
      "text/html": [
       "<ol class=list-inline>\n",
       "\t<li>1</li>\n",
       "\t<li>2</li>\n",
       "</ol>\n"
      ],
      "text/latex": [
       "\\begin{enumerate*}\n",
       "\\item 1\n",
       "\\item 2\n",
       "\\end{enumerate*}\n"
      ],
      "text/markdown": [
       "1. 1\n",
       "2. 2\n",
       "\n",
       "\n"
      ],
      "text/plain": [
       "[1] 1 2"
      ]
     },
     "metadata": {},
     "output_type": "display_data"
    }
   ],
   "source": [
    "setdiff(a, b)"
   ]
  },
  {
   "cell_type": "code",
   "execution_count": 65,
   "metadata": {
    "scrolled": true
   },
   "outputs": [
    {
     "data": {
      "text/html": [
       "<ol class=list-inline>\n",
       "\t<li>6</li>\n",
       "\t<li>7</li>\n",
       "</ol>\n"
      ],
      "text/latex": [
       "\\begin{enumerate*}\n",
       "\\item 6\n",
       "\\item 7\n",
       "\\end{enumerate*}\n"
      ],
      "text/markdown": [
       "1. 6\n",
       "2. 7\n",
       "\n",
       "\n"
      ],
      "text/plain": [
       "[1] 6 7"
      ]
     },
     "metadata": {},
     "output_type": "display_data"
    }
   ],
   "source": [
    "setdiff(b, a)"
   ]
  },
  {
   "cell_type": "code",
   "execution_count": 66,
   "metadata": {},
   "outputs": [
    {
     "data": {
      "text/html": [
       "<ol class=list-inline>\n",
       "\t<li>'epib'</li>\n",
       "\t<li>'bios'</li>\n",
       "\t<li>'math'</li>\n",
       "\t<li>'pphs'</li>\n",
       "</ol>\n"
      ],
      "text/latex": [
       "\\begin{enumerate*}\n",
       "\\item 'epib'\n",
       "\\item 'bios'\n",
       "\\item 'math'\n",
       "\\item 'pphs'\n",
       "\\end{enumerate*}\n"
      ],
      "text/markdown": [
       "1. 'epib'\n",
       "2. 'bios'\n",
       "3. 'math'\n",
       "4. 'pphs'\n",
       "\n",
       "\n"
      ],
      "text/plain": [
       "[1] \"epib\" \"bios\" \"math\" \"pphs\""
      ]
     },
     "metadata": {},
     "output_type": "display_data"
    }
   ],
   "source": [
    "union(text1, text2)"
   ]
  },
  {
   "cell_type": "code",
   "execution_count": 67,
   "metadata": {},
   "outputs": [
    {
     "data": {
      "text/html": [
       "'epib'"
      ],
      "text/latex": [
       "'epib'"
      ],
      "text/markdown": [
       "'epib'"
      ],
      "text/plain": [
       "[1] \"epib\""
      ]
     },
     "metadata": {},
     "output_type": "display_data"
    }
   ],
   "source": [
    "intersect(text1, text2)"
   ]
  },
  {
   "cell_type": "code",
   "execution_count": 68,
   "metadata": {},
   "outputs": [
    {
     "data": {
      "text/html": [
       "FALSE"
      ],
      "text/latex": [
       "FALSE"
      ],
      "text/markdown": [
       "FALSE"
      ],
      "text/plain": [
       "[1] FALSE"
      ]
     },
     "metadata": {},
     "output_type": "display_data"
    }
   ],
   "source": [
    "setequal(text1, text2)"
   ]
  }
 ],
 "metadata": {
  "kernelspec": {
   "display_name": "R",
   "language": "R",
   "name": "ir"
  },
  "language_info": {
   "codemirror_mode": "r",
   "file_extension": ".r",
   "mimetype": "text/x-r-source",
   "name": "R",
   "pygments_lexer": "r",
   "version": "3.6.3"
  }
 },
 "nbformat": 4,
 "nbformat_minor": 4
}
